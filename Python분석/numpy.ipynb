{
 "cells": [
  {
   "cell_type": "code",
   "execution_count": null,
   "id": "08bdea1c",
   "metadata": {},
   "outputs": [],
   "source": [
    "# numpy doc https://numpy.org/doc/stable/user/quickstart.html"
   ]
  },
  {
   "cell_type": "code",
   "execution_count": 1,
   "id": "a2f3a037",
   "metadata": {},
   "outputs": [],
   "source": [
    "import numpy as np"
   ]
  },
  {
   "cell_type": "code",
   "execution_count": 12,
   "id": "76bc4c62",
   "metadata": {
    "collapsed": true
   },
   "outputs": [
    {
     "data": {
      "text/plain": [
       "(int,\n",
       " float,\n",
       " complex,\n",
       " bool,\n",
       " bytes,\n",
       " str,\n",
       " memoryview,\n",
       " numpy.bool_,\n",
       " numpy.complex64,\n",
       " numpy.clongdouble,\n",
       " numpy.complex128,\n",
       " numpy.float16,\n",
       " numpy.float32,\n",
       " numpy.longdouble,\n",
       " numpy.float64,\n",
       " numpy.int8,\n",
       " numpy.int16,\n",
       " numpy.int32,\n",
       " numpy.intc,\n",
       " numpy.int64,\n",
       " numpy.timedelta64,\n",
       " numpy.datetime64,\n",
       " numpy.object_,\n",
       " numpy.bytes_,\n",
       " numpy.str_,\n",
       " numpy.uint8,\n",
       " numpy.uint16,\n",
       " numpy.uintc,\n",
       " numpy.uint32,\n",
       " numpy.uint64,\n",
       " numpy.void)"
      ]
     },
     "execution_count": 12,
     "metadata": {},
     "output_type": "execute_result"
    }
   ],
   "source": [
    "np.ScalarType"
   ]
  },
  {
   "cell_type": "code",
   "execution_count": 13,
   "id": "b6fd5f72",
   "metadata": {
    "collapsed": true
   },
   "outputs": [
    {
     "data": {
      "text/plain": [
       "{'int': [numpy.int8, numpy.int16, numpy.int32, numpy.int64],\n",
       " 'uint': [numpy.uint8, numpy.uint16, numpy.uint32, numpy.uint64],\n",
       " 'float': [numpy.float16, numpy.float32, numpy.float64],\n",
       " 'complex': [numpy.complex64, numpy.complex128],\n",
       " 'others': [bool, object, bytes, str, numpy.void]}"
      ]
     },
     "execution_count": 13,
     "metadata": {},
     "output_type": "execute_result"
    }
   ],
   "source": [
    "np.sctypes"
   ]
  },
  {
   "cell_type": "code",
   "execution_count": 14,
   "id": "b99aa327",
   "metadata": {
    "collapsed": true
   },
   "outputs": [
    {
     "data": {
      "text/plain": [
       "{'?': numpy.bool_,\n",
       " 0: numpy.bool_,\n",
       " 'byte': numpy.int8,\n",
       " 'b': numpy.int8,\n",
       " 1: numpy.int8,\n",
       " 'ubyte': numpy.uint8,\n",
       " 'B': numpy.uint8,\n",
       " 2: numpy.uint8,\n",
       " 'short': numpy.int16,\n",
       " 'h': numpy.int16,\n",
       " 3: numpy.int16,\n",
       " 'ushort': numpy.uint16,\n",
       " 'H': numpy.uint16,\n",
       " 4: numpy.uint16,\n",
       " 'i': numpy.intc,\n",
       " 5: numpy.intc,\n",
       " 'uint': numpy.uint32,\n",
       " 'I': numpy.uintc,\n",
       " 6: numpy.uintc,\n",
       " 'intp': numpy.int64,\n",
       " 'p': numpy.int64,\n",
       " 9: numpy.int64,\n",
       " 'uintp': numpy.uint64,\n",
       " 'P': numpy.uint64,\n",
       " 10: numpy.uint64,\n",
       " 'long': numpy.int32,\n",
       " 'l': numpy.int32,\n",
       " 7: numpy.int32,\n",
       " 'ulong': numpy.uint32,\n",
       " 'L': numpy.uint32,\n",
       " 8: numpy.uint32,\n",
       " 'longlong': numpy.int64,\n",
       " 'q': numpy.int64,\n",
       " 'ulonglong': numpy.uint64,\n",
       " 'Q': numpy.uint64,\n",
       " 'half': numpy.float16,\n",
       " 'e': numpy.float16,\n",
       " 23: numpy.float16,\n",
       " 'f': numpy.float32,\n",
       " 11: numpy.float32,\n",
       " 'double': numpy.float64,\n",
       " 'd': numpy.float64,\n",
       " 12: numpy.float64,\n",
       " 'longdouble': numpy.longdouble,\n",
       " 'g': numpy.longdouble,\n",
       " 13: numpy.longdouble,\n",
       " 'cfloat': numpy.complex128,\n",
       " 'F': numpy.complex64,\n",
       " 14: numpy.complex64,\n",
       " 'cdouble': numpy.complex128,\n",
       " 'D': numpy.complex128,\n",
       " 15: numpy.complex128,\n",
       " 'clongdouble': numpy.clongdouble,\n",
       " 'G': numpy.clongdouble,\n",
       " 16: numpy.clongdouble,\n",
       " 'O': numpy.object_,\n",
       " 17: numpy.object_,\n",
       " 'S': numpy.bytes_,\n",
       " 18: numpy.bytes_,\n",
       " 'unicode': numpy.str_,\n",
       " 'U': numpy.str_,\n",
       " 19: numpy.str_,\n",
       " 'void': numpy.void,\n",
       " 'V': numpy.void,\n",
       " 20: numpy.void,\n",
       " 'M': numpy.datetime64,\n",
       " 21: numpy.datetime64,\n",
       " 'm': numpy.timedelta64,\n",
       " 22: numpy.timedelta64,\n",
       " 'bool8': numpy.bool_,\n",
       " 'b1': numpy.bool_,\n",
       " 'int64': numpy.int64,\n",
       " 'i8': numpy.int64,\n",
       " 'uint64': numpy.uint64,\n",
       " 'u8': numpy.uint64,\n",
       " 'float16': numpy.float16,\n",
       " 'f2': numpy.float16,\n",
       " 'float32': numpy.float32,\n",
       " 'f4': numpy.float32,\n",
       " 'float64': numpy.float64,\n",
       " 'f8': numpy.float64,\n",
       " 'complex64': numpy.complex64,\n",
       " 'c8': numpy.complex64,\n",
       " 'complex128': numpy.complex128,\n",
       " 'c16': numpy.complex128,\n",
       " 'object0': numpy.object_,\n",
       " 'bytes0': numpy.bytes_,\n",
       " 'str0': numpy.str_,\n",
       " 'void0': numpy.void,\n",
       " 'datetime64': numpy.datetime64,\n",
       " 'M8': numpy.datetime64,\n",
       " 'timedelta64': numpy.timedelta64,\n",
       " 'm8': numpy.timedelta64,\n",
       " 'int32': numpy.int32,\n",
       " 'i4': numpy.int32,\n",
       " 'uint32': numpy.uint32,\n",
       " 'u4': numpy.uint32,\n",
       " 'int16': numpy.int16,\n",
       " 'i2': numpy.int16,\n",
       " 'uint16': numpy.uint16,\n",
       " 'u2': numpy.uint16,\n",
       " 'int8': numpy.int8,\n",
       " 'i1': numpy.int8,\n",
       " 'uint8': numpy.uint8,\n",
       " 'u1': numpy.uint8,\n",
       " 'complex_': numpy.complex128,\n",
       " 'int0': numpy.int64,\n",
       " 'uint0': numpy.uint64,\n",
       " 'single': numpy.float32,\n",
       " 'csingle': numpy.complex64,\n",
       " 'singlecomplex': numpy.complex64,\n",
       " 'float_': numpy.float64,\n",
       " 'intc': numpy.intc,\n",
       " 'uintc': numpy.uintc,\n",
       " 'int_': numpy.int32,\n",
       " 'longfloat': numpy.longdouble,\n",
       " 'clongfloat': numpy.clongdouble,\n",
       " 'longcomplex': numpy.clongdouble,\n",
       " 'bool_': numpy.bool_,\n",
       " 'bytes_': numpy.bytes_,\n",
       " 'string_': numpy.bytes_,\n",
       " 'str_': numpy.str_,\n",
       " 'unicode_': numpy.str_,\n",
       " 'object_': numpy.object_,\n",
       " 'int': numpy.int32,\n",
       " 'float': numpy.float64,\n",
       " 'complex': numpy.complex128,\n",
       " 'bool': numpy.bool_,\n",
       " 'object': numpy.object_,\n",
       " 'str': numpy.str_,\n",
       " 'bytes': numpy.bytes_,\n",
       " 'a': numpy.bytes_}"
      ]
     },
     "execution_count": 14,
     "metadata": {},
     "output_type": "execute_result"
    }
   ],
   "source": [
    "np.sctypeDict"
   ]
  },
  {
   "cell_type": "code",
   "execution_count": 36,
   "id": "68088343",
   "metadata": {},
   "outputs": [
    {
     "data": {
      "text/plain": [
       "array([[1., 1., 1., 1.],\n",
       "       [1., 1., 1., 1.],\n",
       "       [1., 1., 1., 1.]])"
      ]
     },
     "execution_count": 36,
     "metadata": {},
     "output_type": "execute_result"
    }
   ],
   "source": [
    "np.ndarray((3,4))"
   ]
  },
  {
   "cell_type": "code",
   "execution_count": 19,
   "id": "d617d8e0",
   "metadata": {},
   "outputs": [],
   "source": [
    "a = np.array([1,2,3,4], dtype='i1')"
   ]
  },
  {
   "cell_type": "code",
   "execution_count": 20,
   "id": "b9b7d931",
   "metadata": {},
   "outputs": [
    {
     "data": {
      "text/plain": [
       "array([1, 2, 3, 4], dtype=int8)"
      ]
     },
     "execution_count": 20,
     "metadata": {},
     "output_type": "execute_result"
    }
   ],
   "source": [
    "a"
   ]
  },
  {
   "cell_type": "code",
   "execution_count": 21,
   "id": "294cabbe",
   "metadata": {},
   "outputs": [
    {
     "data": {
      "text/plain": [
       "(4,)"
      ]
     },
     "execution_count": 21,
     "metadata": {},
     "output_type": "execute_result"
    }
   ],
   "source": [
    "a.shape"
   ]
  },
  {
   "cell_type": "code",
   "execution_count": 18,
   "id": "608bca65",
   "metadata": {},
   "outputs": [
    {
     "data": {
      "text/plain": [
       "dtype('int32')"
      ]
     },
     "execution_count": 18,
     "metadata": {},
     "output_type": "execute_result"
    }
   ],
   "source": [
    "a.dtype"
   ]
  },
  {
   "cell_type": "code",
   "execution_count": 10,
   "id": "cbba9bd3",
   "metadata": {},
   "outputs": [],
   "source": [
    "b = np.array([[1,2,3],[4,5,'6']])"
   ]
  },
  {
   "cell_type": "code",
   "execution_count": 11,
   "id": "689e3a6d",
   "metadata": {},
   "outputs": [
    {
     "data": {
      "text/plain": [
       "array([['1', '2', '3'],\n",
       "       ['4', '5', '6']], dtype='<U11')"
      ]
     },
     "execution_count": 11,
     "metadata": {},
     "output_type": "execute_result"
    }
   ],
   "source": [
    "b"
   ]
  },
  {
   "cell_type": "code",
   "execution_count": 22,
   "id": "313c51b6",
   "metadata": {},
   "outputs": [
    {
     "data": {
      "text/plain": [
       "(2, 3)"
      ]
     },
     "execution_count": 22,
     "metadata": {},
     "output_type": "execute_result"
    }
   ],
   "source": [
    "b.shape"
   ]
  },
  {
   "cell_type": "code",
   "execution_count": 23,
   "id": "507d3125",
   "metadata": {},
   "outputs": [
    {
     "data": {
      "text/plain": [
       "6"
      ]
     },
     "execution_count": 23,
     "metadata": {},
     "output_type": "execute_result"
    }
   ],
   "source": [
    "b.size"
   ]
  },
  {
   "cell_type": "code",
   "execution_count": 24,
   "id": "2f131c49",
   "metadata": {},
   "outputs": [
    {
     "data": {
      "text/plain": [
       "2"
      ]
     },
     "execution_count": 24,
     "metadata": {},
     "output_type": "execute_result"
    }
   ],
   "source": [
    "b.ndim"
   ]
  },
  {
   "cell_type": "code",
   "execution_count": 5,
   "id": "cfc89d4b",
   "metadata": {},
   "outputs": [
    {
     "name": "stdout",
     "output_type": "stream",
     "text": [
      "[1 2 3 4]\n"
     ]
    }
   ],
   "source": [
    "print(a)"
   ]
  },
  {
   "cell_type": "code",
   "execution_count": 4,
   "id": "3a9cfa5d",
   "metadata": {},
   "outputs": [
    {
     "data": {
      "text/plain": [
       "numpy.ndarray"
      ]
     },
     "execution_count": 4,
     "metadata": {},
     "output_type": "execute_result"
    }
   ],
   "source": [
    "type(a)"
   ]
  },
  {
   "cell_type": "code",
   "execution_count": 31,
   "id": "66f991a5",
   "metadata": {},
   "outputs": [],
   "source": [
    "aa = np.eye(3)"
   ]
  },
  {
   "cell_type": "code",
   "execution_count": 32,
   "id": "3517b71b",
   "metadata": {},
   "outputs": [
    {
     "data": {
      "text/plain": [
       "array([[1., 0., 0.],\n",
       "       [0., 1., 0.],\n",
       "       [0., 0., 1.]])"
      ]
     },
     "execution_count": 32,
     "metadata": {},
     "output_type": "execute_result"
    }
   ],
   "source": [
    "aa"
   ]
  },
  {
   "cell_type": "code",
   "execution_count": 35,
   "id": "7ea8da9e",
   "metadata": {},
   "outputs": [
    {
     "data": {
      "text/plain": [
       "array([[1., 0., 0., 0.],\n",
       "       [1., 1., 0., 0.],\n",
       "       [1., 1., 1., 0.],\n",
       "       [1., 1., 1., 1.]])"
      ]
     },
     "execution_count": 35,
     "metadata": {},
     "output_type": "execute_result"
    }
   ],
   "source": [
    "np.tri(4)"
   ]
  },
  {
   "cell_type": "code",
   "execution_count": 48,
   "id": "44938e0a",
   "metadata": {},
   "outputs": [],
   "source": [
    "a = {'a':1, 'b':[2,3,3,4,5],'c':'abcd'}"
   ]
  },
  {
   "cell_type": "code",
   "execution_count": 49,
   "id": "7770b872",
   "metadata": {},
   "outputs": [
    {
     "name": "stdout",
     "output_type": "stream",
     "text": [
      "{'a': 1, 'b': [2, 3, 3, 4, 5], 'c': 'abcd'}\n"
     ]
    }
   ],
   "source": [
    "print(a)"
   ]
  },
  {
   "cell_type": "code",
   "execution_count": 50,
   "id": "b0152f89",
   "metadata": {},
   "outputs": [
    {
     "name": "stdout",
     "output_type": "stream",
     "text": [
      "{'a': 1, 'b': [2, 3, 3, 4, 5], 'c': 'abcd'}\n"
     ]
    }
   ],
   "source": [
    "pprint(a)"
   ]
  },
  {
   "cell_type": "code",
   "execution_count": 38,
   "id": "4b78c5d3",
   "metadata": {},
   "outputs": [],
   "source": [
    "from pprint import pprint"
   ]
  },
  {
   "cell_type": "code",
   "execution_count": 40,
   "id": "b38f8fc4",
   "metadata": {},
   "outputs": [
    {
     "name": "stdout",
     "output_type": "stream",
     "text": [
      "array([['1', '2', '3'],\n",
      "       ['4', '5', '6']], dtype='<U11')\n"
     ]
    }
   ],
   "source": [
    "pprint(b)"
   ]
  },
  {
   "cell_type": "code",
   "execution_count": 41,
   "id": "1ca59493",
   "metadata": {},
   "outputs": [
    {
     "name": "stdout",
     "output_type": "stream",
     "text": [
      "[['1' '2' '3']\n",
      " ['4' '5' '6']]\n"
     ]
    }
   ],
   "source": [
    "print(b)"
   ]
  },
  {
   "cell_type": "code",
   "execution_count": 37,
   "id": "35232d1f",
   "metadata": {},
   "outputs": [
    {
     "name": "stdout",
     "output_type": "stream",
     "text": [
      "The Zen of Python, by Tim Peters\n",
      "\n",
      "Beautiful is better than ugly.\n",
      "Explicit is better than implicit.\n",
      "Simple is better than complex.\n",
      "Complex is better than complicated.\n",
      "Flat is better than nested.\n",
      "Sparse is better than dense.\n",
      "Readability counts.\n",
      "Special cases aren't special enough to break the rules.\n",
      "Although practicality beats purity.\n",
      "Errors should never pass silently.\n",
      "Unless explicitly silenced.\n",
      "In the face of ambiguity, refuse the temptation to guess.\n",
      "There should be one-- and preferably only one --obvious way to do it.\n",
      "Although that way may not be obvious at first unless you're Dutch.\n",
      "Now is better than never.\n",
      "Although never is often better than *right* now.\n",
      "If the implementation is hard to explain, it's a bad idea.\n",
      "If the implementation is easy to explain, it may be a good idea.\n",
      "Namespaces are one honking great idea -- let's do more of those!\n"
     ]
    }
   ],
   "source": [
    "import this"
   ]
  },
  {
   "cell_type": "code",
   "execution_count": 51,
   "id": "67ca9cc1",
   "metadata": {},
   "outputs": [],
   "source": [
    "a = np.arange(48).reshape(3,4,4)"
   ]
  },
  {
   "cell_type": "code",
   "execution_count": 53,
   "id": "61f88842",
   "metadata": {},
   "outputs": [
    {
     "data": {
      "text/plain": [
       "array([[[ 0,  1,  2,  3],\n",
       "        [ 4,  5,  6,  7],\n",
       "        [ 8,  9, 10, 11],\n",
       "        [12, 13, 14, 15]],\n",
       "\n",
       "       [[16, 17, 18, 19],\n",
       "        [20, 21, 22, 23],\n",
       "        [24, 25, 26, 27],\n",
       "        [28, 29, 30, 31]],\n",
       "\n",
       "       [[32, 33, 34, 35],\n",
       "        [36, 37, 38, 39],\n",
       "        [40, 41, 42, 43],\n",
       "        [44, 45, 46, 47]]])"
      ]
     },
     "execution_count": 53,
     "metadata": {},
     "output_type": "execute_result"
    }
   ],
   "source": [
    "a"
   ]
  },
  {
   "cell_type": "code",
   "execution_count": 54,
   "id": "eb2c20c7",
   "metadata": {},
   "outputs": [],
   "source": [
    "import tensorflow as tf"
   ]
  },
  {
   "cell_type": "code",
   "execution_count": 55,
   "id": "d133363f",
   "metadata": {},
   "outputs": [],
   "source": [
    "(X_train,y_train),(X_test,y_test) = tf.keras.datasets.mnist.load_data()"
   ]
  },
  {
   "cell_type": "code",
   "execution_count": 59,
   "id": "e0f38700",
   "metadata": {},
   "outputs": [
    {
     "data": {
      "text/plain": [
       "165"
      ]
     },
     "execution_count": 59,
     "metadata": {},
     "output_type": "execute_result"
    }
   ],
   "source": [
    "len(dir(X_train))"
   ]
  },
  {
   "cell_type": "code",
   "execution_count": 60,
   "id": "d5e3c7ae",
   "metadata": {
    "collapsed": true
   },
   "outputs": [
    {
     "name": "stdout",
     "output_type": "stream",
     "text": [
      "Search results for 'sum'\n",
      "------------------------\n",
      "numpy.sum\n",
      "    Sum of array elements over a given axis.\n",
      "numpy.cumsum\n",
      "    Return the cumulative sum of the elements along a given axis.\n",
      "numpy.einsum\n",
      "    einsum(subscripts, *operands, out=None, dtype=None, order='K',\n",
      "numpy.nansum\n",
      "    Return the sum of array elements over a given axis treating Not a\n",
      "numpy.nancumsum\n",
      "    Return the cumulative sum of array elements over a given axis treating Not a\n",
      "numpy.einsum_path\n",
      "    Evaluates the lowest cost contraction order for an einsum expression by\n",
      "numpy.trace\n",
      "    Return the sum along diagonals of the array.\n",
      "numpy.ma.sum\n",
      "    Return the sum of the array elements over the given axis.\n",
      "numpy.bool8.sum\n",
      "    Scalar method identical to the corresponding array attribute.\n",
      "numpy.polyadd\n",
      "    Find the sum of two polynomials.\n",
      "numpy.ma.cumsum\n",
      "    Return the cumulative sum of the array elements over the given axis.\n",
      "numpy.logaddexp\n",
      "    Logarithm of the sum of exponentiations of the inputs.\n",
      "numpy.bool8.cumsum\n",
      "    Scalar method identical to the corresponding array attribute.\n",
      "numpy.logaddexp2\n",
      "    Logarithm of the sum of exponentiations of the inputs in base-2.\n",
      "numpy.matrix.sum\n",
      "    Returns the sum of the matrix elements, along the given axis.\n",
      "numpy.chararray.sum\n",
      "    Return the sum of the array elements over the given axis.\n",
      "numpy.mask_indices\n",
      "    Return the indices to access (n, n) arrays, given a masking function.\n",
      "numpy.chararray.cumsum\n",
      "    Return the cumulative sum of the elements along the given axis.\n",
      "numpy.chararray.trace\n",
      "    Return the sum along diagonals of the array.\n",
      "numpy.bytes0.expandtabs\n",
      "    Return a copy where all tab characters are expanded using spaces.\n",
      "numpy.str0.expandtabs\n",
      "    Return a copy where all tab characters are expanded using spaces.\n",
      "numpy.format_float_positional\n",
      "    Format a floating-point scalar as a decimal string in positional notation.\n",
      "numpy.format_float_scientific\n",
      "    Format a floating-point scalar as a decimal string in scientific notation.\n",
      "numpy.linalg.tensorsolve\n",
      "    Solve the tensor equation ``a x = b`` for x.\n",
      "numpy.ma.MaskedArray.sum\n",
      "    Return the sum of the array elements over the given axis.\n",
      "numpy.ma.MaskedArray.cumsum\n",
      "    Return the cumulative sum of the array elements over the given axis.\n",
      "numpy.core._umath_tests.cumsum\n",
      "    Cumulative sum of the input (n)->(n)\n",
      "numpy.ma.MaskedArray.trace\n",
      "    Return the sum along diagonals of the array.\n",
      "numpy.core._multiarray_umath.c_einsum\n",
      "    c_einsum(subscripts, *operands, out=None, dtype=None, order='K',\n",
      "numpy.polynomial.Hermite._add\n",
      "    Add one Hermite series to another.\n",
      "numpy.polynomial.HermiteE._add\n",
      "    Add one Hermite series to another.\n",
      "numpy.polynomial.Laguerre._add\n",
      "    Add one Laguerre series to another.\n",
      "numpy.polynomial.Legendre._add\n",
      "    Add one Legendre series to another.\n",
      "numpy.polynomial.Chebyshev._add\n",
      "    Add one Chebyshev series to another.\n",
      "numpy.AxisError.__class__.__sizeof__\n",
      "    Return memory consumption of the type object.\n",
      "numpy.polynomial.Polynomial._add\n",
      "    Add one polynomial to another.\n",
      "numpy.add\n",
      "    Add arguments element-wise.\n",
      "numpy.cov\n",
      "    Estimate a covariance matrix, given data and weights.\n",
      "numpy.dot\n",
      "    Dot product of two arrays. Specifically,\n",
      "numpy.std\n",
      "    Compute the standard deviation along the specified axis.\n",
      "numpy.var\n",
      "    Compute the variance along the specified axis.\n",
      "numpy.diag\n",
      "    Extract a diagonal or construct a diagonal array.\n",
      "numpy.diff\n",
      "    Calculate the n-th discrete difference along the given axis.\n",
      "numpy.in1d\n",
      "    Test whether each element of a 1-D array is also present in a second array.\n",
      "numpy.isin\n",
      "    Calculates ``element in test_elements``, broadcasting over `element` only.\n",
      "numpy.kron\n",
      "    Kronecker product of two arrays.\n",
      "numpy.mean\n",
      "    Compute the arithmetic mean along the specified axis.\n",
      "numpy.poly\n",
      "    Find the coefficients of a polynomial with the given sequence of roots.\n",
      "numpy.cross\n",
      "    Return the cross product of two (arrays of) vectors.\n",
      "numpy.inner\n",
      "    Inner product of two arrays.\n",
      "numpy.outer\n",
      "    Compute the outer product of two vectors.\n",
      "numpy.roots\n",
      "    Return the roots of a polynomial with coefficients given in p.\n",
      "numpy.trapz\n",
      "    Integrate along the given axis using the composite trapezoidal rule.\n",
      "numpy.choose\n",
      "    Construct an array from an index array and a list of arrays to choose from.\n",
      "numpy.matmul\n",
      "    Matrix product of two arrays.\n",
      "numpy.nanstd\n",
      "    Compute the standard deviation along the specified axis, while\n",
      "numpy.nanvar\n",
      "    Compute the variance along the specified axis, while ignoring NaNs.\n",
      "numpy.nditer\n",
      "    Efficient multi-dimensional iterator object to iterate over arrays.\n",
      "numpy.poly1d\n",
      "    A one-dimensional polynomial class.\n",
      "numpy.average\n",
      "    Compute the weighted average along the specified axis.\n",
      "numpy.isclose\n",
      "    Returns a boolean array where two arrays are element-wise equal within a\n",
      "numpy.nanmean\n",
      "    Compute the arithmetic mean along the specified axis, ignoring NaNs.\n",
      "numpy.nanprod\n",
      "    Return the product of array elements over a given axis treating Not a\n",
      "numpy.polyder\n",
      "    Return the derivative of the specified order of a polynomial.\n",
      "numpy.polydiv\n",
      "    Returns the quotient and remainder of polynomial division.\n",
      "numpy.polyfit\n",
      "    Least squares polynomial fit.\n",
      "numpy.polyint\n",
      "    Return an antiderivative (indefinite integral) of a polynomial.\n",
      "numpy.polymul\n",
      "    Find the product of two polynomials.\n",
      "numpy.polysub\n",
      "    Difference (subtraction) of two polynomials.\n",
      "numpy.polyval\n",
      "    Evaluate a polynomial at specific values.\n",
      "numpy.bincount\n",
      "    Count number of occurrences of each value in array of non-negative ints.\n",
      "numpy.blackman\n",
      "    Return the Blackman window.\n",
      "numpy.convolve\n",
      "    Returns the discrete, linear convolution of two one-dimensional sequences.\n",
      "numpy.diagflat\n",
      "    Create a two-dimensional array with the flattened input as a diagonal.\n",
      "numpy.diagonal\n",
      "    Return specified diagonals.\n",
      "numpy.gradient\n",
      "    Return the gradient of an N-dimensional array.\n",
      "numpy.quantile\n",
      "    Compute the q-th quantile of the data along the specified axis.\n",
      "numpy.setxor1d\n",
      "    Find the set exclusive-or of two arrays.\n",
      "numpy.AxisError\n",
      "    Axis supplied was invalid.\n",
      "numpy.correlate\n",
      "    Cross-correlation of two 1-dimensional sequences.\n",
      "numpy.histogram\n",
      "    Compute the histogram of a dataset.\n",
      "numpy.isrealobj\n",
      "    Return True if x is a not complex type or an array of complex numbers.\n",
      "numpy.piecewise\n",
      "    Evaluate a piecewise-defined function.\n",
      "numpy.setdiff1d\n",
      "    Find the set difference of two arrays.\n",
      "numpy.tensordot\n",
      "    Compute tensor dot product along specified axes.\n",
      "numpy.vectorize\n",
      "    vectorize(pyfunc, otypes=None, doc=None, excluded=None, cache=False,\n",
      "numpy.percentile\n",
      "    Compute the q-th percentile of the data along the specified axis.\n",
      "numpy.histogram2d\n",
      "    Compute the bi-dimensional histogram of two data samples.\n",
      "numpy.histogramdd\n",
      "    Compute the multidimensional histogram of some data.\n",
      "numpy.intersect1d\n",
      "    Find the intersection of two arrays.\n",
      "numpy.nanquantile\n",
      "    Compute the qth quantile of the data along the specified axis,\n",
      "numpy.array2string\n",
      "    Return a string representation of an array.\n",
      "numpy.ma.add\n",
      "    Add arguments element-wise.\n",
      "numpy.ma.var\n",
      "    Compute the variance along the specified axis.\n",
      "numpy.searchsorted\n",
      "    Find indices where elements should be inserted to maintain order.\n",
      "numpy.fft.hfft\n",
      "    Compute the FFT of a signal that has Hermitian symmetry, i.e., a real\n",
      "numpy.fft.ifft\n",
      "    Compute the one-dimensional inverse discrete Fourier Transform.\n",
      "numpy.ma.diff\n",
      "    Calculate the n-th discrete difference along the given axis.\n",
      "numpy.nanpercentile\n",
      "    Compute the qth percentile of the data along the specified axis,\n",
      "numpy.fft.irfft\n",
      "    Computes the inverse of `rfft`.\n",
      "numpy.ma.inner\n",
      "    Inner product of two arrays.\n",
      "numpy.ma.outer\n",
      "    Compute the outer product of two vectors.\n",
      "numpy.ma.trace\n",
      "    a.trace(offset=0, axis1=0, axis2=1, dtype=None, out=None)\n",
      "numpy.apply_over_axes\n",
      "    Apply a function repeatedly over multiple axes.\n",
      "numpy.lib.tests.test_utils.old_func4\n",
      "    Summary.\n",
      "numpy.lib.tests.test_utils.old_func5\n",
      "    Summary.\n",
      "numpy.fft.irfftn\n",
      "    Computes the inverse of `rfftn`.\n",
      "numpy.linalg.svd\n",
      "    Singular Value Decomposition.\n",
      "numpy.ma.average\n",
      "    Return the weighted average of array over the given axis.\n",
      "numpy.ma.polyfit\n",
      "    Least squares polynomial fit.\n",
      "numpy.set_printoptions\n",
      "    Set printing options.\n",
      "numpy.array_api._array_object.Array.__array__\n",
      "    Warning: this method is NOT part of the array API spec. Implementers\n",
      "numpy.linalg.cond\n",
      "    Compute the condition number of a matrix.\n",
      "numpy.linalg.norm\n",
      "    Matrix or vector norm.\n",
      "numpy.linalg.pinv\n",
      "    Compute the (Moore-Penrose) pseudo-inverse of a matrix.\n",
      "numpy.ma.convolve\n",
      "    Returns the discrete, linear convolution of two one-dimensional sequences.\n",
      "numpy.ma.diagflat\n",
      "    Create a two-dimensional array with the flattened input as a diagonal.\n",
      "numpy.linalg.lstsq\n",
      "    Return the least-squares solution to a linear matrix equation.\n",
      "numpy.random.PCG64\n",
      "    BitGenerator for the PCG-64 pseudo-random number generator.\n",
      "numpy.random.SFC64\n",
      "    BitGenerator for Chris Doty-Humphrey's Small Fast Chaotic PRNG.\n",
      "numpy.rec.fromfile\n",
      "    Create an array from binary file data\n",
      "numpy.histogram_bin_edges\n",
      "    Function to calculate only the edges of the bins used by the `histogram`\n",
      "numpy.ufunc.reduce\n",
      "    Reduces `array`'s dimension by one, by applying ufunc along one axis.\n",
      "numpy.random.Philox\n",
      "    Container for the Philox (4x64) pseudo-random number generator.\n",
      "numpy.random.MT19937\n",
      "    Container for the Mersenne Twister pseudo-random number generator.\n",
      "numpy.ufunc.reduceat\n",
      "    Performs a (local) reduce with specified slices over a single axis.\n",
      "numpy.linalg.multi_dot\n",
      "    Compute the dot product of two or more arrays in a single function call,\n",
      "numpy.linalg.tensorinv\n",
      "    Compute the 'inverse' of an N-dimensional array.\n",
      "numpy.random.PCG64DXSM\n",
      "    BitGenerator for the PCG-64 DXSM pseudo-random number generator.\n",
      "numpy.ufunc.accumulate\n",
      "    Accumulate the result of applying the operator to all elements.\n",
      "numpy.linalg.matrix_rank\n",
      "    Return matrix rank of array using SVD method\n",
      "numpy.ma.apply_over_axes\n",
      "    Apply a function repeatedly over multiple axes.\n",
      "numpy.distutils.command.sdist.sdist.write_manifest\n",
      "    Write the file list in 'self.filelist' (presumably as filled in\n",
      "numpy.ma.MaskedArray.var\n",
      "    Compute the variance along the specified axis.\n",
      "numpy.random.Generator.f\n",
      "    Draw samples from an F distribution.\n",
      "numpy.distutils.armccompiler.ArmCCompiler.find_library_file\n",
      "    Second-guess the linker with not much hard\n",
      "numpy.random.RandomState.f\n",
      "    Draw samples from an F distribution.\n",
      "numpy.random.MT19937.jumped\n",
      "    Returns a new bit generator with the state jumped\n",
      "numpy.polynomial.Hermite.fit\n",
      "    Least squares fit to data.\n",
      "numpy.polynomial.Hermite._fit\n",
      "    Least squares fit of Hermite series to data.\n",
      "numpy.core._multiarray_umath.dot\n",
      "    Dot product of two arrays. Specifically,\n",
      "numpy.polynomial.HermiteE.fit\n",
      "    Least squares fit to data.\n",
      "numpy.polynomial.Laguerre.fit\n",
      "    Least squares fit to data.\n",
      "numpy.polynomial.Legendre.fit\n",
      "    Least squares fit to data.\n",
      "numpy.random.Generator.choice\n",
      "    Generates a random sample from a given array\n",
      "numpy.polynomial.Chebyshev.fit\n",
      "    Least squares fit to data.\n",
      "numpy.polynomial.HermiteE._fit\n",
      "    Least squares fit of Hermite series to data.\n",
      "numpy.polynomial.Laguerre._fit\n",
      "    Least squares fit of Laguerre series to data.\n",
      "numpy.polynomial.Legendre._fit\n",
      "    Least squares fit of Legendre series to data.\n",
      "numpy.polynomial.Chebyshev._fit\n",
      "    Least squares fit of Chebyshev series to data.\n",
      "numpy.polynomial.Hermite._roots\n",
      "    Compute the roots of a Hermite series.\n",
      "numpy.core._multiarray_umath.inner\n",
      "    Inner product of two arrays.\n",
      "numpy.polynomial.Polynomial.fit\n",
      "    Least squares fit to data.\n",
      "numpy.random.Generator.binomial\n",
      "    Draw samples from a binomial distribution.\n",
      "numpy.random.Generator.logistic\n",
      "    Draw samples from a logistic distribution.\n",
      "numpy.random.Generator.rayleigh\n",
      "    Draw samples from a Rayleigh distribution.\n",
      "numpy.random.RandomState.choice\n",
      "    Generates a random sample from a given 1-D array\n",
      "numpy.polynomial.HermiteE._roots\n",
      "    Compute the roots of a HermiteE series.\n",
      "numpy.polynomial.Laguerre._roots\n",
      "    Compute the roots of a Laguerre series.\n",
      "numpy.polynomial.Legendre._roots\n",
      "    Compute the roots of a Legendre series.\n",
      "numpy.polynomial.Polynomial._fit\n",
      "    Least-squares fit of a polynomial to data.\n",
      "numpy.random.Generator.chisquare\n",
      "    Draw samples from a chi-square distribution.\n",
      "numpy.random.Generator.dirichlet\n",
      "    Draw samples from the Dirichlet distribution.\n",
      "numpy.random.Generator.geometric\n",
      "    Draw samples from the geometric distribution.\n",
      "numpy.random.Generator.lognormal\n",
      "    Draw samples from a log-normal distribution.\n",
      "numpy.polynomial.Chebyshev._roots\n",
      "    Compute the roots of a Chebyshev series.\n",
      "numpy.random.Generator.standard_t\n",
      "    Draw samples from a standard Student's t distribution with `df` degrees\n",
      "numpy.random.RandomState.binomial\n",
      "    Draw samples from a binomial distribution.\n",
      "numpy.random.RandomState.logistic\n",
      "    Draw samples from a logistic distribution.\n",
      "numpy.random.RandomState.rayleigh\n",
      "    Draw samples from a Rayleigh distribution.\n",
      "numpy.core._multiarray_umath.bincount\n",
      "    Count number of occurrences of each value in array of non-negative ints.\n",
      "numpy.polynomial.Polynomial._roots\n",
      "    Compute the roots of a polynomial.\n",
      "numpy.polynomial.hermite.hermval2d\n",
      "    Evaluate a 2-D Hermite series at points (x, y).\n",
      "numpy.polynomial.hermite.hermval3d\n",
      "    Evaluate a 3-D Hermite series at points (x, y, z).\n",
      "numpy.polynomial.laguerre.lagval2d\n",
      "    Evaluate a 2-D Laguerre series at points (x, y).\n",
      "numpy.polynomial.laguerre.lagval3d\n",
      "    Evaluate a 3-D Laguerre series at points (x, y, z).\n",
      "numpy.polynomial.legendre.legval2d\n",
      "    Evaluate a 2-D Legendre series at points (x, y).\n",
      "numpy.polynomial.legendre.legval3d\n",
      "    Evaluate a 3-D Legendre series at points (x, y, z).\n",
      "numpy.random.Generator.multinomial\n",
      "    Draw samples from a multinomial distribution.\n",
      "numpy.random.RandomState.chisquare\n",
      "    Draw samples from a chi-square distribution.\n",
      "numpy.random.RandomState.dirichlet\n",
      "    Draw samples from the Dirichlet distribution.\n",
      "numpy.random.RandomState.geometric\n",
      "    Draw samples from the geometric distribution.\n",
      "numpy.random.RandomState.lognormal\n",
      "    Draw samples from a log-normal distribution.\n",
      "numpy.random.RandomState.set_state\n",
      "    set_state(state)\n",
      "numpy.polynomial.hermite.hermgrid2d\n",
      "    Evaluate a 2-D Hermite series on the Cartesian product of x and y.\n",
      "numpy.polynomial.hermite.hermgrid3d\n",
      "    Evaluate a 3-D Hermite series on the Cartesian product of x, y, and z.\n",
      "numpy.polynomial.laguerre.laggrid2d\n",
      "    Evaluate a 2-D Laguerre series on the Cartesian product of x and y.\n",
      "numpy.polynomial.laguerre.laggrid3d\n",
      "    Evaluate a 3-D Laguerre series on the Cartesian product of x, y, and z.\n",
      "numpy.polynomial.legendre.leggrid2d\n",
      "    Evaluate a 2-D Legendre series on the Cartesian product of x and y.\n",
      "numpy.polynomial.legendre.leggrid3d\n",
      "    Evaluate a 3-D Legendre series on the Cartesian product of x, y, and z.\n",
      "numpy.random.Generator.noncentral_f\n",
      "    Draw samples from the noncentral F distribution.\n",
      "numpy.random.RandomState.standard_t\n",
      "    Draw samples from a standard Student's t distribution with `df` degrees\n",
      "numpy.polynomial.chebyshev.chebval2d\n",
      "    Evaluate a 2-D Chebyshev series at points (x, y).\n",
      "numpy.polynomial.chebyshev.chebval3d\n",
      "    Evaluate a 3-D Chebyshev series at points (x, y, z).\n",
      "numpy.random.RandomState.multinomial\n",
      "    Draw samples from a multinomial distribution.\n",
      "numpy.polynomial.chebyshev.chebgrid2d\n",
      "    Evaluate a 2-D Chebyshev series on the Cartesian product of x and y.\n",
      "numpy.polynomial.chebyshev.chebgrid3d\n",
      "    Evaluate a 3-D Chebyshev series on the Cartesian product of x, y, and z.\n",
      "numpy.polynomial.hermite_e.hermeval2d\n",
      "    Evaluate a 2-D HermiteE series at points (x, y).\n",
      "numpy.polynomial.hermite_e.hermeval3d\n",
      "    Evaluate a 3-D Hermite_e series at points (x, y, z).\n",
      "numpy.polynomial.polynomial.polyval2d\n",
      "    Evaluate a 2-D polynomial at points (x, y).\n",
      "numpy.polynomial.polynomial.polyval3d\n",
      "    Evaluate a 3-D polynomial at points (x, y, z).\n",
      "numpy.distutils.command.build_clib.build_clib.check_library_list\n",
      "    Ensure that the list of libraries is valid.\n",
      "numpy.random.Generator.hypergeometric\n",
      "    Draw samples from a Hypergeometric distribution.\n",
      "numpy.random.RandomState.noncentral_f\n",
      "    Draw samples from the noncentral F distribution.\n",
      "numpy.polynomial.hermite_e.hermegrid2d\n",
      "    Evaluate a 2-D HermiteE series on the Cartesian product of x and y.\n",
      "numpy.polynomial.hermite_e.hermegrid3d\n",
      "    Evaluate a 3-D HermiteE series on the Cartesian product of x, y, and z.\n",
      "numpy.polynomial.polynomial.polygrid2d\n",
      "    Evaluate a 2-D polynomial on the Cartesian product of x and y.\n",
      "numpy.polynomial.polynomial.polygrid3d\n",
      "    Evaluate a 3-D polynomial on the Cartesian product of x, y and z.\n",
      "numpy.distutils.command.build_ext.build_ext.check_extensions_list\n",
      "    Ensure that the list of extensions (presumably provided as a\n",
      "numpy.random.Generator.standard_cauchy\n",
      "    Draw samples from a standard Cauchy distribution with mode = 0.\n",
      "numpy.distutils.command.develop.develop.create_index.__getitem__\n",
      "    Return a newest-to-oldest list of distributions for `project_name`\n",
      "numpy.random.RandomState.hypergeometric\n",
      "    Draw samples from a Hypergeometric distribution.\n",
      "numpy.lib.recfunctions.apply_along_fields\n",
      "    Apply function 'func' as a reduction across fields of a structured array.\n",
      "numpy.random.Generator.negative_binomial\n",
      "    Draw samples from a negative binomial distribution.\n",
      "numpy.random.RandomState.random_integers\n",
      "    Random integers of type `np.int_` between `low` and `high`, inclusive.\n",
      "numpy.random.RandomState.standard_cauchy\n",
      "    Draw samples from a standard Cauchy distribution with mode = 0.\n",
      "numpy.random.RandomState.negative_binomial\n",
      "    Draw samples from a negative binomial distribution.\n",
      "numpy.random.Generator.noncentral_chisquare\n",
      "    Draw samples from a noncentral chi-square distribution.\n",
      "numpy.core.tests.test_simd.Test_SIMD_FP64_128_SSE42_f64.test_conversions\n",
      "    Round to nearest even integer, assume CPU control register is set to rounding.\n",
      "numpy.core.tests.test_simd.Test_SIMD_FP32_128_SSE42_f32.test_conversions\n",
      "    Round to nearest even integer, assume CPU control register is set to rounding.\n",
      "numpy.random.RandomState.noncentral_chisquare\n",
      "    Draw samples from a noncentral chi-square distribution.\n",
      "numpy.core.tests.test_simd.Test_SIMD_ALL_128_SSE42_f32.test_arithmetic_reduce_sum\n",
      "    Test reduce sum intrinsics:\n",
      "numpy.core.tests.test_simd.Test_SIMD_ALL_128_SSE42_f32.test_arithmetic_reduce_sumup\n",
      "    Test extend reduce sum intrinsics:\n",
      "numpy.random.Generator.multivariate_hypergeometric\n",
      "    multivariate_hypergeometric(colors, nsample, size=None,\n",
      "numpy.polynomial._polybase.ABCPolyBase.fit\n",
      "    Least squares fit to data.\n",
      "numpy.distutils.misc_util.Configuration.set_options\n",
      "    Configure Configuration instance.\n",
      "numpy.distutils.misc_util.Configuration.add_subpackage\n",
      "    Add a sub-package to the current Configuration instance.\n",
      "numpy.distutils.misc_util.Configuration.get_subpackage\n",
      "    Return list of subpackage configurations.\n",
      "numpy.distutils.ccompiler_opt.CCompilerOpt.feature_ahead\n",
      "    Return list of features in 'names' after remove any\n",
      "numpy.distutils.ccompiler_opt.CCompilerOpt.feature_untied\n",
      "    same as 'feature_ahead()' but if both features implied each other\n",
      "numpy.distutils.misc_util.Configuration.add_npy_pkg_config\n",
      "    Generate and install a npy-pkg config file from a template.\n",
      "numpy.linalg.tests.test_deprecations.test_qr_mode_full_future_warning\n",
      "    Check mode='full' FutureWarning.\n",
      "numpy.distutils.tests.test_ccompiler_opt_conf.TestConfFeatures.subTest\n",
      "    Return a context manager that will return the enclosed block"
     ]
    }
   ],
   "source": [
    "np.lookfor('sum')"
   ]
  },
  {
   "cell_type": "code",
   "execution_count": 61,
   "id": "936e3444",
   "metadata": {},
   "outputs": [
    {
     "name": "stdout",
     "output_type": "stream",
     "text": [
      " einsum(*operands, out=None, optimize=False, **kwargs)\n",
      "\n",
      "einsum(subscripts, *operands, out=None, dtype=None, order='K',\n",
      "       casting='safe', optimize=False)\n",
      "\n",
      "Evaluates the Einstein summation convention on the operands.\n",
      "\n",
      "Using the Einstein summation convention, many common multi-dimensional,\n",
      "linear algebraic array operations can be represented in a simple fashion.\n",
      "In *implicit* mode `einsum` computes these values.\n",
      "\n",
      "In *explicit* mode, `einsum` provides further flexibility to compute\n",
      "other array operations that might not be considered classical Einstein\n",
      "summation operations, by disabling, or forcing summation over specified\n",
      "subscript labels.\n",
      "\n",
      "See the notes and examples for clarification.\n",
      "\n",
      "Parameters\n",
      "----------\n",
      "subscripts : str\n",
      "    Specifies the subscripts for summation as comma separated list of\n",
      "    subscript labels. An implicit (classical Einstein summation)\n",
      "    calculation is performed unless the explicit indicator '->' is\n",
      "    included as well as subscript labels of the precise output form.\n",
      "operands : list of array_like\n",
      "    These are the arrays for the operation.\n",
      "out : ndarray, optional\n",
      "    If provided, the calculation is done into this array.\n",
      "dtype : {data-type, None}, optional\n",
      "    If provided, forces the calculation to use the data type specified.\n",
      "    Note that you may have to also give a more liberal `casting`\n",
      "    parameter to allow the conversions. Default is None.\n",
      "order : {'C', 'F', 'A', 'K'}, optional\n",
      "    Controls the memory layout of the output. 'C' means it should\n",
      "    be C contiguous. 'F' means it should be Fortran contiguous,\n",
      "    'A' means it should be 'F' if the inputs are all 'F', 'C' otherwise.\n",
      "    'K' means it should be as close to the layout as the inputs as\n",
      "    is possible, including arbitrarily permuted axes.\n",
      "    Default is 'K'.\n",
      "casting : {'no', 'equiv', 'safe', 'same_kind', 'unsafe'}, optional\n",
      "    Controls what kind of data casting may occur.  Setting this to\n",
      "    'unsafe' is not recommended, as it can adversely affect accumulations.\n",
      "\n",
      "      * 'no' means the data types should not be cast at all.\n",
      "      * 'equiv' means only byte-order changes are allowed.\n",
      "      * 'safe' means only casts which can preserve values are allowed.\n",
      "      * 'same_kind' means only safe casts or casts within a kind,\n",
      "        like float64 to float32, are allowed.\n",
      "      * 'unsafe' means any data conversions may be done.\n",
      "\n",
      "    Default is 'safe'.\n",
      "optimize : {False, True, 'greedy', 'optimal'}, optional\n",
      "    Controls if intermediate optimization should occur. No optimization\n",
      "    will occur if False and True will default to the 'greedy' algorithm.\n",
      "    Also accepts an explicit contraction list from the ``np.einsum_path``\n",
      "    function. See ``np.einsum_path`` for more details. Defaults to False.\n",
      "\n",
      "Returns\n",
      "-------\n",
      "output : ndarray\n",
      "    The calculation based on the Einstein summation convention.\n",
      "\n",
      "See Also\n",
      "--------\n",
      "einsum_path, dot, inner, outer, tensordot, linalg.multi_dot\n",
      "einops :\n",
      "    similar verbose interface is provided by\n",
      "    `einops <https://github.com/arogozhnikov/einops>`_ package to cover\n",
      "    additional operations: transpose, reshape/flatten, repeat/tile,\n",
      "    squeeze/unsqueeze and reductions.\n",
      "opt_einsum :\n",
      "    `opt_einsum <https://optimized-einsum.readthedocs.io/en/stable/>`_\n",
      "    optimizes contraction order for einsum-like expressions\n",
      "    in backend-agnostic manner.\n",
      "\n",
      "Notes\n",
      "-----\n",
      ".. versionadded:: 1.6.0\n",
      "\n",
      "The Einstein summation convention can be used to compute\n",
      "many multi-dimensional, linear algebraic array operations. `einsum`\n",
      "provides a succinct way of representing these.\n",
      "\n",
      "A non-exhaustive list of these operations,\n",
      "which can be computed by `einsum`, is shown below along with examples:\n",
      "\n",
      "* Trace of an array, :py:func:`numpy.trace`.\n",
      "* Return a diagonal, :py:func:`numpy.diag`.\n",
      "* Array axis summations, :py:func:`numpy.sum`.\n",
      "* Transpositions and permutations, :py:func:`numpy.transpose`.\n",
      "* Matrix multiplication and dot product, :py:func:`numpy.matmul` :py:func:`numpy.dot`.\n",
      "* Vector inner and outer products, :py:func:`numpy.inner` :py:func:`numpy.outer`.\n",
      "* Broadcasting, element-wise and scalar multiplication, :py:func:`numpy.multiply`.\n",
      "* Tensor contractions, :py:func:`numpy.tensordot`.\n",
      "* Chained array operations, in efficient calculation order, :py:func:`numpy.einsum_path`.\n",
      "\n",
      "The subscripts string is a comma-separated list of subscript labels,\n",
      "where each label refers to a dimension of the corresponding operand.\n",
      "Whenever a label is repeated it is summed, so ``np.einsum('i,i', a, b)``\n",
      "is equivalent to :py:func:`np.inner(a,b) <numpy.inner>`. If a label\n",
      "appears only once, it is not summed, so ``np.einsum('i', a)`` produces a\n",
      "view of ``a`` with no changes. A further example ``np.einsum('ij,jk', a, b)``\n",
      "describes traditional matrix multiplication and is equivalent to\n",
      ":py:func:`np.matmul(a,b) <numpy.matmul>`. Repeated subscript labels in one\n",
      "operand take the diagonal. For example, ``np.einsum('ii', a)`` is equivalent\n",
      "to :py:func:`np.trace(a) <numpy.trace>`.\n",
      "\n",
      "In *implicit mode*, the chosen subscripts are important\n",
      "since the axes of the output are reordered alphabetically.  This\n",
      "means that ``np.einsum('ij', a)`` doesn't affect a 2D array, while\n",
      "``np.einsum('ji', a)`` takes its transpose. Additionally,\n",
      "``np.einsum('ij,jk', a, b)`` returns a matrix multiplication, while,\n",
      "``np.einsum('ij,jh', a, b)`` returns the transpose of the\n",
      "multiplication since subscript 'h' precedes subscript 'i'.\n",
      "\n",
      "In *explicit mode* the output can be directly controlled by\n",
      "specifying output subscript labels.  This requires the\n",
      "identifier '->' as well as the list of output subscript labels.\n",
      "This feature increases the flexibility of the function since\n",
      "summing can be disabled or forced when required. The call\n",
      "``np.einsum('i->', a)`` is like :py:func:`np.sum(a, axis=-1) <numpy.sum>`,\n",
      "and ``np.einsum('ii->i', a)`` is like :py:func:`np.diag(a) <numpy.diag>`.\n",
      "The difference is that `einsum` does not allow broadcasting by default.\n",
      "Additionally ``np.einsum('ij,jh->ih', a, b)`` directly specifies the\n",
      "order of the output subscript labels and therefore returns matrix\n",
      "multiplication, unlike the example above in implicit mode.\n",
      "\n",
      "To enable and control broadcasting, use an ellipsis.  Default\n",
      "NumPy-style broadcasting is done by adding an ellipsis\n",
      "to the left of each term, like ``np.einsum('...ii->...i', a)``.\n",
      "To take the trace along the first and last axes,\n",
      "you can do ``np.einsum('i...i', a)``, or to do a matrix-matrix\n",
      "product with the left-most indices instead of rightmost, one can do\n",
      "``np.einsum('ij...,jk...->ik...', a, b)``.\n",
      "\n",
      "When there is only one operand, no axes are summed, and no output\n",
      "parameter is provided, a view into the operand is returned instead\n",
      "of a new array.  Thus, taking the diagonal as ``np.einsum('ii->i', a)``\n",
      "produces a view (changed in version 1.10.0).\n",
      "\n",
      "`einsum` also provides an alternative way to provide the subscripts\n",
      "and operands as ``einsum(op0, sublist0, op1, sublist1, ..., [sublistout])``.\n",
      "If the output shape is not provided in this format `einsum` will be\n",
      "calculated in implicit mode, otherwise it will be performed explicitly.\n",
      "The examples below have corresponding `einsum` calls with the two\n",
      "parameter methods.\n",
      "\n",
      ".. versionadded:: 1.10.0\n",
      "\n",
      "Views returned from einsum are now writeable whenever the input array\n",
      "is writeable. For example, ``np.einsum('ijk...->kji...', a)`` will now\n",
      "have the same effect as :py:func:`np.swapaxes(a, 0, 2) <numpy.swapaxes>`\n",
      "and ``np.einsum('ii->i', a)`` will return a writeable view of the diagonal\n",
      "of a 2D array.\n",
      "\n",
      ".. versionadded:: 1.12.0\n",
      "\n",
      "Added the ``optimize`` argument which will optimize the contraction order\n",
      "of an einsum expression. For a contraction with three or more operands this\n",
      "can greatly increase the computational efficiency at the cost of a larger\n",
      "memory footprint during computation.\n",
      "\n",
      "Typically a 'greedy' algorithm is applied which empirical tests have shown\n",
      "returns the optimal path in the majority of cases. In some cases 'optimal'\n",
      "will return the superlative path through a more expensive, exhaustive search.\n",
      "For iterative calculations it may be advisable to calculate the optimal path\n",
      "once and reuse that path by supplying it as an argument. An example is given\n",
      "below.\n",
      "\n",
      "See :py:func:`numpy.einsum_path` for more details.\n",
      "\n",
      "Examples\n",
      "--------\n",
      ">>> a = np.arange(25).reshape(5,5)\n",
      ">>> b = np.arange(5)\n",
      ">>> c = np.arange(6).reshape(2,3)\n",
      "\n",
      "Trace of a matrix:\n",
      "\n",
      ">>> np.einsum('ii', a)\n",
      "60\n",
      ">>> np.einsum(a, [0,0])\n",
      "60\n",
      ">>> np.trace(a)\n",
      "60\n",
      "\n",
      "Extract the diagonal (requires explicit form):\n",
      "\n",
      ">>> np.einsum('ii->i', a)\n",
      "array([ 0,  6, 12, 18, 24])\n",
      ">>> np.einsum(a, [0,0], [0])\n",
      "array([ 0,  6, 12, 18, 24])\n",
      ">>> np.diag(a)\n",
      "array([ 0,  6, 12, 18, 24])\n",
      "\n",
      "Sum over an axis (requires explicit form):\n",
      "\n",
      ">>> np.einsum('ij->i', a)\n",
      "array([ 10,  35,  60,  85, 110])\n",
      ">>> np.einsum(a, [0,1], [0])\n",
      "array([ 10,  35,  60,  85, 110])\n",
      ">>> np.sum(a, axis=1)\n",
      "array([ 10,  35,  60,  85, 110])\n",
      "\n",
      "For higher dimensional arrays summing a single axis can be done with ellipsis:\n",
      "\n",
      ">>> np.einsum('...j->...', a)\n",
      "array([ 10,  35,  60,  85, 110])\n",
      ">>> np.einsum(a, [Ellipsis,1], [Ellipsis])\n",
      "array([ 10,  35,  60,  85, 110])\n",
      "\n",
      "Compute a matrix transpose, or reorder any number of axes:\n",
      "\n",
      ">>> np.einsum('ji', c)\n",
      "array([[0, 3],\n",
      "       [1, 4],\n",
      "       [2, 5]])\n",
      ">>> np.einsum('ij->ji', c)\n",
      "array([[0, 3],\n",
      "       [1, 4],\n",
      "       [2, 5]])\n",
      ">>> np.einsum(c, [1,0])\n",
      "array([[0, 3],\n",
      "       [1, 4],\n",
      "       [2, 5]])\n",
      ">>> np.transpose(c)\n",
      "array([[0, 3],\n",
      "       [1, 4],\n",
      "       [2, 5]])\n",
      "\n",
      "Vector inner products:\n",
      "\n",
      ">>> np.einsum('i,i', b, b)\n",
      "30\n",
      ">>> np.einsum(b, [0], b, [0])\n",
      "30\n",
      ">>> np.inner(b,b)\n",
      "30\n",
      "\n",
      "Matrix vector multiplication:\n",
      "\n",
      ">>> np.einsum('ij,j', a, b)\n",
      "array([ 30,  80, 130, 180, 230])\n",
      ">>> np.einsum(a, [0,1], b, [1])\n",
      "array([ 30,  80, 130, 180, 230])\n",
      ">>> np.dot(a, b)\n",
      "array([ 30,  80, 130, 180, 230])\n",
      ">>> np.einsum('...j,j', a, b)\n",
      "array([ 30,  80, 130, 180, 230])\n",
      "\n",
      "Broadcasting and scalar multiplication:\n",
      "\n",
      ">>> np.einsum('..., ...', 3, c)\n",
      "array([[ 0,  3,  6],\n",
      "       [ 9, 12, 15]])\n",
      ">>> np.einsum(',ij', 3, c)\n",
      "array([[ 0,  3,  6],\n",
      "       [ 9, 12, 15]])\n",
      ">>> np.einsum(3, [Ellipsis], c, [Ellipsis])\n",
      "array([[ 0,  3,  6],\n",
      "       [ 9, 12, 15]])\n",
      ">>> np.multiply(3, c)\n",
      "array([[ 0,  3,  6],\n",
      "       [ 9, 12, 15]])\n",
      "\n",
      "Vector outer product:\n",
      "\n",
      ">>> np.einsum('i,j', np.arange(2)+1, b)\n",
      "array([[0, 1, 2, 3, 4],\n",
      "       [0, 2, 4, 6, 8]])\n",
      ">>> np.einsum(np.arange(2)+1, [0], b, [1])\n",
      "array([[0, 1, 2, 3, 4],\n",
      "       [0, 2, 4, 6, 8]])\n",
      ">>> np.outer(np.arange(2)+1, b)\n",
      "array([[0, 1, 2, 3, 4],\n",
      "       [0, 2, 4, 6, 8]])\n",
      "\n",
      "Tensor contraction:\n",
      "\n",
      ">>> a = np.arange(60.).reshape(3,4,5)\n",
      ">>> b = np.arange(24.).reshape(4,3,2)\n",
      ">>> np.einsum('ijk,jil->kl', a, b)\n",
      "array([[4400., 4730.],\n",
      "       [4532., 4874.],\n",
      "       [4664., 5018.],\n",
      "       [4796., 5162.],\n",
      "       [4928., 5306.]])\n",
      ">>> np.einsum(a, [0,1,2], b, [1,0,3], [2,3])\n",
      "array([[4400., 4730.],\n",
      "       [4532., 4874.],\n",
      "       [4664., 5018.],\n",
      "       [4796., 5162.],\n",
      "       [4928., 5306.]])\n",
      ">>> np.tensordot(a,b, axes=([1,0],[0,1]))\n",
      "array([[4400., 4730.],\n",
      "       [4532., 4874.],\n",
      "       [4664., 5018.],\n",
      "       [4796., 5162.],\n",
      "       [4928., 5306.]])\n",
      "\n",
      "Writeable returned arrays (since version 1.10.0):\n",
      "\n",
      ">>> a = np.zeros((3, 3))\n",
      ">>> np.einsum('ii->i', a)[:] = 1\n",
      ">>> a\n",
      "array([[1., 0., 0.],\n",
      "       [0., 1., 0.],\n",
      "       [0., 0., 1.]])\n",
      "\n",
      "Example of ellipsis use:\n",
      "\n",
      ">>> a = np.arange(6).reshape((3,2))\n",
      ">>> b = np.arange(12).reshape((4,3))\n",
      ">>> np.einsum('ki,jk->ij', a, b)\n",
      "array([[10, 28, 46, 64],\n",
      "       [13, 40, 67, 94]])\n",
      ">>> np.einsum('ki,...k->i...', a, b)\n",
      "array([[10, 28, 46, 64],\n",
      "       [13, 40, 67, 94]])\n",
      ">>> np.einsum('k...,jk', a, b)\n",
      "array([[10, 28, 46, 64],\n",
      "       [13, 40, 67, 94]])\n",
      "\n",
      "Chained array operations. For more complicated contractions, speed ups\n",
      "might be achieved by repeatedly computing a 'greedy' path or pre-computing the\n",
      "'optimal' path and repeatedly applying it, using an\n",
      "`einsum_path` insertion (since version 1.12.0). Performance improvements can be\n",
      "particularly significant with larger arrays:\n",
      "\n",
      ">>> a = np.ones(64).reshape(2,4,8)\n",
      "\n",
      "Basic `einsum`: ~1520ms  (benchmarked on 3.1GHz Intel i5.)\n",
      "\n",
      ">>> for iteration in range(500):\n",
      "...     _ = np.einsum('ijk,ilm,njm,nlk,abc->',a,a,a,a,a)\n",
      "\n",
      "Sub-optimal `einsum` (due to repeated path calculation time): ~330ms\n",
      "\n",
      ">>> for iteration in range(500):\n",
      "...     _ = np.einsum('ijk,ilm,njm,nlk,abc->',a,a,a,a,a, optimize='optimal')\n",
      "\n",
      "Greedy `einsum` (faster optimal path approximation): ~160ms\n",
      "\n",
      ">>> for iteration in range(500):\n",
      "...     _ = np.einsum('ijk,ilm,njm,nlk,abc->',a,a,a,a,a, optimize='greedy')\n",
      "\n",
      "Optimal `einsum` (best usage pattern in some use cases): ~110ms\n",
      "\n",
      ">>> path = np.einsum_path('ijk,ilm,njm,nlk,abc->',a,a,a,a,a, optimize='optimal')[0]\n",
      ">>> for iteration in range(500):\n",
      "...     _ = np.einsum('ijk,ilm,njm,nlk,abc->',a,a,a,a,a, optimize=path)\n"
     ]
    }
   ],
   "source": [
    "np.info(np.einsum)"
   ]
  },
  {
   "cell_type": "code",
   "execution_count": 62,
   "id": "f123fc57",
   "metadata": {},
   "outputs": [],
   "source": [
    "a = np.array([1,2,3])\n",
    "b = np.array([1,2,3])"
   ]
  },
  {
   "cell_type": "code",
   "execution_count": 63,
   "id": "1078a645",
   "metadata": {},
   "outputs": [
    {
     "data": {
      "text/plain": [
       "14"
      ]
     },
     "execution_count": 63,
     "metadata": {},
     "output_type": "execute_result"
    }
   ],
   "source": [
    "np.dot(a,b)"
   ]
  },
  {
   "cell_type": "code",
   "execution_count": 64,
   "id": "6f3e5ce7",
   "metadata": {},
   "outputs": [
    {
     "data": {
      "text/plain": [
       "14"
      ]
     },
     "execution_count": 64,
     "metadata": {},
     "output_type": "execute_result"
    }
   ],
   "source": [
    "a.dot(b)"
   ]
  },
  {
   "cell_type": "code",
   "execution_count": 65,
   "id": "e690e24c",
   "metadata": {},
   "outputs": [
    {
     "data": {
      "text/plain": [
       "14"
      ]
     },
     "execution_count": 65,
     "metadata": {},
     "output_type": "execute_result"
    }
   ],
   "source": [
    "a@b"
   ]
  },
  {
   "cell_type": "code",
   "execution_count": 66,
   "id": "662b82a0",
   "metadata": {},
   "outputs": [],
   "source": [
    "aa = np.array([[1,2,3]])\n",
    "bb = np.array([[1,2,3]])"
   ]
  },
  {
   "cell_type": "code",
   "execution_count": 67,
   "id": "af1c1a4e",
   "metadata": {},
   "outputs": [
    {
     "ename": "ValueError",
     "evalue": "matmul: Input operand 1 has a mismatch in its core dimension 0, with gufunc signature (n?,k),(k,m?)->(n?,m?) (size 1 is different from 3)",
     "output_type": "error",
     "traceback": [
      "\u001b[1;31m---------------------------------------------------------------------------\u001b[0m",
      "\u001b[1;31mValueError\u001b[0m                                Traceback (most recent call last)",
      "Cell \u001b[1;32mIn[67], line 1\u001b[0m\n\u001b[1;32m----> 1\u001b[0m \u001b[43maa\u001b[49m\u001b[38;5;129;43m@bb\u001b[39;49m\n",
      "\u001b[1;31mValueError\u001b[0m: matmul: Input operand 1 has a mismatch in its core dimension 0, with gufunc signature (n?,k),(k,m?)->(n?,m?) (size 1 is different from 3)"
     ]
    }
   ],
   "source": [
    "aa@bb"
   ]
  },
  {
   "cell_type": "code",
   "execution_count": 69,
   "id": "db5ebe53",
   "metadata": {},
   "outputs": [],
   "source": [
    "aa = np.array([[1,2],[3,4]])\n",
    "bb = np.array([[1,2],[3,5]])"
   ]
  },
  {
   "cell_type": "code",
   "execution_count": 70,
   "id": "53a3b421",
   "metadata": {},
   "outputs": [
    {
     "data": {
      "text/plain": [
       "array([[ 7, 12],\n",
       "       [15, 26]])"
      ]
     },
     "execution_count": 70,
     "metadata": {},
     "output_type": "execute_result"
    }
   ],
   "source": [
    "aa@bb"
   ]
  },
  {
   "cell_type": "code",
   "execution_count": 74,
   "id": "44fc6e72",
   "metadata": {},
   "outputs": [
    {
     "data": {
      "text/plain": [
       "array([[1, 2],\n",
       "       [3, 4]])"
      ]
     },
     "execution_count": 74,
     "metadata": {},
     "output_type": "execute_result"
    }
   ],
   "source": [
    "aa"
   ]
  },
  {
   "cell_type": "code",
   "execution_count": 75,
   "id": "b1028ea6",
   "metadata": {},
   "outputs": [
    {
     "data": {
      "text/plain": [
       "array([[1, 2],\n",
       "       [3, 5]])"
      ]
     },
     "execution_count": 75,
     "metadata": {},
     "output_type": "execute_result"
    }
   ],
   "source": [
    "bb"
   ]
  },
  {
   "cell_type": "code",
   "execution_count": 71,
   "id": "ff150a40",
   "metadata": {},
   "outputs": [
    {
     "data": {
      "text/plain": [
       "array([[2, 4],\n",
       "       [6, 9]])"
      ]
     },
     "execution_count": 71,
     "metadata": {},
     "output_type": "execute_result"
    }
   ],
   "source": [
    "aa+bb"
   ]
  },
  {
   "cell_type": "code",
   "execution_count": 72,
   "id": "f05aa15d",
   "metadata": {},
   "outputs": [
    {
     "data": {
      "text/plain": [
       "array([[ 1,  4],\n",
       "       [ 9, 20]])"
      ]
     },
     "execution_count": 72,
     "metadata": {},
     "output_type": "execute_result"
    }
   ],
   "source": [
    "aa*bb"
   ]
  },
  {
   "cell_type": "code",
   "execution_count": 73,
   "id": "3bdaebbc",
   "metadata": {},
   "outputs": [
    {
     "data": {
      "text/plain": [
       "array([[ 0,  0],\n",
       "       [ 0, -1]])"
      ]
     },
     "execution_count": 73,
     "metadata": {},
     "output_type": "execute_result"
    }
   ],
   "source": [
    "aa-bb"
   ]
  },
  {
   "cell_type": "code",
   "execution_count": 76,
   "id": "1446da5b",
   "metadata": {},
   "outputs": [
    {
     "data": {
      "text/plain": [
       "array([[1, 2],\n",
       "       [3, 4]])"
      ]
     },
     "execution_count": 76,
     "metadata": {},
     "output_type": "execute_result"
    }
   ],
   "source": [
    "aa"
   ]
  },
  {
   "cell_type": "code",
   "execution_count": 77,
   "id": "9a73966a",
   "metadata": {},
   "outputs": [],
   "source": [
    "cc = np.array([[1,2,3],[4,5,6]])"
   ]
  },
  {
   "cell_type": "code",
   "execution_count": 78,
   "id": "5584d7d9",
   "metadata": {},
   "outputs": [
    {
     "data": {
      "text/plain": [
       "array([[1, 2],\n",
       "       [3, 4]])"
      ]
     },
     "execution_count": 78,
     "metadata": {},
     "output_type": "execute_result"
    }
   ],
   "source": [
    "aa"
   ]
  },
  {
   "cell_type": "code",
   "execution_count": 79,
   "id": "75ed6078",
   "metadata": {},
   "outputs": [
    {
     "data": {
      "text/plain": [
       "array([[1, 2, 3],\n",
       "       [4, 5, 6]])"
      ]
     },
     "execution_count": 79,
     "metadata": {},
     "output_type": "execute_result"
    }
   ],
   "source": [
    "cc"
   ]
  },
  {
   "cell_type": "code",
   "execution_count": 80,
   "id": "b34408af",
   "metadata": {},
   "outputs": [
    {
     "ename": "ValueError",
     "evalue": "operands could not be broadcast together with shapes (2,2) (2,3) ",
     "output_type": "error",
     "traceback": [
      "\u001b[1;31m---------------------------------------------------------------------------\u001b[0m",
      "\u001b[1;31mValueError\u001b[0m                                Traceback (most recent call last)",
      "Cell \u001b[1;32mIn[80], line 1\u001b[0m\n\u001b[1;32m----> 1\u001b[0m \u001b[43maa\u001b[49m\u001b[43m \u001b[49m\u001b[38;5;241;43m+\u001b[39;49m\u001b[43m \u001b[49m\u001b[43mcc\u001b[49m\n",
      "\u001b[1;31mValueError\u001b[0m: operands could not be broadcast together with shapes (2,2) (2,3) "
     ]
    }
   ],
   "source": [
    "aa + cc"
   ]
  },
  {
   "cell_type": "code",
   "execution_count": 81,
   "id": "1882cc70",
   "metadata": {},
   "outputs": [
    {
     "data": {
      "text/plain": [
       "array([[2, 3],\n",
       "       [4, 5]])"
      ]
     },
     "execution_count": 81,
     "metadata": {},
     "output_type": "execute_result"
    }
   ],
   "source": [
    "aa + 1"
   ]
  },
  {
   "cell_type": "code",
   "execution_count": 82,
   "id": "b14cda2a",
   "metadata": {},
   "outputs": [
    {
     "data": {
      "text/plain": [
       "array([[-1,  0,  1],\n",
       "       [ 2,  3,  4]])"
      ]
     },
     "execution_count": 82,
     "metadata": {},
     "output_type": "execute_result"
    }
   ],
   "source": [
    "cc - 2"
   ]
  },
  {
   "cell_type": "code",
   "execution_count": 84,
   "id": "21eb1a23",
   "metadata": {},
   "outputs": [
    {
     "data": {
      "text/plain": [
       "array([[1, 1, 1],\n",
       "       [1, 1, 1]])"
      ]
     },
     "execution_count": 84,
     "metadata": {},
     "output_type": "execute_result"
    }
   ],
   "source": [
    "np.ones_like(cc)"
   ]
  },
  {
   "cell_type": "code",
   "execution_count": 85,
   "id": "5d5172f3",
   "metadata": {},
   "outputs": [],
   "source": [
    "c = np.array([1,2,3])"
   ]
  },
  {
   "cell_type": "code",
   "execution_count": 86,
   "id": "b169b5ff",
   "metadata": {},
   "outputs": [
    {
     "data": {
      "text/plain": [
       "array([[2, 4, 6],\n",
       "       [5, 7, 9]])"
      ]
     },
     "execution_count": 86,
     "metadata": {},
     "output_type": "execute_result"
    }
   ],
   "source": [
    "cc + c"
   ]
  },
  {
   "cell_type": "code",
   "execution_count": null,
   "id": "eba0a6b0",
   "metadata": {},
   "outputs": [],
   "source": [
    "[[1,2,3]\n",
    " [1,2,3]]"
   ]
  },
  {
   "cell_type": "code",
   "execution_count": 89,
   "id": "099ba18a",
   "metadata": {},
   "outputs": [],
   "source": [
    "d = np.array([[1],[2]])"
   ]
  },
  {
   "cell_type": "code",
   "execution_count": 90,
   "id": "07e20af8",
   "metadata": {},
   "outputs": [
    {
     "data": {
      "text/plain": [
       "(2, 1)"
      ]
     },
     "execution_count": 90,
     "metadata": {},
     "output_type": "execute_result"
    }
   ],
   "source": [
    "d.shape"
   ]
  },
  {
   "cell_type": "code",
   "execution_count": null,
   "id": "17226b3b",
   "metadata": {},
   "outputs": [],
   "source": [
    "[1, 1, 1]\n",
    "[2, 2, 2]"
   ]
  },
  {
   "cell_type": "code",
   "execution_count": null,
   "id": "4502f75b",
   "metadata": {},
   "outputs": [],
   "source": []
  },
  {
   "cell_type": "code",
   "execution_count": 91,
   "id": "72212fa7",
   "metadata": {},
   "outputs": [
    {
     "data": {
      "text/plain": [
       "array([[2, 3, 4],\n",
       "       [6, 7, 8]])"
      ]
     },
     "execution_count": 91,
     "metadata": {},
     "output_type": "execute_result"
    }
   ],
   "source": [
    "cc + d"
   ]
  },
  {
   "cell_type": "code",
   "execution_count": 87,
   "id": "d5259a00",
   "metadata": {},
   "outputs": [
    {
     "data": {
      "text/plain": [
       "(2, 3)"
      ]
     },
     "execution_count": 87,
     "metadata": {},
     "output_type": "execute_result"
    }
   ],
   "source": [
    "cc.shape"
   ]
  },
  {
   "cell_type": "code",
   "execution_count": 88,
   "id": "1f17caa8",
   "metadata": {},
   "outputs": [
    {
     "data": {
      "text/plain": [
       "(3,)"
      ]
     },
     "execution_count": 88,
     "metadata": {},
     "output_type": "execute_result"
    }
   ],
   "source": [
    "c.shape"
   ]
  },
  {
   "cell_type": "code",
   "execution_count": 92,
   "id": "0956298d",
   "metadata": {},
   "outputs": [],
   "source": [
    "x = np.array([[1,2]])\n",
    "y = np.array([[1],[2]])"
   ]
  },
  {
   "cell_type": "code",
   "execution_count": 94,
   "id": "fc7a7e36",
   "metadata": {},
   "outputs": [
    {
     "data": {
      "text/plain": [
       "array([[1, 2]])"
      ]
     },
     "execution_count": 94,
     "metadata": {},
     "output_type": "execute_result"
    }
   ],
   "source": [
    "x"
   ]
  },
  {
   "cell_type": "code",
   "execution_count": 95,
   "id": "ab6affa5",
   "metadata": {},
   "outputs": [
    {
     "data": {
      "text/plain": [
       "array([[1],\n",
       "       [2]])"
      ]
     },
     "execution_count": 95,
     "metadata": {},
     "output_type": "execute_result"
    }
   ],
   "source": [
    "y"
   ]
  },
  {
   "cell_type": "code",
   "execution_count": 93,
   "id": "638f94a3",
   "metadata": {},
   "outputs": [
    {
     "data": {
      "text/plain": [
       "array([[2, 3],\n",
       "       [3, 4]])"
      ]
     },
     "execution_count": 93,
     "metadata": {},
     "output_type": "execute_result"
    }
   ],
   "source": [
    "x + y"
   ]
  },
  {
   "cell_type": "code",
   "execution_count": 96,
   "id": "0fcbd6f0",
   "metadata": {},
   "outputs": [],
   "source": [
    "import seaborn as sns"
   ]
  },
  {
   "cell_type": "code",
   "execution_count": 97,
   "id": "43575a93",
   "metadata": {},
   "outputs": [],
   "source": [
    "tips = sns.load_dataset('tips')"
   ]
  },
  {
   "cell_type": "code",
   "execution_count": 100,
   "id": "6b16e881",
   "metadata": {},
   "outputs": [
    {
     "data": {
      "text/html": [
       "<div>\n",
       "<style scoped>\n",
       "    .dataframe tbody tr th:only-of-type {\n",
       "        vertical-align: middle;\n",
       "    }\n",
       "\n",
       "    .dataframe tbody tr th {\n",
       "        vertical-align: top;\n",
       "    }\n",
       "\n",
       "    .dataframe thead th {\n",
       "        text-align: right;\n",
       "    }\n",
       "</style>\n",
       "<table border=\"1\" class=\"dataframe\">\n",
       "  <thead>\n",
       "    <tr style=\"text-align: right;\">\n",
       "      <th></th>\n",
       "      <th>total_bill</th>\n",
       "      <th>tip</th>\n",
       "      <th>sex</th>\n",
       "      <th>smoker</th>\n",
       "      <th>day</th>\n",
       "      <th>time</th>\n",
       "      <th>size</th>\n",
       "    </tr>\n",
       "  </thead>\n",
       "  <tbody>\n",
       "    <tr>\n",
       "      <th>0</th>\n",
       "      <td>16.99</td>\n",
       "      <td>1.01</td>\n",
       "      <td>Female</td>\n",
       "      <td>No</td>\n",
       "      <td>Sun</td>\n",
       "      <td>Dinner</td>\n",
       "      <td>2</td>\n",
       "    </tr>\n",
       "    <tr>\n",
       "      <th>1</th>\n",
       "      <td>10.34</td>\n",
       "      <td>1.66</td>\n",
       "      <td>Male</td>\n",
       "      <td>No</td>\n",
       "      <td>Sun</td>\n",
       "      <td>Dinner</td>\n",
       "      <td>3</td>\n",
       "    </tr>\n",
       "    <tr>\n",
       "      <th>2</th>\n",
       "      <td>21.01</td>\n",
       "      <td>3.50</td>\n",
       "      <td>Male</td>\n",
       "      <td>No</td>\n",
       "      <td>Sun</td>\n",
       "      <td>Dinner</td>\n",
       "      <td>3</td>\n",
       "    </tr>\n",
       "    <tr>\n",
       "      <th>3</th>\n",
       "      <td>23.68</td>\n",
       "      <td>3.31</td>\n",
       "      <td>Male</td>\n",
       "      <td>No</td>\n",
       "      <td>Sun</td>\n",
       "      <td>Dinner</td>\n",
       "      <td>2</td>\n",
       "    </tr>\n",
       "    <tr>\n",
       "      <th>4</th>\n",
       "      <td>24.59</td>\n",
       "      <td>3.61</td>\n",
       "      <td>Female</td>\n",
       "      <td>No</td>\n",
       "      <td>Sun</td>\n",
       "      <td>Dinner</td>\n",
       "      <td>4</td>\n",
       "    </tr>\n",
       "    <tr>\n",
       "      <th>...</th>\n",
       "      <td>...</td>\n",
       "      <td>...</td>\n",
       "      <td>...</td>\n",
       "      <td>...</td>\n",
       "      <td>...</td>\n",
       "      <td>...</td>\n",
       "      <td>...</td>\n",
       "    </tr>\n",
       "    <tr>\n",
       "      <th>239</th>\n",
       "      <td>29.03</td>\n",
       "      <td>5.92</td>\n",
       "      <td>Male</td>\n",
       "      <td>No</td>\n",
       "      <td>Sat</td>\n",
       "      <td>Dinner</td>\n",
       "      <td>3</td>\n",
       "    </tr>\n",
       "    <tr>\n",
       "      <th>240</th>\n",
       "      <td>27.18</td>\n",
       "      <td>2.00</td>\n",
       "      <td>Female</td>\n",
       "      <td>Yes</td>\n",
       "      <td>Sat</td>\n",
       "      <td>Dinner</td>\n",
       "      <td>2</td>\n",
       "    </tr>\n",
       "    <tr>\n",
       "      <th>241</th>\n",
       "      <td>22.67</td>\n",
       "      <td>2.00</td>\n",
       "      <td>Male</td>\n",
       "      <td>Yes</td>\n",
       "      <td>Sat</td>\n",
       "      <td>Dinner</td>\n",
       "      <td>2</td>\n",
       "    </tr>\n",
       "    <tr>\n",
       "      <th>242</th>\n",
       "      <td>17.82</td>\n",
       "      <td>1.75</td>\n",
       "      <td>Male</td>\n",
       "      <td>No</td>\n",
       "      <td>Sat</td>\n",
       "      <td>Dinner</td>\n",
       "      <td>2</td>\n",
       "    </tr>\n",
       "    <tr>\n",
       "      <th>243</th>\n",
       "      <td>18.78</td>\n",
       "      <td>3.00</td>\n",
       "      <td>Female</td>\n",
       "      <td>No</td>\n",
       "      <td>Thur</td>\n",
       "      <td>Dinner</td>\n",
       "      <td>2</td>\n",
       "    </tr>\n",
       "  </tbody>\n",
       "</table>\n",
       "<p>244 rows × 7 columns</p>\n",
       "</div>"
      ],
      "text/plain": [
       "     total_bill   tip     sex smoker   day    time  size\n",
       "0         16.99  1.01  Female     No   Sun  Dinner     2\n",
       "1         10.34  1.66    Male     No   Sun  Dinner     3\n",
       "2         21.01  3.50    Male     No   Sun  Dinner     3\n",
       "3         23.68  3.31    Male     No   Sun  Dinner     2\n",
       "4         24.59  3.61  Female     No   Sun  Dinner     4\n",
       "..          ...   ...     ...    ...   ...     ...   ...\n",
       "239       29.03  5.92    Male     No   Sat  Dinner     3\n",
       "240       27.18  2.00  Female    Yes   Sat  Dinner     2\n",
       "241       22.67  2.00    Male    Yes   Sat  Dinner     2\n",
       "242       17.82  1.75    Male     No   Sat  Dinner     2\n",
       "243       18.78  3.00  Female     No  Thur  Dinner     2\n",
       "\n",
       "[244 rows x 7 columns]"
      ]
     },
     "execution_count": 100,
     "metadata": {},
     "output_type": "execute_result"
    }
   ],
   "source": [
    "tips"
   ]
  },
  {
   "cell_type": "code",
   "execution_count": 102,
   "id": "6c589854",
   "metadata": {},
   "outputs": [
    {
     "data": {
      "text/html": [
       "<div>\n",
       "<style scoped>\n",
       "    .dataframe tbody tr th:only-of-type {\n",
       "        vertical-align: middle;\n",
       "    }\n",
       "\n",
       "    .dataframe tbody tr th {\n",
       "        vertical-align: top;\n",
       "    }\n",
       "\n",
       "    .dataframe thead th {\n",
       "        text-align: right;\n",
       "    }\n",
       "</style>\n",
       "<table border=\"1\" class=\"dataframe\">\n",
       "  <thead>\n",
       "    <tr style=\"text-align: right;\">\n",
       "      <th></th>\n",
       "      <th>total_bill</th>\n",
       "      <th>tip</th>\n",
       "      <th>sex</th>\n",
       "      <th>smoker</th>\n",
       "      <th>day</th>\n",
       "      <th>time</th>\n",
       "      <th>size</th>\n",
       "    </tr>\n",
       "  </thead>\n",
       "  <tbody>\n",
       "    <tr>\n",
       "      <th>1</th>\n",
       "      <td>10.34</td>\n",
       "      <td>1.66</td>\n",
       "      <td>Male</td>\n",
       "      <td>No</td>\n",
       "      <td>Sun</td>\n",
       "      <td>Dinner</td>\n",
       "      <td>3</td>\n",
       "    </tr>\n",
       "    <tr>\n",
       "      <th>2</th>\n",
       "      <td>21.01</td>\n",
       "      <td>3.50</td>\n",
       "      <td>Male</td>\n",
       "      <td>No</td>\n",
       "      <td>Sun</td>\n",
       "      <td>Dinner</td>\n",
       "      <td>3</td>\n",
       "    </tr>\n",
       "    <tr>\n",
       "      <th>3</th>\n",
       "      <td>23.68</td>\n",
       "      <td>3.31</td>\n",
       "      <td>Male</td>\n",
       "      <td>No</td>\n",
       "      <td>Sun</td>\n",
       "      <td>Dinner</td>\n",
       "      <td>2</td>\n",
       "    </tr>\n",
       "    <tr>\n",
       "      <th>5</th>\n",
       "      <td>25.29</td>\n",
       "      <td>4.71</td>\n",
       "      <td>Male</td>\n",
       "      <td>No</td>\n",
       "      <td>Sun</td>\n",
       "      <td>Dinner</td>\n",
       "      <td>4</td>\n",
       "    </tr>\n",
       "    <tr>\n",
       "      <th>6</th>\n",
       "      <td>8.77</td>\n",
       "      <td>2.00</td>\n",
       "      <td>Male</td>\n",
       "      <td>No</td>\n",
       "      <td>Sun</td>\n",
       "      <td>Dinner</td>\n",
       "      <td>2</td>\n",
       "    </tr>\n",
       "    <tr>\n",
       "      <th>...</th>\n",
       "      <td>...</td>\n",
       "      <td>...</td>\n",
       "      <td>...</td>\n",
       "      <td>...</td>\n",
       "      <td>...</td>\n",
       "      <td>...</td>\n",
       "      <td>...</td>\n",
       "    </tr>\n",
       "    <tr>\n",
       "      <th>236</th>\n",
       "      <td>12.60</td>\n",
       "      <td>1.00</td>\n",
       "      <td>Male</td>\n",
       "      <td>Yes</td>\n",
       "      <td>Sat</td>\n",
       "      <td>Dinner</td>\n",
       "      <td>2</td>\n",
       "    </tr>\n",
       "    <tr>\n",
       "      <th>237</th>\n",
       "      <td>32.83</td>\n",
       "      <td>1.17</td>\n",
       "      <td>Male</td>\n",
       "      <td>Yes</td>\n",
       "      <td>Sat</td>\n",
       "      <td>Dinner</td>\n",
       "      <td>2</td>\n",
       "    </tr>\n",
       "    <tr>\n",
       "      <th>239</th>\n",
       "      <td>29.03</td>\n",
       "      <td>5.92</td>\n",
       "      <td>Male</td>\n",
       "      <td>No</td>\n",
       "      <td>Sat</td>\n",
       "      <td>Dinner</td>\n",
       "      <td>3</td>\n",
       "    </tr>\n",
       "    <tr>\n",
       "      <th>241</th>\n",
       "      <td>22.67</td>\n",
       "      <td>2.00</td>\n",
       "      <td>Male</td>\n",
       "      <td>Yes</td>\n",
       "      <td>Sat</td>\n",
       "      <td>Dinner</td>\n",
       "      <td>2</td>\n",
       "    </tr>\n",
       "    <tr>\n",
       "      <th>242</th>\n",
       "      <td>17.82</td>\n",
       "      <td>1.75</td>\n",
       "      <td>Male</td>\n",
       "      <td>No</td>\n",
       "      <td>Sat</td>\n",
       "      <td>Dinner</td>\n",
       "      <td>2</td>\n",
       "    </tr>\n",
       "  </tbody>\n",
       "</table>\n",
       "<p>157 rows × 7 columns</p>\n",
       "</div>"
      ],
      "text/plain": [
       "     total_bill   tip   sex smoker  day    time  size\n",
       "1         10.34  1.66  Male     No  Sun  Dinner     3\n",
       "2         21.01  3.50  Male     No  Sun  Dinner     3\n",
       "3         23.68  3.31  Male     No  Sun  Dinner     2\n",
       "5         25.29  4.71  Male     No  Sun  Dinner     4\n",
       "6          8.77  2.00  Male     No  Sun  Dinner     2\n",
       "..          ...   ...   ...    ...  ...     ...   ...\n",
       "236       12.60  1.00  Male    Yes  Sat  Dinner     2\n",
       "237       32.83  1.17  Male    Yes  Sat  Dinner     2\n",
       "239       29.03  5.92  Male     No  Sat  Dinner     3\n",
       "241       22.67  2.00  Male    Yes  Sat  Dinner     2\n",
       "242       17.82  1.75  Male     No  Sat  Dinner     2\n",
       "\n",
       "[157 rows x 7 columns]"
      ]
     },
     "execution_count": 102,
     "metadata": {},
     "output_type": "execute_result"
    }
   ],
   "source": [
    "tips[tips.sex=='Male']"
   ]
  },
  {
   "cell_type": "code",
   "execution_count": 103,
   "id": "7336f3f4",
   "metadata": {},
   "outputs": [
    {
     "data": {
      "text/plain": [
       "7"
      ]
     },
     "execution_count": 103,
     "metadata": {},
     "output_type": "execute_result"
    }
   ],
   "source": [
    "np.add(3,4)"
   ]
  },
  {
   "cell_type": "code",
   "execution_count": 104,
   "id": "e62490ca",
   "metadata": {},
   "outputs": [
    {
     "data": {
      "text/plain": [
       "array([4, 6])"
      ]
     },
     "execution_count": 104,
     "metadata": {},
     "output_type": "execute_result"
    }
   ],
   "source": [
    "np.add([1,2],[3,4])"
   ]
  },
  {
   "cell_type": "code",
   "execution_count": 107,
   "id": "3da13a5c",
   "metadata": {},
   "outputs": [],
   "source": [
    "a = np.arange(24).reshape(4,6)"
   ]
  },
  {
   "cell_type": "code",
   "execution_count": 109,
   "id": "9b26d4d0",
   "metadata": {},
   "outputs": [
    {
     "data": {
      "text/plain": [
       "7"
      ]
     },
     "execution_count": 109,
     "metadata": {},
     "output_type": "execute_result"
    }
   ],
   "source": [
    "a[1][1]"
   ]
  },
  {
   "cell_type": "code",
   "execution_count": 110,
   "id": "ef38d4d0",
   "metadata": {},
   "outputs": [
    {
     "data": {
      "text/plain": [
       "array([[ 0,  1,  2,  3,  4,  5],\n",
       "       [ 6,  7,  8,  9, 10, 11],\n",
       "       [12, 13, 14, 15, 16, 17],\n",
       "       [18, 19, 20, 21, 22, 23]])"
      ]
     },
     "execution_count": 110,
     "metadata": {},
     "output_type": "execute_result"
    }
   ],
   "source": [
    "a"
   ]
  },
  {
   "cell_type": "code",
   "execution_count": 139,
   "id": "87824155",
   "metadata": {},
   "outputs": [
    {
     "data": {
      "text/plain": [
       "array([0, 1, 2, 3, 4, 5])"
      ]
     },
     "execution_count": 139,
     "metadata": {},
     "output_type": "execute_result"
    }
   ],
   "source": [
    "a[0]"
   ]
  },
  {
   "cell_type": "code",
   "execution_count": 141,
   "id": "7429426c",
   "metadata": {},
   "outputs": [
    {
     "data": {
      "text/plain": [
       "array([0, 1, 2, 3, 4, 5])"
      ]
     },
     "execution_count": 141,
     "metadata": {},
     "output_type": "execute_result"
    }
   ],
   "source": [
    "a[0,:]"
   ]
  },
  {
   "cell_type": "code",
   "execution_count": 142,
   "id": "3e4f9602",
   "metadata": {},
   "outputs": [
    {
     "data": {
      "text/plain": [
       "array([0, 1, 2, 3, 4, 5])"
      ]
     },
     "execution_count": 142,
     "metadata": {},
     "output_type": "execute_result"
    }
   ],
   "source": [
    "a[0][:]"
   ]
  },
  {
   "cell_type": "code",
   "execution_count": 143,
   "id": "eeb15663",
   "metadata": {},
   "outputs": [],
   "source": [
    "b = np.arange(24).reshape(2,3,4)"
   ]
  },
  {
   "cell_type": "code",
   "execution_count": 144,
   "id": "32a29c63",
   "metadata": {},
   "outputs": [
    {
     "data": {
      "text/plain": [
       "array([[[ 0,  1,  2,  3],\n",
       "        [ 4,  5,  6,  7],\n",
       "        [ 8,  9, 10, 11]],\n",
       "\n",
       "       [[12, 13, 14, 15],\n",
       "        [16, 17, 18, 19],\n",
       "        [20, 21, 22, 23]]])"
      ]
     },
     "execution_count": 144,
     "metadata": {},
     "output_type": "execute_result"
    }
   ],
   "source": [
    "b"
   ]
  },
  {
   "cell_type": "code",
   "execution_count": 147,
   "id": "89bebeb3",
   "metadata": {},
   "outputs": [
    {
     "data": {
      "text/plain": [
       "array([[ 0,  1,  2,  3],\n",
       "       [ 4,  5,  6,  7],\n",
       "       [ 8,  9, 10, 11]])"
      ]
     },
     "execution_count": 147,
     "metadata": {},
     "output_type": "execute_result"
    }
   ],
   "source": [
    "b[0]"
   ]
  },
  {
   "cell_type": "code",
   "execution_count": 148,
   "id": "2528ecd7",
   "metadata": {},
   "outputs": [
    {
     "data": {
      "text/plain": [
       "array([[ 0,  1,  2,  3],\n",
       "       [ 4,  5,  6,  7],\n",
       "       [ 8,  9, 10, 11]])"
      ]
     },
     "execution_count": 148,
     "metadata": {},
     "output_type": "execute_result"
    }
   ],
   "source": [
    "b[0][:][:]"
   ]
  },
  {
   "cell_type": "code",
   "execution_count": 149,
   "id": "6c585512",
   "metadata": {},
   "outputs": [
    {
     "data": {
      "text/plain": [
       "array([[ 0,  1,  2,  3],\n",
       "       [ 4,  5,  6,  7],\n",
       "       [ 8,  9, 10, 11]])"
      ]
     },
     "execution_count": 149,
     "metadata": {},
     "output_type": "execute_result"
    }
   ],
   "source": [
    "b[0,:,:]"
   ]
  },
  {
   "cell_type": "code",
   "execution_count": 150,
   "id": "24b6e6a1",
   "metadata": {},
   "outputs": [
    {
     "data": {
      "text/plain": [
       "array([[ 0,  1,  2,  3],\n",
       "       [ 4,  5,  6,  7],\n",
       "       [ 8,  9, 10, 11]])"
      ]
     },
     "execution_count": 150,
     "metadata": {},
     "output_type": "execute_result"
    }
   ],
   "source": [
    "b[0,...]"
   ]
  },
  {
   "cell_type": "code",
   "execution_count": 152,
   "id": "6cf50075",
   "metadata": {},
   "outputs": [
    {
     "data": {
      "text/plain": [
       "array([[[ 0,  1,  2,  3],\n",
       "        [ 4,  5,  6,  7],\n",
       "        [ 8,  9, 10, 11]],\n",
       "\n",
       "       [[12, 13, 14, 15],\n",
       "        [16, 17, 18, 19],\n",
       "        [20, 21, 22, 23]]])"
      ]
     },
     "execution_count": 152,
     "metadata": {},
     "output_type": "execute_result"
    }
   ],
   "source": [
    "b"
   ]
  },
  {
   "cell_type": "code",
   "execution_count": 153,
   "id": "1c55190f",
   "metadata": {},
   "outputs": [
    {
     "data": {
      "text/plain": [
       "6"
      ]
     },
     "execution_count": 153,
     "metadata": {},
     "output_type": "execute_result"
    }
   ],
   "source": [
    "b[0,1,2]"
   ]
  },
  {
   "cell_type": "code",
   "execution_count": 151,
   "id": "9ee4898d",
   "metadata": {},
   "outputs": [
    {
     "data": {
      "text/plain": [
       "array([[ 0,  4,  8],\n",
       "       [12, 16, 20]])"
      ]
     },
     "execution_count": 151,
     "metadata": {},
     "output_type": "execute_result"
    }
   ],
   "source": [
    "b[...,0]"
   ]
  },
  {
   "cell_type": "code",
   "execution_count": 154,
   "id": "5d50b525",
   "metadata": {},
   "outputs": [
    {
     "data": {
      "text/plain": [
       "array([[[ 0,  1,  2,  3],\n",
       "        [ 4,  5,  6,  7],\n",
       "        [ 8,  9, 10, 11]],\n",
       "\n",
       "       [[12, 13, 14, 15],\n",
       "        [16, 17, 18, 19],\n",
       "        [20, 21, 22, 23]]])"
      ]
     },
     "execution_count": 154,
     "metadata": {},
     "output_type": "execute_result"
    }
   ],
   "source": [
    "b[...]"
   ]
  },
  {
   "cell_type": "code",
   "execution_count": null,
   "id": "be4dfaad",
   "metadata": {},
   "outputs": [],
   "source": []
  },
  {
   "cell_type": "code",
   "execution_count": null,
   "id": "dfdd44d1",
   "metadata": {},
   "outputs": [],
   "source": []
  },
  {
   "cell_type": "code",
   "execution_count": 130,
   "id": "94030304",
   "metadata": {},
   "outputs": [
    {
     "data": {
      "text/plain": [
       "array([ 6,  7,  8,  9, 10, 11, 12, 13, 14, 15, 16, 17, 18, 19, 20, 21, 22,\n",
       "       23])"
      ]
     },
     "execution_count": 130,
     "metadata": {},
     "output_type": "execute_result"
    }
   ],
   "source": [
    "a[a > 5]"
   ]
  },
  {
   "cell_type": "code",
   "execution_count": 111,
   "id": "9b7ee530",
   "metadata": {},
   "outputs": [
    {
     "data": {
      "text/plain": [
       "7"
      ]
     },
     "execution_count": 111,
     "metadata": {},
     "output_type": "execute_result"
    }
   ],
   "source": [
    "a[1,1]"
   ]
  },
  {
   "cell_type": "code",
   "execution_count": 112,
   "id": "650e19e1",
   "metadata": {},
   "outputs": [
    {
     "data": {
      "text/plain": [
       "array([1, 7])"
      ]
     },
     "execution_count": 112,
     "metadata": {},
     "output_type": "execute_result"
    }
   ],
   "source": [
    "a[(0,1),(1,1)]"
   ]
  },
  {
   "cell_type": "code",
   "execution_count": 113,
   "id": "e804f8db",
   "metadata": {},
   "outputs": [
    {
     "data": {
      "text/plain": [
       "array([14, 16])"
      ]
     },
     "execution_count": 113,
     "metadata": {},
     "output_type": "execute_result"
    }
   ],
   "source": [
    "a[(2,2),(2,4)]"
   ]
  },
  {
   "cell_type": "code",
   "execution_count": 115,
   "id": "8881300d",
   "metadata": {},
   "outputs": [
    {
     "data": {
      "text/plain": [
       "array([14, 16])"
      ]
     },
     "execution_count": 115,
     "metadata": {},
     "output_type": "execute_result"
    }
   ],
   "source": [
    "a[[2,2],[2,4]]"
   ]
  },
  {
   "attachments": {},
   "cell_type": "markdown",
   "id": "01662e59",
   "metadata": {},
   "source": [
    "# "
   ]
  },
  {
   "cell_type": "code",
   "execution_count": 116,
   "id": "e39ead63",
   "metadata": {},
   "outputs": [
    {
     "data": {
      "text/plain": [
       "array([[ 6,  7,  8,  9, 10, 11],\n",
       "       [12, 13, 14, 15, 16, 17]])"
      ]
     },
     "execution_count": 116,
     "metadata": {},
     "output_type": "execute_result"
    }
   ],
   "source": [
    "a[[1,2]]"
   ]
  },
  {
   "cell_type": "code",
   "execution_count": 117,
   "id": "6c7c77a6",
   "metadata": {},
   "outputs": [
    {
     "data": {
      "text/plain": [
       "array([[12, 13, 14, 15, 16, 17],\n",
       "       [ 6,  7,  8,  9, 10, 11]])"
      ]
     },
     "execution_count": 117,
     "metadata": {},
     "output_type": "execute_result"
    }
   ],
   "source": [
    "a[[2,1]]"
   ]
  },
  {
   "cell_type": "code",
   "execution_count": 119,
   "id": "82a4556a",
   "metadata": {},
   "outputs": [
    {
     "data": {
      "text/html": [
       "<div>\n",
       "<style scoped>\n",
       "    .dataframe tbody tr th:only-of-type {\n",
       "        vertical-align: middle;\n",
       "    }\n",
       "\n",
       "    .dataframe tbody tr th {\n",
       "        vertical-align: top;\n",
       "    }\n",
       "\n",
       "    .dataframe thead th {\n",
       "        text-align: right;\n",
       "    }\n",
       "</style>\n",
       "<table border=\"1\" class=\"dataframe\">\n",
       "  <thead>\n",
       "    <tr style=\"text-align: right;\">\n",
       "      <th></th>\n",
       "      <th>day</th>\n",
       "      <th>smoker</th>\n",
       "    </tr>\n",
       "  </thead>\n",
       "  <tbody>\n",
       "    <tr>\n",
       "      <th>0</th>\n",
       "      <td>Sun</td>\n",
       "      <td>No</td>\n",
       "    </tr>\n",
       "    <tr>\n",
       "      <th>1</th>\n",
       "      <td>Sun</td>\n",
       "      <td>No</td>\n",
       "    </tr>\n",
       "    <tr>\n",
       "      <th>2</th>\n",
       "      <td>Sun</td>\n",
       "      <td>No</td>\n",
       "    </tr>\n",
       "    <tr>\n",
       "      <th>3</th>\n",
       "      <td>Sun</td>\n",
       "      <td>No</td>\n",
       "    </tr>\n",
       "    <tr>\n",
       "      <th>4</th>\n",
       "      <td>Sun</td>\n",
       "      <td>No</td>\n",
       "    </tr>\n",
       "    <tr>\n",
       "      <th>...</th>\n",
       "      <td>...</td>\n",
       "      <td>...</td>\n",
       "    </tr>\n",
       "    <tr>\n",
       "      <th>239</th>\n",
       "      <td>Sat</td>\n",
       "      <td>No</td>\n",
       "    </tr>\n",
       "    <tr>\n",
       "      <th>240</th>\n",
       "      <td>Sat</td>\n",
       "      <td>Yes</td>\n",
       "    </tr>\n",
       "    <tr>\n",
       "      <th>241</th>\n",
       "      <td>Sat</td>\n",
       "      <td>Yes</td>\n",
       "    </tr>\n",
       "    <tr>\n",
       "      <th>242</th>\n",
       "      <td>Sat</td>\n",
       "      <td>No</td>\n",
       "    </tr>\n",
       "    <tr>\n",
       "      <th>243</th>\n",
       "      <td>Thur</td>\n",
       "      <td>No</td>\n",
       "    </tr>\n",
       "  </tbody>\n",
       "</table>\n",
       "<p>244 rows × 2 columns</p>\n",
       "</div>"
      ],
      "text/plain": [
       "      day smoker\n",
       "0     Sun     No\n",
       "1     Sun     No\n",
       "2     Sun     No\n",
       "3     Sun     No\n",
       "4     Sun     No\n",
       "..    ...    ...\n",
       "239   Sat     No\n",
       "240   Sat    Yes\n",
       "241   Sat    Yes\n",
       "242   Sat     No\n",
       "243  Thur     No\n",
       "\n",
       "[244 rows x 2 columns]"
      ]
     },
     "execution_count": 119,
     "metadata": {},
     "output_type": "execute_result"
    }
   ],
   "source": [
    "tips[['day','smoker']]"
   ]
  },
  {
   "cell_type": "code",
   "execution_count": 121,
   "id": "2f4fb932",
   "metadata": {
    "collapsed": true
   },
   "outputs": [
    {
     "data": {
      "text/plain": [
       "0       Sun\n",
       "1       Sun\n",
       "2       Sun\n",
       "3       Sun\n",
       "4       Sun\n",
       "       ... \n",
       "239     Sat\n",
       "240     Sat\n",
       "241     Sat\n",
       "242     Sat\n",
       "243    Thur\n",
       "Name: day, Length: 244, dtype: category\n",
       "Categories (4, object): ['Thur', 'Fri', 'Sat', 'Sun']"
      ]
     },
     "execution_count": 121,
     "metadata": {},
     "output_type": "execute_result"
    }
   ],
   "source": [
    "tips['day']"
   ]
  },
  {
   "cell_type": "code",
   "execution_count": 123,
   "id": "129bbdda",
   "metadata": {},
   "outputs": [],
   "source": [
    "from sklearn.preprocessing import LabelEncoder, OrdinalEncoder"
   ]
  },
  {
   "cell_type": "code",
   "execution_count": 126,
   "id": "78d81c4b",
   "metadata": {
    "collapsed": true
   },
   "outputs": [
    {
     "data": {
      "text/plain": [
       "array([2, 2, 2, 2, 2, 2, 2, 2, 2, 2, 2, 2, 2, 2, 2, 2, 2, 2, 2, 1, 1, 1,\n",
       "       1, 1, 1, 1, 1, 1, 1, 1, 1, 1, 1, 1, 1, 1, 1, 1, 1, 1, 1, 2, 2, 2,\n",
       "       2, 2, 2, 2, 2, 2, 2, 2, 2, 2, 2, 2, 1, 1, 1, 1, 1, 1, 1, 1, 1, 1,\n",
       "       1, 1, 1, 1, 1, 1, 1, 1, 1, 1, 1, 3, 3, 3, 3, 3, 3, 3, 3, 3, 3, 3,\n",
       "       3, 3, 0, 0, 0, 0, 0, 0, 0, 0, 0, 0, 0, 0, 1, 1, 1, 1, 1, 1, 1, 1,\n",
       "       1, 1, 2, 2, 2, 2, 2, 3, 3, 3, 3, 3, 3, 3, 3, 3, 3, 3, 3, 3, 3, 3,\n",
       "       3, 3, 3, 3, 3, 3, 3, 3, 3, 3, 3, 3, 3, 3, 3, 3, 3, 3, 2, 2, 2, 2,\n",
       "       2, 2, 2, 2, 2, 2, 2, 2, 2, 2, 2, 2, 2, 2, 1, 1, 1, 1, 2, 2, 2, 2,\n",
       "       2, 2, 2, 2, 2, 2, 2, 2, 2, 2, 2, 2, 2, 2, 2, 3, 3, 3, 3, 3, 3, 3,\n",
       "       3, 3, 3, 3, 3, 3, 3, 3, 1, 1, 1, 1, 1, 1, 1, 1, 1, 1, 1, 1, 1, 1,\n",
       "       0, 0, 0, 0, 0, 0, 0, 1, 1, 1, 1, 1, 1, 1, 1, 1, 1, 1, 1, 1, 1, 1,\n",
       "       1, 3])"
      ]
     },
     "execution_count": 126,
     "metadata": {},
     "output_type": "execute_result"
    }
   ],
   "source": [
    "le = LabelEncoder()\n",
    "le.fit_transform(tips['day'])"
   ]
  },
  {
   "cell_type": "code",
   "execution_count": 128,
   "id": "6a9f7a3a",
   "metadata": {
    "collapsed": true
   },
   "outputs": [
    {
     "data": {
      "text/plain": [
       "array([[2.],\n",
       "       [2.],\n",
       "       [2.],\n",
       "       [2.],\n",
       "       [2.],\n",
       "       [2.],\n",
       "       [2.],\n",
       "       [2.],\n",
       "       [2.],\n",
       "       [2.],\n",
       "       [2.],\n",
       "       [2.],\n",
       "       [2.],\n",
       "       [2.],\n",
       "       [2.],\n",
       "       [2.],\n",
       "       [2.],\n",
       "       [2.],\n",
       "       [2.],\n",
       "       [1.],\n",
       "       [1.],\n",
       "       [1.],\n",
       "       [1.],\n",
       "       [1.],\n",
       "       [1.],\n",
       "       [1.],\n",
       "       [1.],\n",
       "       [1.],\n",
       "       [1.],\n",
       "       [1.],\n",
       "       [1.],\n",
       "       [1.],\n",
       "       [1.],\n",
       "       [1.],\n",
       "       [1.],\n",
       "       [1.],\n",
       "       [1.],\n",
       "       [1.],\n",
       "       [1.],\n",
       "       [1.],\n",
       "       [1.],\n",
       "       [2.],\n",
       "       [2.],\n",
       "       [2.],\n",
       "       [2.],\n",
       "       [2.],\n",
       "       [2.],\n",
       "       [2.],\n",
       "       [2.],\n",
       "       [2.],\n",
       "       [2.],\n",
       "       [2.],\n",
       "       [2.],\n",
       "       [2.],\n",
       "       [2.],\n",
       "       [2.],\n",
       "       [1.],\n",
       "       [1.],\n",
       "       [1.],\n",
       "       [1.],\n",
       "       [1.],\n",
       "       [1.],\n",
       "       [1.],\n",
       "       [1.],\n",
       "       [1.],\n",
       "       [1.],\n",
       "       [1.],\n",
       "       [1.],\n",
       "       [1.],\n",
       "       [1.],\n",
       "       [1.],\n",
       "       [1.],\n",
       "       [1.],\n",
       "       [1.],\n",
       "       [1.],\n",
       "       [1.],\n",
       "       [1.],\n",
       "       [3.],\n",
       "       [3.],\n",
       "       [3.],\n",
       "       [3.],\n",
       "       [3.],\n",
       "       [3.],\n",
       "       [3.],\n",
       "       [3.],\n",
       "       [3.],\n",
       "       [3.],\n",
       "       [3.],\n",
       "       [3.],\n",
       "       [3.],\n",
       "       [0.],\n",
       "       [0.],\n",
       "       [0.],\n",
       "       [0.],\n",
       "       [0.],\n",
       "       [0.],\n",
       "       [0.],\n",
       "       [0.],\n",
       "       [0.],\n",
       "       [0.],\n",
       "       [0.],\n",
       "       [0.],\n",
       "       [1.],\n",
       "       [1.],\n",
       "       [1.],\n",
       "       [1.],\n",
       "       [1.],\n",
       "       [1.],\n",
       "       [1.],\n",
       "       [1.],\n",
       "       [1.],\n",
       "       [1.],\n",
       "       [2.],\n",
       "       [2.],\n",
       "       [2.],\n",
       "       [2.],\n",
       "       [2.],\n",
       "       [3.],\n",
       "       [3.],\n",
       "       [3.],\n",
       "       [3.],\n",
       "       [3.],\n",
       "       [3.],\n",
       "       [3.],\n",
       "       [3.],\n",
       "       [3.],\n",
       "       [3.],\n",
       "       [3.],\n",
       "       [3.],\n",
       "       [3.],\n",
       "       [3.],\n",
       "       [3.],\n",
       "       [3.],\n",
       "       [3.],\n",
       "       [3.],\n",
       "       [3.],\n",
       "       [3.],\n",
       "       [3.],\n",
       "       [3.],\n",
       "       [3.],\n",
       "       [3.],\n",
       "       [3.],\n",
       "       [3.],\n",
       "       [3.],\n",
       "       [3.],\n",
       "       [3.],\n",
       "       [3.],\n",
       "       [3.],\n",
       "       [3.],\n",
       "       [3.],\n",
       "       [2.],\n",
       "       [2.],\n",
       "       [2.],\n",
       "       [2.],\n",
       "       [2.],\n",
       "       [2.],\n",
       "       [2.],\n",
       "       [2.],\n",
       "       [2.],\n",
       "       [2.],\n",
       "       [2.],\n",
       "       [2.],\n",
       "       [2.],\n",
       "       [2.],\n",
       "       [2.],\n",
       "       [2.],\n",
       "       [2.],\n",
       "       [2.],\n",
       "       [1.],\n",
       "       [1.],\n",
       "       [1.],\n",
       "       [1.],\n",
       "       [2.],\n",
       "       [2.],\n",
       "       [2.],\n",
       "       [2.],\n",
       "       [2.],\n",
       "       [2.],\n",
       "       [2.],\n",
       "       [2.],\n",
       "       [2.],\n",
       "       [2.],\n",
       "       [2.],\n",
       "       [2.],\n",
       "       [2.],\n",
       "       [2.],\n",
       "       [2.],\n",
       "       [2.],\n",
       "       [2.],\n",
       "       [2.],\n",
       "       [2.],\n",
       "       [3.],\n",
       "       [3.],\n",
       "       [3.],\n",
       "       [3.],\n",
       "       [3.],\n",
       "       [3.],\n",
       "       [3.],\n",
       "       [3.],\n",
       "       [3.],\n",
       "       [3.],\n",
       "       [3.],\n",
       "       [3.],\n",
       "       [3.],\n",
       "       [3.],\n",
       "       [3.],\n",
       "       [1.],\n",
       "       [1.],\n",
       "       [1.],\n",
       "       [1.],\n",
       "       [1.],\n",
       "       [1.],\n",
       "       [1.],\n",
       "       [1.],\n",
       "       [1.],\n",
       "       [1.],\n",
       "       [1.],\n",
       "       [1.],\n",
       "       [1.],\n",
       "       [1.],\n",
       "       [0.],\n",
       "       [0.],\n",
       "       [0.],\n",
       "       [0.],\n",
       "       [0.],\n",
       "       [0.],\n",
       "       [0.],\n",
       "       [1.],\n",
       "       [1.],\n",
       "       [1.],\n",
       "       [1.],\n",
       "       [1.],\n",
       "       [1.],\n",
       "       [1.],\n",
       "       [1.],\n",
       "       [1.],\n",
       "       [1.],\n",
       "       [1.],\n",
       "       [1.],\n",
       "       [1.],\n",
       "       [1.],\n",
       "       [1.],\n",
       "       [1.],\n",
       "       [3.]])"
      ]
     },
     "execution_count": 128,
     "metadata": {},
     "output_type": "execute_result"
    }
   ],
   "source": [
    "oh = OrdinalEncoder()\n",
    "oh.fit_transform(tips[['day']])"
   ]
  },
  {
   "cell_type": "code",
   "execution_count": 132,
   "id": "244c76b7",
   "metadata": {},
   "outputs": [],
   "source": [
    "tips.smoker = 'No'"
   ]
  },
  {
   "cell_type": "code",
   "execution_count": 135,
   "id": "72d16b6c",
   "metadata": {},
   "outputs": [
    {
     "data": {
      "text/html": [
       "<div>\n",
       "<style scoped>\n",
       "    .dataframe tbody tr th:only-of-type {\n",
       "        vertical-align: middle;\n",
       "    }\n",
       "\n",
       "    .dataframe tbody tr th {\n",
       "        vertical-align: top;\n",
       "    }\n",
       "\n",
       "    .dataframe thead th {\n",
       "        text-align: right;\n",
       "    }\n",
       "</style>\n",
       "<table border=\"1\" class=\"dataframe\">\n",
       "  <thead>\n",
       "    <tr style=\"text-align: right;\">\n",
       "      <th></th>\n",
       "      <th>total_bill</th>\n",
       "      <th>tip</th>\n",
       "      <th>sex</th>\n",
       "      <th>smoker</th>\n",
       "      <th>day</th>\n",
       "      <th>time</th>\n",
       "      <th>size</th>\n",
       "    </tr>\n",
       "  </thead>\n",
       "  <tbody>\n",
       "    <tr>\n",
       "      <th>0</th>\n",
       "      <td>16.99</td>\n",
       "      <td>1.01</td>\n",
       "      <td>Female</td>\n",
       "      <td>No</td>\n",
       "      <td>Sun</td>\n",
       "      <td>Dinner</td>\n",
       "      <td>2</td>\n",
       "    </tr>\n",
       "    <tr>\n",
       "      <th>1</th>\n",
       "      <td>10.34</td>\n",
       "      <td>1.66</td>\n",
       "      <td>Male</td>\n",
       "      <td>No</td>\n",
       "      <td>Sun</td>\n",
       "      <td>Dinner</td>\n",
       "      <td>3</td>\n",
       "    </tr>\n",
       "    <tr>\n",
       "      <th>2</th>\n",
       "      <td>21.01</td>\n",
       "      <td>3.50</td>\n",
       "      <td>Male</td>\n",
       "      <td>No</td>\n",
       "      <td>Sun</td>\n",
       "      <td>Dinner</td>\n",
       "      <td>3</td>\n",
       "    </tr>\n",
       "    <tr>\n",
       "      <th>3</th>\n",
       "      <td>23.68</td>\n",
       "      <td>3.31</td>\n",
       "      <td>Male</td>\n",
       "      <td>No</td>\n",
       "      <td>Sun</td>\n",
       "      <td>Dinner</td>\n",
       "      <td>2</td>\n",
       "    </tr>\n",
       "    <tr>\n",
       "      <th>4</th>\n",
       "      <td>24.59</td>\n",
       "      <td>3.61</td>\n",
       "      <td>Female</td>\n",
       "      <td>No</td>\n",
       "      <td>Sun</td>\n",
       "      <td>Dinner</td>\n",
       "      <td>4</td>\n",
       "    </tr>\n",
       "    <tr>\n",
       "      <th>...</th>\n",
       "      <td>...</td>\n",
       "      <td>...</td>\n",
       "      <td>...</td>\n",
       "      <td>...</td>\n",
       "      <td>...</td>\n",
       "      <td>...</td>\n",
       "      <td>...</td>\n",
       "    </tr>\n",
       "    <tr>\n",
       "      <th>186</th>\n",
       "      <td>20.90</td>\n",
       "      <td>3.50</td>\n",
       "      <td>Female</td>\n",
       "      <td>No</td>\n",
       "      <td>Sun</td>\n",
       "      <td>Dinner</td>\n",
       "      <td>3</td>\n",
       "    </tr>\n",
       "    <tr>\n",
       "      <th>187</th>\n",
       "      <td>30.46</td>\n",
       "      <td>2.00</td>\n",
       "      <td>Male</td>\n",
       "      <td>No</td>\n",
       "      <td>Sun</td>\n",
       "      <td>Dinner</td>\n",
       "      <td>5</td>\n",
       "    </tr>\n",
       "    <tr>\n",
       "      <th>188</th>\n",
       "      <td>18.15</td>\n",
       "      <td>3.50</td>\n",
       "      <td>Female</td>\n",
       "      <td>No</td>\n",
       "      <td>Sun</td>\n",
       "      <td>Dinner</td>\n",
       "      <td>3</td>\n",
       "    </tr>\n",
       "    <tr>\n",
       "      <th>189</th>\n",
       "      <td>23.10</td>\n",
       "      <td>4.00</td>\n",
       "      <td>Male</td>\n",
       "      <td>No</td>\n",
       "      <td>Sun</td>\n",
       "      <td>Dinner</td>\n",
       "      <td>3</td>\n",
       "    </tr>\n",
       "    <tr>\n",
       "      <th>190</th>\n",
       "      <td>15.69</td>\n",
       "      <td>1.50</td>\n",
       "      <td>Male</td>\n",
       "      <td>No</td>\n",
       "      <td>Sun</td>\n",
       "      <td>Dinner</td>\n",
       "      <td>2</td>\n",
       "    </tr>\n",
       "  </tbody>\n",
       "</table>\n",
       "<p>76 rows × 7 columns</p>\n",
       "</div>"
      ],
      "text/plain": [
       "     total_bill   tip     sex smoker  day    time  size\n",
       "0         16.99  1.01  Female     No  Sun  Dinner     2\n",
       "1         10.34  1.66    Male     No  Sun  Dinner     3\n",
       "2         21.01  3.50    Male     No  Sun  Dinner     3\n",
       "3         23.68  3.31    Male     No  Sun  Dinner     2\n",
       "4         24.59  3.61  Female     No  Sun  Dinner     4\n",
       "..          ...   ...     ...    ...  ...     ...   ...\n",
       "186       20.90  3.50  Female     No  Sun  Dinner     3\n",
       "187       30.46  2.00    Male     No  Sun  Dinner     5\n",
       "188       18.15  3.50  Female     No  Sun  Dinner     3\n",
       "189       23.10  4.00    Male     No  Sun  Dinner     3\n",
       "190       15.69  1.50    Male     No  Sun  Dinner     2\n",
       "\n",
       "[76 rows x 7 columns]"
      ]
     },
     "execution_count": 135,
     "metadata": {},
     "output_type": "execute_result"
    }
   ],
   "source": [
    "tips[tips.day == 'Sun']"
   ]
  },
  {
   "cell_type": "code",
   "execution_count": null,
   "id": "d3cf5a87",
   "metadata": {},
   "outputs": [],
   "source": [
    "# 23.07.06"
   ]
  },
  {
   "cell_type": "code",
   "execution_count": null,
   "id": "72b3f62c",
   "metadata": {},
   "outputs": [
    {
     "ename": "",
     "evalue": "",
     "output_type": "error",
     "traceback": [
      "\u001b[1;31m'c:\\msys64\\mingw64\\bin\\python.exe'(으)로 셀을 실행하려면 ipykernel 패키지가 필요합니다.\n",
      "\u001b[1;31mRun the following command to install 'ipykernel' into the Python environment. \n",
      "\u001b[1;31mCommand: 'c:/msys64/mingw64/bin/python.exe -m pip install ipykernel -U --user --force-reinstall'"
     ]
    }
   ],
   "source": [
    "[1, 2, 3] < [1, 2, 4]\n",
    "# False set은 sequence타입이 아니므로 대소비교불가\n",
    "# [1, 2, 3] == [1, 2, 3] 의 같은지 비교는 가능"
   ]
  },
  {
   "cell_type": "code",
   "execution_count": null,
   "id": "abd0d923",
   "metadata": {},
   "outputs": [
    {
     "ename": "",
     "evalue": "",
     "output_type": "error",
     "traceback": [
      "\u001b[1;31m'c:\\msys64\\mingw64\\bin\\python.exe'(으)로 셀을 실행하려면 ipykernel 패키지가 필요합니다.\n",
      "\u001b[1;31mRun the following command to install 'ipykernel' into the Python environment. \n",
      "\u001b[1;31mCommand: 'c:/msys64/mingw64/bin/python.exe -m pip install ipykernel -U --user --force-reinstall'"
     ]
    }
   ],
   "source": [
    "np.newaxis == None\t# 커널트리를 제외하고 머신러닝에서 차원을 증가시킬일이없다. -> 차원의저주 -> overfitting"
   ]
  },
  {
   "cell_type": "code",
   "execution_count": null,
   "id": "402f0244",
   "metadata": {},
   "outputs": [],
   "source": [
    "a[:.:.None]"
   ]
  },
  {
   "cell_type": "code",
   "execution_count": null,
   "id": "9a303d08",
   "metadata": {},
   "outputs": [],
   "source": [
    "a[np.newaxis.:.:]"
   ]
  },
  {
   "cell_type": "code",
   "execution_count": null,
   "id": "ad1f58b7",
   "metadata": {},
   "outputs": [],
   "source": [
    "a[None].shape"
   ]
  },
  {
   "cell_type": "code",
   "execution_count": null,
   "id": "f340f64d",
   "metadata": {},
   "outputs": [],
   "source": [
    "a[:.None]"
   ]
  },
  {
   "cell_type": "code",
   "execution_count": null,
   "id": "664973e8",
   "metadata": {},
   "outputs": [],
   "source": [
    "a[:.None].shape"
   ]
  },
  {
   "cell_type": "code",
   "execution_count": null,
   "id": "faa9688c",
   "metadata": {},
   "outputs": [],
   "source": [
    "a[0] = 100"
   ]
  },
  {
   "cell_type": "code",
   "execution_count": null,
   "id": "fd622a9f",
   "metadata": {},
   "outputs": [],
   "source": [
    "b"
   ]
  },
  {
   "cell_type": "code",
   "execution_count": null,
   "id": "e1504af3",
   "metadata": {},
   "outputs": [
    {
     "ename": "",
     "evalue": "",
     "output_type": "error",
     "traceback": [
      "\u001b[1;31m'c:\\msys64\\mingw64\\bin\\python.exe'(으)로 셀을 실행하려면 ipykernel 패키지가 필요합니다.\n",
      "\u001b[1;31mRun the following command to install 'ipykernel' into the Python environment. \n",
      "\u001b[1;31mCommand: 'c:/msys64/mingw64/bin/python.exe -m pip install ipykernel -U --user --force-reinstall'"
     ]
    }
   ],
   "source": [
    "a = [1, 2, 3, ]\n",
    "c = a[:]\n",
    "c[0] = 100\n",
    "# a = [1, 2, 3] c = [100, 2, 3] -> a[:] a의 값을 복사"
   ]
  },
  {
   "cell_type": "code",
   "execution_count": null,
   "id": "b6baa554",
   "metadata": {},
   "outputs": [],
   "source": [
    "# 얕은 복사 va 깊은 복사\n",
    "aa = [[1, 2], [3, 4]]\n",
    "bb = aa[:]\n",
    "bb[0][0] = 100\n",
    "aa\t\t\t\t\t\t# [[100, 2], [3, 4]\n"
   ]
  },
  {
   "cell_type": "code",
   "execution_count": null,
   "id": "7053a6b0",
   "metadata": {},
   "outputs": [
    {
     "ename": "",
     "evalue": "",
     "output_type": "error",
     "traceback": [
      "\u001b[1;31m'c:\\msys64\\mingw64\\bin\\python.exe'(으)로 셀을 실행하려면 ipykernel 패키지가 필요합니다.\n",
      "\u001b[1;31mRun the following command to install 'ipykernel' into the Python environment. \n",
      "\u001b[1;31mCommand: 'c:/msys64/mingw64/bin/python.exe -m pip install ipykernel -U --user --force-reinstall'"
     ]
    }
   ],
   "source": [
    "a = np.arange(24)"
   ]
  },
  {
   "cell_type": "code",
   "execution_count": null,
   "id": "418b151c",
   "metadata": {},
   "outputs": [],
   "source": [
    "a.reshape(3, 6)\n",
    "# a.reshape(-5, 6) -> 4 * 6 = 24개"
   ]
  },
  {
   "cell_type": "code",
   "execution_count": null,
   "id": "b1e8b8a2",
   "metadata": {},
   "outputs": [
    {
     "ename": "",
     "evalue": "",
     "output_type": "error",
     "traceback": [
      "\u001b[1;31m'c:\\msys64\\mingw64\\bin\\python.exe'(으)로 셀을 실행하려면 ipykernel 패키지가 필요합니다.\n",
      "\u001b[1;31mRun the following command to install 'ipykernel' into the Python environment. \n",
      "\u001b[1;31mCommand: 'c:/msys64/mingw64/bin/python.exe -m pip install ipykernel -U --user --force-reinstall'"
     ]
    }
   ],
   "source": [
    "x = np.arange(24).reshape(2, 3, 4)"
   ]
  },
  {
   "cell_type": "code",
   "execution_count": null,
   "id": "ff37ec7a",
   "metadata": {},
   "outputs": [],
   "source": [
    "# axis = 0 은 행마다 axis = 1은 열마다 axis = 2 는 \n",
    "# https://jessicastringham.net/2017/12/31/stride-tricks/\n",
    "# RGB컬러 이미지의 경우 axis = 0 -> x axis = 1 -> y axis = 2 -> z 로 압축하면 흑백이미지로 표현됨\n",
    "x.sum(axis = 2)\n",
    "x.max(axis = 2)"
   ]
  },
  {
   "cell_type": "code",
   "execution_count": null,
   "id": "f6c1178c",
   "metadata": {},
   "outputs": [],
   "source": [
    "# colum 끼리만 homo로 data type을 일치하면(colum끼리 homo genious) dataframe "
   ]
  },
  {
   "cell_type": "code",
   "execution_count": null,
   "id": "6a316329",
   "metadata": {},
   "outputs": [
    {
     "ename": "",
     "evalue": "",
     "output_type": "error",
     "traceback": [
      "\u001b[1;31m'c:\\msys64\\mingw64\\bin\\python.exe'(으)로 셀을 실행하려면 ipykernel 패키지가 필요합니다.\n",
      "\u001b[1;31mRun the following command to install 'ipykernel' into the Python environment. \n",
      "\u001b[1;31mCommand: 'c:/msys64/mingw64/bin/python.exe -m pip install ipykernel -U --user --force-reinstall'"
     ]
    }
   ],
   "source": [
    "from sklearn.ensemble import VotingClassifier, StackingClassifier"
   ]
  },
  {
   "cell_type": "code",
   "execution_count": null,
   "id": "ead9c0f8",
   "metadata": {},
   "outputs": [],
   "source": [
    "x = np.array(['rax', 9, 81, 0]), ['fido', 3, 27, 0], dtype=[('name', 'U10'), ('age', 'i4'), ('weiget', 'f4')]"
   ]
  },
  {
   "cell_type": "code",
   "execution_count": null,
   "id": "f1414f8e",
   "metadata": {},
   "outputs": [],
   "source": [
    "x['name']"
   ]
  }
 ],
 "metadata": {
  "kernelspec": {
   "display_name": "Python 3 (ipykernel)",
   "language": "python",
   "name": "python3"
  },
  "language_info": {
   "codemirror_mode": {
    "name": "ipython",
    "version": 3
   },
   "file_extension": ".py",
   "mimetype": "text/x-python",
   "name": "python",
   "nbconvert_exporter": "python",
   "pygments_lexer": "ipython3",
   "version": "3.10.10"
  }
 },
 "nbformat": 4,
 "nbformat_minor": 5
}
