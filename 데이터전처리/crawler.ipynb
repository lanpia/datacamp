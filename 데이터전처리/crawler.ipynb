{
 "cells": [
  {
   "cell_type": "code",
   "execution_count": 46,
   "metadata": {},
   "outputs": [],
   "source": [
    "# 23.07.10"
   ]
  },
  {
   "cell_type": "code",
   "execution_count": 47,
   "metadata": {},
   "outputs": [],
   "source": [
    "# HTML/XML => DOM(BeautifulSoup)\n",
    "#          => CSSOM(selector;pseudo)\n",
    "# selector(*) { X }\n",
    "# tags, #id, .class, .class1.class2\n",
    "# [attr], [attr=value], [attr^=,$=]\n",
    "# ( ) => 자손, > => 자식, + => 내 다음 형제\n",
    "# :nth-of-type, :first/last-child, :nth-child, ...\n",
    "# :has, :not\n",
    "# => Crawling/Scraping\n",
    "# while 더이상 url 없을때까지\n",
    "#   O: robots.txt 파싱(수정)\n",
    "#   O: HTTP Req/Resp ===> Resp.body (Scraping) => content-type;dom;cssom;re;bytes\n",
    "#   O: anchor(a;hyper link) => URL(*;urljoin)\n",
    "#   O: link => regularization(full url)\n",
    "#   O: visited O/X => URL Pool => ()\n",
    "#   O: pop(url) => (BFS/DFS/Focused => 탐색전략)"
   ]
  },
  {
   "cell_type": "code",
   "execution_count": 48,
   "metadata": {},
   "outputs": [],
   "source": [
    "# HyperLinks = ?\n",
    "# [Tags]\n",
    "# A, FORM, IMG, EMBEDED, VIDEO, AUDIO,\n",
    "# META, SCRIPT, STYLE, IFRAME, ...\n",
    "# [Attributes]\n",
    "# HREF, SRC, ACTION\n",
    "# => *[href|src|action]"
   ]
  },
  {
   "cell_type": "code",
   "execution_count": 49,
   "metadata": {},
   "outputs": [],
   "source": [
    "from requests import request\n",
    "\n",
    "headers = {\n",
    "    'user-agent':'Mozilla/5.0 (Macintosh; Intel Mac OS X 10_15_7) AppleWebKit/537.36 (KHTML, like Gecko) Chrome/114.0.0.0 Safari/537.36'\n",
    "}"
   ]
  },
  {
   "cell_type": "code",
   "execution_count": 50,
   "metadata": {},
   "outputs": [],
   "source": [
    "url = 'https://search.naver.com/search.naver'\n",
    "params = {\n",
    "    'where':'nexearch',\n",
    "    'query':'뉴진스'\n",
    "}\n",
    "\n",
    "resp = request('GET', url, params=params, headers=headers)"
   ]
  },
  {
   "cell_type": "code",
   "execution_count": 53,
   "metadata": {},
   "outputs": [
    {
     "ename": "FeatureNotFound",
     "evalue": "Couldn't find a tree builder with the features you requested: html5lib. Do you need to install a parser library?",
     "output_type": "error",
     "traceback": [
      "\u001b[0;31m---------------------------------------------------------------------------\u001b[0m",
      "\u001b[0;31mFeatureNotFound\u001b[0m                           Traceback (most recent call last)",
      "Cell \u001b[0;32mIn[53], line 3\u001b[0m\n\u001b[1;32m      1\u001b[0m \u001b[39mfrom\u001b[39;00m \u001b[39mbs4\u001b[39;00m \u001b[39mimport\u001b[39;00m BeautifulSoup\n\u001b[0;32m----> 3\u001b[0m dom \u001b[39m=\u001b[39m BeautifulSoup(resp\u001b[39m.\u001b[39;49mtext, \u001b[39m'\u001b[39;49m\u001b[39mhtml5lib\u001b[39;49m\u001b[39m'\u001b[39;49m)\n",
      "File \u001b[0;32m~/.local/lib/python3.10/site-packages/bs4/__init__.py:250\u001b[0m, in \u001b[0;36mBeautifulSoup.__init__\u001b[0;34m(self, markup, features, builder, parse_only, from_encoding, exclude_encodings, element_classes, **kwargs)\u001b[0m\n\u001b[1;32m    248\u001b[0m     builder_class \u001b[39m=\u001b[39m builder_registry\u001b[39m.\u001b[39mlookup(\u001b[39m*\u001b[39mfeatures)\n\u001b[1;32m    249\u001b[0m     \u001b[39mif\u001b[39;00m builder_class \u001b[39mis\u001b[39;00m \u001b[39mNone\u001b[39;00m:\n\u001b[0;32m--> 250\u001b[0m         \u001b[39mraise\u001b[39;00m FeatureNotFound(\n\u001b[1;32m    251\u001b[0m             \u001b[39m\"\u001b[39m\u001b[39mCouldn\u001b[39m\u001b[39m'\u001b[39m\u001b[39mt find a tree builder with the features you \u001b[39m\u001b[39m\"\u001b[39m\n\u001b[1;32m    252\u001b[0m             \u001b[39m\"\u001b[39m\u001b[39mrequested: \u001b[39m\u001b[39m%s\u001b[39;00m\u001b[39m. Do you need to install a parser library?\u001b[39m\u001b[39m\"\u001b[39m\n\u001b[1;32m    253\u001b[0m             \u001b[39m%\u001b[39m \u001b[39m\"\u001b[39m\u001b[39m,\u001b[39m\u001b[39m\"\u001b[39m\u001b[39m.\u001b[39mjoin(features))\n\u001b[1;32m    255\u001b[0m \u001b[39m# At this point either we have a TreeBuilder instance in\u001b[39;00m\n\u001b[1;32m    256\u001b[0m \u001b[39m# builder, or we have a builder_class that we can instantiate\u001b[39;00m\n\u001b[1;32m    257\u001b[0m \u001b[39m# with the remaining **kwargs.\u001b[39;00m\n\u001b[1;32m    258\u001b[0m \u001b[39mif\u001b[39;00m builder \u001b[39mis\u001b[39;00m \u001b[39mNone\u001b[39;00m:\n",
      "\u001b[0;31mFeatureNotFound\u001b[0m: Couldn't find a tree builder with the features you requested: html5lib. Do you need to install a parser library?"
     ]
    }
   ],
   "source": [
    "from bs4 import BeautifulSoup\n",
    "\n",
    "dom = BeautifulSoup(resp.text, 'html5lib')"
   ]
  },
  {
   "cell_type": "code",
   "execution_count": null,
   "metadata": {},
   "outputs": [],
   "source": [
    "len(dom.select('[href]')),\\\n",
    "len(dom.select('[src]')),\\\n",
    "len(dom.select('[action]'))\n",
    "# len(dom.select('[data-]')) ?"
   ]
  },
  {
   "cell_type": "code",
   "execution_count": null,
   "metadata": {},
   "outputs": [],
   "source": [
    "dom.select('[href]')[0].attrs['href'], \\\n",
    "dom.select('[src]')[0].attrs['src'], \\\n",
    "dom.select('[action]')[0].attrs['action'] == '?'"
   ]
  },
  {
   "cell_type": "code",
   "execution_count": null,
   "metadata": {},
   "outputs": [],
   "source": [
    "from requests.compat import urlparse, urljoin\n",
    "\n",
    "urlparse(resp.url).path,\\\n",
    "urljoin(resp.url, '?a=b'),\\\n",
    "urljoin(resp.url, 'http://www.text.com')"
   ]
  },
  {
   "cell_type": "code",
   "execution_count": null,
   "metadata": {},
   "outputs": [],
   "source": [
    "dom.select('[action]')[0].attrs['method']"
   ]
  },
  {
   "cell_type": "code",
   "execution_count": null,
   "metadata": {},
   "outputs": [],
   "source": [
    "from urllib.parse import parse_qs\n",
    "parse_qs(urlparse(resp.url).query)"
   ]
  },
  {
   "cell_type": "code",
   "execution_count": null,
   "metadata": {},
   "outputs": [],
   "source": [
    "for node in dom.select('[action]')[0].select('input'):\n",
    "    print(node.attrs['name']+'='+node.attrs['value'])"
   ]
  },
  {
   "cell_type": "code",
   "execution_count": null,
   "metadata": {},
   "outputs": [],
   "source": [
    "dom.select('[href^]')"
   ]
  },
  {
   "cell_type": "code",
   "execution_count": null,
   "metadata": {},
   "outputs": [],
   "source": [
    "#               root;WWW\n",
    "#          A            B (10,depth=1)\n",
    "#      C      D      E(10)       F(400,depth=2)\n",
    "# => root A B C D E F\n",
    "#     *   * * * ...\n",
    "#                   * (leaf)\n",
    "\n",
    "# BFS => pop(앞에서;Queue) => \n",
    "#        관련도순으로...\n",
    "# DFS => pop(뒤에서;Stack) => 너무 깊으면, 못빠져나옴\n",
    "# Focused Crawling(전략) => 웹툰, 뉴스, "
   ]
  },
  {
   "cell_type": "code",
   "execution_count": null,
   "metadata": {},
   "outputs": [],
   "source": [
    "from urllib.robotparser import RobotFileParser\n",
    "# rb = RobotFileParser(주소)\n",
    "# rb.read()\n",
    "# rb.can_fetch(agent, path) T/F"
   ]
  },
  {
   "cell_type": "code",
   "execution_count": null,
   "metadata": {},
   "outputs": [],
   "source": [
    "import re\n",
    "from requests.exceptions import HTTPError\n",
    "\n",
    "ROBOT = dict()\n",
    "        # netloc:[(agent, path, allowT/F),()]\n",
    "\n",
    "# 1. robots.txt => 중복해서 req X\n",
    "# 2. ROBOT 1의 url을 key로 물어본거\n",
    "# 3. 없으면, req/resp\n",
    "#    3.1 status_code != 200, return True\n",
    "#    3.2 parsing, User-Agent/allow/disallow\n",
    "#    3.3 User-agent 물어보고, 지금 작업중인 ua를 ua로 설정\n",
    "#    3.4 allow/disallow를 key = tuple(ua, path, allow/disallow)\n",
    "# 4. ROBOT 없으면, 3.1\n",
    "# 5. 있으면, param.agent값으로, path에 re\n",
    "#    p = * => [^/]+?, match(p, param.path)\n",
    "#    5.1 없으면, True\n",
    "#    5.2 있으면, Sorting(/, /test/, /test/about, /*/about, /test/*.... )\n",
    "\n",
    "def canFetch(url, agent='*', path='/'):\n",
    "    k = urlparse(url).netloc\n",
    "    \n",
    "    if k not in ROBOT:\n",
    "        robot = urljoin(url, '/robots.txt')\n",
    "        resp = request('GET', robot)\n",
    "    \n",
    "        if resp.status_code == 200:\n",
    "            ua = '*'\n",
    "            ROBOT[k] = list()\n",
    "            \n",
    "            for l in resp.text.lower().splitlines():\n",
    "                a = re.search(r'user-agent:(.+)', l, re.IGNORECASE)\n",
    "\n",
    "                if a:\n",
    "                    ua = a.group(1).strip()\n",
    "                else:\n",
    "                    p = re.search(\n",
    "                        r'((?:dis)?allow):(.+)', l, re.IGNORECASE)\n",
    "                    \n",
    "                    if p:\n",
    "                        allow = False if p.group(1) == 'disallow' else True\n",
    "                        ROBOT[k].append((ua, p.group(2).strip(), allow))\n",
    "#             rp = RobotFileParser(robot)\n",
    "#             rp.read()\n",
    "#             return rp.can_fetch(agent, path)\n",
    "        \n",
    "    # robots.txt 파싱이 끝남\n",
    "    if k in ROBOT:\n",
    "#         candidates = list()\n",
    "#         for l in ROBOT[k]:\n",
    "#             if l[0] == agent and \\\n",
    "#                      re.match(l[1].replace('*', '[^/]+?'), path):\n",
    "#                 candidates.append(l)\n",
    "        candidates = list(filter(lambda l:l[0] == agent and \\\n",
    "                     re.match(l[1].replace('*', '[^/]+?'), path),\n",
    "                                 ROBOT[k]))\n",
    "        # re.match(* => relace)\n",
    "        # /*/asdfasd => * => ([^/]+?)\n",
    "                \n",
    "        candidates = sorted(candidates, key=lambda c:len(c[1]),\n",
    "                            reverse=True)\n",
    "        # *, / = True, /search = False\n",
    "\n",
    "        if len(candidates) > 0:\n",
    "            return candidates[0][-1]\n",
    "        return True\n",
    "        \n",
    "    return True\n",
    "\n",
    "# canFetch('https://lms.sunde41.net', path='/fddd')\n",
    "canFetch('https://www.google.com', agent='*',\n",
    "         path='/search/about')\n",
    "#     try:\n",
    "#         resp.raise_for_status()\n",
    "#     except HTTPError as e:\n",
    "#         d"
   ]
  },
  {
   "cell_type": "code",
   "execution_count": null,
   "metadata": {},
   "outputs": [],
   "source": [
    "# canFetch('https://news.naver.com', agent='*', path='/search')\n",
    "# canFetch('https://lms.sunde41.net', path='/fddd')\n",
    "canFetch('https://www.google.com', agent='*', path='/search/?asdfasdf')"
   ]
  },
  {
   "cell_type": "code",
   "execution_count": null,
   "metadata": {},
   "outputs": [],
   "source": [
    "# 원본:[], 전략:[{}], DB\n",
    "urls = [{'url':'https://www.google.com/search?q=%EB%89%B4%EC%A7%84%EC%8A%A4&oq=%EB%89%B4%EC%A7%84%EC%8A%A4&aqs=chrome.0.0i131i355i433i512j46i131i433i512j0i3j46i131i433i512l2j0i433i512j69i60l2.751j0j4&sourceid=chrome&ie=UTF-8',\n",
    "         'depth':0}]\n",
    "visited = []\n",
    "# 전략:1.depth\n",
    "focused = 3#[전략](depth, domain<-netloc)\n",
    "\n",
    "# 종료조건: 더이상 방문할 페이지가 없을때 while urls\n",
    "while urls:\n",
    "    # Queue(BFS;FIFO);\n",
    "    # url pool에서 다음 방문 url 가져오기(1processor, 1thred)\n",
    "    url = urls.pop(0) # Queue # Stack\n",
    "    \n",
    "    # 전략 종료조건:1.depth > threshold\n",
    "    if url['depth'] > focused:\n",
    "        visited.append(url)\n",
    "        continue\n",
    "        \n",
    "    # robots.txt 확인(관심있이면 나중에 수정, Naver,Google만 됨)\n",
    "    try:\n",
    "        print(urlparse(url['url']).path, \\\n",
    "              canFetch(url['url'], path=urlparse(url['url']).path))\n",
    "    except:\n",
    "        print(url['url'])\n",
    "    \n",
    "    # 실제 방문 req => resp\n",
    "    resp = request('GET', url['url'], headers=headers)\n",
    "    \n",
    "    # HTML <meta> robots.txt 속성 확인이 있어야 함\n",
    "    # <meta> index/noindex, follow/nofoolow\n",
    "#     meta = dom.select_one('meta[name=\"robots\"]')\n",
    "#     meta.attrs['content'].split(',')\n",
    "\n",
    "    # 정상적으로 받음\n",
    "    if resp.status_code == 200:\n",
    "        # 방문한 목록에 추가\n",
    "        visited.append(url)\n",
    "        \n",
    "        # content-type: text/html or text/xml (지금 관심사)\n",
    "        #               application/json, images/*\n",
    "        if re.search('xml|html', resp.headers['content-type']):\n",
    "            # TEXT(Markup) => DOM\n",
    "            dom = BeautifulSoup(resp.text, 'lxml')\n",
    "            \n",
    "            a = list()\n",
    "            # Node탐색 CSS Selector(rules;CSSOM)\n",
    "            # <태그>의 속성(attributes) 중에 href, src가 있는 경우만\n",
    "            for node in dom.select('[href], [src]'):\n",
    "                # dom.tag.attrs in href, src\n",
    "                # temp에는 str 형태의 주소(온전한 X)\n",
    "                temp = node.attrs['href'\n",
    "                                  if node.has_attr('href')\n",
    "                                  else 'src']\n",
    "                # 링크 필터링(방문할 필요 X)\n",
    "                # #(위치;내부주소), javascript, data, ...\n",
    "                if not re.match(r'#|javascript|data:|about:', temp):\n",
    "                    newurl = urljoin(url['url'], temp)\n",
    "                    a.append({'url':newurl,'depth':url['depth']+1})\n",
    "#                 else:\n",
    "#                     print(temp, urlparse(urljoin(url, temp)))\n",
    "            print(len(a))\n",
    "    \n",
    "            # URL pool 관리\n",
    "            # 이미 방문한 주소 X, 앞으로 방문할 주소 X\n",
    "            urls += list(filter(\n",
    "                lambda link:link['url'] not in [v['url'] for v in visited] \\\n",
    "                and link['url'] not in [u['url'] for u in urls], a))\n",
    "            # visited, urls => ['url']\n",
    "            #               => [{'url','depth'}]\n",
    "            print()\n",
    "            # 방문이력, url pool 관리\n",
    "        # else 일때, 처리 X, 500 => \n",
    "    # 서버부하, delay\n",
    "#             a = [urljoin(url, node.attrs['href'\n",
    "#                         if node.has_attr('href') else 'src'])\n",
    "#                  for node in dom.select('[href], [src]')]\n",
    "    # 정상적으로 못받았을때, 400(내 에러),500(쟤 에러)\n",
    "    else:\n",
    "        if resp.status_code >= 500:\n",
    "            # Queue(FIFO)\n",
    "            urls.append(url)\n",
    "        else:\n",
    "            # 방문한 목록\n",
    "            visited.append(url)\n",
    "    # 서버 부하 피하기 위해서\n",
    "#     sleep()"
   ]
  },
  {
   "cell_type": "code",
   "execution_count": null,
   "metadata": {},
   "outputs": [],
   "source": [
    "urlparse('https://search.naver.com/path/?a=b#lnb'), \\\n",
    "urlparse('https://search.naver.com/path?a=b')"
   ]
  },
  {
   "cell_type": "code",
   "execution_count": null,
   "metadata": {},
   "outputs": [],
   "source": [
    "urls[0], visited[-1]"
   ]
  },
  {
   "cell_type": "code",
   "execution_count": null,
   "metadata": {},
   "outputs": [],
   "source": [
    "len(urls), len(visited)"
   ]
  },
  {
   "cell_type": "code",
   "execution_count": null,
   "metadata": {},
   "outputs": [],
   "source": [
    "[urlparse(_).netloc for _ in visited]"
   ]
  },
  {
   "cell_type": "code",
   "execution_count": null,
   "metadata": {},
   "outputs": [],
   "source": [
    "# 23.07.11"
   ]
  },
  {
   "cell_type": "code",
   "execution_count": null,
   "metadata": {},
   "outputs": [],
   "source": [
    "# Crawler(HyperLink 따라다니면서 수집) + DB\n",
    "# 0. URL pool <= seed(구글 검색결과)\n",
    "# ===> DFS(Stack, LIFO), BFS(Queue, FIFO)\n",
    "# ===> Focused(전략:depth,domain제한,id/class제한)\n",
    "# 1. robots.txt 파싱\n",
    "#    user-agent\\nallow:?\\ndisallow:?\n",
    "#    ---------- tuple => DB(범용관계형X)\n",
    "# 2. status_code, content-type = text/html or xml\n",
    "# ===> Scaraping(별도)\n",
    "# 3. DOM <= bs4, find*, select(css selector)\n",
    "# 4. HTML Tags[attribute ㅌ href, src, (action-Form, method)]\n",
    "# 5. Absolute Path(URL/I)\n",
    "# 6. #, about:, mailto:, data:, javascript, ... => 제거\n",
    "# 7. 갔다왔는지, 갈예정인지, 둘다 없으면 URL pool 추가\n",
    "# 8. 0부터시작(URL pool에 더이상 없을때까지)"
   ]
  },
  {
   "cell_type": "code",
   "execution_count": null,
   "metadata": {},
   "outputs": [],
   "source": [
    "from requests import request\n",
    "from requests.compat import *\n",
    "from bs4 import BeautifulSoup\n",
    "\n",
    "headers = {\n",
    "    'user-agent':'Mozilla/5.0 (Macintosh; Intel Mac OS X 10_15_7) AppleWebKit/537.36 (KHTML, like Gecko) Chrome/114.0.0.0 Safari/537.36'\n",
    "}"
   ]
  },
  {
   "cell_type": "code",
   "execution_count": null,
   "metadata": {},
   "outputs": [],
   "source": [
    "import re\n",
    "from requests.exceptions import HTTPError\n",
    "\n",
    "ROBOT = dict()\n",
    "\n",
    "def canFetch(url, agent='*', path='/'):\n",
    "    k = urlparse(url).netloc\n",
    "    \n",
    "    if k not in ROBOT:\n",
    "        robot = urljoin(url, '/robots.txt')\n",
    "        resp = request('GET', robot)\n",
    "    \n",
    "        if resp.status_code == 200:\n",
    "            ua = '*'\n",
    "            ROBOT[k] = list()\n",
    "            \n",
    "            for l in resp.text.lower().splitlines():\n",
    "                a = re.search(r'user-agent:(.+)', l, re.IGNORECASE)\n",
    "\n",
    "                if a:\n",
    "                    ua = a.group(1).strip()\n",
    "                else:\n",
    "                    p = re.search(\n",
    "                        r'((?:dis)?allow):(.+)', l, re.IGNORECASE)\n",
    "                    \n",
    "                    if p:\n",
    "                        allow = False if p.group(1) == 'disallow' else True\n",
    "                        ROBOT[k].append((ua, p.group(2).strip(), allow))\n",
    "                        \n",
    "    if k in ROBOT:\n",
    "        candidates = list(filter(lambda l:l[0] == agent and \\\n",
    "                    re.match(l[1].replace('*', '[^/]+?'), path),\n",
    "                                ROBOT[k]))\n",
    "                \n",
    "        candidates = sorted(candidates, key=lambda c:len(c[1]),\n",
    "                            reverse=True)\n",
    "\n",
    "        if len(candidates) > 0:\n",
    "            return candidates[0][-1]\n",
    "        return True\n",
    "        \n",
    "    return True"
   ]
  },
  {
   "cell_type": "code",
   "execution_count": null,
   "metadata": {},
   "outputs": [],
   "source": [
    "urls = [{'url':'https://search.naver.com/search.naver?where=nexearch&query=%EB%89%B4%EC%A7%84%EC%8A%A4&oquery=%EB%89%B4%EC%A7%84%EC%8A%A4',\n",
    "        'depth':0}]\n",
    "visited = []\n",
    "focused1 = 3\n",
    "focused2 = ['blog.naver.com']\n",
    "\n",
    "while urls:\n",
    "    url = urls.pop(0)\n",
    "    \n",
    "    if url['depth'] > focused1:\n",
    "        visited.append(url)\n",
    "        continue\n",
    "        \n",
    "    try:\n",
    "        print(urlparse(url['url']).path, \\\n",
    "            canFetch(url['url'], path=urlparse(url['url']).path))\n",
    "    except:\n",
    "        print(url['url'])\n",
    "        \n",
    "    resp = request('GET', url['url'], headers=headers)\n",
    "    \n",
    "    if resp.status_code == 200:\n",
    "        visited.append(url)\n",
    "        \n",
    "        if re.search('xml|html', resp.headers['content-type']):\n",
    "            dom = BeautifulSoup(resp.text, 'lxml')\n",
    "            \n",
    "            a = list()\n",
    "            for node in dom.select('[href], [src]'):\n",
    "                temp = node.attrs['href'\n",
    "                                if node.has_attr('href')\n",
    "                                else 'src']\n",
    "                if not re.match(r'#|javascript|data:|about:', temp)\\\n",
    "                and urlparse(temp).netloc in focused2:\n",
    "                    newurl = urljoin(url['url'], temp)\n",
    "                    a.append({'url':newurl,'depth':url['depth']+1})\n",
    "                    \n",
    "            urls += list(filter(\n",
    "                lambda link:link['url'] not in [v['url'] for v in visited] \\\n",
    "                and link['url'] not in [u['url'] for u in urls], a))\n",
    "    else:\n",
    "        if resp.status_code >= 500:\n",
    "            urls.append(url)\n",
    "        else:\n",
    "            visited.append(url)"
   ]
  },
  {
   "cell_type": "code",
   "execution_count": null,
   "metadata": {},
   "outputs": [],
   "source": [
    "list(map(lambda url:(urlparse(url['url']).path, url['depth']),\n",
    "        visited))"
   ]
  },
  {
   "cell_type": "code",
   "execution_count": null,
   "metadata": {},
   "outputs": [],
   "source": [
    "import sqlite3\n",
    "\n",
    "con = sqlite3.connect('blog.db')\n",
    "cur = con.cursor()"
   ]
  },
  {
   "cell_type": "code",
   "execution_count": null,
   "metadata": {},
   "outputs": [],
   "source": [
    "#             A => TableA\n",
    "#     1   2    3   4   5 ... => TableB\n",
    "# TableA\n",
    "# PK netloc \n",
    "# 1  blog.naver.com\n",
    "\n",
    "# TableB\n",
    "# path, qs, FK(referer)\n",
    "# A         1\n",
    "# A         1\n",
    "# B         1\n",
    "\n",
    "# 1 => A (2) => 2/N\n",
    "# 1 => B (1) => 1/N\n",
    "# group by path, count() => path별로 들어온 링크의 갯수(inboud)\n",
    "# sum(FK) => 1번 사이트에서 나온 모든 갯수(Outboud)\n",
    "# 1 => sum => 전체 링크갯수/N\n",
    "\n",
    "cur.executescript('''\n",
    "    DROP TABLE IF EXISTS T_A;\n",
    "    CREATE TABLE T_A(\n",
    "        pk INTEGER PRIMARY KEY,\n",
    "        netloc TEXT NOT NULL UNIQUE\n",
    "    );\n",
    "    \n",
    "    DROP TABLE IF EXISTS T_B;\n",
    "    CREATE TABLE T_B(\n",
    "        pk INTEGER PRIMARY KEY,\n",
    "        path TEXT,\n",
    "        qs TEXT,\n",
    "        visited TEXT DEFAULT 'N',\n",
    "        regdate DATETIME,\n",
    "        fk INTEGER NOT NULL\n",
    "    );\n",
    "''')"
   ]
  },
  {
   "cell_type": "code",
   "execution_count": null,
   "metadata": {},
   "outputs": [],
   "source": [
    "# 기존 테이블 컬럼 추가\n",
    "cur.execute('''\n",
    "    ALTER TABLE T_B\n",
    "    ADD COLUMN visited TEXT DEFAULT 'N'\n",
    "''')\n",
    "con.commit()"
   ]
  },
  {
   "cell_type": "code",
   "execution_count": null,
   "metadata": {},
   "outputs": [],
   "source": [
    "url = 'https://search.naver.com/search.naver?where=nexearch&query=%EB%89%B4%EC%A7%84%EC%8A%A4&oquery=%EB%89%B4%EC%A7%84%EC%8A%A4'\n",
    "cur.execute('''\n",
    "    INSERT INTO T_A(netloc) VALUES(?)\n",
    "''', [urlparse(url).netloc])\n",
    "con.commit()"
   ]
  },
  {
   "cell_type": "code",
   "execution_count": null,
   "metadata": {},
   "outputs": [],
   "source": [
    "cur.execute('''\n",
    "    INSERT INTO T_B(path, qs, regdate, fk)\n",
    "    VALUES(?, ?, CURRENT_TIMESTAMP, (\n",
    "        SELECT PK FROM T_A WHERE netloc=?\n",
    "    ))\n",
    "''', [urlparse(url).path, urlparse(url).query, urlparse(url).netloc])\n",
    "con.commit()"
   ]
  },
  {
   "cell_type": "code",
   "execution_count": null,
   "metadata": {},
   "outputs": [],
   "source": [
    "cur.execute('''\n",
    "    SELECT T_B.pk, T_A.netloc, T_B.path, T_B.qs FROM T_A\n",
    "    INNER JOIN T_B\n",
    "    ON T_B.fk = T_A.pk\n",
    "    WHERE T_B.visited = 'N'\n",
    "    ORDER BY T_B.regdate ASC\n",
    "''')\n",
    "comp = cur.fetchall()\n",
    "urlunparse(('https', comp[0][1], comp[0][2], None,\n",
    "            comp[0][3], None))"
   ]
  },
  {
   "cell_type": "code",
   "execution_count": null,
   "metadata": {},
   "outputs": [],
   "source": [
    "focused = ['blog.naver.com']\n",
    "limit = 20\n",
    "while True:\n",
    "    # 20개 넘어가면 종료\n",
    "    cur.execute('SELECT COUNT(pk) FROM T_A')\n",
    "    if cur.fetchone()[0] > 20:\n",
    "        break\n",
    "        \n",
    "    # 더이상 N이 없으면 종료\n",
    "    cur.execute('''\n",
    "        SELECT T_B.pk, T_A.netloc, T_B.path, T_B.qs FROM T_A\n",
    "        INNER JOIN T_B\n",
    "        ON T_B.fk = T_A.pk\n",
    "        WHERE T_B.visited = 'N'\n",
    "        ORDER BY T_B.regdate ASC\n",
    "        LIMIT 0,1\n",
    "    ''')\n",
    "    comp = cur.fetchone()\n",
    "    \n",
    "    if not comp:\n",
    "        break\n",
    "        \n",
    "    pk = comp[0]\n",
    "        \n",
    "    url = urlunparse(('https', comp[1], comp[2], None, comp[3], None))\n",
    "    \n",
    "    try:\n",
    "        print(urlparse(url).path, \\\n",
    "              canFetch(url, path=urlparse(url).path))\n",
    "    except:\n",
    "        print(url)\n",
    "        \n",
    "    resp = request('GET', url, headers=headers)\n",
    "    \n",
    "    if resp.status_code == 200:\n",
    "        if re.search('xml|html', resp.headers['content-type']):\n",
    "            dom = BeautifulSoup(resp.text, 'lxml')\n",
    "            \n",
    "            for node in dom.select('[href], [src]'):\n",
    "                temp = node.attrs['href'\n",
    "                                  if node.has_attr('href')\n",
    "                                  else 'src']\n",
    "\n",
    "                if not re.match(r'#|javascript|data:|about:', temp)\\\n",
    "                   and urlparse(temp).netloc in focused2:\n",
    "                    nurl = urljoin(url, temp)\n",
    "                    comp = urlparse(nurl)\n",
    "                    s = comp.path.split('/')\n",
    "                    \n",
    "                    if len(s) > 1: #(netloc/id)\n",
    "                        cur.execute('''\n",
    "                            SELECT pk FROM T_A\n",
    "                            WHERE netloc=?\n",
    "                        ''', [comp.netloc+'/'+s[1]])\n",
    "                        \n",
    "                        if not cur.fetchone():\n",
    "                            cur.execute('''\n",
    "                                INSERT INTO T_A(netloc) VALUES(?)\n",
    "                            ''', [comp.netloc+'/'+s[1]])\n",
    "                            con.commit()\n",
    "                            \n",
    "                        cur.execute('''\n",
    "                            INSERT INTO T_B(path, qs, regdate, fk)\n",
    "                            VALUES(?, ?, CURRENT_TIMESTAMP, (\n",
    "                                SELECT PK FROM T_A WHERE netloc=?\n",
    "                            ))\n",
    "                        ''', [comp.path, comp.query, comp.netloc+'/'+s[1]])\n",
    "                        con.commit()\n",
    "                        \n",
    "                        cur.execute('''\n",
    "                            UPDATE T_B\n",
    "                            SET visited='Y'\n",
    "                            WHERE pk=?\n",
    "                        ''', [pk])\n",
    "                        con.commit()\n",
    "                    else:\n",
    "                        cur.execute('''\n",
    "                            SELECT pk FROM T_A\n",
    "                            WHERE netloc=?\n",
    "                        ''', [comp.netloc])\n",
    "                        \n",
    "                        if not cur.fetchone():\n",
    "                            cur.execute('''\n",
    "                                INSERT INTO T_A(netloc) VALUES(?)\n",
    "                            ''', [comp.netloc])\n",
    "                            con.commit()\n",
    "                        \n",
    "                        cur.execute('''\n",
    "                            INSERT INTO T_B(path, qs, regdate, fk)\n",
    "                            VALUES(?, ?, CURRENT_TIMESTAMP, (\n",
    "                                SELECT PK FROM T_A WHERE netloc=?\n",
    "                            ))\n",
    "                        ''', [comp.path, comp.query, comp.netloc])\n",
    "                        con.commit()\n",
    "                        \n",
    "                        cur.execute('''\n",
    "                            UPDATE T_B\n",
    "                            SET visited='Y'\n",
    "                            WHERE pk=?\n",
    "                        ''', [pk])\n",
    "                        con.commit()\n",
    "    else:\n",
    "        if resp.status_code >= 500:\n",
    "            cur.execute('''\n",
    "                UPDATE T_B\n",
    "                SET regdate=CURRENT_TIMESTAMP\n",
    "                WHERE pk=?\n",
    "            ''', [pk])\n",
    "            con.commit()\n",
    "        else:\n",
    "            cur.execute('''\n",
    "                UPDATE T_B\n",
    "                SET visited='Y'\n",
    "                WHERE pk=?\n",
    "            ''', [pk])\n",
    "            con.commit()"
   ]
  },
  {
   "cell_type": "code",
   "execution_count": null,
   "metadata": {},
   "outputs": [],
   "source": [
    "cur.execute('''\n",
    "        SELECT * FROM T_A\n",
    "    ''')\n",
    "cur.fetchall()"
   ]
  },
  {
   "cell_type": "code",
   "execution_count": null,
   "metadata": {},
   "outputs": [],
   "source": [
    "cur.execute('''\n",
    "        SELECT * FROM T_B\n",
    "    ''')\n",
    "cur.fetchall()"
   ]
  },
  {
   "cell_type": "code",
   "execution_count": null,
   "metadata": {},
   "outputs": [],
   "source": [
    "cur.execute('''\n",
    "        SELECT T_B.pk, T_A.netloc, T_B.path, T_B.qs FROM T_A\n",
    "        INNER JOIN T_B\n",
    "        ON T_B.fk = T_A.pk\n",
    "        ORDER BY T_B.regdate ASC\n",
    "        LIMIT 0,1\n",
    "    ''')\n",
    "cur.fetchall()"
   ]
  },
  {
   "cell_type": "code",
   "execution_count": null,
   "metadata": {},
   "outputs": [],
   "source": [
    "cur.execute('''\n",
    "    SELECT fk, COUNT(fk) FROM T_B\n",
    "    GROUP BY fk\n",
    "''')\n",
    "cur.fetchall()"
   ]
  },
  {
   "cell_type": "code",
   "execution_count": null,
   "metadata": {},
   "outputs": [],
   "source": [
    "import numpy as np"
   ]
  },
  {
   "cell_type": "code",
   "execution_count": null,
   "metadata": {},
   "outputs": [],
   "source": [
    "cur.execute('''\n",
    "    SELECT COUNT(pk) FROM T_A\n",
    "''')\n",
    "dim = cur.fetchone()[0]\n",
    "PR = np.zeros((dim, dim))"
   ]
  },
  {
   "cell_type": "code",
   "execution_count": null,
   "metadata": {},
   "outputs": [],
   "source": [
    "cur.execute('''\n",
    "    SELECT T_A.netloc, T_A.pk, COUNT(T_B.pk) FROM T_A\n",
    "    LEFT JOIN T_B\n",
    "    ON T_B.fk = T_A.pk\n",
    "    GROUP BY T_B.fk\n",
    "    ORDER BY T_A.pk\n",
    "''')\n",
    "for r in cur.fetchall():\n",
    "    PR[r[1]-1,:] = r[2]"
   ]
  },
  {
   "cell_type": "code",
   "execution_count": null,
   "metadata": {},
   "outputs": [],
   "source": [
    "SITE = np.zeros((dim,1))\n",
    "SITE[:,:] = 1/dim"
   ]
  },
  {
   "cell_type": "code",
   "execution_count": null,
   "metadata": {},
   "outputs": [],
   "source": [
    "for _ in range(10):\n",
    "    SITE = .15 * .85*PR.dot(SITE)"
   ]
  },
  {
   "cell_type": "code",
   "execution_count": null,
   "metadata": {},
   "outputs": [],
   "source": [
    "SITE\n",
    "# 원래는 위에처럼(PageRank), 이제는 현실적으로 Crawling+Scraping"
   ]
  },
  {
   "cell_type": "code",
   "execution_count": null,
   "metadata": {},
   "outputs": [],
   "source": [
    "urls = ['https://news.daum.net/'] # 앞으로 방문할곳\n",
    "visited = [] # 이미 방문한곳\n",
    "\n",
    "while urls: # 더이상 방문할 곳이 없을때까지\n",
    "    url = urls.pop(0) # 앞에서부터 하나씩 꺼내고(FIFO)\n",
    "        \n",
    "    # robots.txt 검사\n",
    "    try:\n",
    "        print(urlparse(url).path, \\\n",
    "            canFetch(url, path=urlparse(url).path))\n",
    "    except:\n",
    "        print(url)\n",
    "        \n",
    "    # HTTP 받아오고\n",
    "    resp = request('GET', url, headers=headers)\n",
    "    \n",
    "    # 잘 받았으면\n",
    "    if resp.status_code == 200:\n",
    "        # 방문한곳에 추가해주고\n",
    "        visited.append(url)\n",
    "        \n",
    "        # Scarping(대상: text/html)\n",
    "        if re.search('html', resp.headers['content-type']):\n",
    "            # DOM 만들어주고\n",
    "            dom = BeautifulSoup(resp.text, 'lxml')\n",
    "            \n",
    "            # 전략3-1. 특정 영역 - 뉴스 목록\n",
    "            news = dom.select('''#mainContent + .main-content [href],\n",
    "                                #mainContent + .main-content [src]''')\n",
    "            \n",
    "            # 링크 찾기\n",
    "            if len(news) > 0:\n",
    "                a = []\n",
    "                for temp in news:\n",
    "                    temp = temp.attrs['href' if temp.has_attr('href') else 'src']\n",
    "                    if not re.match(r'#|javascript|data:|about:', temp):\n",
    "                        newurl = urljoin(url, temp)\n",
    "                        a.append(newurl)\n",
    "\n",
    "                    urls += list(filter(\n",
    "                    lambda link:link not in visited and \\\n",
    "                                link not in urls, a))\n",
    "                    \n",
    "            # 전략3-2. 뉴스 본문만\n",
    "            news = dom.select_one('#mArticle')\n",
    "            \n",
    "            if news:\n",
    "                # https://v.daum.net/v/20230711122803039\n",
    "                with open(url.split('/')[-1].replace('?', '')+'.txt',\n",
    "                        'w', encoding='utf8') as fp:\n",
    "                    fp.write(news.text)\n",
    "        # 전략 3-3. 뉴스 삽화(이미지) 저장\n",
    "        elif re.search('image', resp.headers['content-type']):\n",
    "            ext = re.search('(jpeg|png|bmp|webp|gif)',\n",
    "                            resp.headers['content-type']).group(1)\n",
    "            with open(url.split('/')[-1].replace('?', '')+'.'+ext, 'wb') as fp:\n",
    "                    fp.write(resp.content)\n",
    "    # 못받았으면\n",
    "    else:\n",
    "        # FIFO, 앞으로 방문할 곳 제일 뒤에 붙여주고\n",
    "        if resp.status_code >= 500:\n",
    "            urls.append(url)\n",
    "        # 방문했다고 치고, 방문안하게\n",
    "        else:\n",
    "            visited.append(url)"
   ]
  },
  {
   "cell_type": "code",
   "execution_count": null,
   "metadata": {},
   "outputs": [],
   "source": [
    "from os import listdir\n",
    "len(list(filter(lambda f:re.search('[.]txt$', f), listdir('.'))))"
   ]
  },
  {
   "cell_type": "code",
   "execution_count": null,
   "metadata": {},
   "outputs": [],
   "source": [
    "from os import listdir\n",
    "len(list(filter(lambda f:re.search('[.](!:png|jpeg|bmp|gif|wepb)$', f), listdir('.'))))"
   ]
  },
  {
   "cell_type": "code",
   "execution_count": null,
   "metadata": {},
   "outputs": [],
   "source": [
    "# 23.07.13"
   ]
  },
  {
   "cell_type": "code",
   "execution_count": null,
   "metadata": {},
   "outputs": [],
   "source": [
    "# Crawling+scraping+DB\n",
    "# url <- url pool(BFS, DFS, Focused)\n",
    "# \t\t->DB(netloc, path-page, visited=y/n, redated - 1month)\n",
    "# while pool empty: ->db.connect(re-connect)\n",
    "# \trobots.txt 검사\n",
    "# \t\t->user-agent; (?:dis)?allow\n",
    "# \t\t->/search, /search/about, /search/asdfas, search?param...\n",
    "# \t[Scraping]\n",
    "# \treq - resp\n",
    "# \tresp.headers 확인(status_code, content-type)\n",
    "# \t\t\t\t=>scraping(text.html, image/*)\n",
    "# \t\t\t\t=> URL.split('/')[-1], ?, replace(re.sub)\n",
    "# \tRE, DOM, CSSOM, XPath\n",
    "# \tHyperLink(a[href], iframe[src], form[method, action])\n",
    "# \tLink X(#, javascript, data, about, ...)\n",
    "# \tNormalization(url -> Abosolute Path)\n",
    "# \turl pool <= path(방문할 곳, 방문한 곳 X)"
   ]
  },
  {
   "cell_type": "code",
   "execution_count": null,
   "metadata": {},
   "outputs": [],
   "source": [
    "from requests import request\n",
    "from requests.compat import *\n",
    "from bs4 import BeautifulSoup\n",
    "\n",
    "headers = {\n",
    "    'user-agent':'Mozilla/5.0 (Macintosh; Intel Mac OS X 10_15_7) AppleWebKit/537.36 (KHTML, like Gecko) Chrome/114.0.0.0 Safari/537.36'\n",
    "}"
   ]
  },
  {
   "cell_type": "code",
   "execution_count": null,
   "metadata": {},
   "outputs": [],
   "source": [
    "url = 'https://pythonscraping.com/pages/javascript/ajaxdemo.html'\n",
    "resp = requset('GET', url)"
   ]
  },
  {
   "cell_type": "code",
   "execution_count": null,
   "metadata": {},
   "outputs": [],
   "source": [
    "# decording_key = 'bqpNmjWTnx87w7ygUVLKpPVbPtUEhJNorTASFUNbEf7Zl4ofO7ThKV9jJdFcnzEkaQy5P+Uw16BOtszHRvY9OQ=='\n",
    "# unquote(encording_key) = \"bqpNmjWTnx87w7ygUVLKpPVbPtUEhJNorTASFUNbEf7Zl4ofO7ThKV9jJdFcnzEkaQy5P%2BUw16BOtszHRvY9OQ%3D%3D\"\n",
    "# encording key를 unquote로 감싸면 decording_key와 같다"
   ]
  },
  {
   "cell_type": "code",
   "execution_count": null,
   "metadata": {},
   "outputs": [],
   "source": [
    "# 23.07.17"
   ]
  },
  {
   "cell_type": "code",
   "execution_count": null,
   "metadata": {},
   "outputs": [],
   "source": [
    "'''\n",
    "crawling\n",
    "scraping - content - type; text/html, application/json/image*...\n",
    "\t\t\t\t\t\t-> focused crawling+scraping\n",
    "dynamaic HTML (AJAX - xmlHTTPRequest/JS/Doc...)\n",
    "\t\t\t\t\t\t->DOM(req, resp), data(req/resp -> context-type), 웹툰\n",
    "cookie/session\n",
    "\n",
    "http\n",
    "client\t\tserver\n",
    "req =======> login, sign up  -> RESTful API(put, post) : HTTP body\n",
    "resp <====== \n",
    "            변수=우리정보\n",
    "cookie\t\tsession\n",
    "\t\t(sessionID)\n",
    "key-value\n",
    "'''"
   ]
  },
  {
   "cell_type": "code",
   "execution_count": null,
   "metadata": {},
   "outputs": [],
   "source": [
    "from requests import request\n",
    "from requests.compat import *\n",
    "from bs4 import BeautifulSoup\n",
    "\n",
    "headers = {\n",
    "    'user-agent':'Mozilla/5.0 (Macintosh; Intel Mac OS X 10_15_7) AppleWebKit/537.36 (KHTML, like Gecko) Chrome/114.0.0.0 Safari/537.36'\n",
    "}"
   ]
  },
  {
   "cell_type": "code",
   "execution_count": null,
   "metadata": {},
   "outputs": [],
   "source": [
    "url = 'https://pythonscraping.com/pages/cookies/login.html' \n",
    "resp = request('GET', url)"
   ]
  },
  {
   "cell_type": "code",
   "execution_count": null,
   "metadata": {},
   "outputs": [],
   "source": [
    "dom = BeautifulSoup(resp.text, 'html.parser')"
   ]
  },
  {
   "cell_type": "code",
   "execution_count": null,
   "metadata": {},
   "outputs": [],
   "source": [
    "form = dom.select_one('form')"
   ]
  },
  {
   "cell_type": "code",
   "execution_count": null,
   "metadata": {},
   "outputs": [
    {
     "data": {
      "text/plain": [
       "'welcome.php'"
      ]
     },
     "execution_count": 6,
     "metadata": {},
     "output_type": "execute_result"
    }
   ],
   "source": [
    "form.attrs['action']"
   ]
  },
  {
   "cell_type": "code",
   "execution_count": null,
   "metadata": {},
   "outputs": [
    {
     "data": {
      "text/plain": [
       "['username', 'password']"
      ]
     },
     "execution_count": 7,
     "metadata": {},
     "output_type": "execute_result"
    }
   ],
   "source": [
    "[tag.attrs['name'] for tag in form.select('[name]')]"
   ]
  },
  {
   "cell_type": "code",
   "execution_count": null,
   "metadata": {},
   "outputs": [
    {
     "data": {
      "text/plain": [
       "'https://pythonscraping.com/pages/cookies/welcome.php'"
      ]
     },
     "execution_count": 8,
     "metadata": {},
     "output_type": "execute_result"
    }
   ],
   "source": [
    "urljoin(resp.url, form.attrs['action'])"
   ]
  },
  {
   "cell_type": "code",
   "execution_count": null,
   "metadata": {},
   "outputs": [],
   "source": [
    "params = { \n",
    "    'username':'testest', \n",
    "    'password':'password' \n",
    "} \n",
    "resp = request(form.attrs['method'], \n",
    "               urljoin(resp.url, form.attrs['action']), \n",
    "               data = params)"
   ]
  },
  {
   "cell_type": "code",
   "execution_count": null,
   "metadata": {},
   "outputs": [
    {
     "data": {
      "text/plain": [
       "'\\nClient\\t\\tServer\\nid/wrong pw -> req\\n\\t\\t\\t<- resp (headers cookies X)\\nid/pw -------> req\\n\\t\\t<----- resp (headers set-cookie)\\n'"
      ]
     },
     "execution_count": 14,
     "metadata": {},
     "output_type": "execute_result"
    }
   ],
   "source": [
    "resp.headers\n",
    "'''\n",
    "Client\t\tServer\n",
    "id/wrong pw -> req\n",
    "\t\t\t<- resp (headers cookies X)\n",
    "id/pw -------> req\n",
    "\t\t<----- resp (headers set-cookie)\n",
    "'''"
   ]
  },
  {
   "cell_type": "code",
   "execution_count": null,
   "metadata": {},
   "outputs": [
    {
     "data": {
      "text/plain": [
       "'You\\'re not logged into the site!<br>Visit <a href=\"login.html\">the login page</a> to log in'"
      ]
     },
     "execution_count": 15,
     "metadata": {},
     "output_type": "execute_result"
    }
   ],
   "source": [
    "request('GET', urljoin(resp.url, 'profile.php')).text"
   ]
  },
  {
   "cell_type": "code",
   "execution_count": null,
   "metadata": {},
   "outputs": [
    {
     "data": {
      "text/plain": [
       "\"Hey test! Looks like you're still logged into the site!\""
      ]
     },
     "execution_count": 16,
     "metadata": {},
     "output_type": "execute_result"
    }
   ],
   "source": [
    "request('GET', urljoin(resp.url, 'profile.php'), \n",
    "                    cookies={'loggedin' : '1', 'username' : 'test'}).text"
   ]
  },
  {
   "cell_type": "code",
   "execution_count": null,
   "metadata": {},
   "outputs": [],
   "source": [
    "'''\n",
    "1. FORM(action, method)\n",
    "2. FROM tag[name] = tag[value] --> search browser\n",
    "3. FORM.method, FORM.action, GET; params, POST;data\n",
    "4. cookie 관리(set-cookie 확인, dict관리)\n",
    "'''"
   ]
  },
  {
   "cell_type": "code",
   "execution_count": null,
   "metadata": {},
   "outputs": [
    {
     "data": {
      "text/plain": [
       "'\\nPOST -> body(data)\\n'"
      ]
     },
     "execution_count": 17,
     "metadata": {},
     "output_type": "execute_result"
    }
   ],
   "source": [
    "resp.request.url, resp.request.body\n",
    "'''\n",
    "POST -> body(data)\n",
    "'''"
   ]
  },
  {
   "cell_type": "code",
   "execution_count": null,
   "metadata": {},
   "outputs": [],
   "source": [
    "from requests.cookies import cookiejar_from_dict"
   ]
  },
  {
   "cell_type": "code",
   "execution_count": null,
   "metadata": {},
   "outputs": [],
   "source": [
    "c = cookiejar_from_dict({'loggedin' : '1', 'username' : 'whoami'})"
   ]
  },
  {
   "cell_type": "code",
   "execution_count": null,
   "metadata": {},
   "outputs": [
    {
     "data": {
      "text/plain": [
       "\"Hey whoami! Looks like you're still logged into the site!\""
      ]
     },
     "execution_count": 20,
     "metadata": {},
     "output_type": "execute_result"
    }
   ],
   "source": [
    "request('GET', urljoin(resp.url, 'profile.php'), \n",
    "        cookies=c).text"
   ]
  },
  {
   "cell_type": "code",
   "execution_count": null,
   "metadata": {},
   "outputs": [
    {
     "name": "stdout",
     "output_type": "stream",
     "text": [
      "['loggedin', '1']\n",
      "['username', 'testest']\n"
     ]
    }
   ],
   "source": [
    "for row in resp.headers['set-cookie'].split(','): \n",
    "    print(row.strip().split('='))"
   ]
  },
  {
   "cell_type": "code",
   "execution_count": null,
   "metadata": {},
   "outputs": [],
   "source": [
    "from requests.sessions import Session\n",
    "session = Session()\n",
    "# '''\n",
    "# -> set-cookie => cookie jar 관리\n",
    "# '''"
   ]
  },
  {
   "cell_type": "code",
   "execution_count": null,
   "metadata": {},
   "outputs": [],
   "source": [
    "resp = session.request(form.attrs['method'], \n",
    "                       urljoin(resp.url, form.attrs['action']), \n",
    "                       data = params) "
   ]
  },
  {
   "cell_type": "code",
   "execution_count": null,
   "metadata": {},
   "outputs": [
    {
     "data": {
      "text/plain": [
       "\"Hey testest! Looks like you're still logged into the site!\""
      ]
     },
     "execution_count": 30,
     "metadata": {},
     "output_type": "execute_result"
    }
   ],
   "source": [
    "session.request('GET', urljoin(resp.url, 'profile.php')).text"
   ]
  },
  {
   "cell_type": "code",
   "execution_count": null,
   "metadata": {},
   "outputs": [],
   "source": [
    "url = 'https://lms.sunde41.net' \n",
    "resp = request('GET', url) "
   ]
  },
  {
   "cell_type": "code",
   "execution_count": null,
   "metadata": {},
   "outputs": [],
   "source": [
    "dom = BeautifulSoup(resp.text, 'html.parser') "
   ]
  },
  {
   "cell_type": "code",
   "execution_count": null,
   "metadata": {},
   "outputs": [],
   "source": [
    "form = dom.select_one('form')"
   ]
  },
  {
   "cell_type": "code",
   "execution_count": null,
   "metadata": {},
   "outputs": [],
   "source": [
    "params = {} \n",
    "for tag in form.select('[name]'): \n",
    "    params[tag.attrs['name']] = tag.attrs['value'] \\\n",
    "        if tag.has_attr('value') else '' "
   ]
  },
  {
   "cell_type": "code",
   "execution_count": null,
   "metadata": {},
   "outputs": [
    {
     "data": {
      "text/plain": [
       "{'next': '/', 'email': '', 'password': '', 'remember': ''}"
      ]
     },
     "execution_count": 36,
     "metadata": {},
     "output_type": "execute_result"
    }
   ],
   "source": [
    "params"
   ]
  },
  {
   "cell_type": "code",
   "execution_count": null,
   "metadata": {},
   "outputs": [
    {
     "name": "stdout",
     "output_type": "stream",
     "text": [
      "Writing lms.txt\n"
     ]
    }
   ],
   "source": [
    "%%writefile lms.txt \n",
    "{ \n",
    "    \"id\":\"value\", \n",
    "    \"pw\":\"pw\" \n",
    "}"
   ]
  },
  {
   "cell_type": "code",
   "execution_count": null,
   "metadata": {},
   "outputs": [],
   "source": [
    "import json \n",
    "# 이건 내꺼 - 작성 X \n",
    "with open('lms.txt', 'r', encoding='utf-8') as fp: \n",
    "    lms = json.load(fp)"
   ]
  },
  {
   "cell_type": "code",
   "execution_count": null,
   "metadata": {},
   "outputs": [],
   "source": [
    "params['email'] = lms['id'] \n",
    "params['password'] = lms['pw']"
   ]
  },
  {
   "cell_type": "code",
   "execution_count": null,
   "metadata": {},
   "outputs": [],
   "source": [
    "session.cookies.clear()"
   ]
  },
  {
   "cell_type": "code",
   "execution_count": null,
   "metadata": {},
   "outputs": [
    {
     "data": {
      "text/plain": [
       "{'action': '/auth/login',\n",
       " 'method': 'POST',\n",
       " 'name': 'login_user_form',\n",
       " 'class': ['m-form']}"
      ]
     },
     "execution_count": 43,
     "metadata": {},
     "output_type": "execute_result"
    }
   ],
   "source": [
    "form.attrs"
   ]
  },
  {
   "cell_type": "code",
   "execution_count": null,
   "metadata": {},
   "outputs": [],
   "source": [
    "resp = session.request(form.attrs['method'], \n",
    "                    urljoin(resp.url, form.attrs['action']), \n",
    "                    data=params)"
   ]
  },
  {
   "cell_type": "code",
   "execution_count": null,
   "metadata": {},
   "outputs": [
    {
     "ename": "FeatureNotFound",
     "evalue": "Couldn't find a tree builder with the features you requested: lxml. Do you need to install a parser library?",
     "output_type": "error",
     "traceback": [
      "\u001b[0;31m---------------------------------------------------------------------------\u001b[0m",
      "\u001b[0;31mFeatureNotFound\u001b[0m                           Traceback (most recent call last)",
      "Cell \u001b[0;32mIn[47], line 1\u001b[0m\n\u001b[0;32m----> 1\u001b[0m dom \u001b[39m=\u001b[39m BeautifulSoup(session\u001b[39m.\u001b[39;49mrequest(\u001b[39m'\u001b[39;49m\u001b[39mGET\u001b[39;49m\u001b[39m'\u001b[39;49m, url)\u001b[39m.\u001b[39;49mtext, \u001b[39m'\u001b[39;49m\u001b[39mlxml\u001b[39;49m\u001b[39m'\u001b[39;49m)\n",
      "File \u001b[0;32m~/.local/lib/python3.10/site-packages/bs4/__init__.py:250\u001b[0m, in \u001b[0;36mBeautifulSoup.__init__\u001b[0;34m(self, markup, features, builder, parse_only, from_encoding, exclude_encodings, element_classes, **kwargs)\u001b[0m\n\u001b[1;32m    248\u001b[0m     builder_class \u001b[39m=\u001b[39m builder_registry\u001b[39m.\u001b[39mlookup(\u001b[39m*\u001b[39mfeatures)\n\u001b[1;32m    249\u001b[0m     \u001b[39mif\u001b[39;00m builder_class \u001b[39mis\u001b[39;00m \u001b[39mNone\u001b[39;00m:\n\u001b[0;32m--> 250\u001b[0m         \u001b[39mraise\u001b[39;00m FeatureNotFound(\n\u001b[1;32m    251\u001b[0m             \u001b[39m\"\u001b[39m\u001b[39mCouldn\u001b[39m\u001b[39m'\u001b[39m\u001b[39mt find a tree builder with the features you \u001b[39m\u001b[39m\"\u001b[39m\n\u001b[1;32m    252\u001b[0m             \u001b[39m\"\u001b[39m\u001b[39mrequested: \u001b[39m\u001b[39m%s\u001b[39;00m\u001b[39m. Do you need to install a parser library?\u001b[39m\u001b[39m\"\u001b[39m\n\u001b[1;32m    253\u001b[0m             \u001b[39m%\u001b[39m \u001b[39m\"\u001b[39m\u001b[39m,\u001b[39m\u001b[39m\"\u001b[39m\u001b[39m.\u001b[39mjoin(features))\n\u001b[1;32m    255\u001b[0m \u001b[39m# At this point either we have a TreeBuilder instance in\u001b[39;00m\n\u001b[1;32m    256\u001b[0m \u001b[39m# builder, or we have a builder_class that we can instantiate\u001b[39;00m\n\u001b[1;32m    257\u001b[0m \u001b[39m# with the remaining **kwargs.\u001b[39;00m\n\u001b[1;32m    258\u001b[0m \u001b[39mif\u001b[39;00m builder \u001b[39mis\u001b[39;00m \u001b[39mNone\u001b[39;00m:\n",
      "\u001b[0;31mFeatureNotFound\u001b[0m: Couldn't find a tree builder with the features you requested: lxml. Do you need to install a parser library?"
     ]
    }
   ],
   "source": [
    "dom = BeautifulSoup(session.request('GET', url).text, 'lxml')"
   ]
  },
  {
   "cell_type": "code",
   "execution_count": null,
   "metadata": {},
   "outputs": [
    {
     "data": {
      "text/plain": [
       "[]"
      ]
     },
     "execution_count": 48,
     "metadata": {},
     "output_type": "execute_result"
    }
   ],
   "source": [
    "dom.select('a[href^=\"/course\"]')"
   ]
  },
  {
   "cell_type": "code",
   "execution_count": null,
   "metadata": {},
   "outputs": [],
   "source": [
    "resp = request('GET', urljoin(url, '/course/4'), \n",
    "               cookies=session.cookies)"
   ]
  },
  {
   "cell_type": "code",
   "execution_count": null,
   "metadata": {},
   "outputs": [
    {
     "ename": "FeatureNotFound",
     "evalue": "Couldn't find a tree builder with the features you requested: lxml. Do you need to install a parser library?",
     "output_type": "error",
     "traceback": [
      "\u001b[0;31m---------------------------------------------------------------------------\u001b[0m",
      "\u001b[0;31mFeatureNotFound\u001b[0m                           Traceback (most recent call last)",
      "Cell \u001b[0;32mIn[51], line 1\u001b[0m\n\u001b[0;32m----> 1\u001b[0m dom \u001b[39m=\u001b[39m BeautifulSoup(resp\u001b[39m.\u001b[39;49mtext, \u001b[39m'\u001b[39;49m\u001b[39mlxml\u001b[39;49m\u001b[39m'\u001b[39;49m)\n",
      "File \u001b[0;32m~/.local/lib/python3.10/site-packages/bs4/__init__.py:250\u001b[0m, in \u001b[0;36mBeautifulSoup.__init__\u001b[0;34m(self, markup, features, builder, parse_only, from_encoding, exclude_encodings, element_classes, **kwargs)\u001b[0m\n\u001b[1;32m    248\u001b[0m     builder_class \u001b[39m=\u001b[39m builder_registry\u001b[39m.\u001b[39mlookup(\u001b[39m*\u001b[39mfeatures)\n\u001b[1;32m    249\u001b[0m     \u001b[39mif\u001b[39;00m builder_class \u001b[39mis\u001b[39;00m \u001b[39mNone\u001b[39;00m:\n\u001b[0;32m--> 250\u001b[0m         \u001b[39mraise\u001b[39;00m FeatureNotFound(\n\u001b[1;32m    251\u001b[0m             \u001b[39m\"\u001b[39m\u001b[39mCouldn\u001b[39m\u001b[39m'\u001b[39m\u001b[39mt find a tree builder with the features you \u001b[39m\u001b[39m\"\u001b[39m\n\u001b[1;32m    252\u001b[0m             \u001b[39m\"\u001b[39m\u001b[39mrequested: \u001b[39m\u001b[39m%s\u001b[39;00m\u001b[39m. Do you need to install a parser library?\u001b[39m\u001b[39m\"\u001b[39m\n\u001b[1;32m    253\u001b[0m             \u001b[39m%\u001b[39m \u001b[39m\"\u001b[39m\u001b[39m,\u001b[39m\u001b[39m\"\u001b[39m\u001b[39m.\u001b[39mjoin(features))\n\u001b[1;32m    255\u001b[0m \u001b[39m# At this point either we have a TreeBuilder instance in\u001b[39;00m\n\u001b[1;32m    256\u001b[0m \u001b[39m# builder, or we have a builder_class that we can instantiate\u001b[39;00m\n\u001b[1;32m    257\u001b[0m \u001b[39m# with the remaining **kwargs.\u001b[39;00m\n\u001b[1;32m    258\u001b[0m \u001b[39mif\u001b[39;00m builder \u001b[39mis\u001b[39;00m \u001b[39mNone\u001b[39;00m:\n",
      "\u001b[0;31mFeatureNotFound\u001b[0m: Couldn't find a tree builder with the features you requested: lxml. Do you need to install a parser library?"
     ]
    }
   ],
   "source": [
    "dom = BeautifulSoup(resp.text, 'lxml')"
   ]
  },
  {
   "cell_type": "code",
   "execution_count": null,
   "metadata": {},
   "outputs": [],
   "source": [
    "for node in dom.select('a[href^=\"/static\"]'): \n",
    "    print(urljoin(resp.url, node.attrs['href'])) "
   ]
  },
  {
   "cell_type": "code",
   "execution_count": null,
   "metadata": {},
   "outputs": [
    {
     "ename": "SyntaxError",
     "evalue": "unterminated string literal (detected at line 1) (3983802057.py, line 1)",
     "output_type": "error",
     "traceback": [
      "\u001b[0;36m  Cell \u001b[0;32mIn[53], line 1\u001b[0;36m\u001b[0m\n\u001b[0;31m    resp = request('GET', 'https://lms.sunde41.net/static/uploads/lectures/4/%E1%84%83%E1%85%\u001b[0m\n\u001b[0m                          ^\u001b[0m\n\u001b[0;31mSyntaxError\u001b[0m\u001b[0;31m:\u001b[0m unterminated string literal (detected at line 1)\n"
     ]
    }
   ],
   "source": [
    "resp = request('GET', 'https://lms.sunde41.net/static/uploads/lectures/4/%E1%84%83%E1%85%\n",
    "root path = / \n",
    "           uri \n",
    "public path = /uploads/, /static"
   ]
  },
  {
   "cell_type": "code",
   "execution_count": null,
   "metadata": {},
   "outputs": [
    {
     "data": {
      "text/plain": [
       "{'Server': 'nginx/1.18.0 (Ubuntu)', 'Date': 'Tue, 18 Jul 2023 01:41:37 GMT', 'Content-Type': 'text/html; charset=utf-8', 'Content-Length': '2497', 'Connection': 'keep-alive'}"
      ]
     },
     "execution_count": 54,
     "metadata": {},
     "output_type": "execute_result"
    }
   ],
   "source": [
    "resp.headers "
   ]
  },
  {
   "cell_type": "code",
   "execution_count": null,
   "metadata": {},
   "outputs": [],
   "source": [
    "\n",
    "c = {} \n",
    "for k,v in session.cookies.get_dict().items(): \n",
    "    c[k] = v"
   ]
  },
  {
   "cell_type": "code",
   "execution_count": null,
   "metadata": {},
   "outputs": [
    {
     "data": {
      "text/plain": [
       "'<!DOCTYPE html>\\n<html lang=\"ko\">\\n<head>\\n    <meta charset=\"UTF-8\">\\n    <meta http-equiv=\"X-UA-Compatible\" content=\"IE=edge,chrome=1\">\\n    <meta name=\"viewport\" content=\"width=device-width, initial-scale=1, maximum-scale=1, shrink-to-fit=no\">\\n    <meta name=\"description\" content=\"\">\\n    <meta name=\"author\" content=\"\">\\n    <title> 로그인 : 고려대학교 지능정보SW아카데미</title>\\n    <link href=\"/static/vendors/login.css\" rel=\"stylesheet\">\\n    <link href=\"/static/vendors/bootstrap.css\" rel=\"stylesheet\">\\n    <link href=\"/static/vendors/style.css?v=1.7\" rel=\"stylesheet\">\\n    <link rel=\"shortcut icon\" href=\"/static/favicon/favicon.ico\" type=\"image/x-icon\">\\n    <link rel=\"icon\" href=\"/static/favicon/favicon.ico\" type=\"image/x-icon\">\\n    <style>\\n        .m-form .m-form__group {\\n        padding-top: 0;\\n        padding-bottom: 0;\\n        }\\n    </style>\\n</head>\\n<body>\\n    <div class=\"form-body without-side\">\\n        <div class=\"row\">\\n            <div class=\"img-holder\">\\n                <div class=\"bg\"></div>\\n            </div>\\n<div class=\"form-holder\">\\n    <div class=\"form-content\">\\n        <div class=\"form-items\">\\n            <h3><i class=\"fa fa-sign-in\"></i>Login</h3>\\n            <form action=\"/auth/login\" method=\"POST\" name=\"login_user_form\" class=\"m-form\">\\n                <input id=\"next\" name=\"next\" type=\"hidden\" value=\"/\">\\n                <div class=\"form-group m-form__group\">\\n                    <div class=\"m-input-icon m-input-icon--left\">\\n                        <div class=\"form-group m-form__group\">\\n    <div class=\"m-input-icon m-input-icon--left\">\\n        <input autocomplete=\"email\" class=\"form-control m-input\" id=\"email\" name=\"email\" placeholder=\"이메일을 입력하세요\" type=\"email\" value=\"\">\\n        <span class=\"m-input-icon__icon m-input-icon__icon--left\"><span><i\\n                class=\"flaticon-multimedia-2\"></i></span></span>\\n    </div>\\n</div>\\n\\n                        <span class=\"m-input-icon__icon m-input-icon__icon--left\"><span><i\\n                                class=\"flaticon-multimedia-2\"></i></span></span>\\n                    </div>\\n                </div>\\n                <div class=\"form-group m-form__group\">\\n                    <div class=\"m-input-icon m-input-icon--left\">\\n                        <div class=\"form-group m-form__group\">\\n    <div class=\"m-input-icon m-input-icon--left\">\\n        <input autocomplete=\"current-password\" class=\"form-control m-input\" id=\"password\" name=\"password\" placeholder=\"비밀번호를 입력하세요\" required type=\"password\" value=\"\">\\n        <span class=\"m-input-icon__icon m-input-icon__icon--left\"><span><i\\n                class=\"flaticon-multimedia-2\"></i></span></span>\\n    </div>\\n</div>\\n\\n                        <span class=\"m-input-icon__icon m-input-icon__icon--left\"><span><i\\n                                class=\"flaticon-lock\"></i></span></span>\\n                    </div>\\n                </div>\\n                <label class=\"m-checkbox m-checkbox--solid m-checkbox--state-brand\">\\n                    <input checked=\"\" class=\"form-control\" id=\"remember\" name=\"remember\" type=\"checkbox\"> 로그인 유지\\n                    <span></span>\\n                </label>\\n                <input id=\"button\" class=\"disbtn\", value=\"로그인\" onclick=\"this.disabled=true;this.parentNode.submit();\">                   <a href=\"/user/reset\">비밀번호를 잃어버리셨습니까?</a>\\n            </form>\\n        </div>\\n    </div>\\n</div>\\n        </div>\\n    </div>\\n    <script src=\"https://ajax.googleapis.com/ajax/libs/jquery/3.3.1/jquery.min.js\"></script>\\n    <script>\\n        if (!window.jQuery) {\\n            document.write(\\'<script src=/static/vendors/jquery.js><\\\\/script>\\');\\n        }\\n    </script>\\n    <script src=\"https://cdnjs.cloudflare.com/ajax/libs/popper.js/1.14.6/umd/popper.min.js\" integrity=\"sha384-wHAiFfRlMFy6i5SRaxvfOCifBUQy1xHdJ/yoi7FRNXMRBu5WHdZYu1hA6ZOblgut\" crossorigin=\"anonymous\"></script>\\n    <script src=\"https://stackpath.bootstrapcdn.com/bootstrap/4.2.1/js/bootstrap.min.js\" integrity=\"sha384-B0UglyR+jN6CkvvICOB2joaf5I4l3gm9GU6Hc1og6Ls7i6U/mkkaduKaBhlAXv9k\" crossorigin=\"anonymous\"></script>\\n    <script src=\"/static/vendors/basic.js\" ></script>\\n</body>\\n</html>'"
      ]
     },
     "execution_count": 57,
     "metadata": {},
     "output_type": "execute_result"
    }
   ],
   "source": [
    "request('GET', url, cookies=c).text"
   ]
  },
  {
   "cell_type": "code",
   "execution_count": null,
   "metadata": {},
   "outputs": [],
   "source": [
    "# auto/login -> /lms.sunde41.net -> /dashboard  \n",
    "#           302                 30"
   ]
  },
  {
   "cell_type": "code",
   "execution_count": null,
   "metadata": {},
   "outputs": [],
   "source": [
    "resp = request('POST', urljoin(url, '/auth/login'), data=params)"
   ]
  },
  {
   "cell_type": "code",
   "execution_count": null,
   "metadata": {},
   "outputs": [],
   "source": [
    "url = 'https://nid.naver.com/nidlogin.login?mode=form' \n",
    "resp = request('GET', url) "
   ]
  },
  {
   "cell_type": "code",
   "execution_count": null,
   "metadata": {},
   "outputs": [],
   "source": [
    "session.cookies.clear()"
   ]
  },
  {
   "cell_type": "code",
   "execution_count": null,
   "metadata": {},
   "outputs": [
    {
     "ename": "IndentationError",
     "evalue": "expected an indented block after 'if' statement on line 3 (4163505514.py, line 5)",
     "output_type": "error",
     "traceback": [
      "\u001b[0;36m  Cell \u001b[0;32mIn[73], line 5\u001b[0;36m\u001b[0m\n\u001b[0;31m    c[line.split('\\t')[0]] = line.split('\\t')[1]\u001b[0m\n\u001b[0m                                                ^\u001b[0m\n\u001b[0;31mIndentationError\u001b[0m\u001b[0;31m:\u001b[0m expected an indented block after 'if' statement on line 3\n"
     ]
    }
   ],
   "source": [
    "c = {} \n",
    "for line in r.splitlines(): \n",
    "    if len(line) > 1:\n",
    "#         print(line.split('\\t')[:2]) \n",
    "c[line.split('\\t')[0]] = line.split('\\t')[1]"
   ]
  },
  {
   "cell_type": "code",
   "execution_count": null,
   "metadata": {},
   "outputs": [
    {
     "data": {
      "text/plain": [
       "'<!DOCTYPE html>\\n<html lang=\"ko\">\\n<head>\\n    <meta charset=\"UTF-8\">\\n    <meta http-equiv=\"X-UA-Compatible\" content=\"IE=edge, chrome=1\">\\n    <meta name=\"viewport\" content=\"width=device-width, initial-scale=1.0, maximum-scale=1.0, user-scalable=no\">\\n    <meta property=\"og:type\" content=\"website\">\\n    <meta property=\"og:title\" content=\"네이버\">\\n    <meta property=\"og:description\" content=\"네이버에 로그인 하고 나를 위한 다양한 서비스를 이용해 보세요\">\\n    <meta property=\"og:image\" content=\"https://ssl.pstatic.net/static/nid/account/naver_og_image.png\">\\n    <meta property=\"og:image:type\" content=\"image/png\">\\n    <meta property=\"og:image:width\" content=\"1200\">\\n    <meta property=\"og:image:height\" content=\"630\">\\n    <title>네이버 : 로그인</title>\\n    <link rel=\"stylesheet\" type=\"text/css\" href=\"/login/css/global/desktop/w_20220216.css?20210812\">\\n</head>\\n<body>\\n<div id=\"wrap\" class=\"wrap\">\\n    <div class=\"u_skip\"><a href=\"https://www.naver.com\">본문 바로가기</a></div>\\n    <header class=\"header\" role=\"banner\" >\\n        <div class=\"header_inner\">\\n            <a   href=\"https://www.naver.com\" class=\"logo\">\\n                <h1 class=\"blind\">NAVER</h1>\\n            </a>\\n            <div class=\"lang\" id=\"show_locale_switch\">\\n                <select id=\"locale_switch\" name=\"locale_switch\" title=\"언어선택\" class=\"sel\">\\n                    <option value=\"ko_KR\">한국어</option>\\n                    <option value=\"en_US\">English</option>\\n                    <option value=\"zh-Hans_CN\">中文(简体)</option>\\n                    <option value=\"zh-Hant_TW\">中文(台灣)</option>\\n                </select>\\n            </div>\\n        </div>\\n    </header>\\n\\n    <div id=\"container\" class=\"container\">\\n        <!-- content -->\\n        <div class=\"content\">\\n            <div class=\"login_wrap\">\\n                <ul class=\"menu_wrap\" role=\"tablist\">\\n                    <li class=\"menu_item\" role=\"presentation\">\\n                        <!--[주] 탭메뉴 활성화시(=선택시) \"on\"을 추가해주세요. 접근성: aria-selected는 탭 선택시 true, 미선택시 false로 적용-->\\n                        <!--[주:접근성] 탭메뉴의 id 값과 탭내용의 aria-controls를 연결하고 있습니다. -->\\n                        <a href=\"#none\" id=\"loinid\" class=\"menu_id on\" role=\"tab\" aria-selected=\"true\">\\n                            <span class=\"menu_text\"><span class=\"text\">ID 로그인</span></span>\\n                        </a>\\n                    </li>\\n                    <li class=\"menu_item\" role=\"presentation\">\\n                        <a href=\"#none\" id=\"ones\" class=\"menu_ones\" role=\"tab\" aria-selected=\"false\">\\n                            <span class=\"menu_text\"><span class=\"text\">일회용 번호</span></span>\\n                        </a>\\n                    </li>\\n                    <li class=\"menu_item\" role=\"presentation\">\\n                        <a href=\"#none\" id=\"qrcode\" class=\"menu_qr\" role=\"tab\" aria-selected=\"false\">\\n                            <span class=\"menu_text\"><span class=\"text\">QR코드</span></span>\\n                        </a>\\n                        <!--넛지배너-->\\n                        <div class=\"nudge_banner\" id=\"nudge_tooltip\">\\n                            <span class=\"nudge_text\">PC방 등 공용PC라면 QR코드 로그인이 더 안전해요.</span>\\n                            <button type=\"button\" id=\"nudge_close\" class=\"nudge_close\"><span\\n                                        class=\"icon_nudge_close\"></span></button>\\n                        </div>\\n                    </li>\\n                </ul>\\n                <form id=\"frmNIDLogin\" name=\"frmNIDLogin\" target=\"_top\" AUTOCOMPLETE=\"off\"\\n                      action=\"https://nid.naver.com/nidlogin.login\" method=\"POST\">\\n                    <input type=\"hidden\" id=\"localechange\" name=\"localechange\" value=\"\">\\n                    <input type=\"hidden\" name=\"dynamicKey\" id=\"dynamicKey\" value=\"vttUKPj9jbfni__pdn_WUQmzfNGc6goELoUi1q3E9NCvA7rMyU8RFap2kO-96uXdSZgXu5ySS94BUThrIfJlqztIYHF4xeRG78jAk_Cvq04\">\\n                    <input type=\"hidden\" name=\"encpw\" id=\"encpw\" value=\"\">\\n<input type=\"hidden\" name=\"enctp\" id=\"enctp\" value=\"1\">\\n<input type=\"hidden\" name=\"svctype\" id=\"svctype\" value=\"1\">\\n<input type=\"hidden\" name=\"smart_LEVEL\" id=\"smart_LEVEL\" value=\"1\">\\n<input type=\"hidden\" name=\"bvsd\" id=\"bvsd\" value=\"\">\\n<input type=\"hidden\" name=\"encnm\" id=\"encnm\" value=\"\">\\n<input type=\"hidden\" name=\"locale\" id=\"locale\" value=\"ko_KR\">\\n<input type=\"hidden\" name=\"url\" id=\"url\" value=\"https://mail.naver.com/\">\\n\\n\\n                    <ul class=\"panel_wrap\">\\n                        <li class=\"panel_item\" style=\"display: block;\">\\n                            <div class=\"panel_inner\" role=\"tabpanel\" aria-controls=\"loinid\">\\n                                <div class=\"id_pw_wrap\">\\n                                    <div class=\"input_row\" id=\"id_line\">\\n                                        <div class=\"icon_cell\" id=\"id_cell\">\\n                                            <span class=\"icon_id\">\\n                                                <span class=\"blind\">아이디</span>\\n                                            </span>\\n                                        </div>\\n                                        <input type=\"text\" id=\"id\" name=\"id\" placeholder=\"아이디\" title=\"아이디\"\\n                                               class=\"input_text\" maxlength=\"41\"\\n                                               value=\"\">\\n                                        <span role=\"button\" class=\"btn_delete\" id=\"id_clear\" style=\"display: none;\">\\n                                            <span class=\"icon_delete\">\\n\\t\\t\\t\\t\\t\\t\\t\\t\\t\\t\\t\\t<span class=\"blind\">삭제</span>\\n                                            </span>\\n                                        </span>\\n                                    </div>\\n                                    <div class=\"input_row\" id=\"pw_line\">\\n                                        <div class=\"icon_cell\" id=\"pw_cell\">\\n                                            <span class=\"icon_pw\">\\n                                                <span class=\"blind\">비밀번호</span>\\n                                            </span>\\n                                        </div>\\n                                        <input type=\"password\" id=\"pw\" name=\"pw\" placeholder=\"비밀번호\" title=\"비밀번호\"\\n                                               class=\"input_text\" maxlength=\"16\">\\n                                        <span role=\"button\" class=\"btn_delete\" id=\"pw_clear\" style=\"display: none;\">\\n                                            <span class=\"icon_delete\">\\n                                                <span class=\"blind\">삭제</span>\\n                                            </span>\\n                                        </span>\\n                                    </div>\\n                                </div>\\n                                <div class=\"login_keep_wrap\" id=\"login_keep_wrap\">\\n                                    <div class=\"keep_check\">\\n                                        <input type=\"checkbox\" id=\"keep\" name=\"nvlong\"\\n                                               class=\"input_keep\"  value=\"off\">\\n                                        <label for=\"keep\" class=\"keep_text\">로그인 상태 유지</label>\\n                                    </div>\\n                                    <div class=\"ip_check\">\\n                                        <a href=\"/login/ext/help_ip3.html\" target=\"_blank\" id=\"ipguide\" title=\"IP보안\"><span class=\"ip_text\">IP보안</span></a>\\n                                        <span class=\"switch\">\\n                                            <input type=\"checkbox\" id=\"switch\"\\n                                                   class=\"switch_checkbox\" value=\"off\">\\n                                            <label for=\"switch\" class=\"switch_btn\">\\n                                                <span class=\"blind\" id=\"switch_blind\">OFF</span>\\n                                            </label>\\n                                        </span>\\n                                    </div>\\n                                </div>\\n\\n                                <div class=\"login_error_wrap\" id=\"err_capslock\" style=\"display: none;\">\\n                                    <div class=\"error_message\">\\n                                        <strong>CapsLock</strong>이 켜져 있습니다.\\n                                    </div>\\n                                </div>\\n\\n                                <div class=\"login_error_wrap\" id=\"err_empty_id\" style=\"display: none;\">\\n                                    <div class=\"error_message\">\\n                                        <strong>아이디</strong>를 입력해 주세요.\\n                                    </div>\\n                                </div>\\n\\n                                <div class=\"login_error_wrap\" id=\"err_empty_pw\" style=\"display: none;\">\\n                                    <div class=\"error_message\">\\n                                        <strong>비밀번호</strong>를 입력해 주세요.\\n                                    </div>\\n                                </div>\\n                                <div class=\"login_error_wrap\" id=\"err_common\"  style=\"display:none;\">\\n                                    <div class=\"error_message\"\\n                                         style=\"width:90%\">\\n                                        \\n                                    </div>\\n                                </div>\\n                                <div class=\"btn_login_wrap\">\\n\\n                                    <button type=\"submit\" class=\"btn_login\" id=\"log.login\">\\n                                        <span class=\"btn_text\">로그인</span>\\n                                    </button>\\n\\n                                </div>\\n                            </div>\\n                        </li>\\n                    </ul>\\n                </form>\\n            </div>\\n            <ul class=\"find_wrap\" id=\"find_wrap\">\\n\\n                <li><a target=\"_blank\" href=\"https://nid.naver.com/user2/api/route?m=routePwInquiry&lang=ko_KR\"\\n                       class=\"find_text\">비밀번호 찾기</a></li>\\n                <li><a target=\"_blank\" href=\"https://nid.naver.com/user2/api/route?m=routeIdInquiry&lang=ko_KR\"\\n                       class=\"find_text\">아이디 찾기</a></li>\\n                <li><a target=\"_blank\" href=\"https://nid.naver.com/user2/V2Join?m=agree&lang=ko_KR&domain=mail.naver.com\" class=\"find_text\">회원가입</a>\\n                </li>\\n\\n            </ul>\\n            <!--배너-->\\n            <div id=\"gladbanner\" class=\"banner_wrap\">\\n                &nbsp;\\n            </div>\\n        </div>\\n        <!-- //content -->\\n    </div>\\n\\n    <!-- footer -->\\n    <div class=\"footer\">\\n        <div class=\"footer_inner\">\\n            <!--[주]고객센터,제휴문의,서비스안내-->\\n            <ul class=\"footer_link\" id=\"footer_link\">\\n                <li><a target=\"_blank\" class=\"footer_item\" href=\"http://www.naver.com/rules/service.html\"\\n                       id=\"fot.agreement\"><span class=\"text\">이용약관</span></a></li>\\n                <li><a target=\"_blank\" class=\"footer_item\" href=\"http://www.naver.com/rules/privacy.html\"\\n                       id=\"fot.privacy\"><span class=\"text\"><strong>개인정보처리방침</strong></span></a></li>\\n                <li><a target=\"_blank\" class=\"footer_item\" href=\"http://www.naver.com/rules/disclaimer.html\"\\n                       id=\"fot.disclaimer\"><span class=\"text\">책임의 한계와 법적고지</span></a></li>\\n                <li><a target=\"_blank\" class=\"footer_item\"\\n                       href=\"https://help.naver.com/support/service/main.nhn?serviceNo=532\" id=\"fot.help\"><span\\n                                class=\"text\">회원정보 고객센터</span></a></li>\\n            </ul>\\n            <div class=\"footer_copy\">\\n                <a id=\"fot.naver\" target=\"_blank\" href=\"https://www.navercorp.com\">\\n                    <span class=\"footer_logo\"><span class=\"blind\">네이버</span></span>\\n                </a>\\n                <span class=\"text\">Copyright</span>\\n                <span class=\"corp\">© NAVER Corp.</span>\\n                <span class=\"text\">All Rights Reserved.</span>\\n            </div>\\n        </div>\\n    </div>\\n\\n</div>\\n<input type=\"hidden\" id=\"nclicks_nsc\" name=\"nclicks_nsc\" value=\"nid.login_kr\">\\n<input type=\"hidden\" id=\"nid_buk\" name=\"nid_buk\" value=\"none\">\\n<input type=\"hidden\" id=\"removeLink\" name=\"removeLink\" value=\"\">\\n<input type=\"hidden\" id=\"hide_util\" name=\"hide_util\" value=\"\">\\n<input type=\"hidden\" id=\"ncaptchaSplit\" name=\"ncaptchaSplit\" value=\"none\">\\n<input type=\"hidden\" id=\"id_error_msg\" name=\"id_error_msg\" value=\"<strong>아이디</strong>를 입력해주세요.\">\\n<input type=\"hidden\" id=\"pw_error_msg\" name=\"pw_error_msg\" value=\"<strong>비밀번호</strong>를 입력해주세요.\">\\n<input type=\"hidden\" id=\"locale\" name=\"locale\" value=\"ko_KR\">\\n<input type=\"hidden\" id=\"adult_surl_v2\" name=\"adult_surl_v2\" value=\"\">\\n<input type=\"hidden\" id=\"ispopup\" name=\"ispopup\" value=\"false\">\\n<script type=\"text/javascript\" src=\"/login/js/bvsd.1.3.9.min.js\"></script>\\n<script type=\"text/javascript\" async src=\"https://ssl.pstatic.net/tveta/libs/glad/prod/gfp-core.js\"></script>\\n<script type=\"text/javascript\" src=\"/login/js/v2/default/common_202201.js?v=20230619\"></script>\\n<script type=\"text/javascript\" src=\"/login/js/v2/default/default_202105.js?v=20230217\"></script>\\n<div id=\"nv_stat\" style=\"display:none;\">20</div>\\n</body>\\n</html>\\n'"
      ]
     },
     "execution_count": 74,
     "metadata": {},
     "output_type": "execute_result"
    }
   ],
   "source": [
    "url = 'https://mail.naver.com' \n",
    "request('GET', url, cookies=c).text "
   ]
  },
  {
   "cell_type": "code",
   "execution_count": null,
   "metadata": {},
   "outputs": [],
   "source": [
    "for k,v in c.items(): \n",
    "    session.cookies.set(k,v)"
   ]
  },
  {
   "cell_type": "code",
   "execution_count": null,
   "metadata": {},
   "outputs": [
    {
     "data": {
      "text/plain": [
       "<re.Match object; span=(689, 713), match='<title>네이버 : 로그인</title>'>"
      ]
     },
     "execution_count": 77,
     "metadata": {},
     "output_type": "execute_result"
    }
   ],
   "source": [
    "import re \n",
    "re.search(r'<title>(.+)</title>', session.request('GET', url).text)"
   ]
  },
  {
   "cell_type": "code",
   "execution_count": null,
   "metadata": {},
   "outputs": [
    {
     "data": {
      "text/plain": [
       "'<!DOCTYPE html>\\n<html lang=\"ko\">\\n<head>\\n    <meta charset=\"UTF-8\">\\n    <meta http-equiv=\"X-UA-Compatible\" content=\"IE=edge, chrome=1\">\\n    <meta name=\"viewport\" content=\"width=device-width, initial-scale=1.0, maximum-scale=1.0, user-scalable=no\">\\n    <meta property=\"og:type\" content=\"website\">\\n    <meta property=\"og:title\" content=\"네이버\">\\n    <meta property=\"og:description\" content=\"네이버에 로그인 하고 나를 위한 다양한 서비스를 이용해 보세요\">\\n    <meta property=\"og:image\" content=\"https://ssl.pstatic.net/static/nid/account/naver_og_image.png\">\\n    <meta property=\"og:image:type\" content=\"image/png\">\\n    <meta property=\"og:image:width\" content=\"1200\">\\n    <meta property=\"og:image:height\" content=\"630\">\\n    <title>네이버 : 로그인</title>\\n    <link rel=\"stylesheet\" type=\"text/css\" href=\"/login/css/global/desktop/w_20220216.css?20210812\">\\n</head>\\n<body>\\n<div id=\"wrap\" class=\"wrap\">\\n    <div class=\"u_skip\"><a href=\"https://www.naver.com\">본문 바로가기</a></div>\\n    <header class=\"header\" role=\"banner\" >\\n        <div class=\"header_inner\">\\n            <a   href=\"https://www.naver.com\" class=\"logo\">\\n                <h1 class=\"blind\">NAVER</h1>\\n            </a>\\n            <div class=\"lang\" id=\"show_locale_switch\">\\n                <select id=\"locale_switch\" name=\"locale_switch\" title=\"언어선택\" class=\"sel\">\\n                    <option value=\"ko_KR\">한국어</option>\\n                    <option value=\"en_US\">English</option>\\n                    <option value=\"zh-Hans_CN\">中文(简体)</option>\\n                    <option value=\"zh-Hant_TW\">中文(台灣)</option>\\n                </select>\\n            </div>\\n        </div>\\n    </header>\\n\\n    <div id=\"container\" class=\"container\">\\n        <!-- content -->\\n        <div class=\"content\">\\n            <div class=\"login_wrap\">\\n                <ul class=\"menu_wrap\" role=\"tablist\">\\n                    <li class=\"menu_item\" role=\"presentation\">\\n                        <!--[주] 탭메뉴 활성화시(=선택시) \"on\"을 추가해주세요. 접근성: aria-selected는 탭 선택시 true, 미선택시 false로 적용-->\\n                        <!--[주:접근성] 탭메뉴의 id 값과 탭내용의 aria-controls를 연결하고 있습니다. -->\\n                        <a href=\"#none\" id=\"loinid\" class=\"menu_id on\" role=\"tab\" aria-selected=\"true\">\\n                            <span class=\"menu_text\"><span class=\"text\">ID 로그인</span></span>\\n                        </a>\\n                    </li>\\n                    <li class=\"menu_item\" role=\"presentation\">\\n                        <a href=\"#none\" id=\"ones\" class=\"menu_ones\" role=\"tab\" aria-selected=\"false\">\\n                            <span class=\"menu_text\"><span class=\"text\">일회용 번호</span></span>\\n                        </a>\\n                    </li>\\n                    <li class=\"menu_item\" role=\"presentation\">\\n                        <a href=\"#none\" id=\"qrcode\" class=\"menu_qr\" role=\"tab\" aria-selected=\"false\">\\n                            <span class=\"menu_text\"><span class=\"text\">QR코드</span></span>\\n                        </a>\\n                        <!--넛지배너-->\\n                        <div class=\"nudge_banner\" id=\"nudge_tooltip\">\\n                            <span class=\"nudge_text\">PC방 등 공용PC라면 QR코드 로그인이 더 안전해요.</span>\\n                            <button type=\"button\" id=\"nudge_close\" class=\"nudge_close\"><span\\n                                        class=\"icon_nudge_close\"></span></button>\\n                        </div>\\n                    </li>\\n                </ul>\\n                <form id=\"frmNIDLogin\" name=\"frmNIDLogin\" target=\"_top\" AUTOCOMPLETE=\"off\"\\n                      action=\"https://nid.naver.com/nidlogin.login\" method=\"POST\">\\n                    <input type=\"hidden\" id=\"localechange\" name=\"localechange\" value=\"\">\\n                    <input type=\"hidden\" name=\"dynamicKey\" id=\"dynamicKey\" value=\"dT0rz-hamstO0ONPZxZKQhFIEBjGLbwneAH477aZWQ4LFLCMmPiJBjfrWQFLOa8YLB-gu7HGF_OjjAsnOwqF-H9MTNjDfYwcN_ivZgWMOyk\">\\n                    <input type=\"hidden\" name=\"encpw\" id=\"encpw\" value=\"\">\\n<input type=\"hidden\" name=\"enctp\" id=\"enctp\" value=\"1\">\\n<input type=\"hidden\" name=\"svctype\" id=\"svctype\" value=\"1\">\\n<input type=\"hidden\" name=\"smart_LEVEL\" id=\"smart_LEVEL\" value=\"1\">\\n<input type=\"hidden\" name=\"bvsd\" id=\"bvsd\" value=\"\">\\n<input type=\"hidden\" name=\"encnm\" id=\"encnm\" value=\"\">\\n<input type=\"hidden\" name=\"locale\" id=\"locale\" value=\"ko_KR\">\\n<input type=\"hidden\" name=\"url\" id=\"url\" value=\"https://mail.naver.com/v2/folders/0\">\\n\\n\\n                    <ul class=\"panel_wrap\">\\n                        <li class=\"panel_item\" style=\"display: block;\">\\n                            <div class=\"panel_inner\" role=\"tabpanel\" aria-controls=\"loinid\">\\n                                <div class=\"id_pw_wrap\">\\n                                    <div class=\"input_row\" id=\"id_line\">\\n                                        <div class=\"icon_cell\" id=\"id_cell\">\\n                                            <span class=\"icon_id\">\\n                                                <span class=\"blind\">아이디</span>\\n                                            </span>\\n                                        </div>\\n                                        <input type=\"text\" id=\"id\" name=\"id\" placeholder=\"아이디\" title=\"아이디\"\\n                                               class=\"input_text\" maxlength=\"41\"\\n                                               value=\"\">\\n                                        <span role=\"button\" class=\"btn_delete\" id=\"id_clear\" style=\"display: none;\">\\n                                            <span class=\"icon_delete\">\\n\\t\\t\\t\\t\\t\\t\\t\\t\\t\\t\\t\\t<span class=\"blind\">삭제</span>\\n                                            </span>\\n                                        </span>\\n                                    </div>\\n                                    <div class=\"input_row\" id=\"pw_line\">\\n                                        <div class=\"icon_cell\" id=\"pw_cell\">\\n                                            <span class=\"icon_pw\">\\n                                                <span class=\"blind\">비밀번호</span>\\n                                            </span>\\n                                        </div>\\n                                        <input type=\"password\" id=\"pw\" name=\"pw\" placeholder=\"비밀번호\" title=\"비밀번호\"\\n                                               class=\"input_text\" maxlength=\"16\">\\n                                        <span role=\"button\" class=\"btn_delete\" id=\"pw_clear\" style=\"display: none;\">\\n                                            <span class=\"icon_delete\">\\n                                                <span class=\"blind\">삭제</span>\\n                                            </span>\\n                                        </span>\\n                                    </div>\\n                                </div>\\n                                <div class=\"login_keep_wrap\" id=\"login_keep_wrap\">\\n                                    <div class=\"keep_check\">\\n                                        <input type=\"checkbox\" id=\"keep\" name=\"nvlong\"\\n                                               class=\"input_keep\"  value=\"off\">\\n                                        <label for=\"keep\" class=\"keep_text\">로그인 상태 유지</label>\\n                                    </div>\\n                                    <div class=\"ip_check\">\\n                                        <a href=\"/login/ext/help_ip3.html\" target=\"_blank\" id=\"ipguide\" title=\"IP보안\"><span class=\"ip_text\">IP보안</span></a>\\n                                        <span class=\"switch\">\\n                                            <input type=\"checkbox\" id=\"switch\"\\n                                                   class=\"switch_checkbox\" value=\"off\">\\n                                            <label for=\"switch\" class=\"switch_btn\">\\n                                                <span class=\"blind\" id=\"switch_blind\">OFF</span>\\n                                            </label>\\n                                        </span>\\n                                    </div>\\n                                </div>\\n\\n                                <div class=\"login_error_wrap\" id=\"err_capslock\" style=\"display: none;\">\\n                                    <div class=\"error_message\">\\n                                        <strong>CapsLock</strong>이 켜져 있습니다.\\n                                    </div>\\n                                </div>\\n\\n                                <div class=\"login_error_wrap\" id=\"err_empty_id\" style=\"display: none;\">\\n                                    <div class=\"error_message\">\\n                                        <strong>아이디</strong>를 입력해 주세요.\\n                                    </div>\\n                                </div>\\n\\n                                <div class=\"login_error_wrap\" id=\"err_empty_pw\" style=\"display: none;\">\\n                                    <div class=\"error_message\">\\n                                        <strong>비밀번호</strong>를 입력해 주세요.\\n                                    </div>\\n                                </div>\\n                                <div class=\"login_error_wrap\" id=\"err_common\"  style=\"display:none;\">\\n                                    <div class=\"error_message\"\\n                                         style=\"width:90%\">\\n                                        \\n                                    </div>\\n                                </div>\\n                                <div class=\"btn_login_wrap\">\\n\\n                                    <button type=\"submit\" class=\"btn_login\" id=\"log.login\">\\n                                        <span class=\"btn_text\">로그인</span>\\n                                    </button>\\n\\n                                </div>\\n                            </div>\\n                        </li>\\n                    </ul>\\n                </form>\\n            </div>\\n            <ul class=\"find_wrap\" id=\"find_wrap\">\\n\\n                <li><a target=\"_blank\" href=\"https://nid.naver.com/user2/api/route?m=routePwInquiry&lang=ko_KR\"\\n                       class=\"find_text\">비밀번호 찾기</a></li>\\n                <li><a target=\"_blank\" href=\"https://nid.naver.com/user2/api/route?m=routeIdInquiry&lang=ko_KR\"\\n                       class=\"find_text\">아이디 찾기</a></li>\\n                <li><a target=\"_blank\" href=\"https://nid.naver.com/user2/V2Join?m=agree&lang=ko_KR&domain=mail.naver.com\" class=\"find_text\">회원가입</a>\\n                </li>\\n\\n            </ul>\\n            <!--배너-->\\n            <div id=\"gladbanner\" class=\"banner_wrap\">\\n                &nbsp;\\n            </div>\\n        </div>\\n        <!-- //content -->\\n    </div>\\n\\n    <!-- footer -->\\n    <div class=\"footer\">\\n        <div class=\"footer_inner\">\\n            <!--[주]고객센터,제휴문의,서비스안내-->\\n            <ul class=\"footer_link\" id=\"footer_link\">\\n                <li><a target=\"_blank\" class=\"footer_item\" href=\"http://www.naver.com/rules/service.html\"\\n                       id=\"fot.agreement\"><span class=\"text\">이용약관</span></a></li>\\n                <li><a target=\"_blank\" class=\"footer_item\" href=\"http://www.naver.com/rules/privacy.html\"\\n                       id=\"fot.privacy\"><span class=\"text\"><strong>개인정보처리방침</strong></span></a></li>\\n                <li><a target=\"_blank\" class=\"footer_item\" href=\"http://www.naver.com/rules/disclaimer.html\"\\n                       id=\"fot.disclaimer\"><span class=\"text\">책임의 한계와 법적고지</span></a></li>\\n                <li><a target=\"_blank\" class=\"footer_item\"\\n                       href=\"https://help.naver.com/support/service/main.nhn?serviceNo=532\" id=\"fot.help\"><span\\n                                class=\"text\">회원정보 고객센터</span></a></li>\\n            </ul>\\n            <div class=\"footer_copy\">\\n                <a id=\"fot.naver\" target=\"_blank\" href=\"https://www.navercorp.com\">\\n                    <span class=\"footer_logo\"><span class=\"blind\">네이버</span></span>\\n                </a>\\n                <span class=\"text\">Copyright</span>\\n                <span class=\"corp\">© NAVER Corp.</span>\\n                <span class=\"text\">All Rights Reserved.</span>\\n            </div>\\n        </div>\\n    </div>\\n\\n</div>\\n<input type=\"hidden\" id=\"nclicks_nsc\" name=\"nclicks_nsc\" value=\"nid.login_kr\">\\n<input type=\"hidden\" id=\"nid_buk\" name=\"nid_buk\" value=\"none\">\\n<input type=\"hidden\" id=\"removeLink\" name=\"removeLink\" value=\"\">\\n<input type=\"hidden\" id=\"hide_util\" name=\"hide_util\" value=\"\">\\n<input type=\"hidden\" id=\"ncaptchaSplit\" name=\"ncaptchaSplit\" value=\"none\">\\n<input type=\"hidden\" id=\"id_error_msg\" name=\"id_error_msg\" value=\"<strong>아이디</strong>를 입력해주세요.\">\\n<input type=\"hidden\" id=\"pw_error_msg\" name=\"pw_error_msg\" value=\"<strong>비밀번호</strong>를 입력해주세요.\">\\n<input type=\"hidden\" id=\"locale\" name=\"locale\" value=\"ko_KR\">\\n<input type=\"hidden\" id=\"adult_surl_v2\" name=\"adult_surl_v2\" value=\"\">\\n<input type=\"hidden\" id=\"ispopup\" name=\"ispopup\" value=\"false\">\\n<script type=\"text/javascript\" src=\"/login/js/bvsd.1.3.9.min.js\"></script>\\n<script type=\"text/javascript\" async src=\"https://ssl.pstatic.net/tveta/libs/glad/prod/gfp-core.js\"></script>\\n<script type=\"text/javascript\" src=\"/login/js/v2/default/common_202201.js?v=20230619\"></script>\\n<script type=\"text/javascript\" src=\"/login/js/v2/default/default_202105.js?v=20230217\"></script>\\n<div id=\"nv_stat\" style=\"display:none;\">20</div>\\n</body>\\n</html>\\n'"
      ]
     },
     "execution_count": 78,
     "metadata": {},
     "output_type": "execute_result"
    }
   ],
   "source": [
    "# 받은메일함\n",
    "session.get('https://mail.naver.com/v2/folders/0').text"
   ]
  },
  {
   "cell_type": "code",
   "execution_count": null,
   "metadata": {},
   "outputs": [],
   "source": [
    "url = 'https://mail.naver.com/json/list' \n",
    "params = { \n",
    "    'folderSN':'0', \n",
    "    'page':'1', \n",
    "    'viewMode':'time', \n",
    "    'previewMode':'1', \n",
    "    'sortField':'1', \n",
    "    'sortType':'0', \n",
    "    'u':'gon0121' \n",
    "} # params['u'] <= 본인 아이디 \n",
    "resp = session.request('POST', url, params=params)"
   ]
  },
  {
   "cell_type": "code",
   "execution_count": null,
   "metadata": {},
   "outputs": [
    {
     "ename": "KeyError",
     "evalue": "'mailData'",
     "output_type": "error",
     "traceback": [
      "\u001b[0;31m---------------------------------------------------------------------------\u001b[0m",
      "\u001b[0;31mKeyError\u001b[0m                                  Traceback (most recent call last)",
      "Cell \u001b[0;32mIn[80], line 1\u001b[0m\n\u001b[0;32m----> 1\u001b[0m \u001b[39mlen\u001b[39m(resp\u001b[39m.\u001b[39;49mjson()[\u001b[39m'\u001b[39;49m\u001b[39mmailData\u001b[39;49m\u001b[39m'\u001b[39;49m])\n",
      "\u001b[0;31mKeyError\u001b[0m: 'mailData'"
     ]
    }
   ],
   "source": [
    "len(resp.json()['mailData'])"
   ]
  },
  {
   "cell_type": "code",
   "execution_count": null,
   "metadata": {},
   "outputs": [
    {
     "ename": "KeyError",
     "evalue": "'mailData'",
     "output_type": "error",
     "traceback": [
      "\u001b[0;31m---------------------------------------------------------------------------\u001b[0m",
      "\u001b[0;31mKeyError\u001b[0m                                  Traceback (most recent call last)",
      "Cell \u001b[0;32mIn[84], line 2\u001b[0m\n\u001b[1;32m      1\u001b[0m resp \u001b[39m=\u001b[39m request(\u001b[39m'\u001b[39m\u001b[39mPOST\u001b[39m\u001b[39m'\u001b[39m, url, params\u001b[39m=\u001b[39mparams, cookies\u001b[39m=\u001b[39mc) \n\u001b[0;32m----> 2\u001b[0m \u001b[39mlen\u001b[39m(resp\u001b[39m.\u001b[39;49mjson()[\u001b[39m'\u001b[39;49m\u001b[39mmailData\u001b[39;49m\u001b[39m'\u001b[39;49m]) \n\u001b[1;32m      3\u001b[0m \u001b[39m# 스팸 메일함 불러오기\u001b[39;00m\n",
      "\u001b[0;31mKeyError\u001b[0m: 'mailData'"
     ]
    }
   ],
   "source": [
    "resp = request('POST', url, params=params, cookies=c) \n",
    "len(resp.json()['mailData']) \n",
    "# 스팸 메일함 불러오기"
   ]
  },
  {
   "cell_type": "code",
   "execution_count": null,
   "metadata": {},
   "outputs": [],
   "source": [
    "resp = session.request('GET', 'https://cafe.naver.com')"
   ]
  },
  {
   "cell_type": "code",
   "execution_count": null,
   "metadata": {},
   "outputs": [
    {
     "data": {
      "text/plain": [
       "'{\"Result\":\"FAIL\",\"Message\":\"\", \"LoginStatus\":\"NOLOGIN\"}'"
      ]
     },
     "execution_count": 82,
     "metadata": {},
     "output_type": "execute_result"
    }
   ],
   "source": [
    "resp.text \n",
    "# 카페 목록 불러오기"
   ]
  },
  {
   "cell_type": "code",
   "execution_count": null,
   "metadata": {},
   "outputs": [
    {
     "ename": "ConnectTimeout",
     "evalue": "HTTPSConnectionPool(host='www.ypbook.co.kr', port=443): Max retries exceeded with url: /kor_index.yp (Caused by ConnectTimeoutError(<urllib3.connection.HTTPSConnection object at 0x7f091dcc30a0>, 'Connection to www.ypbook.co.kr timed out. (connect timeout=None)'))",
     "output_type": "error",
     "traceback": [
      "\u001b[0;31m---------------------------------------------------------------------------\u001b[0m",
      "\u001b[0;31mTimeoutError\u001b[0m                              Traceback (most recent call last)",
      "File \u001b[0;32m~/.local/lib/python3.10/site-packages/urllib3/connection.py:200\u001b[0m, in \u001b[0;36mHTTPConnection._new_conn\u001b[0;34m(self)\u001b[0m\n\u001b[1;32m    199\u001b[0m \u001b[39mtry\u001b[39;00m:\n\u001b[0;32m--> 200\u001b[0m     sock \u001b[39m=\u001b[39m connection\u001b[39m.\u001b[39;49mcreate_connection(\n\u001b[1;32m    201\u001b[0m         (\u001b[39mself\u001b[39;49m\u001b[39m.\u001b[39;49m_dns_host, \u001b[39mself\u001b[39;49m\u001b[39m.\u001b[39;49mport),\n\u001b[1;32m    202\u001b[0m         \u001b[39mself\u001b[39;49m\u001b[39m.\u001b[39;49mtimeout,\n\u001b[1;32m    203\u001b[0m         source_address\u001b[39m=\u001b[39;49m\u001b[39mself\u001b[39;49m\u001b[39m.\u001b[39;49msource_address,\n\u001b[1;32m    204\u001b[0m         socket_options\u001b[39m=\u001b[39;49m\u001b[39mself\u001b[39;49m\u001b[39m.\u001b[39;49msocket_options,\n\u001b[1;32m    205\u001b[0m     )\n\u001b[1;32m    206\u001b[0m \u001b[39mexcept\u001b[39;00m socket\u001b[39m.\u001b[39mgaierror \u001b[39mas\u001b[39;00m e:\n",
      "File \u001b[0;32m~/.local/lib/python3.10/site-packages/urllib3/util/connection.py:85\u001b[0m, in \u001b[0;36mcreate_connection\u001b[0;34m(address, timeout, source_address, socket_options)\u001b[0m\n\u001b[1;32m     84\u001b[0m \u001b[39mtry\u001b[39;00m:\n\u001b[0;32m---> 85\u001b[0m     \u001b[39mraise\u001b[39;00m err\n\u001b[1;32m     86\u001b[0m \u001b[39mfinally\u001b[39;00m:\n\u001b[1;32m     87\u001b[0m     \u001b[39m# Break explicitly a reference cycle\u001b[39;00m\n",
      "File \u001b[0;32m~/.local/lib/python3.10/site-packages/urllib3/util/connection.py:73\u001b[0m, in \u001b[0;36mcreate_connection\u001b[0;34m(address, timeout, source_address, socket_options)\u001b[0m\n\u001b[1;32m     72\u001b[0m     sock\u001b[39m.\u001b[39mbind(source_address)\n\u001b[0;32m---> 73\u001b[0m sock\u001b[39m.\u001b[39;49mconnect(sa)\n\u001b[1;32m     74\u001b[0m \u001b[39m# Break explicitly a reference cycle\u001b[39;00m\n",
      "\u001b[0;31mTimeoutError\u001b[0m: [Errno 110] Connection timed out",
      "\nThe above exception was the direct cause of the following exception:\n",
      "\u001b[0;31mConnectTimeoutError\u001b[0m                       Traceback (most recent call last)",
      "File \u001b[0;32m~/.local/lib/python3.10/site-packages/urllib3/connectionpool.py:790\u001b[0m, in \u001b[0;36mHTTPConnectionPool.urlopen\u001b[0;34m(self, method, url, body, headers, retries, redirect, assert_same_host, timeout, pool_timeout, release_conn, chunked, body_pos, preload_content, decode_content, **response_kw)\u001b[0m\n\u001b[1;32m    789\u001b[0m \u001b[39m# Make the request on the HTTPConnection object\u001b[39;00m\n\u001b[0;32m--> 790\u001b[0m response \u001b[39m=\u001b[39m \u001b[39mself\u001b[39;49m\u001b[39m.\u001b[39;49m_make_request(\n\u001b[1;32m    791\u001b[0m     conn,\n\u001b[1;32m    792\u001b[0m     method,\n\u001b[1;32m    793\u001b[0m     url,\n\u001b[1;32m    794\u001b[0m     timeout\u001b[39m=\u001b[39;49mtimeout_obj,\n\u001b[1;32m    795\u001b[0m     body\u001b[39m=\u001b[39;49mbody,\n\u001b[1;32m    796\u001b[0m     headers\u001b[39m=\u001b[39;49mheaders,\n\u001b[1;32m    797\u001b[0m     chunked\u001b[39m=\u001b[39;49mchunked,\n\u001b[1;32m    798\u001b[0m     retries\u001b[39m=\u001b[39;49mretries,\n\u001b[1;32m    799\u001b[0m     response_conn\u001b[39m=\u001b[39;49mresponse_conn,\n\u001b[1;32m    800\u001b[0m     preload_content\u001b[39m=\u001b[39;49mpreload_content,\n\u001b[1;32m    801\u001b[0m     decode_content\u001b[39m=\u001b[39;49mdecode_content,\n\u001b[1;32m    802\u001b[0m     \u001b[39m*\u001b[39;49m\u001b[39m*\u001b[39;49mresponse_kw,\n\u001b[1;32m    803\u001b[0m )\n\u001b[1;32m    805\u001b[0m \u001b[39m# Everything went great!\u001b[39;00m\n",
      "File \u001b[0;32m~/.local/lib/python3.10/site-packages/urllib3/connectionpool.py:491\u001b[0m, in \u001b[0;36mHTTPConnectionPool._make_request\u001b[0;34m(self, conn, method, url, body, headers, retries, timeout, chunked, response_conn, preload_content, decode_content, enforce_content_length)\u001b[0m\n\u001b[1;32m    490\u001b[0m         new_e \u001b[39m=\u001b[39m _wrap_proxy_error(new_e, conn\u001b[39m.\u001b[39mproxy\u001b[39m.\u001b[39mscheme)\n\u001b[0;32m--> 491\u001b[0m     \u001b[39mraise\u001b[39;00m new_e\n\u001b[1;32m    493\u001b[0m \u001b[39m# conn.request() calls http.client.*.request, not the method in\u001b[39;00m\n\u001b[1;32m    494\u001b[0m \u001b[39m# urllib3.request. It also calls makefile (recv) on the socket.\u001b[39;00m\n",
      "File \u001b[0;32m~/.local/lib/python3.10/site-packages/urllib3/connectionpool.py:467\u001b[0m, in \u001b[0;36mHTTPConnectionPool._make_request\u001b[0;34m(self, conn, method, url, body, headers, retries, timeout, chunked, response_conn, preload_content, decode_content, enforce_content_length)\u001b[0m\n\u001b[1;32m    466\u001b[0m \u001b[39mtry\u001b[39;00m:\n\u001b[0;32m--> 467\u001b[0m     \u001b[39mself\u001b[39;49m\u001b[39m.\u001b[39;49m_validate_conn(conn)\n\u001b[1;32m    468\u001b[0m \u001b[39mexcept\u001b[39;00m (SocketTimeout, BaseSSLError) \u001b[39mas\u001b[39;00m e:\n",
      "File \u001b[0;32m~/.local/lib/python3.10/site-packages/urllib3/connectionpool.py:1092\u001b[0m, in \u001b[0;36mHTTPSConnectionPool._validate_conn\u001b[0;34m(self, conn)\u001b[0m\n\u001b[1;32m   1091\u001b[0m \u001b[39mif\u001b[39;00m conn\u001b[39m.\u001b[39mis_closed:\n\u001b[0;32m-> 1092\u001b[0m     conn\u001b[39m.\u001b[39;49mconnect()\n\u001b[1;32m   1094\u001b[0m \u001b[39mif\u001b[39;00m \u001b[39mnot\u001b[39;00m conn\u001b[39m.\u001b[39mis_verified:\n",
      "File \u001b[0;32m~/.local/lib/python3.10/site-packages/urllib3/connection.py:604\u001b[0m, in \u001b[0;36mHTTPSConnection.connect\u001b[0;34m(self)\u001b[0m\n\u001b[1;32m    603\u001b[0m sock: socket\u001b[39m.\u001b[39msocket \u001b[39m|\u001b[39m ssl\u001b[39m.\u001b[39mSSLSocket\n\u001b[0;32m--> 604\u001b[0m \u001b[39mself\u001b[39m\u001b[39m.\u001b[39msock \u001b[39m=\u001b[39m sock \u001b[39m=\u001b[39m \u001b[39mself\u001b[39;49m\u001b[39m.\u001b[39;49m_new_conn()\n\u001b[1;32m    605\u001b[0m server_hostname: \u001b[39mstr\u001b[39m \u001b[39m=\u001b[39m \u001b[39mself\u001b[39m\u001b[39m.\u001b[39mhost\n",
      "File \u001b[0;32m~/.local/lib/python3.10/site-packages/urllib3/connection.py:209\u001b[0m, in \u001b[0;36mHTTPConnection._new_conn\u001b[0;34m(self)\u001b[0m\n\u001b[1;32m    208\u001b[0m \u001b[39mexcept\u001b[39;00m SocketTimeout \u001b[39mas\u001b[39;00m e:\n\u001b[0;32m--> 209\u001b[0m     \u001b[39mraise\u001b[39;00m ConnectTimeoutError(\n\u001b[1;32m    210\u001b[0m         \u001b[39mself\u001b[39m,\n\u001b[1;32m    211\u001b[0m         \u001b[39mf\u001b[39m\u001b[39m\"\u001b[39m\u001b[39mConnection to \u001b[39m\u001b[39m{\u001b[39;00m\u001b[39mself\u001b[39m\u001b[39m.\u001b[39mhost\u001b[39m}\u001b[39;00m\u001b[39m timed out. (connect timeout=\u001b[39m\u001b[39m{\u001b[39;00m\u001b[39mself\u001b[39m\u001b[39m.\u001b[39mtimeout\u001b[39m}\u001b[39;00m\u001b[39m)\u001b[39m\u001b[39m\"\u001b[39m,\n\u001b[1;32m    212\u001b[0m     ) \u001b[39mfrom\u001b[39;00m \u001b[39me\u001b[39;00m\n\u001b[1;32m    214\u001b[0m \u001b[39mexcept\u001b[39;00m \u001b[39mOSError\u001b[39;00m \u001b[39mas\u001b[39;00m e:\n",
      "\u001b[0;31mConnectTimeoutError\u001b[0m: (<urllib3.connection.HTTPSConnection object at 0x7f091dcc30a0>, 'Connection to www.ypbook.co.kr timed out. (connect timeout=None)')",
      "\nThe above exception was the direct cause of the following exception:\n",
      "\u001b[0;31mMaxRetryError\u001b[0m                             Traceback (most recent call last)",
      "File \u001b[0;32m~/.local/lib/python3.10/site-packages/requests/adapters.py:486\u001b[0m, in \u001b[0;36mHTTPAdapter.send\u001b[0;34m(self, request, stream, timeout, verify, cert, proxies)\u001b[0m\n\u001b[1;32m    485\u001b[0m \u001b[39mtry\u001b[39;00m:\n\u001b[0;32m--> 486\u001b[0m     resp \u001b[39m=\u001b[39m conn\u001b[39m.\u001b[39;49murlopen(\n\u001b[1;32m    487\u001b[0m         method\u001b[39m=\u001b[39;49mrequest\u001b[39m.\u001b[39;49mmethod,\n\u001b[1;32m    488\u001b[0m         url\u001b[39m=\u001b[39;49murl,\n\u001b[1;32m    489\u001b[0m         body\u001b[39m=\u001b[39;49mrequest\u001b[39m.\u001b[39;49mbody,\n\u001b[1;32m    490\u001b[0m         headers\u001b[39m=\u001b[39;49mrequest\u001b[39m.\u001b[39;49mheaders,\n\u001b[1;32m    491\u001b[0m         redirect\u001b[39m=\u001b[39;49m\u001b[39mFalse\u001b[39;49;00m,\n\u001b[1;32m    492\u001b[0m         assert_same_host\u001b[39m=\u001b[39;49m\u001b[39mFalse\u001b[39;49;00m,\n\u001b[1;32m    493\u001b[0m         preload_content\u001b[39m=\u001b[39;49m\u001b[39mFalse\u001b[39;49;00m,\n\u001b[1;32m    494\u001b[0m         decode_content\u001b[39m=\u001b[39;49m\u001b[39mFalse\u001b[39;49;00m,\n\u001b[1;32m    495\u001b[0m         retries\u001b[39m=\u001b[39;49m\u001b[39mself\u001b[39;49m\u001b[39m.\u001b[39;49mmax_retries,\n\u001b[1;32m    496\u001b[0m         timeout\u001b[39m=\u001b[39;49mtimeout,\n\u001b[1;32m    497\u001b[0m         chunked\u001b[39m=\u001b[39;49mchunked,\n\u001b[1;32m    498\u001b[0m     )\n\u001b[1;32m    500\u001b[0m \u001b[39mexcept\u001b[39;00m (ProtocolError, \u001b[39mOSError\u001b[39;00m) \u001b[39mas\u001b[39;00m err:\n",
      "File \u001b[0;32m~/.local/lib/python3.10/site-packages/urllib3/connectionpool.py:844\u001b[0m, in \u001b[0;36mHTTPConnectionPool.urlopen\u001b[0;34m(self, method, url, body, headers, retries, redirect, assert_same_host, timeout, pool_timeout, release_conn, chunked, body_pos, preload_content, decode_content, **response_kw)\u001b[0m\n\u001b[1;32m    842\u001b[0m     new_e \u001b[39m=\u001b[39m ProtocolError(\u001b[39m\"\u001b[39m\u001b[39mConnection aborted.\u001b[39m\u001b[39m\"\u001b[39m, new_e)\n\u001b[0;32m--> 844\u001b[0m retries \u001b[39m=\u001b[39m retries\u001b[39m.\u001b[39;49mincrement(\n\u001b[1;32m    845\u001b[0m     method, url, error\u001b[39m=\u001b[39;49mnew_e, _pool\u001b[39m=\u001b[39;49m\u001b[39mself\u001b[39;49m, _stacktrace\u001b[39m=\u001b[39;49msys\u001b[39m.\u001b[39;49mexc_info()[\u001b[39m2\u001b[39;49m]\n\u001b[1;32m    846\u001b[0m )\n\u001b[1;32m    847\u001b[0m retries\u001b[39m.\u001b[39msleep()\n",
      "File \u001b[0;32m~/.local/lib/python3.10/site-packages/urllib3/util/retry.py:515\u001b[0m, in \u001b[0;36mRetry.increment\u001b[0;34m(self, method, url, response, error, _pool, _stacktrace)\u001b[0m\n\u001b[1;32m    514\u001b[0m     reason \u001b[39m=\u001b[39m error \u001b[39mor\u001b[39;00m ResponseError(cause)\n\u001b[0;32m--> 515\u001b[0m     \u001b[39mraise\u001b[39;00m MaxRetryError(_pool, url, reason) \u001b[39mfrom\u001b[39;00m \u001b[39mreason\u001b[39;00m  \u001b[39m# type: ignore[arg-type]\u001b[39;00m\n\u001b[1;32m    517\u001b[0m log\u001b[39m.\u001b[39mdebug(\u001b[39m\"\u001b[39m\u001b[39mIncremented Retry for (url=\u001b[39m\u001b[39m'\u001b[39m\u001b[39m%s\u001b[39;00m\u001b[39m'\u001b[39m\u001b[39m): \u001b[39m\u001b[39m%r\u001b[39;00m\u001b[39m\"\u001b[39m, url, new_retry)\n",
      "\u001b[0;31mMaxRetryError\u001b[0m: HTTPSConnectionPool(host='www.ypbook.co.kr', port=443): Max retries exceeded with url: /kor_index.yp (Caused by ConnectTimeoutError(<urllib3.connection.HTTPSConnection object at 0x7f091dcc30a0>, 'Connection to www.ypbook.co.kr timed out. (connect timeout=None)'))",
      "\nDuring handling of the above exception, another exception occurred:\n",
      "\u001b[0;31mConnectTimeout\u001b[0m                            Traceback (most recent call last)",
      "Cell \u001b[0;32mIn[112], line 2\u001b[0m\n\u001b[1;32m      1\u001b[0m url \u001b[39m=\u001b[39m \u001b[39m'\u001b[39m\u001b[39mhttps://www.ypbook.co.kr/kor_index.yp\u001b[39m\u001b[39m'\u001b[39m\n\u001b[0;32m----> 2\u001b[0m resp \u001b[39m=\u001b[39m request(\u001b[39m'\u001b[39;49m\u001b[39mGET\u001b[39;49m\u001b[39m'\u001b[39;49m, url)\n\u001b[1;32m      3\u001b[0m dom \u001b[39m=\u001b[39m BeautifulSoup(resp\u001b[39m.\u001b[39mtext, \u001b[39m'\u001b[39m\u001b[39mlxml\u001b[39m\u001b[39m'\u001b[39m)\n",
      "File \u001b[0;32m~/.local/lib/python3.10/site-packages/requests/api.py:59\u001b[0m, in \u001b[0;36mrequest\u001b[0;34m(method, url, **kwargs)\u001b[0m\n\u001b[1;32m     55\u001b[0m \u001b[39m# By using the 'with' statement we are sure the session is closed, thus we\u001b[39;00m\n\u001b[1;32m     56\u001b[0m \u001b[39m# avoid leaving sockets open which can trigger a ResourceWarning in some\u001b[39;00m\n\u001b[1;32m     57\u001b[0m \u001b[39m# cases, and look like a memory leak in others.\u001b[39;00m\n\u001b[1;32m     58\u001b[0m \u001b[39mwith\u001b[39;00m sessions\u001b[39m.\u001b[39mSession() \u001b[39mas\u001b[39;00m session:\n\u001b[0;32m---> 59\u001b[0m     \u001b[39mreturn\u001b[39;00m session\u001b[39m.\u001b[39;49mrequest(method\u001b[39m=\u001b[39;49mmethod, url\u001b[39m=\u001b[39;49murl, \u001b[39m*\u001b[39;49m\u001b[39m*\u001b[39;49mkwargs)\n",
      "File \u001b[0;32m~/.local/lib/python3.10/site-packages/requests/sessions.py:589\u001b[0m, in \u001b[0;36mSession.request\u001b[0;34m(self, method, url, params, data, headers, cookies, files, auth, timeout, allow_redirects, proxies, hooks, stream, verify, cert, json)\u001b[0m\n\u001b[1;32m    584\u001b[0m send_kwargs \u001b[39m=\u001b[39m {\n\u001b[1;32m    585\u001b[0m     \u001b[39m\"\u001b[39m\u001b[39mtimeout\u001b[39m\u001b[39m\"\u001b[39m: timeout,\n\u001b[1;32m    586\u001b[0m     \u001b[39m\"\u001b[39m\u001b[39mallow_redirects\u001b[39m\u001b[39m\"\u001b[39m: allow_redirects,\n\u001b[1;32m    587\u001b[0m }\n\u001b[1;32m    588\u001b[0m send_kwargs\u001b[39m.\u001b[39mupdate(settings)\n\u001b[0;32m--> 589\u001b[0m resp \u001b[39m=\u001b[39m \u001b[39mself\u001b[39;49m\u001b[39m.\u001b[39;49msend(prep, \u001b[39m*\u001b[39;49m\u001b[39m*\u001b[39;49msend_kwargs)\n\u001b[1;32m    591\u001b[0m \u001b[39mreturn\u001b[39;00m resp\n",
      "File \u001b[0;32m~/.local/lib/python3.10/site-packages/requests/sessions.py:703\u001b[0m, in \u001b[0;36mSession.send\u001b[0;34m(self, request, **kwargs)\u001b[0m\n\u001b[1;32m    700\u001b[0m start \u001b[39m=\u001b[39m preferred_clock()\n\u001b[1;32m    702\u001b[0m \u001b[39m# Send the request\u001b[39;00m\n\u001b[0;32m--> 703\u001b[0m r \u001b[39m=\u001b[39m adapter\u001b[39m.\u001b[39;49msend(request, \u001b[39m*\u001b[39;49m\u001b[39m*\u001b[39;49mkwargs)\n\u001b[1;32m    705\u001b[0m \u001b[39m# Total elapsed time of the request (approximately)\u001b[39;00m\n\u001b[1;32m    706\u001b[0m elapsed \u001b[39m=\u001b[39m preferred_clock() \u001b[39m-\u001b[39m start\n",
      "File \u001b[0;32m~/.local/lib/python3.10/site-packages/requests/adapters.py:507\u001b[0m, in \u001b[0;36mHTTPAdapter.send\u001b[0;34m(self, request, stream, timeout, verify, cert, proxies)\u001b[0m\n\u001b[1;32m    504\u001b[0m \u001b[39mif\u001b[39;00m \u001b[39misinstance\u001b[39m(e\u001b[39m.\u001b[39mreason, ConnectTimeoutError):\n\u001b[1;32m    505\u001b[0m     \u001b[39m# TODO: Remove this in 3.0.0: see #2811\u001b[39;00m\n\u001b[1;32m    506\u001b[0m     \u001b[39mif\u001b[39;00m \u001b[39mnot\u001b[39;00m \u001b[39misinstance\u001b[39m(e\u001b[39m.\u001b[39mreason, NewConnectionError):\n\u001b[0;32m--> 507\u001b[0m         \u001b[39mraise\u001b[39;00m ConnectTimeout(e, request\u001b[39m=\u001b[39mrequest)\n\u001b[1;32m    509\u001b[0m \u001b[39mif\u001b[39;00m \u001b[39misinstance\u001b[39m(e\u001b[39m.\u001b[39mreason, ResponseError):\n\u001b[1;32m    510\u001b[0m     \u001b[39mraise\u001b[39;00m RetryError(e, request\u001b[39m=\u001b[39mrequest)\n",
      "\u001b[0;31mConnectTimeout\u001b[0m: HTTPSConnectionPool(host='www.ypbook.co.kr', port=443): Max retries exceeded with url: /kor_index.yp (Caused by ConnectTimeoutError(<urllib3.connection.HTTPSConnection object at 0x7f091dcc30a0>, 'Connection to www.ypbook.co.kr timed out. (connect timeout=None)'))"
     ]
    }
   ],
   "source": [
    "url = 'https://www.ypbook.co.kr/kor_index.yp'\n",
    "resp = request('GET', url)\n",
    "dom = BeautifulSoup(resp.text, 'lxml')"
   ]
  },
  {
   "cell_type": "code",
   "execution_count": null,
   "metadata": {},
   "outputs": [],
   "source": [
    "form = dom.select('form')[-1]\n",
    "params = {node.attrs['name'];node.attrs['value']\n",
    "        for node in form.select(['[name]'])}\n",
    "params['query'] = '뉴진스'"
   ]
  },
  {
   "cell_type": "code",
   "execution_count": null,
   "metadata": {},
   "outputs": [],
   "source": [
    "form.attrs"
   ]
  },
  {
   "cell_type": "code",
   "execution_count": null,
   "metadata": {},
   "outputs": [],
   "source": [
    "params = { \n",
    "    'query': '뉴진스', \n",
    "    'collection': 'ALL', \n",
    "    'searchfield': 'ALL', \n",
    "    'sortField': 'DATE', \n",
    "    'notSoldOut': 'N', \n",
    "    'catesearch': 'false', \n",
    "    'viewStyle': 'list', \n",
    "    'pageNum': '1' \n",
    "} \n",
    "resp = request('POST', 'https://www.ypbooks.co.kr/ypbooks/search/requestAjaxSearchTab.jsp'\n",
    "            data=params)"
   ]
  },
  {
   "cell_type": "code",
   "execution_count": null,
   "metadata": {},
   "outputs": [
    {
     "data": {
      "text/plain": [
       "''"
      ]
     },
     "execution_count": 58,
     "metadata": {},
     "output_type": "execute_result"
    }
   ],
   "source": [
    "'''\n",
    "HTTP(Req/Resp) \n",
    "RE,DOM,CSSOM \n",
    "DHTML/AJAX(XHR) \n",
    "Session/Cookie(*) \n",
    "=> Crawling + Scraping \n",
    "뉴스, 이미지, 메일, 소셜미디어, ...\n",
    "'''"
   ]
  },
  {
   "cell_type": "code",
   "execution_count": null,
   "metadata": {},
   "outputs": [],
   "source": [
    "from datetime import datetime"
   ]
  },
  {
   "cell_type": "code",
   "execution_count": null,
   "metadata": {},
   "outputs": [
    {
     "data": {
      "text/plain": [
       "1689644679.912169"
      ]
     },
     "execution_count": 61,
     "metadata": {},
     "output_type": "execute_result"
    }
   ],
   "source": [
    "datetime.now().timestamp()"
   ]
  },
  {
   "cell_type": "code",
   "execution_count": null,
   "metadata": {},
   "outputs": [
    {
     "data": {
      "text/plain": [
       "datetime.datetime(2023, 7, 18, 10, 44, 39)"
      ]
     },
     "execution_count": 63,
     "metadata": {},
     "output_type": "execute_result"
    }
   ],
   "source": [
    "datetime.fromtimestamp(1689644679)"
   ]
  },
  {
   "cell_type": "code",
   "execution_count": null,
   "metadata": {},
   "outputs": [
    {
     "data": {
      "text/plain": [
       "'#PWD_INSTAGRAM_BROWSER:0:1689644723:toinstagram'"
      ]
     },
     "execution_count": 64,
     "metadata": {},
     "output_type": "execute_result"
    }
   ],
   "source": [
    "t = int(datetime.now().timestamp()) \n",
    "pw = 'toinstagram' \n",
    "f'#PWD_INSTAGRAM_BROWSER:0:{t}:{pw}' "
   ]
  },
  {
   "cell_type": "code",
   "execution_count": null,
   "metadata": {},
   "outputs": [
    {
     "ename": "SyntaxError",
     "evalue": "invalid syntax (3922543809.py, line 4)",
     "output_type": "error",
     "traceback": [
      "\u001b[0;36m  Cell \u001b[0;32mIn[65], line 4\u001b[0;36m\u001b[0m\n\u001b[0;31m    'optIntoOneTap': 'false',\u001b[0m\n\u001b[0m                   ^\u001b[0m\n\u001b[0;31mSyntaxError\u001b[0m\u001b[0;31m:\u001b[0m invalid syntax\n"
     ]
    }
   ],
   "source": [
    "url = 'https://www.instagram.com/api/v1/web/accounts/login/ajax/' \n",
    "params = { \n",
    "    'enc_password': '#PWD_INSTAGRAM_BROWSER:10:1689566089:AVxQAGTw2LChRHhfhxoed0/Y8FxG6+FciohZQIujcJ3LoEMW+cqyeHMVdp/tvjtlZL2pbt3yrVHOIJOlwWJOjtfvZ8LipOtQuSWiasSifvscqoly08WfAU+SuIlIEtjXn9NZKSkbWGJaz1HyZUpWNHAB'\n",
    "    'optIntoOneTap': 'false', \n",
    "    'queryParams': '{}', \n",
    "    'trustedDeviceRecords': '{}', \n",
    "    'username': 'test@test.com' \n",
    "} \n",
    "resp = request('POST', url, data=params) \n",
    "resp.text"
   ]
  },
  {
   "cell_type": "code",
   "execution_count": null,
   "metadata": {},
   "outputs": [],
   "source": [
    "'''\n",
    "Oauth, CSRF \n",
    "API - 내가(인증) \n",
    "API(인증)\n",
    "'''"
   ]
  },
  {
   "cell_type": "code",
   "execution_count": null,
   "metadata": {},
   "outputs": [],
   "source": [
    "url = 'https://www.instagram.com' \n",
    "resp = request('GET', url)"
   ]
  },
  {
   "cell_type": "code",
   "execution_count": null,
   "metadata": {},
   "outputs": [
    {
     "ename": "NameError",
     "evalue": "name 're' is not defined",
     "output_type": "error",
     "traceback": [
      "\u001b[0;31m---------------------------------------------------------------------------\u001b[0m",
      "\u001b[0;31mNameError\u001b[0m                                 Traceback (most recent call last)",
      "Cell \u001b[0;32mIn[67], line 1\u001b[0m\n\u001b[0;32m----> 1\u001b[0m csrf \u001b[39m=\u001b[39m re\u001b[39m.\u001b[39msearch(\u001b[39mr\u001b[39m\u001b[39m'\u001b[39m\u001b[39m\\\\\u001b[39;00m\u001b[39m\"\u001b[39m\u001b[39mcsrf_token\u001b[39m\u001b[39m\\\\\u001b[39;00m\u001b[39m\"\u001b[39m\u001b[39m:\u001b[39m\u001b[39m\\\\\u001b[39;00m\u001b[39m\"\u001b[39m\u001b[39m([^\u001b[39m\u001b[39m\\\\\u001b[39;00m\u001b[39m]+)\u001b[39m\u001b[39m'\u001b[39m, resp\u001b[39m.\u001b[39mtext)\u001b[39m.\u001b[39mgroup(\u001b[39m1\u001b[39m) \n",
      "\u001b[0;31mNameError\u001b[0m: name 're' is not defined"
     ]
    }
   ],
   "source": [
    "csrf = re.search(r'\\\\\"csrf_token\\\\\":\\\\\"([^\\\\]+)', resp.text).group(1) "
   ]
  },
  {
   "cell_type": "code",
   "execution_count": null,
   "metadata": {},
   "outputs": [
    {
     "ename": "SyntaxError",
     "evalue": "invalid syntax (2617907614.py, line 4)",
     "output_type": "error",
     "traceback": [
      "\u001b[0;36m  Cell \u001b[0;32mIn[68], line 4\u001b[0;36m\u001b[0m\n\u001b[0;31m    'optIntoOneTap': 'false',\u001b[0m\n\u001b[0m                   ^\u001b[0m\n\u001b[0;31mSyntaxError\u001b[0m\u001b[0;31m:\u001b[0m invalid syntax\n"
     ]
    }
   ],
   "source": [
    "url = 'https://www.instagram.com/api/v1/web/accounts/login/ajax/' \n",
    "params = { \n",
    "    'enc_password': '#PWD_INSTAGRAM_BROWSER:10:1689566089:AVxQAGTw2LChRHhfhxoed0/Y8FxG6+FciohZQIujcJ3LoEMW+cqyeHMVdp/tvjtlZL2pbt3yrVHOIJOlwWJOjtfvZ8LipOtQuSWiasSifvscqoly08WfAU+SuIlIEtjXn9NZKSkbWGJaz1HyZUpWNHAB'\n",
    "    'optIntoOneTap': 'false', \n",
    "    'queryParams': '{}', \n",
    "    'trustedDeviceRecords': '{}', \n",
    "    'username': '본인아이디' \n",
    "} \n",
    "t = int(datetime.now().timestamp()) \n",
    "pw = '비밀번호' \n",
    "params['enc_password'] = f'#PWD_INSTAGRAM_BROWSER:0:{t}:{pw}' \n",
    "resp = request('POST', url, data=params, \n",
    "            headers={'x-csrftoken':csrf}) \n",
    "resp.text"
   ]
  },
  {
   "cell_type": "code",
   "execution_count": null,
   "metadata": {},
   "outputs": [],
   "source": [
    "# 23.07.18"
   ]
  },
  {
   "cell_type": "code",
   "execution_count": null,
   "metadata": {},
   "outputs": [
    {
     "data": {
      "text/plain": [
       "''"
      ]
     },
     "execution_count": 86,
     "metadata": {},
     "output_type": "execute_result"
    }
   ],
   "source": [
    "'''\n",
    "Session(Cookie) -> 인증된 사용자 정보 -> 서버 안쪽 데이터 \n",
    "- [Name:Value];domain/path/expired... \n",
    "- Cookie -> Client Browser(temporal path;webdb...) \n",
    "-> requests.request*(get,post,...) **cookies = {k:v} \n",
    "\tcookie jar object <= cookie_jar_from_dict \n",
    "\tcookie 매번 관리(set-cookie) \n",
    "-> Session().request*(get,post,...) \n",
    "\trequest vs. session.request ; cookie 관리 주체 \n",
    "-> Brwoser cookie => cookie dict, jar \n",
    "e.g., LMS(RESTful API), Naver(Mail, Cafe, ..) \n",
    "\t\tSNS(Instagram) ; API(인증X,허가X,) \n",
    "\t\tcookie;header;X-CSRF-TOKEN <- /(RE) \n",
    "\t\tparams['enc_pw'] => #PWD_INSTAGRAM:?(보안레벨):\n",
    "'''"
   ]
  },
  {
   "cell_type": "code",
   "execution_count": null,
   "metadata": {},
   "outputs": [],
   "source": [
    "from requests import request \n",
    "from requests.compat import * \n",
    "from bs4 import BeautifulSoup \n",
    "import re \n",
    "headers = { \n",
    "    'user-agent':'Mozilla/5.0 (Macintosh; Intel Mac OS X 10_15_7) AppleWebKit/537.36 (KHTML, like Gecko) Chrome/114.0.0.0 Safari/537.36'\n",
    "}"
   ]
  },
  {
   "cell_type": "code",
   "execution_count": null,
   "metadata": {},
   "outputs": [],
   "source": [
    "from requests.sessions import Session"
   ]
  },
  {
   "cell_type": "code",
   "execution_count": null,
   "metadata": {},
   "outputs": [],
   "source": [
    "url = 'https://www.instagram.com' \n",
    "session = Session() \n",
    "resp = session.request('GET', url)"
   ]
  },
  {
   "cell_type": "code",
   "execution_count": null,
   "metadata": {},
   "outputs": [],
   "source": [
    "CSRF = re.search(r'csrf_token\\\\\":\\\\\"(.+?)\\\\\"', \n",
    "                resp.text).group(1)"
   ]
  },
  {
   "cell_type": "code",
   "execution_count": null,
   "metadata": {},
   "outputs": [],
   "source": [
    "ajax = 'https://www.instagram.com/api/v1/web/accounts/login/ajax/' \n",
    "params = { \n",
    "    'enc_password': '', \n",
    "    'optIntoOneTap': 'false', \n",
    "    'queryParams': '{}', \n",
    "    'trustedDeviceRecords': '{}', \n",
    "    'username': '' \n",
    "} \n",
    "params['username'] = 'gon0121+dev@gmail.com'\t# 내 아이디"
   ]
  },
  {
   "cell_type": "code",
   "execution_count": null,
   "metadata": {},
   "outputs": [
    {
     "data": {
      "text/plain": [
       "'#PWD_INSTAGRAM_BROWSER:0:1689820631:toinstagram'"
      ]
     },
     "execution_count": 12,
     "metadata": {},
     "output_type": "execute_result"
    }
   ],
   "source": [
    "from datetime import datetime \n",
    "T = int(datetime.now().timestamp()) \n",
    "PW = 'toinstagram' # 본인 비밀번호 \n",
    "#PWD_INSTAGRAM_BROWSER:보안레벨(숫자):시간(숫자):PW \n",
    "f'#PWD_INSTAGRAM_BROWSER:0:{T}:{PW}'"
   ]
  },
  {
   "cell_type": "code",
   "execution_count": null,
   "metadata": {},
   "outputs": [
    {
     "data": {
      "text/plain": [
       "{'enc_password': '#PWD_INSTAGRAM_BROWSER:0:1689820631:toinstagram',\n",
       " 'optIntoOneTap': 'false',\n",
       " 'queryParams': '{}',\n",
       " 'trustedDeviceRecords': '{}',\n",
       " 'username': 'gon0121+dev@gmail.com'}"
      ]
     },
     "execution_count": 13,
     "metadata": {},
     "output_type": "execute_result"
    }
   ],
   "source": [
    "params['enc_password'] = f'#PWD_INSTAGRAM_BROWSER:0:{T}:{PW}' \n",
    "params"
   ]
  },
  {
   "cell_type": "code",
   "execution_count": null,
   "metadata": {},
   "outputs": [],
   "source": [
    "resp = session.post(ajax, data=params)"
   ]
  },
  {
   "cell_type": "code",
   "execution_count": null,
   "metadata": {},
   "outputs": [
    {
     "data": {
      "text/plain": [
       "'{\"message\":\"CSRF token missing or incorrect\",\"status\":\"fail\"}'"
      ]
     },
     "execution_count": 15,
     "metadata": {},
     "output_type": "execute_result"
    }
   ],
   "source": [
    "resp.text"
   ]
  },
  {
   "cell_type": "code",
   "execution_count": null,
   "metadata": {},
   "outputs": [
    {
     "data": {
      "text/plain": [
       "32"
      ]
     },
     "execution_count": 16,
     "metadata": {},
     "output_type": "execute_result"
    }
   ],
   "source": [
    "len(session.cookies.get('csrftoken'))"
   ]
  },
  {
   "cell_type": "code",
   "execution_count": null,
   "metadata": {},
   "outputs": [],
   "source": [
    "headers = { \n",
    "    'x-csrftoken':CSRF \n",
    "} \n",
    "resp = request('POST', ajax, data=params, \n",
    "               headers=headers)"
   ]
  },
  {
   "cell_type": "code",
   "execution_count": null,
   "metadata": {},
   "outputs": [
    {
     "data": {
      "text/plain": [
       "'{\"user\":true,\"userId\":\"49814451599\",\"authenticated\":true,\"oneTapPrompt\":true,\"status\":\"ok\"}'"
      ]
     },
     "execution_count": 18,
     "metadata": {},
     "output_type": "execute_result"
    }
   ],
   "source": [
    "resp.text"
   ]
  },
  {
   "cell_type": "code",
   "execution_count": null,
   "metadata": {},
   "outputs": [
    {
     "data": {
      "text/plain": [
       "'{\"user\":true,\"userId\":\"49814451599\",\"authenticated\":true,\"oneTapPrompt\":true,\"status\":\"ok\"}'"
      ]
     },
     "execution_count": 19,
     "metadata": {},
     "output_type": "execute_result"
    }
   ],
   "source": [
    "headers['x-csrftoken'] = session.cookies.get('csrftoken') \n",
    "resp = session.post(ajax, data=params, \n",
    "                    headers=headers) \n",
    "resp.text"
   ]
  },
  {
   "cell_type": "code",
   "execution_count": null,
   "metadata": {},
   "outputs": [
    {
     "data": {
      "text/plain": [
       "'shgUjEiqIb85KdsuwnNrPhK8dCYghBZQ'"
      ]
     },
     "execution_count": 20,
     "metadata": {},
     "output_type": "execute_result"
    }
   ],
   "source": [
    "session.cookies.get('csrftoken')"
   ]
  },
  {
   "cell_type": "code",
   "execution_count": null,
   "metadata": {},
   "outputs": [
    {
     "data": {
      "text/plain": [
       "'xpRWWrhkoi0EeM1VwXoltJTwU8VNxere'"
      ]
     },
     "execution_count": 21,
     "metadata": {},
     "output_type": "execute_result"
    }
   ],
   "source": [
    "CSRF"
   ]
  },
  {
   "cell_type": "code",
   "execution_count": null,
   "metadata": {},
   "outputs": [
    {
     "data": {
      "text/plain": [
       "'csrftoken=shgUjEiqIb85KdsuwnNrPhK8dCYghBZQ; Domain=.instagram.com; expires=Thu, 18-Jul-2024 02:37:20 GMT; Max-Age=31449600; Path=/; Secure, rur=\"PRN\\\\05449814451599\\\\0541721356640:01f78a8b89950810e7b5aa27701c33de15a90f8396028ab8c4ee5e7164e3d0330fc7f2a1\"; Domain=.instagram.com; HttpOnly; Path=/; SameSite=Lax; Secure, ds_user_id=49814451599; Domain=.instagram.com; expires=Wed, 18-Oct-2023 02:37:20 GMT; Max-Age=7776000; Path=/; Secure, sessionid=49814451599%3AnNwdNJoozFQSXo%3A28%3AAYfkrF64xwG84-rT3ffEukTJ-JYHBZsS19rrDrt-qw; Domain=.instagram.com; expires=Fri, 19-Jul-2024 02:37:20 GMT; HttpOnly; Max-Age=31536000; Path=/; Secure'"
      ]
     },
     "execution_count": 22,
     "metadata": {},
     "output_type": "execute_result"
    }
   ],
   "source": [
    "resp.headers['set-cookie'] "
   ]
  },
  {
   "cell_type": "code",
   "execution_count": null,
   "metadata": {},
   "outputs": [],
   "source": [
    "search = 'https://www.instagram.com/api/v1/web/search/topsearch/' \n",
    "params = { \n",
    "    'context':'blended', \n",
    "    'include_reel':'true', \n",
    "    'query':'', \n",
    "    'rank_token':'0.5946241399410475', \n",
    "\t'search_surface':'web_top_search' \n",
    "}"
   ]
  },
  {
   "cell_type": "code",
   "execution_count": null,
   "metadata": {},
   "outputs": [
    {
     "data": {
      "text/plain": [
       "'{\"users\":[{\"position\":0,\"user\":{\"has_anonymous_profile_picture\":false,\"fbid_v2\":17841442336192889,\"pk\":\"42343115206\",\"pk_id\":\"42343115206\",\"username\":\"official.newjeans\",\"full_name\":\"NewJeans 뉴진스\",\"is_private\":false,\"is_verified\":false,\"profile_pic_id\":\"2887334722373425484_42343115206\",\"profile_pic_url\":\"https://scontent-gmp1-1.cdninstagram.com/v/t51.2885-19/294503123_1663687497334645_7728765606903984238_n.jpg?stp=dst-jpg_s150x150\\\\u0026_nc_ht=scontent-gmp1-1.cdninstagram.com\\\\u0026_nc_cat=101\\\\u0026_nc_ohc=Z6u93GM0C7cAX8uEj6r\\\\u0026edm=AHG7ALcBAAAA\\\\u0026ccb=7-5\\\\u0026oh=00_AfB2fTfBGr0V6PUT_3KtyEBQ3L2T3wSzVuRKF34tT4RNfg\\\\u0026oe=64BD0F57\\\\u0026_nc_sid=c9086e\",\"has_opt_eligible_shop\":false,\"account_badges\":[],\"birthday_today_visibility_for_viewer\":\"NOT_VISIBLE\",\"third_party_downloads_enabled\":0,\"friendship_status\":{\"following\":false,\"is_private\":false,\"incoming_request\":false,\"outgoing_request\":false,\"is_bestie\":false,\"is_restricted\":false,\"is_feed_favorite\":false},\"latest_reel_media\":0,\"should_show_category\":false,\"seen\":0}},{\"position\":1,\"user\":{\"has_anonymous_profile_picture\":false,\"fbid_v2\":17841457287650925,\"show_text_post_app_badge\":true,\"show_ig_app_switcher_badge\":true,\"pk\":\"57207405588\",\"pk_id\":\"57207405588\",\"username\":\"newwaygym_cgv\",\"full_name\":\"◽️남양주 헬스장/PT◽️마석 헬스장/PT◽️화도 헬스장/PT◽️호평 헬스장/PT◽️평내 헬스장/PT 뉴웨이짐\",\"is_private\":false,\"is_verified\":false,\"profile_pic_id\":\"3145577663893610785_57207405588\",\"profile_pic_url\":\"https://scontent-gmp1-1.cdninstagram.com/v/t51.2885-19/359691421_652212306956610_7724236973454154532_n.jpg?stp=dst-jpg_s150x150\\\\u0026_nc_ht=scontent-gmp1-1.cdninstagram.com\\\\u0026_nc_cat=106\\\\u0026_nc_ohc=9tPTsOfrY-MAX-NV5Rg\\\\u0026edm=AHG7ALcBAAAA\\\\u0026ccb=7-5\\\\u0026oh=00_AfCvfh-9SlJaXABcSAQ1DugDJDYiGjbUBaoQQ67CAjtpNQ\\\\u0026oe=64BC9D30\\\\u0026_nc_sid=c9086e\",\"has_opt_eligible_shop\":false,\"account_badges\":[],\"birthday_today_visibility_for_viewer\":\"NOT_VISIBLE\",\"third_party_downloads_enabled\":0,\"friendship_status\":{\"following\":false,\"is_private\":false,\"incoming_request\":false,\"outgoing_request\":false,\"is_bestie\":false,\"is_restricted\":false,\"is_feed_favorite\":false},\"latest_reel_media\":1689774255,\"should_show_category\":false,\"seen\":0}},{\"position\":2,\"user\":{\"has_anonymous_profile_picture\":false,\"fbid_v2\":17841404300770913,\"pk\":\"4087311359\",\"pk_id\":\"4087311359\",\"username\":\"nutricore_vitamin\",\"full_name\":\"뉴트리코어\",\"is_private\":false,\"is_verified\":false,\"profile_pic_id\":\"1642463640232579960_4087311359\",\"profile_pic_url\":\"https://scontent-gmp1-1.cdninstagram.com/v/t51.2885-19/23279290_1975375299385495_7982648000419725312_n.jpg?stp=dst-jpg_s150x150\\\\u0026_nc_ht=scontent-gmp1-1.cdninstagram.com\\\\u0026_nc_cat=107\\\\u0026_nc_ohc=L-mHJ7XCcREAX_pLT6p\\\\u0026edm=AHG7ALcBAAAA\\\\u0026ccb=7-5\\\\u0026oh=00_AfBbRraiVZdDVjtP0E-gN3dhNg_D7fgPIspTzEkOVaJl1Q\\\\u0026oe=64BDB7DE\\\\u0026_nc_sid=c9086e\",\"has_opt_eligible_shop\":false,\"account_badges\":[],\"birthday_today_visibility_for_viewer\":\"NOT_VISIBLE\",\"third_party_downloads_enabled\":0,\"friendship_status\":{\"following\":false,\"is_private\":false,\"incoming_request\":false,\"outgoing_request\":false,\"is_bestie\":false,\"is_restricted\":false,\"is_feed_favorite\":false},\"latest_reel_media\":0,\"should_show_category\":false,\"seen\":0}},{\"position\":3,\"user\":{\"has_anonymous_profile_picture\":false,\"fbid_v2\":17841450100037705,\"pk\":\"49981646001\",\"pk_id\":\"49981646001\",\"username\":\"minji.newjean\",\"full_name\":\"NewJeans Minji 뉴진스 민지\",\"is_private\":false,\"is_verified\":false,\"profile_pic_id\":\"3149744400795277045_49981646001\",\"profile_pic_url\":\"https://scontent-gmp1-1.cdninstagram.com/v/t51.2885-19/361765662_1238251156880923_3958916590171813638_n.jpg?stp=dst-jpg_s150x150\\\\u0026_nc_ht=scontent-gmp1-1.cdninstagram.com\\\\u0026_nc_cat=1\\\\u0026_nc_ohc=AEK-hNTGoi0AX_09_Pt\\\\u0026edm=AHG7ALcBAAAA\\\\u0026ccb=7-5\\\\u0026oh=00_AfAzqArHHQTPnNhSJP96a33s2_yh5PRWTCcfA8CGIaywRQ\\\\u0026oe=64BDA67C\\\\u0026_nc_sid=c9086e\",\"has_opt_eligible_shop\":false,\"account_badges\":[],\"birthday_today_visibility_for_viewer\":\"NOT_VISIBLE\",\"third_party_downloads_enabled\":0,\"friendship_status\":{\"following\":false,\"is_private\":false,\"incoming_request\":false,\"outgoing_request\":false,\"is_bestie\":false,\"is_restricted\":false,\"is_feed_favorite\":false},\"latest_reel_media\":1689809896,\"should_show_category\":false,\"seen\":0}},{\"position\":4,\"user\":{\"has_anonymous_profile_picture\":false,\"fbid_v2\":17841406634524352,\"pk\":\"6674821150\",\"pk_id\":\"6674821150\",\"username\":\"newgen_worship\",\"full_name\":\"New Generation Worship 뉴제너레이션 워십\",\"is_private\":false,\"is_verified\":false,\"profile_pic_id\":\"3050160933460256326_6674821150\",\"profile_pic_url\":\"https://scontent-gmp1-1.cdninstagram.com/v/t51.2885-19/334289248_516242637337342_8236813472143000992_n.jpg?stp=dst-jpg_s150x150\\\\u0026_nc_ht=scontent-gmp1-1.cdninstagram.com\\\\u0026_nc_cat=110\\\\u0026_nc_ohc=gz6CHV9PE8YAX-Deqii\\\\u0026edm=AHG7ALcBAAAA\\\\u0026ccb=7-5\\\\u0026oh=00_AfAsA1fmL0Fh9lEYWJJjLc-rRzcRYcYTROMvBfHBLafmVg\\\\u0026oe=64BD5011\\\\u0026_nc_sid=c9086e\",\"has_opt_eligible_shop\":false,\"account_badges\":[],\"birthday_today_visibility_for_viewer\":\"NOT_VISIBLE\",\"third_party_downloads_enabled\":0,\"friendship_status\":{\"following\":false,\"is_private\":false,\"incoming_request\":false,\"outgoing_request\":false,\"is_bestie\":false,\"is_restricted\":false,\"is_feed_favorite\":false},\"latest_reel_media\":0,\"should_show_category\":false,\"seen\":0}},{\"position\":5,\"user\":{\"has_anonymous_profile_picture\":false,\"fbid_v2\":17841431431813086,\"pk\":\"31224695727\",\"pk_id\":\"31224695727\",\"username\":\"neuraderm_kr\",\"full_name\":\"NEURADERM / 뉴라덤\",\"is_private\":false,\"is_verified\":false,\"profile_pic_id\":\"3140734645128977142_31224695727\",\"profile_pic_url\":\"https://scontent-gmp1-1.cdninstagram.com/v/t51.2885-19/357791689_258578620139646_7146685677939555549_n.jpg?stp=dst-jpg_s150x150\\\\u0026_nc_ht=scontent-gmp1-1.cdninstagram.com\\\\u0026_nc_cat=106\\\\u0026_nc_ohc=plYCTvyydR8AX8dsXtB\\\\u0026edm=AHG7ALcBAAAA\\\\u0026ccb=7-5\\\\u0026oh=00_AfCNU2XcDRb_b_d4cF_2T8oUmDEGrKTZXb-5_Xa_W6MnRg\\\\u0026oe=64BCD925\\\\u0026_nc_sid=c9086e\",\"has_opt_eligible_shop\":false,\"account_badges\":[],\"birthday_today_visibility_for_viewer\":\"NOT_VISIBLE\",\"third_party_downloads_enabled\":0,\"friendship_status\":{\"following\":false,\"is_private\":false,\"incoming_request\":false,\"outgoing_request\":false,\"is_bestie\":false,\"is_restricted\":false,\"is_feed_favorite\":false},\"latest_reel_media\":1689767125,\"should_show_category\":false,\"seen\":0}},{\"position\":6,\"user\":{\"has_anonymous_profile_picture\":false,\"fbid_v2\":17841400810680348,\"show_text_post_app_badge\":false,\"show_ig_app_switcher_badge\":true,\"pk\":\"1302299022\",\"pk_id\":\"1302299022\",\"username\":\"rika_nuvengers\",\"full_name\":\"Rika 임지선 뉴벤져스\",\"is_private\":false,\"is_verified\":false,\"profile_pic_id\":\"3118250629217633233_1302299022\",\"profile_pic_url\":\"https://scontent-gmp1-1.cdninstagram.com/v/t51.2885-19/351808716_954523039140786_5666020988015716978_n.jpg?stp=dst-jpg_s150x150\\\\u0026_nc_ht=scontent-gmp1-1.cdninstagram.com\\\\u0026_nc_cat=106\\\\u0026_nc_ohc=qY8Qi7IDqRAAX9kHTFE\\\\u0026edm=AHG7ALcBAAAA\\\\u0026ccb=7-5\\\\u0026oh=00_AfCOzVinSvmBHqPTj70xG4-XEIO0X8W89nk0T6Hojtztpg\\\\u0026oe=64BD07C1\\\\u0026_nc_sid=c9086e\",\"has_opt_eligible_shop\":false,\"account_badges\":[],\"birthday_today_visibility_for_viewer\":\"NOT_VISIBLE\",\"third_party_downloads_enabled\":0,\"friendship_status\":{\"following\":false,\"is_private\":false,\"incoming_request\":false,\"outgoing_request\":false,\"is_bestie\":false,\"is_restricted\":false,\"is_feed_favorite\":false},\"latest_reel_media\":1689810810,\"should_show_category\":false,\"seen\":0}},{\"position\":7,\"user\":{\"has_anonymous_profile_picture\":false,\"fbid_v2\":17841423284563561,\"pk\":\"23308488152\",\"pk_id\":\"23308488152\",\"username\":\"newnew_real\",\"full_name\":\"용인속눈썹펌 수지구청속눈썹펌 수지속눈썹펌 죽전속눈썹펌 뉴진공방 \\U0001faf6🏻\",\"is_private\":false,\"is_verified\":false,\"profile_pic_id\":\"2981188713210179207_23308488152\",\"profile_pic_url\":\"https://scontent-gmp1-1.cdninstagram.com/v/t51.2885-19/317260632_924804321833892_2573415732958123176_n.jpg?stp=dst-jpg_s150x150\\\\u0026_nc_ht=scontent-gmp1-1.cdninstagram.com\\\\u0026_nc_cat=100\\\\u0026_nc_ohc=KWsTKUJRN1oAX8hVa95\\\\u0026edm=AHG7ALcBAAAA\\\\u0026ccb=7-5\\\\u0026oh=00_AfCrhJfMeEcHSSs2HqO0BKt_iBCIwaT-2HMp53qIPXCLhw\\\\u0026oe=64BDDBC3\\\\u0026_nc_sid=c9086e\",\"has_opt_eligible_shop\":false,\"account_badges\":[],\"birthday_today_visibility_for_viewer\":\"NOT_VISIBLE\",\"third_party_downloads_enabled\":0,\"friendship_status\":{\"following\":false,\"is_private\":false,\"incoming_request\":false,\"outgoing_request\":false,\"is_bestie\":false,\"is_restricted\":false,\"is_feed_favorite\":false},\"latest_reel_media\":1689763788,\"should_show_category\":false,\"seen\":0}},{\"position\":8,\"user\":{\"has_anonymous_profile_picture\":false,\"fbid_v2\":17841457578207909,\"show_text_post_app_badge\":true,\"text_post_app_joiner_number\":61020614,\"show_ig_app_switcher_badge\":false,\"pk\":\"57503279273\",\"pk_id\":\"57503279273\",\"username\":\"newalrin_official\",\"full_name\":\"NEWALRIN 뉴얼린\",\"is_private\":false,\"is_verified\":false,\"profile_pic_id\":\"3034396792141496263_57503279273\",\"profile_pic_url\":\"https://scontent-gmp1-1.cdninstagram.com/v/t51.2885-19/329611863_573189448200094_1213085758976266974_n.jpg?stp=dst-jpg_s150x150\\\\u0026_nc_ht=scontent-gmp1-1.cdninstagram.com\\\\u0026_nc_cat=110\\\\u0026_nc_ohc=tjr88M7Q_NYAX_LDOi-\\\\u0026edm=AHG7ALcBAAAA\\\\u0026ccb=7-5\\\\u0026oh=00_AfAMgKWNVBCtNm4oK7Z5IcoKL1AZ-lgYriPAlsgXyBpLYQ\\\\u0026oe=64BCEB0D\\\\u0026_nc_sid=c9086e\",\"has_opt_eligible_shop\":false,\"account_badges\":[],\"birthday_today_visibility_for_viewer\":\"NOT_VISIBLE\",\"third_party_downloads_enabled\":0,\"friendship_status\":{\"following\":false,\"is_private\":false,\"incoming_request\":false,\"outgoing_request\":false,\"is_bestie\":false,\"is_restricted\":false,\"is_feed_favorite\":false},\"latest_reel_media\":1689782074,\"should_show_category\":false,\"seen\":0}},{\"position\":9,\"user\":{\"has_anonymous_profile_picture\":false,\"fbid_v2\":17841406220983298,\"pk\":\"6026391366\",\"pk_id\":\"6026391366\",\"username\":\"hansung_newacts\",\"full_name\":\"한성교회 청년부 뉴액츠\",\"is_private\":false,\"is_verified\":false,\"profile_pic_id\":\"3085909734112327080_6026391366\",\"profile_pic_url\":\"https://scontent-gmp1-1.cdninstagram.com/v/t51.2885-19/342534084_1060905181544731_2498162812655481818_n.jpg?stp=dst-jpg_s150x150\\\\u0026_nc_ht=scontent-gmp1-1.cdninstagram.com\\\\u0026_nc_cat=107\\\\u0026_nc_ohc=_tKVGHH2PEoAX_i-6pn\\\\u0026edm=AHG7ALcBAAAA\\\\u0026ccb=7-5\\\\u0026oh=00_AfDZ3WMBEaOHARMuMgbuMRwzI__Vh7PLmNjzTFSl98VOZA\\\\u0026oe=64BE49DE\\\\u0026_nc_sid=c9086e\",\"has_opt_eligible_shop\":false,\"account_badges\":[],\"birthday_today_visibility_for_viewer\":\"NOT_VISIBLE\",\"third_party_downloads_enabled\":0,\"friendship_status\":{\"following\":false,\"is_private\":false,\"incoming_request\":false,\"outgoing_request\":false,\"is_bestie\":false,\"is_restricted\":false,\"is_feed_favorite\":false},\"latest_reel_media\":1689779311,\"should_show_category\":false,\"seen\":0}},{\"position\":10,\"user\":{\"has_anonymous_profile_picture\":false,\"fbid_v2\":17841450270111605,\"pk\":\"50252843670\",\"pk_id\":\"50252843670\",\"username\":\"_newspresso\",\"full_name\":\"뉴스프레소 영어학습지\",\"is_private\":false,\"is_verified\":false,\"profile_pic_id\":\"2851582733562873626_50252843670\",\"profile_pic_url\":\"https://scontent-gmp1-1.cdninstagram.com/v/t51.2885-19/285030442_3213949188884905_7845064977534797102_n.jpg?stp=dst-jpg_s150x150\\\\u0026_nc_ht=scontent-gmp1-1.cdninstagram.com\\\\u0026_nc_cat=101\\\\u0026_nc_ohc=IxGXiqonTLYAX_mtVPz\\\\u0026edm=AHG7ALcBAAAA\\\\u0026ccb=7-5\\\\u0026oh=00_AfBv0xpozz9cqCwh2IP8nEK77Wyw7Q3Dz10TfrJ8XZGtlw\\\\u0026oe=64BCF7E5\\\\u0026_nc_sid=c9086e\",\"has_opt_eligible_shop\":false,\"account_badges\":[],\"birthday_today_visibility_for_viewer\":\"NOT_VISIBLE\",\"third_party_downloads_enabled\":0,\"friendship_status\":{\"following\":false,\"is_private\":false,\"incoming_request\":false,\"outgoing_request\":false,\"is_bestie\":false,\"is_restricted\":false,\"is_feed_favorite\":false},\"latest_reel_media\":0,\"should_show_category\":false,\"seen\":0}},{\"position\":11,\"user\":{\"has_anonymous_profile_picture\":false,\"fbid_v2\":17841401884893575,\"pk\":\"1508862829\",\"pk_id\":\"1508862829\",\"username\":\"newbalancekids_kr\",\"full_name\":\"NewBalanceKids/뉴발란스키즈\",\"is_private\":false,\"is_verified\":true,\"profile_pic_url\":\"https://scontent-gmp1-1.cdninstagram.com/v/t51.2885-19/10684111_726625274079310_141742332_a.jpg?_nc_ht=scontent-gmp1-1.cdninstagram.com\\\\u0026_nc_cat=110\\\\u0026_nc_ohc=NMcWbV_9B6kAX_Uu-tr\\\\u0026edm=AHG7ALcBAAAA\\\\u0026ccb=7-5\\\\u0026oh=00_AfDKfql3G9tgcU3TCygiCO04jLWc0fw5l548azPS6f24Sw\\\\u0026oe=64BD6E75\\\\u0026_nc_sid=c9086e\",\"has_opt_eligible_shop\":false,\"account_badges\":[],\"birthday_today_visibility_for_viewer\":\"NOT_VISIBLE\",\"third_party_downloads_enabled\":0,\"social_context\":\"68.5K followers\",\"search_social_context\":\"68.5K followers\",\"friendship_status\":{\"following\":false,\"is_private\":false,\"incoming_request\":false,\"outgoing_request\":false,\"is_bestie\":false,\"is_restricted\":false,\"is_feed_favorite\":false},\"latest_reel_media\":0,\"should_show_category\":false,\"seen\":0}},{\"position\":12,\"user\":{\"has_anonymous_profile_picture\":false,\"fbid_v2\":17841406767356059,\"pk\":\"6848473578\",\"pk_id\":\"6848473578\",\"username\":\"mbcnews_official\",\"full_name\":\"MBC뉴스\",\"is_private\":false,\"is_verified\":true,\"profile_pic_id\":\"1814218399381188028_6848473578\",\"profile_pic_url\":\"https://scontent-gmp1-1.cdninstagram.com/v/t51.2885-19/36135712_217018625604102_4760426997950185472_n.jpg?stp=dst-jpg_s150x150\\\\u0026_nc_ht=scontent-gmp1-1.cdninstagram.com\\\\u0026_nc_cat=106\\\\u0026_nc_ohc=Fw4sXZAYc_QAX9HXdfB\\\\u0026edm=AHG7ALcBAAAA\\\\u0026ccb=7-5\\\\u0026oh=00_AfAHudiTdpzsRohkaJdhUVrnKWWeoRRWXTXHCRmv1hW9aw\\\\u0026oe=64BD416D\\\\u0026_nc_sid=c9086e\",\"has_opt_eligible_shop\":false,\"account_badges\":[],\"birthday_today_visibility_for_viewer\":\"NOT_VISIBLE\",\"third_party_downloads_enabled\":0,\"social_context\":\"59K followers\",\"search_social_context\":\"59K followers\",\"friendship_status\":{\"following\":false,\"is_private\":false,\"incoming_request\":false,\"outgoing_request\":false,\"is_bestie\":false,\"is_restricted\":false,\"is_feed_favorite\":false},\"latest_reel_media\":0,\"should_show_category\":false,\"seen\":0}},{\"position\":13,\"user\":{\"has_anonymous_profile_picture\":false,\"fbid_v2\":17841411376580194,\"pk\":\"11361555219\",\"pk_id\":\"11361555219\",\"username\":\"nzinkorea\",\"full_name\":\"주한 뉴질랜드 대사관 / NZ Embassy Seoul\",\"is_private\":false,\"is_verified\":false,\"profile_pic_id\":\"2936205867556803698_11361555219\",\"profile_pic_url\":\"https://scontent-gmp1-1.cdninstagram.com/v/t51.2885-19/308831101_457400033115773_7667120825356668939_n.jpg?stp=dst-jpg_s150x150\\\\u0026_nc_ht=scontent-gmp1-1.cdninstagram.com\\\\u0026_nc_cat=105\\\\u0026_nc_ohc=FS5u4OkiS7gAX_ZK7bZ\\\\u0026edm=AHG7ALcBAAAA\\\\u0026ccb=7-5\\\\u0026oh=00_AfCmuV0XzKHOKrI-E7EdZWjzAtMgbpr2Ms7YnN4QCmssbQ\\\\u0026oe=64BD0965\\\\u0026_nc_sid=c9086e\",\"has_opt_eligible_shop\":false,\"account_badges\":[],\"birthday_today_visibility_for_viewer\":\"NOT_VISIBLE\",\"third_party_downloads_enabled\":0,\"friendship_status\":{\"following\":false,\"is_private\":false,\"incoming_request\":false,\"outgoing_request\":false,\"is_bestie\":false,\"is_restricted\":false,\"is_feed_favorite\":false},\"latest_reel_media\":1689750495,\"should_show_category\":false,\"seen\":0}},{\"position\":14,\"user\":{\"has_anonymous_profile_picture\":false,\"fbid_v2\":17841404473753406,\"pk\":\"4347253125\",\"pk_id\":\"4347253125\",\"username\":\"inewsongchurch\",\"full_name\":\"홍대 뉴송처치(ɴᴇᴡsᴏɴɢ ᴄʜᴜʀᴄʜ)\",\"is_private\":false,\"is_verified\":false,\"profile_pic_id\":\"3089563017340129097_4347253125\",\"profile_pic_url\":\"https://scontent-gmp1-1.cdninstagram.com/v/t51.2885-19/343288461_1255381291767782_1490563208687614777_n.jpg?stp=dst-jpg_s150x150\\\\u0026_nc_ht=scontent-gmp1-1.cdninstagram.com\\\\u0026_nc_cat=102\\\\u0026_nc_ohc=KMauriKD0QsAX95tKKi\\\\u0026edm=AHG7ALcBAAAA\\\\u0026ccb=7-5\\\\u0026oh=00_AfA2SoPLh0kVCHZmDKxFU1nmNaRhnKY5ZGmIbJmJwPaOvw\\\\u0026oe=64BE17D8\\\\u0026_nc_sid=c9086e\",\"has_opt_eligible_shop\":false,\"account_badges\":[],\"birthday_today_visibility_for_viewer\":\"NOT_VISIBLE\",\"third_party_downloads_enabled\":0,\"friendship_status\":{\"following\":false,\"is_private\":false,\"incoming_request\":false,\"outgoing_request\":false,\"is_bestie\":false,\"is_restricted\":false,\"is_feed_favorite\":false},\"latest_reel_media\":1689814256,\"should_show_category\":false,\"seen\":0}},{\"position\":15,\"user\":{\"has_anonymous_profile_picture\":false,\"fbid_v2\":17841456387997492,\"pk\":\"56379943599\",\"pk_id\":\"56379943599\",\"username\":\"gyeomson_is_nothing\",\"full_name\":\"김어준의 겸손은힘들다 뉴스공장\",\"is_private\":false,\"is_verified\":false,\"profile_pic_id\":\"3004661453149574180_56379943599\",\"profile_pic_url\":\"https://scontent-gmp1-1.cdninstagram.com/v/t51.2885-19/321552277_112106914991293_5563367949214421735_n.jpg?stp=dst-jpg_s150x150\\\\u0026_nc_ht=scontent-gmp1-1.cdninstagram.com\\\\u0026_nc_cat=101\\\\u0026_nc_ohc=MEITh5XjjC0AX_nKVH1\\\\u0026edm=AHG7ALcBAAAA\\\\u0026ccb=7-5\\\\u0026oh=00_AfDiwqO7TrMhjbQZJSxmyh2iyXP4pAeM5jwOP3caZuxMtg\\\\u0026oe=64BCC34A\\\\u0026_nc_sid=c9086e\",\"has_opt_eligible_shop\":false,\"account_badges\":[],\"birthday_today_visibility_for_viewer\":\"NOT_VISIBLE\",\"third_party_downloads_enabled\":0,\"friendship_status\":{\"following\":false,\"is_private\":false,\"incoming_request\":false,\"outgoing_request\":false,\"is_bestie\":false,\"is_restricted\":false,\"is_feed_favorite\":false},\"latest_reel_media\":0,\"should_show_category\":false,\"seen\":0}},{\"position\":16,\"user\":{\"has_anonymous_profile_picture\":false,\"fbid_v2\":17841400352765963,\"pk\":\"1661643758\",\"pk_id\":\"1661643758\",\"username\":\"sbsnews\",\"full_name\":\"SBS뉴스\",\"is_private\":false,\"is_verified\":true,\"profile_pic_id\":\"2413831371117349006_1661643758\",\"profile_pic_url\":\"https://scontent-gmp1-1.cdninstagram.com/v/t51.2885-19/120842658_2718345978439550_166314959202134581_n.jpg?stp=dst-jpg_s150x150\\\\u0026_nc_ht=scontent-gmp1-1.cdninstagram.com\\\\u0026_nc_cat=102\\\\u0026_nc_ohc=M-FFjDkoLRoAX9htG-n\\\\u0026edm=AHG7ALcBAAAA\\\\u0026ccb=7-5\\\\u0026oh=00_AfDx9SRkisWJJA_OpDUpvh1N03qG_cbVDyEO60ivZjfCRA\\\\u0026oe=64BCF444\\\\u0026_nc_sid=c9086e\",\"has_opt_eligible_shop\":false,\"account_badges\":[],\"birthday_today_visibility_for_viewer\":\"NOT_VISIBLE\",\"third_party_downloads_enabled\":0,\"social_context\":\"93.5K followers\",\"search_social_context\":\"93.5K followers\",\"friendship_status\":{\"following\":false,\"is_private\":false,\"incoming_request\":false,\"outgoing_request\":false,\"is_bestie\":false,\"is_restricted\":false,\"is_feed_favorite\":false},\"latest_reel_media\":1689734871,\"should_show_category\":false,\"seen\":0}},{\"position\":17,\"user\":{\"has_anonymous_profile_picture\":false,\"fbid_v2\":17841401393740176,\"pk\":\"11310458\",\"pk_id\":\"11310458\",\"username\":\"nuoliunce\",\"full_name\":\"뉴올\",\"is_private\":false,\"is_verified\":false,\"profile_pic_id\":\"2931277247277424183_11310458\",\"profile_pic_url\":\"https://scontent-gmp1-1.cdninstagram.com/v/t51.2885-19/307576814_898060971156988_6802668918440000982_n.jpg?stp=dst-jpg_s150x150\\\\u0026_nc_ht=scontent-gmp1-1.cdninstagram.com\\\\u0026_nc_cat=104\\\\u0026_nc_ohc=wGGCAsbAA_gAX_mduiB\\\\u0026edm=AHG7ALcBAAAA\\\\u0026ccb=7-5\\\\u0026oh=00_AfC-wn4oypJggq25QQM60Widp8eay8nyVdeA9WvNvLTS2A\\\\u0026oe=64BE2585\\\\u0026_nc_sid=c9086e\",\"has_opt_eligible_shop\":false,\"account_badges\":[],\"birthday_today_visibility_for_viewer\":\"NOT_VISIBLE\",\"third_party_downloads_enabled\":0,\"friendship_status\":{\"following\":false,\"is_private\":false,\"incoming_request\":false,\"outgoing_request\":false,\"is_bestie\":false,\"is_restricted\":false,\"is_feed_favorite\":false},\"latest_reel_media\":0,\"should_show_category\":false,\"seen\":0}},{\"position\":18,\"user\":{\"has_anonymous_profile_picture\":false,\"fbid_v2\":17841405700685044,\"pk\":\"5720358022\",\"pk_id\":\"5720358022\",\"username\":\"maison_de_nyc\",\"full_name\":\"New York Photographer 뉴욕스냅\",\"is_private\":false,\"is_verified\":false,\"profile_pic_id\":\"2184737280647101191_5720358022\",\"profile_pic_url\":\"https://scontent-gmp1-1.cdninstagram.com/v/t51.2885-19/74921902_947251082321779_7367310273599766528_n.jpg?stp=dst-jpg_s150x150\\\\u0026_nc_ht=scontent-gmp1-1.cdninstagram.com\\\\u0026_nc_cat=107\\\\u0026_nc_ohc=2VHqUqzuHgoAX9XKmfE\\\\u0026edm=AHG7ALcBAAAA\\\\u0026ccb=7-5\\\\u0026oh=00_AfDRKxtJShZLiBGzi3P7ffE7CadHTq5aOMQdsMke089Otg\\\\u0026oe=64BCA03D\\\\u0026_nc_sid=c9086e\",\"has_opt_eligible_shop\":false,\"account_badges\":[],\"birthday_today_visibility_for_viewer\":\"NOT_VISIBLE\",\"third_party_downloads_enabled\":0,\"friendship_status\":{\"following\":false,\"is_private\":false,\"incoming_request\":false,\"outgoing_request\":false,\"is_bestie\":false,\"is_restricted\":false,\"is_feed_favorite\":false},\"latest_reel_media\":0,\"should_show_category\":false,\"seen\":0}},{\"position\":19,\"user\":{\"has_anonymous_profile_picture\":false,\"fbid_v2\":17841400804022741,\"show_text_post_app_badge\":true,\"text_post_app_joiner_number\":101432598,\"show_ig_app_switcher_badge\":false,\"pk\":\"1455450800\",\"pk_id\":\"1455450800\",\"username\":\"ohbly_724\",\"full_name\":\"뉴스킨 오세정\",\"is_private\":false,\"is_verified\":false,\"profile_pic_id\":\"2719155201776246116_1455450800\",\"profile_pic_url\":\"https://scontent-gmp1-1.cdninstagram.com/v/t51.2885-19/262058623_1190769168115596_5524184725346671133_n.jpg?stp=dst-jpg_s150x150\\\\u0026_nc_ht=scontent-gmp1-1.cdninstagram.com\\\\u0026_nc_cat=100\\\\u0026_nc_ohc=Pzna5V8zsIgAX8yc0yz\\\\u0026edm=AHG7ALcBAAAA\\\\u0026ccb=7-5\\\\u0026oh=00_AfAnF-uxVnX_q3kgjrXlJG0YR1uqPEcPOEpp2QmM7VP60Q\\\\u0026oe=64BDE145\\\\u0026_nc_sid=c9086e\",\"has_opt_eligible_shop\":false,\"account_badges\":[],\"birthday_today_visibility_for_viewer\":\"NOT_VISIBLE\",\"third_party_downloads_enabled\":0,\"friendship_status\":{\"following\":false,\"is_private\":false,\"incoming_request\":false,\"outgoing_request\":false,\"is_bestie\":false,\"is_restricted\":false,\"is_feed_favorite\":false},\"latest_reel_media\":1689768543,\"should_show_category\":false,\"seen\":0}},{\"position\":20,\"user\":{\"has_anonymous_profile_picture\":false,\"fbid_v2\":17841402046380533,\"show_text_post_app_badge\":true,\"text_post_app_joiner_number\":62336847,\"show_ig_app_switcher_badge\":true,\"pk\":\"2084268212\",\"pk_id\":\"2084268212\",\"username\":\"new__eats\",\"full_name\":\"뉴잇츠 | 신상∙신메뉴∙편의점신상𐦂\",\"is_private\":false,\"is_verified\":false,\"profile_pic_id\":\"2974754448205389928_2084268212\",\"profile_pic_url\":\"https://scontent-gmp1-1.cdninstagram.com/v/t51.2885-19/316092533_868723751231125_101878280072346222_n.jpg?stp=dst-jpg_s150x150\\\\u0026_nc_ht=scontent-gmp1-1.cdninstagram.com\\\\u0026_nc_cat=1\\\\u0026_nc_ohc=wBm96EYynooAX_0rhw1\\\\u0026edm=AHG7ALcBAAAA\\\\u0026ccb=7-5\\\\u0026oh=00_AfBMErEN5LVX3djuUMZBMsCO23_cVT9cGs6lDXgmXKMrbw\\\\u0026oe=64BE51BC\\\\u0026_nc_sid=c9086e\",\"has_opt_eligible_shop\":false,\"account_badges\":[],\"birthday_today_visibility_for_viewer\":\"NOT_VISIBLE\",\"third_party_downloads_enabled\":0,\"friendship_status\":{\"following\":false,\"is_private\":false,\"incoming_request\":false,\"outgoing_request\":false,\"is_bestie\":false,\"is_restricted\":false,\"is_feed_favorite\":false},\"latest_reel_media\":1689820287,\"should_show_category\":false,\"seen\":0}},{\"position\":21,\"user\":{\"has_anonymous_profile_picture\":false,\"fbid_v2\":17841401875382070,\"pk\":\"1412542512\",\"pk_id\":\"1412542512\",\"username\":\"plain_note\",\"full_name\":\"뉴일무이 시즌2 (k웨딩🇰🇷)\",\"is_private\":false,\"is_verified\":false,\"profile_pic_id\":\"1791768222451497603_1412542512\",\"profile_pic_url\":\"https://scontent-gmp1-1.cdninstagram.com/v/t51.2885-19/32550369_178896979440474_4402058633328721920_n.jpg?stp=dst-jpg_s150x150\\\\u0026_nc_ht=scontent-gmp1-1.cdninstagram.com\\\\u0026_nc_cat=106\\\\u0026_nc_ohc=GbxzBQ9BJ2kAX9QS-JA\\\\u0026edm=AHG7ALcBAAAA\\\\u0026ccb=7-5\\\\u0026oh=00_AfCi2U60Zs7ZlR1On_gA5O6b4Agf4z1DrkP00zEYAq5ZCA\\\\u0026oe=64BDB735\\\\u0026_nc_sid=c9086e\",\"has_opt_eligible_shop\":false,\"account_badges\":[],\"birthday_today_visibility_for_viewer\":\"NOT_VISIBLE\",\"third_party_downloads_enabled\":0,\"friendship_status\":{\"following\":false,\"is_private\":false,\"incoming_request\":false,\"outgoing_request\":false,\"is_bestie\":false,\"is_restricted\":false,\"is_feed_favorite\":false},\"latest_reel_media\":0,\"should_show_category\":false,\"seen\":0}},{\"position\":24,\"user\":{\"has_anonymous_profile_picture\":false,\"fbid_v2\":17841406593570818,\"pk\":\"6646547785\",\"pk_id\":\"6646547785\",\"username\":\"newrun_bebe\",\"full_name\":\"ღ 뉴런베베,아기옷마켓🛒 ღ\",\"is_private\":false,\"is_verified\":false,\"profile_pic_id\":\"2952200309700983066_6646547785\",\"profile_pic_url\":\"https://scontent-gmp1-1.cdninstagram.com/v/t51.2885-19/309262839_637401651388141_2845542777009958176_n.jpg?stp=dst-jpg_s150x150\\\\u0026_nc_ht=scontent-gmp1-1.cdninstagram.com\\\\u0026_nc_cat=101\\\\u0026_nc_ohc=fgDQjo1GWioAX-nRVES\\\\u0026edm=AHG7ALcBAAAA\\\\u0026ccb=7-5\\\\u0026oh=00_AfC9HdwKjzUcABiKxAm6EfkTh9Pg4Lz9Iig9iHs-wlHzIw\\\\u0026oe=64BE2174\\\\u0026_nc_sid=c9086e\",\"has_opt_eligible_shop\":false,\"account_badges\":[],\"birthday_today_visibility_for_viewer\":\"NOT_VISIBLE\",\"third_party_downloads_enabled\":0,\"friendship_status\":{\"following\":false,\"is_private\":false,\"incoming_request\":false,\"outgoing_request\":false,\"is_bestie\":false,\"is_restricted\":false,\"is_feed_favorite\":false},\"latest_reel_media\":1689819861,\"should_show_category\":false,\"seen\":0}},{\"position\":25,\"user\":{\"has_anonymous_profile_picture\":false,\"fbid_v2\":17841436830623996,\"pk\":\"36831971687\",\"pk_id\":\"36831971687\",\"username\":\"newfit_3rd\",\"full_name\":\"뉴핏휘트니스(병점헬스/병점PT)\",\"is_private\":false,\"is_verified\":false,\"profile_pic_id\":\"3060372998406911031_36831971687\",\"profile_pic_url\":\"https://scontent-gmp1-1.cdninstagram.com/v/t51.2885-19/336034915_115111651521995_590536841246313175_n.jpg?stp=dst-jpg_s150x150\\\\u0026_nc_ht=scontent-gmp1-1.cdninstagram.com\\\\u0026_nc_cat=111\\\\u0026_nc_ohc=Ft5wV6glMhYAX9VkPLP\\\\u0026edm=AHG7ALcBAAAA\\\\u0026ccb=7-5\\\\u0026oh=00_AfBFFucruHrt3_izcYYEFnwp3r4cSE6uQ4z1Lb8a7nTdqg\\\\u0026oe=64BD9A97\\\\u0026_nc_sid=c9086e\",\"has_opt_eligible_shop\":false,\"account_badges\":[],\"birthday_today_visibility_for_viewer\":\"NOT_VISIBLE\",\"third_party_downloads_enabled\":0,\"friendship_status\":{\"following\":false,\"is_private\":false,\"incoming_request\":false,\"outgoing_request\":false,\"is_bestie\":false,\"is_restricted\":false,\"is_feed_favorite\":false},\"latest_reel_media\":1689805444,\"should_show_category\":false,\"seen\":0}},{\"position\":26,\"user\":{\"has_anonymous_profile_picture\":false,\"fbid_v2\":17841402032292536,\"show_text_post_app_badge\":true,\"text_post_app_joiner_number\":92941780,\"show_ig_app_switcher_badge\":false,\"pk\":\"1940291743\",\"pk_id\":\"1940291743\",\"username\":\"new_normal.official\",\"full_name\":\"뉴노멀가구\",\"is_private\":false,\"is_verified\":false,\"profile_pic_id\":\"3149378784054832774_1940291743\",\"profile_pic_url\":\"https://scontent-gmp1-1.cdninstagram.com/v/t51.2885-19/361546744_834423611367291_4834104784003139970_n.jpg?stp=dst-jpg_s150x150\\\\u0026_nc_ht=scontent-gmp1-1.cdninstagram.com\\\\u0026_nc_cat=103\\\\u0026_nc_ohc=NUrevB-0WCYAX-GXHRw\\\\u0026edm=AHG7ALcBAAAA\\\\u0026ccb=7-5\\\\u0026oh=00_AfBpEgpprqRpybxlEi6X6AqrybeiyvAsj0Fvr2jo2hO50A\\\\u0026oe=64BD99E6\\\\u0026_nc_sid=c9086e\",\"has_opt_eligible_shop\":false,\"account_badges\":[],\"birthday_today_visibility_for_viewer\":\"NOT_VISIBLE\",\"third_party_downloads_enabled\":0,\"friendship_status\":{\"following\":false,\"is_private\":false,\"incoming_request\":false,\"outgoing_request\":false,\"is_bestie\":false,\"is_restricted\":false,\"is_feed_favorite\":false},\"latest_reel_media\":1689819967,\"should_show_category\":false,\"seen\":0}},{\"position\":27,\"user\":{\"has_anonymous_profile_picture\":false,\"fbid_v2\":17841445304551854,\"pk\":\"45294838151\",\"pk_id\":\"45294838151\",\"username\":\"itsnew.b\",\"full_name\":\"뉴 부장\",\"is_private\":false,\"is_verified\":false,\"profile_pic_id\":\"2808760129315863607_45294838151\",\"profile_pic_url\":\"https://scontent-gmp1-1.cdninstagram.com/v/t51.2885-19/277855861_551167302944533_476005681819278995_n.jpg?stp=dst-jpg_s150x150\\\\u0026_nc_ht=scontent-gmp1-1.cdninstagram.com\\\\u0026_nc_cat=101\\\\u0026_nc_ohc=9VNHyGF0OywAX-903QF\\\\u0026edm=AHG7ALcBAAAA\\\\u0026ccb=7-5\\\\u0026oh=00_AfCnvQCcv_iPqnbi4AKhulLyujWUF8O7HJFKXdR-wJF0ww\\\\u0026oe=64BDA3F4\\\\u0026_nc_sid=c9086e\",\"has_opt_eligible_shop\":false,\"account_badges\":[],\"birthday_today_visibility_for_viewer\":\"NOT_VISIBLE\",\"third_party_downloads_enabled\":0,\"friendship_status\":{\"following\":false,\"is_private\":false,\"incoming_request\":false,\"outgoing_request\":false,\"is_bestie\":false,\"is_restricted\":false,\"is_feed_favorite\":false},\"latest_reel_media\":1689813675,\"should_show_category\":false,\"seen\":0}},{\"position\":28,\"user\":{\"has_anonymous_profile_picture\":false,\"fbid_v2\":17841437688135152,\"pk\":\"37721216271\",\"pk_id\":\"37721216271\",\"username\":\"jackpod.ny\",\"full_name\":\"애플워치스트랩 잭팟[뉴욕/큐브] | JACKPOD NEWYORK/CUBE\",\"is_private\":false,\"is_verified\":false,\"profile_pic_id\":\"3100359338724461977_37721216271\",\"profile_pic_url\":\"https://scontent-gmp1-1.cdninstagram.com/v/t51.2885-19/345857776_754589612976144_144877079123968996_n.jpg?stp=dst-jpg_s150x150\\\\u0026_nc_ht=scontent-gmp1-1.cdninstagram.com\\\\u0026_nc_cat=100\\\\u0026_nc_ohc=3UgIYvGPh7AAX_xxzSb\\\\u0026edm=AHG7ALcBAAAA\\\\u0026ccb=7-5\\\\u0026oh=00_AfBKiVmkm2dcY-wH1K7S4etLq02TiZAxVwP_LBI3r1vE3w\\\\u0026oe=64BD6731\\\\u0026_nc_sid=c9086e\",\"has_opt_eligible_shop\":false,\"account_badges\":[],\"birthday_today_visibility_for_viewer\":\"NOT_VISIBLE\",\"third_party_downloads_enabled\":0,\"friendship_status\":{\"following\":false,\"is_private\":false,\"incoming_request\":false,\"outgoing_request\":false,\"is_bestie\":false,\"is_restricted\":false,\"is_feed_favorite\":false},\"latest_reel_media\":0,\"should_show_category\":false,\"seen\":0}},{\"position\":29,\"user\":{\"has_anonymous_profile_picture\":false,\"fbid_v2\":17841403971732941,\"pk\":\"3863532391\",\"pk_id\":\"3863532391\",\"username\":\"newtech_wellness\",\"full_name\":\"㈜뉴텍웰니스\",\"is_private\":false,\"is_verified\":false,\"profile_pic_id\":\"3058011671934456439_3863532391\",\"profile_pic_url\":\"https://scontent-gmp1-1.cdninstagram.com/v/t51.2885-19/336029261_932849701175961_8525421680959393634_n.jpg?stp=dst-jpg_s150x150\\\\u0026_nc_ht=scontent-gmp1-1.cdninstagram.com\\\\u0026_nc_cat=109\\\\u0026_nc_ohc=5mzNa-HBzG4AX95_Qry\\\\u0026edm=AHG7ALcBAAAA\\\\u0026ccb=7-5\\\\u0026oh=00_AfAPRKb4lCx0o2BFCfdvnrKkJsgaK91-qwGs72BZiAcovw\\\\u0026oe=64BD65A1\\\\u0026_nc_sid=c9086e\",\"has_opt_eligible_shop\":false,\"account_badges\":[],\"birthday_today_visibility_for_viewer\":\"NOT_VISIBLE\",\"third_party_downloads_enabled\":0,\"friendship_status\":{\"following\":false,\"is_private\":false,\"incoming_request\":false,\"outgoing_request\":false,\"is_bestie\":false,\"is_restricted\":false,\"is_feed_favorite\":false},\"latest_reel_media\":0,\"should_show_category\":false,\"seen\":0}},{\"position\":30,\"user\":{\"has_anonymous_profile_picture\":false,\"fbid_v2\":17841403447969807,\"pk\":\"3438458932\",\"pk_id\":\"3438458932\",\"username\":\"new_beauty_clinic_\",\"full_name\":\"뉴뷰티클리닉\",\"is_private\":false,\"is_verified\":false,\"profile_pic_id\":\"1750051286366478211_3438458932\",\"profile_pic_url\":\"https://scontent-gmp1-1.cdninstagram.com/v/t51.2885-19/29739189_212002832904156_3898028806505496576_n.jpg?stp=dst-jpg_s150x150\\\\u0026_nc_ht=scontent-gmp1-1.cdninstagram.com\\\\u0026_nc_cat=100\\\\u0026_nc_ohc=ZrUwB1basHwAX-IKkKo\\\\u0026edm=AHG7ALcBAAAA\\\\u0026ccb=7-5\\\\u0026oh=00_AfDMrWYuuMc2BRzNJUzMYiLPfSDbQ0ONYG7ybMsoltJpEA\\\\u0026oe=64BD513B\\\\u0026_nc_sid=c9086e\",\"has_opt_eligible_shop\":false,\"account_badges\":[],\"birthday_today_visibility_for_viewer\":\"NOT_VISIBLE\",\"third_party_downloads_enabled\":0,\"friendship_status\":{\"following\":false,\"is_private\":false,\"incoming_request\":false,\"outgoing_request\":false,\"is_bestie\":false,\"is_restricted\":false,\"is_feed_favorite\":false},\"latest_reel_media\":0,\"should_show_category\":false,\"seen\":0}},{\"position\":31,\"user\":{\"has_anonymous_profile_picture\":false,\"fbid_v2\":17841402388877466,\"show_text_post_app_badge\":true,\"text_post_app_joiner_number\":13403097,\"show_ig_app_switcher_badge\":true,\"pk\":\"2219735629\",\"pk_id\":\"2219735629\",\"username\":\"newmediaenglish\",\"full_name\":\"김도현 뉴미디어 영어\",\"is_private\":false,\"is_verified\":false,\"profile_pic_id\":\"1378687567373774141_2219735629\",\"profile_pic_url\":\"https://scontent-gmp1-1.cdninstagram.com/v/t51.2885-19/14730645_1608430566127082_606057260271009792_a.jpg?stp=dst-jpg_s150x150\\\\u0026_nc_ht=scontent-gmp1-1.cdninstagram.com\\\\u0026_nc_cat=102\\\\u0026_nc_ohc=rHpGw72Ix9oAX9RI9iM\\\\u0026edm=AHG7ALcBAAAA\\\\u0026ccb=7-5\\\\u0026oh=00_AfAj9xoDMHkSM_mtLcvG_4XMOFMNUbBNCBmY4nKjRJfaew\\\\u0026oe=64BDBE31\\\\u0026_nc_sid=c9086e\",\"has_opt_eligible_shop\":false,\"account_badges\":[],\"birthday_today_visibility_for_viewer\":\"NOT_VISIBLE\",\"third_party_downloads_enabled\":0,\"friendship_status\":{\"following\":false,\"is_private\":false,\"incoming_request\":false,\"outgoing_request\":false,\"is_bestie\":false,\"is_restricted\":false,\"is_feed_favorite\":false},\"latest_reel_media\":0,\"should_show_category\":false,\"seen\":0}},{\"position\":32,\"user\":{\"has_anonymous_profile_picture\":false,\"fbid_v2\":17841416194125562,\"pk\":\"16124499804\",\"pk_id\":\"16124499804\",\"username\":\"lica_jjing\",\"full_name\":\"박 예 은 | NEWWAYGYM 뉴웨이짐 화도PT 마석PT\",\"is_private\":false,\"is_verified\":false,\"profile_pic_id\":\"3013281010760214058_16124499804\",\"profile_pic_url\":\"https://scontent-gmp1-1.cdninstagram.com/v/t51.2885-19/324388169_149659497878271_4529130332311878828_n.jpg?stp=dst-jpg_s150x150\\\\u0026_nc_ht=scontent-gmp1-1.cdninstagram.com\\\\u0026_nc_cat=103\\\\u0026_nc_ohc=iC6gbV6-_o8AX8q38Ql\\\\u0026edm=AHG7ALcBAAAA\\\\u0026ccb=7-5\\\\u0026oh=00_AfB6YNzR1EG3n0AEv2YAydKn1CChIQbJ9KBzsyYOiPZXrQ\\\\u0026oe=64BC9FBE\\\\u0026_nc_sid=c9086e\",\"has_opt_eligible_shop\":false,\"account_badges\":[],\"birthday_today_visibility_for_viewer\":\"NOT_VISIBLE\",\"third_party_downloads_enabled\":0,\"friendship_status\":{\"following\":false,\"is_private\":false,\"incoming_request\":false,\"outgoing_request\":false,\"is_bestie\":false,\"is_restricted\":false,\"is_feed_favorite\":false},\"latest_reel_media\":1689750789,\"should_show_category\":false,\"seen\":0}},{\"position\":33,\"user\":{\"has_anonymous_profile_picture\":false,\"fbid_v2\":17841445853148245,\"pk\":\"45905960438\",\"pk_id\":\"45905960438\",\"username\":\"newbooknow\",\"full_name\":\"newbooknow 뉴북나우\",\"is_private\":false,\"is_verified\":false,\"profile_pic_id\":\"2987223092751499137_45905960438\",\"profile_pic_url\":\"https://scontent-gmp1-1.cdninstagram.com/v/t51.2885-19/318583896_3252870644985481_1828672644299626310_n.jpg?stp=dst-jpg_s150x150\\\\u0026_nc_ht=scontent-gmp1-1.cdninstagram.com\\\\u0026_nc_cat=101\\\\u0026_nc_ohc=iBQ3pUwQ2i0AX9nZm9d\\\\u0026edm=AHG7ALcBAAAA\\\\u0026ccb=7-5\\\\u0026oh=00_AfB84rHzriEWSB6iJlPFiELaqR_jazdvINzOq0hBx8B7yQ\\\\u0026oe=64BD5A35\\\\u0026_nc_sid=c9086e\",\"has_opt_eligible_shop\":false,\"account_badges\":[],\"birthday_today_visibility_for_viewer\":\"NOT_VISIBLE\",\"third_party_downloads_enabled\":0,\"friendship_status\":{\"following\":false,\"is_private\":false,\"incoming_request\":false,\"outgoing_request\":false,\"is_bestie\":false,\"is_restricted\":false,\"is_feed_favorite\":false},\"latest_reel_media\":1689770676,\"should_show_category\":false,\"seen\":0}},{\"position\":34,\"user\":{\"has_anonymous_profile_picture\":false,\"fbid_v2\":17841401568378834,\"pk\":\"565428279\",\"pk_id\":\"565428279\",\"username\":\"nrzheo\",\"full_name\":\"나래 / 뉴드\",\"is_private\":false,\"is_verified\":false,\"profile_pic_id\":\"3004701538293005671_565428279\",\"profile_pic_url\":\"https://scontent-gmp1-1.cdninstagram.com/v/t51.2885-19/322521652_717875133381036_5945288352838878418_n.jpg?stp=dst-jpg_s150x150\\\\u0026_nc_ht=scontent-gmp1-1.cdninstagram.com\\\\u0026_nc_cat=100\\\\u0026_nc_ohc=I2Ykp6oKKowAX-d2cz8\\\\u0026edm=AHG7ALcBAAAA\\\\u0026ccb=7-5\\\\u0026oh=00_AfDCsFuhu6zyOPFsQ2W5_kVDM20lK_oVfj2ozqeoBLzH_A\\\\u0026oe=64BDD60F\\\\u0026_nc_sid=c9086e\",\"has_opt_eligible_shop\":false,\"account_badges\":[],\"birthday_today_visibility_for_viewer\":\"NOT_VISIBLE\",\"third_party_downloads_enabled\":0,\"friendship_status\":{\"following\":false,\"is_private\":false,\"incoming_request\":false,\"outgoing_request\":false,\"is_bestie\":false,\"is_restricted\":false,\"is_feed_favorite\":false},\"latest_reel_media\":1689770166,\"should_show_category\":false,\"seen\":0}},{\"position\":35,\"user\":{\"has_anonymous_profile_picture\":false,\"fbid_v2\":17841401465786593,\"pk\":\"1062000859\",\"pk_id\":\"1062000859\",\"username\":\"newstapa\",\"full_name\":\"뉴스타파\",\"is_private\":false,\"is_verified\":true,\"profile_pic_id\":\"2544948266258622533_1062000859\",\"profile_pic_url\":\"https://scontent-gmp1-1.cdninstagram.com/v/t51.2885-19/168625102_825587224695930_7093555405287044285_n.jpg?stp=dst-jpg_s150x150\\\\u0026_nc_ht=scontent-gmp1-1.cdninstagram.com\\\\u0026_nc_cat=106\\\\u0026_nc_ohc=vZv8x5FylqoAX979fuJ\\\\u0026edm=AHG7ALcBAAAA\\\\u0026ccb=7-5\\\\u0026oh=00_AfD6kCnsXiy4YMPcj_rOK_LRcO6WkwX8AqyqNZc5Im632Q\\\\u0026oe=64BE3760\\\\u0026_nc_sid=c9086e\",\"has_opt_eligible_shop\":false,\"account_badges\":[],\"birthday_today_visibility_for_viewer\":\"NOT_VISIBLE\",\"third_party_downloads_enabled\":0,\"social_context\":\"101K followers\",\"search_social_context\":\"101K followers\",\"friendship_status\":{\"following\":false,\"is_private\":false,\"incoming_request\":false,\"outgoing_request\":false,\"is_bestie\":false,\"is_restricted\":false,\"is_feed_favorite\":false},\"latest_reel_media\":0,\"should_show_category\":false,\"seen\":0}},{\"position\":36,\"user\":{\"has_anonymous_profile_picture\":false,\"fbid_v2\":17841449606122420,\"pk\":\"49539365537\",\"pk_id\":\"49539365537\",\"username\":\"newstatemobile_kr\",\"full_name\":\"뉴스테이트 모바일\",\"is_private\":false,\"is_verified\":true,\"profile_pic_id\":\"2755892824665631778_49539365537\",\"profile_pic_url\":\"https://scontent-gmp1-1.cdninstagram.com/v/t51.2885-19/272139121_477385927304692_8331659419500469689_n.jpg?stp=dst-jpg_s150x150\\\\u0026_nc_ht=scontent-gmp1-1.cdninstagram.com\\\\u0026_nc_cat=104\\\\u0026_nc_ohc=vs_RcVoL9-AAX_N-jeF\\\\u0026edm=AHG7ALcBAAAA\\\\u0026ccb=7-5\\\\u0026oh=00_AfD7J3lE7ODe8vQEcpRpmGJcmt-46CdGYPo25d6yoKZ06w\\\\u0026oe=64BE234C\\\\u0026_nc_sid=c9086e\",\"has_opt_eligible_shop\":false,\"account_badges\":[],\"birthday_today_visibility_for_viewer\":\"NOT_VISIBLE\",\"third_party_downloads_enabled\":0,\"social_context\":\"3,149 followers\",\"search_social_context\":\"3,149 followers\",\"friendship_status\":{\"following\":false,\"is_private\":false,\"incoming_request\":false,\"outgoing_request\":false,\"is_bestie\":false,\"is_restricted\":false,\"is_feed_favorite\":false},\"latest_reel_media\":0,\"should_show_category\":false,\"seen\":0}},{\"position\":37,\"user\":{\"has_anonymous_profile_picture\":false,\"fbid_v2\":17841405565414449,\"pk\":\"5715593513\",\"pk_id\":\"5715593513\",\"username\":\"neweraproject\",\"full_name\":\"뉴에라프로젝트\",\"is_private\":false,\"is_verified\":false,\"profile_pic_id\":\"2210724572021810637_5715593513\",\"profile_pic_url\":\"https://scontent-gmp1-1.cdninstagram.com/v/t51.2885-19/81088302_1411426905698383_4701501532707749888_n.jpg?stp=dst-jpg_s150x150\\\\u0026_nc_ht=scontent-gmp1-1.cdninstagram.com\\\\u0026_nc_cat=107\\\\u0026_nc_ohc=FhomCopskHMAX-mdWOf\\\\u0026edm=AHG7ALcBAAAA\\\\u0026ccb=7-5\\\\u0026oh=00_AfBoGcPZG67_o4JNf7x1PQnLdK0fT2sunkBTWjZv9X2asg\\\\u0026oe=64BD9685\\\\u0026_nc_sid=c9086e\",\"has_opt_eligible_shop\":false,\"account_badges\":[],\"birthday_today_visibility_for_viewer\":\"NOT_VISIBLE\",\"third_party_downloads_enabled\":0,\"friendship_status\":{\"following\":false,\"is_private\":false,\"incoming_request\":false,\"outgoing_request\":false,\"is_bestie\":false,\"is_restricted\":false,\"is_feed_favorite\":false},\"latest_reel_media\":0,\"should_show_category\":false,\"seen\":0}},{\"position\":38,\"user\":{\"has_anonymous_profile_picture\":false,\"fbid_v2\":17841400751533450,\"show_text_post_app_badge\":true,\"show_ig_app_switcher_badge\":true,\"pk\":\"220825051\",\"pk_id\":\"220825051\",\"username\":\"nwotattoo_jinse\",\"full_name\":\"오리엔탈 뉴스쿨, 재패니즈타투 | 𝕬𝖗𝖙𝖎𝖘𝖙 𝕵𝖎𝖓𝖘𝖊\",\"is_private\":false,\"is_verified\":false,\"profile_pic_id\":\"1790815318969795935_220825051\",\"profile_pic_url\":\"https://scontent-gmp1-1.cdninstagram.com/v/t51.2885-19/33473552_455182958273855_8256518973756014592_n.jpg?stp=dst-jpg_s150x150\\\\u0026_nc_ht=scontent-gmp1-1.cdninstagram.com\\\\u0026_nc_cat=111\\\\u0026_nc_ohc=u1CmbXOr94MAX_xkfHE\\\\u0026edm=AHG7ALcBAAAA\\\\u0026ccb=7-5\\\\u0026oh=00_AfC7GW3VdlACYwUpn9b0A6lfYKmhhFQahXiLtiDLPLRmyA\\\\u0026oe=64BDA3FD\\\\u0026_nc_sid=c9086e\",\"has_opt_eligible_shop\":false,\"account_badges\":[],\"birthday_today_visibility_for_viewer\":\"NOT_VISIBLE\",\"third_party_downloads_enabled\":0,\"friendship_status\":{\"following\":false,\"is_private\":false,\"incoming_request\":false,\"outgoing_request\":false,\"is_bestie\":false,\"is_restricted\":false,\"is_feed_favorite\":false},\"latest_reel_media\":1689764594,\"should_show_category\":false,\"seen\":0}},{\"position\":40,\"user\":{\"has_anonymous_profile_picture\":false,\"fbid_v2\":17841411956896302,\"show_text_post_app_badge\":true,\"text_post_app_joiner_number\":81983996,\"show_ig_app_switcher_badge\":true,\"pk\":\"11810422563\",\"pk_id\":\"11810422563\",\"username\":\"say_.i\",\"full_name\":\"붙임머리 / 붙임머리전문/뉴어스 세희실장\",\"is_private\":false,\"is_verified\":false,\"profile_pic_id\":\"3120754303280320748_11810422563\",\"profile_pic_url\":\"https://scontent-gmp1-1.cdninstagram.com/v/t51.2885-19/352976427_241549521930283_4262623754429147933_n.jpg?stp=dst-jpg_s150x150\\\\u0026_nc_ht=scontent-gmp1-1.cdninstagram.com\\\\u0026_nc_cat=107\\\\u0026_nc_ohc=Z0FY9S0Tv5oAX9Qim9J\\\\u0026edm=AHG7ALcBAAAA\\\\u0026ccb=7-5\\\\u0026oh=00_AfDlTatcJzIYhZXwGQodvTI0KcTrZZtpLtQQReRzmf-Dow\\\\u0026oe=64BD256F\\\\u0026_nc_sid=c9086e\",\"has_opt_eligible_shop\":false,\"account_badges\":[],\"birthday_today_visibility_for_viewer\":\"NOT_VISIBLE\",\"third_party_downloads_enabled\":0,\"friendship_status\":{\"following\":false,\"is_private\":false,\"incoming_request\":false,\"outgoing_request\":false,\"is_bestie\":false,\"is_restricted\":false,\"is_feed_favorite\":false},\"latest_reel_media\":1689764959,\"should_show_category\":false,\"seen\":0}},{\"position\":41,\"user\":{\"has_anonymous_profile_picture\":false,\"fbid_v2\":17841401182006842,\"pk\":\"437927400\",\"pk_id\":\"437927400\",\"username\":\"newerakorea\",\"full_name\":\"NEW ERA KOREA | 뉴에라 코리아\",\"is_private\":false,\"is_verified\":true,\"profile_pic_id\":\"3100031060214707289_437927400\",\"profile_pic_url\":\"https://scontent-gmp1-1.cdninstagram.com/v/t51.2885-19/345870999_811782223902582_4890946918421481725_n.jpg?stp=dst-jpg_s150x150\\\\u0026_nc_ht=scontent-gmp1-1.cdninstagram.com\\\\u0026_nc_cat=106\\\\u0026_nc_ohc=Y8jLUzgfRWcAX9urSNR\\\\u0026edm=AHG7ALcBAAAA\\\\u0026ccb=7-5\\\\u0026oh=00_AfBdevzvrji5HygNm-SimaFUSF0MVN-oYgBaMKaNXo8dfg\\\\u0026oe=64BCC501\\\\u0026_nc_sid=c9086e\",\"has_opt_eligible_shop\":false,\"account_badges\":[],\"birthday_today_visibility_for_viewer\":\"NOT_VISIBLE\",\"third_party_downloads_enabled\":0,\"social_context\":\"88.2K followers\",\"search_social_context\":\"88.2K followers\",\"friendship_status\":{\"following\":false,\"is_private\":false,\"incoming_request\":false,\"outgoing_request\":false,\"is_bestie\":false,\"is_restricted\":false,\"is_feed_favorite\":false},\"latest_reel_media\":1689752317,\"should_show_category\":false,\"seen\":0}},{\"position\":46,\"user\":{\"has_anonymous_profile_picture\":false,\"fbid_v2\":17841453652975617,\"pk\":\"53644940432\",\"pk_id\":\"53644940432\",\"username\":\"newsjamm\",\"full_name\":\"newsjamm 뉴스잼\",\"is_private\":false,\"is_verified\":false,\"profile_pic_id\":\"2869512022243369623_53644940432\",\"profile_pic_url\":\"https://scontent-gmp1-1.cdninstagram.com/v/t51.2885-19/290207656_537121341428823_8523174453675074578_n.jpg?stp=dst-jpg_s150x150\\\\u0026_nc_ht=scontent-gmp1-1.cdninstagram.com\\\\u0026_nc_cat=103\\\\u0026_nc_ohc=MT6oi1EVKEIAX-j_6T1\\\\u0026edm=AHG7ALcBAAAA\\\\u0026ccb=7-5\\\\u0026oh=00_AfAlq4xrfKLiYOQ2cdCe37O6JqAhizExmKRqgQE5mrkS5g\\\\u0026oe=64BD2225\\\\u0026_nc_sid=c9086e\",\"has_opt_eligible_shop\":false,\"account_badges\":[],\"birthday_today_visibility_for_viewer\":\"NOT_VISIBLE\",\"third_party_downloads_enabled\":0,\"friendship_status\":{\"following\":false,\"is_private\":false,\"incoming_request\":false,\"outgoing_request\":false,\"is_bestie\":false,\"is_restricted\":false,\"is_feed_favorite\":false},\"latest_reel_media\":1689819303,\"should_show_category\":false,\"seen\":0}},{\"position\":48,\"user\":{\"has_anonymous_profile_picture\":false,\"fbid_v2\":17841427569552197,\"pk\":\"27377582985\",\"pk_id\":\"27377582985\",\"username\":\"team_newnion\",\"full_name\":\"뉴니온 [Newnion]\",\"is_private\":false,\"is_verified\":false,\"profile_pic_id\":\"2752042097086131071_27377582985\",\"profile_pic_url\":\"https://scontent-gmp1-1.cdninstagram.com/v/t51.2885-19/271930208_532251157767082_6759650539104702742_n.jpg?stp=dst-jpg_s150x150\\\\u0026_nc_ht=scontent-gmp1-1.cdninstagram.com\\\\u0026_nc_cat=110\\\\u0026_nc_ohc=HOwPUv744QEAX_0HrB8\\\\u0026edm=AHG7ALcBAAAA\\\\u0026ccb=7-5\\\\u0026oh=00_AfChPTQK4yd6aYK1W4LhxGgV_XoEdX0KADQXGGQ4awrflQ\\\\u0026oe=64BD8BE1\\\\u0026_nc_sid=c9086e\",\"has_opt_eligible_shop\":false,\"account_badges\":[],\"birthday_today_visibility_for_viewer\":\"NOT_VISIBLE\",\"third_party_downloads_enabled\":0,\"friendship_status\":{\"following\":false,\"is_private\":false,\"incoming_request\":false,\"outgoing_request\":false,\"is_bestie\":false,\"is_restricted\":false,\"is_feed_favorite\":false},\"latest_reel_media\":0,\"should_show_category\":false,\"seen\":0}},{\"position\":54,\"user\":{\"has_anonymous_profile_picture\":false,\"fbid_v2\":17841407826138846,\"pk\":\"7750772871\",\"pk_id\":\"7750772871\",\"username\":\"sbs_golroom\",\"full_name\":\"SBS 골라듣는 뉴스룸\",\"is_private\":false,\"is_verified\":false,\"profile_pic_id\":\"2769045448094575041_7750772871\",\"profile_pic_url\":\"https://scontent-gmp1-1.cdninstagram.com/v/t51.2885-19/273471299_267861485422317_597079647294797714_n.jpg?stp=dst-jpg_s150x150\\\\u0026_nc_ht=scontent-gmp1-1.cdninstagram.com\\\\u0026_nc_cat=109\\\\u0026_nc_ohc=pDVYO1HBIjkAX8-fJpY\\\\u0026edm=AHG7ALcBAAAA\\\\u0026ccb=7-5\\\\u0026oh=00_AfA-ZzexBREgbExDm61jBubKDVkzbNs5SLqiJAZZ3oTDwA\\\\u0026oe=64BE8785\\\\u0026_nc_sid=c9086e\",\"has_opt_eligible_shop\":false,\"account_badges\":[],\"birthday_today_visibility_for_viewer\":\"NOT_VISIBLE\",\"third_party_downloads_enabled\":0,\"friendship_status\":{\"following\":false,\"is_private\":false,\"incoming_request\":false,\"outgoing_request\":false,\"is_bestie\":false,\"is_restricted\":false,\"is_feed_favorite\":false},\"latest_reel_media\":0,\"should_show_category\":false,\"seen\":0}}],\"places\":[{\"place\":{\"location\":{\"pk\":\"84152957\",\"short_name\":\"뉴코리아cc\",\"facebook_places_id\":502233953174146,\"external_source\":\"facebook_places\",\"name\":\"뉴코리아cc\",\"address\":\"덕양구 신원2로 57\",\"city\":\"\",\"has_viewer_saved\":false,\"lng\":126.87798267125,\"lat\":37.665092371509},\"title\":\"뉴코리아cc\",\"subtitle\":\"덕양구 신원2로 57\",\"media_bundles\":[],\"slug\":\"cc\"},\"position\":22},{\"place\":{\"location\":{\"pk\":\"37184388\",\"short_name\":\"뉴스프링빌cc\",\"facebook_places_id\":255444114506516,\"external_source\":\"facebook_places\",\"name\":\"뉴스프링빌cc\",\"address\":\"모가면 사실로527번길 158\",\"city\":\"\",\"has_viewer_saved\":false,\"lng\":127.41996358671,\"lat\":37.154073703323},\"title\":\"뉴스프링빌cc\",\"subtitle\":\"모가면 사실로527번길 158\",\"media_bundles\":[],\"slug\":\"cc\"},\"position\":39},{\"place\":{\"location\":{\"pk\":\"333768387188833\",\"short_name\":\"베뉴지cc\",\"facebook_places_id\":333768387188833,\"external_source\":\"facebook_places\",\"name\":\"베뉴지cc\",\"address\":\"가평읍 승안리 산176\",\"city\":\"\",\"has_viewer_saved\":false,\"lng\":127.47155074903,\"lat\":37.846748067497},\"title\":\"베뉴지cc\",\"subtitle\":\"가평읍 승안리 산176\",\"media_bundles\":[],\"slug\":\"cc\"},\"position\":43},{\"place\":{\"location\":{\"pk\":\"530260501\",\"short_name\":\"뉴발란스\",\"facebook_places_id\":169327533206060,\"external_source\":\"facebook_places\",\"name\":\"뉴발란스\",\"address\":\"\",\"city\":\"\",\"has_viewer_saved\":false,\"lng\":127.0471763,\"lat\":37.7393162},\"title\":\"뉴발란스\",\"subtitle\":\"\",\"media_bundles\":[],\"slug\":\"\"},\"position\":44},{\"place\":{\"location\":{\"pk\":\"316655041725186\",\"short_name\":\"뉴제너레이션워십\",\"facebook_places_id\":316655041725186,\"external_source\":\"facebook_places\",\"name\":\"뉴제너레이션워십\",\"address\":\"Magok M Signature #810, Ganseo-gu\",\"city\":\"Seoul, Korea\",\"has_viewer_saved\":false,\"lng\":126.82484149933,\"lat\":37.558458919871},\"title\":\"뉴제너레이션워십\",\"subtitle\":\"Magok M Signature #810, Ganseo-gu, Seoul, Korea\",\"media_bundles\":[],\"slug\":\"\"},\"position\":45},{\"place\":{\"location\":{\"pk\":\"279147015\",\"short_name\":\"베뉴지\",\"facebook_places_id\":784219674922132,\"external_source\":\"facebook_places\",\"name\":\"베뉴지\",\"address\":\"서울시 강서구 강서로 388\",\"city\":\"Seoul, Korea\",\"has_viewer_saved\":false,\"lng\":126.83939252018,\"lat\":37.560080008207},\"title\":\"베뉴지\",\"subtitle\":\"서울시 강서구 강서로 388, Seoul, Korea\",\"media_bundles\":[],\"slug\":\"\"},\"position\":47},{\"place\":{\"location\":{\"pk\":\"265778730954737\",\"short_name\":\"베뉴페\",\"facebook_places_id\":265778730954737,\"external_source\":\"facebook_places\",\"name\":\"베뉴페\",\"address\":\"회동길 357 1F\",\"city\":\"Paju\",\"has_viewer_saved\":false,\"lng\":126.775,\"lat\":37.761100009154},\"title\":\"베뉴페\",\"subtitle\":\"회동길 357 1F, Paju\",\"media_bundles\":[],\"slug\":\"\"},\"position\":49},{\"place\":{\"location\":{\"pk\":\"525483643\",\"short_name\":\"뉴사운드교회\",\"facebook_places_id\":305515482796155,\"external_source\":\"facebook_places\",\"name\":\"뉴사운드교회\",\"address\":\"강서구 내발산동 390-2 새롬프라자 9층,10층\",\"city\":\"서울\",\"has_viewer_saved\":false,\"lng\":126.82606944024,\"lat\":37.553005433912},\"title\":\"뉴사운드교회\",\"subtitle\":\"강서구 내발산동 390-2 새롬프라자 9층,10층, 서울\",\"media_bundles\":[],\"slug\":\"\"},\"position\":50},{\"place\":{\"location\":{\"pk\":\"481443687\",\"short_name\":\"뉴페이스 스튜디오\",\"facebook_places_id\":1483016878644418,\"external_source\":\"facebook_places\",\"name\":\"뉴페이스 스튜디오\",\"address\":\"노원구 상계동 693번지 미도빌딩 803호\",\"city\":\"Seoul, Korea\",\"has_viewer_saved\":false,\"lng\":127.06036017333,\"lat\":37.6558649},\"title\":\"뉴페이스 스튜디오\",\"subtitle\":\"노원구 상계동 693번지 미도빌딩 803호, Seoul, Korea\",\"media_bundles\":[],\"slug\":\"\"},\"position\":51},{\"place\":{\"location\":{\"pk\":\"702443937\",\"short_name\":\"뉴본정형외과\",\"facebook_places_id\":225011790969220,\"external_source\":\"facebook_places\",\"name\":\"뉴본정형외과\",\"address\":\"신월2동 501-16\",\"city\":\"Seoul, Korea\",\"has_viewer_saved\":false,\"lng\":126.85123579697,\"lat\":37.523071620006},\"title\":\"뉴본정형외과\",\"subtitle\":\"신월2동 501-16, Seoul, Korea\",\"media_bundles\":[],\"slug\":\"\"},\"position\":52},{\"place\":{\"location\":{\"pk\":\"1330685053664427\",\"short_name\":\"뉴챔프멀티짐\",\"facebook_places_id\":1330685053664427,\"external_source\":\"facebook_places\",\"name\":\"뉴챔프멀티짐\",\"address\":\"일산서구 중앙로 1568\",\"city\":\"\",\"has_viewer_saved\":false,\"lng\":126.74790713445,\"lat\":37.676473362111},\"title\":\"뉴챔프멀티짐\",\"subtitle\":\"일산서구 중앙로 1568\",\"media_bundles\":[],\"slug\":\"\"},\"position\":53}],\"hashtags\":[{\"position\":23,\"hashtag\":{\"name\":\"뉴진스\",\"id\":17843684476047345,\"media_count\":366925,\"use_default_avatar\":true,\"search_result_subtitle\":\"366K posts\"}},{\"position\":42,\"hashtag\":{\"name\":\"뉴\",\"id\":17843711146039475,\"media_count\":225724,\"use_default_avatar\":true,\"search_result_subtitle\":\"225K posts\"}}],\"has_more\":true,\"rank_token\":\"0.5946241399410475\",\"clear_client_cache\":null,\"status\":\"ok\"}'"
      ]
     },
     "execution_count": 24,
     "metadata": {},
     "output_type": "execute_result"
    }
   ],
   "source": [
    "params['query'] = '뉴' \n",
    "headers['x-csrftoken'] = session.cookies.get('csrftoken') \n",
    "resp = session.get(search, params=params, \n",
    "                    headers=headers) \n",
    "resp.text "
   ]
  },
  {
   "cell_type": "code",
   "execution_count": null,
   "metadata": {},
   "outputs": [
    {
     "data": {
      "text/plain": [
       "'{\"users\":[{\"position\":1,\"user\":{\"has_anonymous_profile_picture\":false,\"fbid_v2\":17841442336192889,\"pk\":\"42343115206\",\"pk_id\":\"42343115206\",\"username\":\"official.newjeans\",\"full_name\":\"NewJeans 뉴진스\",\"is_private\":false,\"is_verified\":false,\"profile_pic_id\":\"2887334722373425484_42343115206\",\"profile_pic_url\":\"https://scontent-gmp1-1.cdninstagram.com/v/t51.2885-19/294503123_1663687497334645_7728765606903984238_n.jpg?stp=dst-jpg_s150x150\\\\u0026_nc_ht=scontent-gmp1-1.cdninstagram.com\\\\u0026_nc_cat=101\\\\u0026_nc_ohc=Z6u93GM0C7cAX8uEj6r\\\\u0026edm=AHG7ALcBAAAA\\\\u0026ccb=7-5\\\\u0026oh=00_AfB2fTfBGr0V6PUT_3KtyEBQ3L2T3wSzVuRKF34tT4RNfg\\\\u0026oe=64BD0F57\\\\u0026_nc_sid=c9086e\",\"has_opt_eligible_shop\":false,\"account_badges\":[],\"birthday_today_visibility_for_viewer\":\"NOT_VISIBLE\",\"third_party_downloads_enabled\":0,\"friendship_status\":{\"following\":false,\"is_private\":false,\"incoming_request\":false,\"outgoing_request\":false,\"is_bestie\":false,\"is_restricted\":false,\"is_feed_favorite\":false},\"latest_reel_media\":0,\"should_show_category\":false,\"seen\":0}},{\"position\":2,\"user\":{\"has_anonymous_profile_picture\":false,\"fbid_v2\":17841450100037705,\"pk\":\"49981646001\",\"pk_id\":\"49981646001\",\"username\":\"minji.newjean\",\"full_name\":\"NewJeans Minji 뉴진스 민지\",\"is_private\":false,\"is_verified\":false,\"profile_pic_id\":\"3149744400795277045_49981646001\",\"profile_pic_url\":\"https://scontent-gmp1-1.cdninstagram.com/v/t51.2885-19/361765662_1238251156880923_3958916590171813638_n.jpg?stp=dst-jpg_s150x150\\\\u0026_nc_ht=scontent-gmp1-1.cdninstagram.com\\\\u0026_nc_cat=1\\\\u0026_nc_ohc=AEK-hNTGoi0AX_09_Pt\\\\u0026edm=AHG7ALcBAAAA\\\\u0026ccb=7-5\\\\u0026oh=00_AfAzqArHHQTPnNhSJP96a33s2_yh5PRWTCcfA8CGIaywRQ\\\\u0026oe=64BDA67C\\\\u0026_nc_sid=c9086e\",\"has_opt_eligible_shop\":false,\"account_badges\":[],\"birthday_today_visibility_for_viewer\":\"NOT_VISIBLE\",\"third_party_downloads_enabled\":0,\"friendship_status\":{\"following\":false,\"is_private\":false,\"incoming_request\":false,\"outgoing_request\":false,\"is_bestie\":false,\"is_restricted\":false,\"is_feed_favorite\":false},\"latest_reel_media\":1689809896,\"should_show_category\":false,\"seen\":0}},{\"position\":3,\"user\":{\"has_anonymous_profile_picture\":false,\"fbid_v2\":17841452305264544,\"pk\":\"52276359508\",\"pk_id\":\"52276359508\",\"username\":\"haerin.hybe\",\"full_name\":\"NEWJEANS HAERIN (뉴진스 해린)\",\"is_private\":false,\"is_verified\":false,\"profile_pic_id\":\"3145317928144401250_52276359508\",\"profile_pic_url\":\"https://scontent-gmp1-1.cdninstagram.com/v/t51.2885-19/359810958_696470992343150_877049650217005383_n.jpg?stp=dst-jpg_s150x150\\\\u0026_nc_ht=scontent-gmp1-1.cdninstagram.com\\\\u0026_nc_cat=1\\\\u0026_nc_ohc=MUQtTnueGB8AX_uPmSd\\\\u0026edm=AHG7ALcBAAAA\\\\u0026ccb=7-5\\\\u0026oh=00_AfA5RWPI2b2yjOY8UYiyUeDvFKRK63LClOr2GLj1knStSA\\\\u0026oe=64BE138C\\\\u0026_nc_sid=c9086e\",\"has_opt_eligible_shop\":false,\"account_badges\":[],\"birthday_today_visibility_for_viewer\":\"NOT_VISIBLE\",\"third_party_downloads_enabled\":0,\"friendship_status\":{\"following\":false,\"is_private\":false,\"incoming_request\":false,\"outgoing_request\":false,\"is_bestie\":false,\"is_restricted\":false,\"is_feed_favorite\":false},\"latest_reel_media\":1689788267,\"should_show_category\":false,\"seen\":0}},{\"position\":4,\"user\":{\"has_anonymous_profile_picture\":false,\"fbid_v2\":17841456993347994,\"pk\":\"56943955778\",\"pk_id\":\"56943955778\",\"username\":\"newjeans.updates\",\"full_name\":\"NewJeans 뉴진스 fanpage/updates 💕💕\",\"is_private\":false,\"is_verified\":false,\"profile_pic_id\":\"3006745860072816607_56943955778\",\"profile_pic_url\":\"https://scontent-gmp1-1.cdninstagram.com/v/t51.2885-19/323085734_720342419486839_6909536135901066568_n.jpg?stp=dst-jpg_s150x150\\\\u0026_nc_ht=scontent-gmp1-1.cdninstagram.com\\\\u0026_nc_cat=107\\\\u0026_nc_ohc=FMA_JhVIFSkAX_yvloT\\\\u0026edm=AHG7ALcBAAAA\\\\u0026ccb=7-5\\\\u0026oh=00_AfBnu3N2LSwaZSo0ZgDJ5zY22LORLkEbCDvA3eZWFVKxyw\\\\u0026oe=64BDC958\\\\u0026_nc_sid=c9086e\",\"has_opt_eligible_shop\":false,\"account_badges\":[],\"birthday_today_visibility_for_viewer\":\"NOT_VISIBLE\",\"third_party_downloads_enabled\":0,\"friendship_status\":{\"following\":false,\"is_private\":false,\"incoming_request\":false,\"outgoing_request\":false,\"is_bestie\":false,\"is_restricted\":false,\"is_feed_favorite\":false},\"latest_reel_media\":0,\"should_show_category\":false,\"seen\":0}},{\"position\":5,\"user\":{\"has_anonymous_profile_picture\":false,\"fbid_v2\":17841454652652881,\"pk\":\"54503053755\",\"pk_id\":\"54503053755\",\"username\":\"hyein.newjeans\",\"full_name\":\"NEWJEANS 뉴진스 HYEIN 혜인\",\"is_private\":false,\"is_verified\":false,\"profile_pic_id\":\"3145147624276489239_54503053755\",\"profile_pic_url\":\"https://scontent-gmp1-1.cdninstagram.com/v/t51.2885-19/359761384_813191430214124_8557589681375631926_n.jpg?stp=dst-jpg_s150x150\\\\u0026_nc_ht=scontent-gmp1-1.cdninstagram.com\\\\u0026_nc_cat=1\\\\u0026_nc_ohc=WxPW0xTILgQAX8qpurF\\\\u0026edm=AHG7ALcBAAAA\\\\u0026ccb=7-5\\\\u0026oh=00_AfD5qv3_gdj6AvZEaKzovzx8RaW_qzp7pgzrU58vQNVMew\\\\u0026oe=64BE7C19\\\\u0026_nc_sid=c9086e\",\"has_opt_eligible_shop\":false,\"account_badges\":[],\"birthday_today_visibility_for_viewer\":\"NOT_VISIBLE\",\"third_party_downloads_enabled\":0,\"friendship_status\":{\"following\":false,\"is_private\":false,\"incoming_request\":false,\"outgoing_request\":false,\"is_bestie\":false,\"is_restricted\":false,\"is_feed_favorite\":false},\"latest_reel_media\":1689765629,\"should_show_category\":false,\"seen\":0}},{\"position\":6,\"user\":{\"has_anonymous_profile_picture\":false,\"fbid_v2\":17841452589937894,\"pk\":\"52783152997\",\"pk_id\":\"52783152997\",\"username\":\"minjis.newjean\",\"full_name\":\"NEWJEANS 뉴진스 MINJI 민지\",\"is_private\":false,\"is_verified\":false,\"profile_pic_id\":\"3105944240298690690_52783152997\",\"profile_pic_url\":\"https://scontent-gmp1-1.cdninstagram.com/v/t51.2885-19/347472174_190795066798007_234006795118314487_n.jpg?stp=dst-jpg_s150x150\\\\u0026_nc_ht=scontent-gmp1-1.cdninstagram.com\\\\u0026_nc_cat=111\\\\u0026_nc_ohc=HeOXCw1M6AEAX8DCWs2\\\\u0026edm=AHG7ALcBAAAA\\\\u0026ccb=7-5\\\\u0026oh=00_AfBR0k0Jzs6jAYgQ3QeMhRjRfB5HPJK-hjMYVy4wsoCkxA\\\\u0026oe=64BD98ED\\\\u0026_nc_sid=c9086e\",\"has_opt_eligible_shop\":false,\"account_badges\":[],\"birthday_today_visibility_for_viewer\":\"NOT_VISIBLE\",\"third_party_downloads_enabled\":0,\"friendship_status\":{\"following\":false,\"is_private\":false,\"incoming_request\":false,\"outgoing_request\":false,\"is_bestie\":false,\"is_restricted\":false,\"is_feed_favorite\":false},\"latest_reel_media\":1689750173,\"should_show_category\":false,\"seen\":0}},{\"position\":7,\"user\":{\"has_anonymous_profile_picture\":false,\"fbid_v2\":17841444235528422,\"pk\":\"44307378517\",\"pk_id\":\"44307378517\",\"username\":\"newjeans_closet\",\"full_name\":\"뉴진스 옷장\",\"is_private\":false,\"is_verified\":false,\"profile_pic_id\":\"3005434701636616444_44307378517\",\"profile_pic_url\":\"https://scontent-gmp1-1.cdninstagram.com/v/t51.2885-19/322941987_1169820726995096_4957898280719568283_n.jpg?stp=dst-jpg_s150x150\\\\u0026_nc_ht=scontent-gmp1-1.cdninstagram.com\\\\u0026_nc_cat=108\\\\u0026_nc_ohc=j39dj5VcM9MAX8HNsBB\\\\u0026edm=AHG7ALcBAAAA\\\\u0026ccb=7-5\\\\u0026oh=00_AfBVPQNJyhBUQA4k5b2d8sFb7x5rEw2hb4ptuh2-J4AaGA\\\\u0026oe=64BD237B\\\\u0026_nc_sid=c9086e\",\"has_opt_eligible_shop\":false,\"account_badges\":[],\"birthday_today_visibility_for_viewer\":\"NOT_VISIBLE\",\"third_party_downloads_enabled\":0,\"friendship_status\":{\"following\":false,\"is_private\":false,\"incoming_request\":false,\"outgoing_request\":false,\"is_bestie\":false,\"is_restricted\":false,\"is_feed_favorite\":false},\"latest_reel_media\":0,\"should_show_category\":false,\"seen\":0}},{\"position\":8,\"user\":{\"has_anonymous_profile_picture\":false,\"fbid_v2\":17841449171489630,\"show_text_post_app_badge\":true,\"text_post_app_joiner_number\":33125953,\"show_ig_app_switcher_badge\":false,\"pk\":\"49117047049\",\"pk_id\":\"49117047049\",\"username\":\"newjeans.ru\",\"full_name\":\"NewJeans ✦ 뉴진스\",\"is_private\":false,\"is_verified\":false,\"profile_pic_id\":\"3144499116973457376_49117047049\",\"profile_pic_url\":\"https://scontent-gmp1-1.cdninstagram.com/v/t51.2885-19/358813671_141805292267297_2529095307154905053_n.jpg?stp=dst-jpg_s150x150\\\\u0026_nc_ht=scontent-gmp1-1.cdninstagram.com\\\\u0026_nc_cat=105\\\\u0026_nc_ohc=UBMzHSHvOIMAX88V-bD\\\\u0026edm=AHG7ALcBAAAA\\\\u0026ccb=7-5\\\\u0026oh=00_AfDo7-aLSi1lLWmqmT6D1lN-gBMeDAwFhKT61hswI3IPLw\\\\u0026oe=64BD021E\\\\u0026_nc_sid=c9086e\",\"has_opt_eligible_shop\":false,\"account_badges\":[],\"birthday_today_visibility_for_viewer\":\"NOT_VISIBLE\",\"third_party_downloads_enabled\":0,\"friendship_status\":{\"following\":false,\"is_private\":false,\"incoming_request\":false,\"outgoing_request\":false,\"is_bestie\":false,\"is_restricted\":false,\"is_feed_favorite\":false},\"latest_reel_media\":1689782493,\"should_show_category\":false,\"seen\":0}},{\"position\":9,\"user\":{\"has_anonymous_profile_picture\":false,\"fbid_v2\":17841446279907670,\"pk\":\"46221366663\",\"pk_id\":\"46221366663\",\"username\":\"medi1_cal\",\"full_name\":\"뉴진스 탈퇴하고 수능 준비하는 하니\",\"is_private\":false,\"is_verified\":false,\"profile_pic_id\":\"3120717595931165873_46221366663\",\"profile_pic_url\":\"https://scontent-gmp1-1.cdninstagram.com/v/t51.2885-19/352254470_117657781348831_678754962315335325_n.jpg?stp=dst-jpg_s150x150\\\\u0026_nc_ht=scontent-gmp1-1.cdninstagram.com\\\\u0026_nc_cat=107\\\\u0026_nc_ohc=RY6hrnZqyU4AX-mUIkT\\\\u0026edm=AHG7ALcBAAAA\\\\u0026ccb=7-5\\\\u0026oh=00_AfB-iq9xFVgrELgO51fedA3q3QPUBvyVJZLcbqGCcnTaYA\\\\u0026oe=64BD797A\\\\u0026_nc_sid=c9086e\",\"has_opt_eligible_shop\":false,\"account_badges\":[],\"birthday_today_visibility_for_viewer\":\"NOT_VISIBLE\",\"third_party_downloads_enabled\":0,\"friendship_status\":{\"following\":false,\"is_private\":false,\"incoming_request\":false,\"outgoing_request\":false,\"is_bestie\":false,\"is_restricted\":false,\"is_feed_favorite\":false},\"latest_reel_media\":1689797958,\"should_show_category\":false,\"seen\":0}},{\"position\":10,\"user\":{\"has_anonymous_profile_picture\":false,\"fbid_v2\":17841449561911159,\"show_text_post_app_badge\":true,\"text_post_app_joiner_number\":9127016,\"show_ig_app_switcher_badge\":false,\"pk\":\"49609276063\",\"pk_id\":\"49609276063\",\"username\":\"danielle.newjean\",\"full_name\":\"NEWJEANS 뉴진스 DANIELLE 다니엘\",\"is_private\":false,\"is_verified\":false,\"profile_pic_id\":\"3075857099963978789_49609276063\",\"profile_pic_url\":\"https://scontent-gmp1-1.cdninstagram.com/v/t51.2885-19/340014470_258772766499533_5548283620278820654_n.jpg?stp=dst-jpg_s150x150\\\\u0026_nc_ht=scontent-gmp1-1.cdninstagram.com\\\\u0026_nc_cat=105\\\\u0026_nc_ohc=BSa2dVIqg_gAX8yJPvY\\\\u0026edm=AHG7ALcBAAAA\\\\u0026ccb=7-5\\\\u0026oh=00_AfCDtIq3slnBVpw9-ANDf5aYjqQRxN-DCHDpov6pzTVB5Q\\\\u0026oe=64BDAEE3\\\\u0026_nc_sid=c9086e\",\"has_opt_eligible_shop\":false,\"account_badges\":[],\"birthday_today_visibility_for_viewer\":\"NOT_VISIBLE\",\"third_party_downloads_enabled\":0,\"friendship_status\":{\"following\":false,\"is_private\":false,\"incoming_request\":false,\"outgoing_request\":false,\"is_bestie\":false,\"is_restricted\":false,\"is_feed_favorite\":false},\"latest_reel_media\":0,\"should_show_category\":false,\"seen\":0}},{\"position\":11,\"user\":{\"has_anonymous_profile_picture\":false,\"fbid_v2\":17841452626545116,\"pk\":\"52600930218\",\"pk_id\":\"52600930218\",\"username\":\"newjeansofficial.italia\",\"full_name\":\"NEWJEANS (뉴진스) ITALIA 🇮🇹\",\"is_private\":false,\"is_verified\":false,\"profile_pic_id\":\"2887334653217726465_52600930218\",\"profile_pic_url\":\"https://scontent-gmp1-1.cdninstagram.com/v/t51.2885-19/294612225_1170889533635847_3119551140783799062_n.jpg?stp=dst-jpg_s150x150\\\\u0026_nc_ht=scontent-gmp1-1.cdninstagram.com\\\\u0026_nc_cat=103\\\\u0026_nc_ohc=3eeSIIpQ214AX_1MrCq\\\\u0026edm=AHG7ALcBAAAA\\\\u0026ccb=7-5\\\\u0026oh=00_AfAnmAUprYJLg4DlyyCxaCcURxqOV4SzEQEvm1yaqTZxzQ\\\\u0026oe=64BCDA56\\\\u0026_nc_sid=c9086e\",\"has_opt_eligible_shop\":false,\"account_badges\":[],\"birthday_today_visibility_for_viewer\":\"NOT_VISIBLE\",\"third_party_downloads_enabled\":0,\"friendship_status\":{\"following\":false,\"is_private\":false,\"incoming_request\":false,\"outgoing_request\":false,\"is_bestie\":false,\"is_restricted\":false,\"is_feed_favorite\":false},\"latest_reel_media\":1689761985,\"should_show_category\":false,\"seen\":0}},{\"position\":12,\"user\":{\"has_anonymous_profile_picture\":false,\"fbid_v2\":17841454476769142,\"show_text_post_app_badge\":false,\"show_ig_app_switcher_badge\":true,\"pk\":\"54313143892\",\"pk_id\":\"54313143892\",\"username\":\"haerin_newsjeans\",\"full_name\":\"NEWJEANS HAERIN (뉴진스 해린)\",\"is_private\":false,\"is_verified\":false,\"profile_pic_id\":\"3141550922471645432_54313143892\",\"profile_pic_url\":\"https://scontent-gmp1-1.cdninstagram.com/v/t51.2885-19/358505710_1467071630762902_3331171420678148211_n.jpg?stp=dst-jpg_s150x150\\\\u0026_nc_ht=scontent-gmp1-1.cdninstagram.com\\\\u0026_nc_cat=1\\\\u0026_nc_ohc=YdIX1B-6ZbkAX-ZPhDr\\\\u0026edm=AHG7ALcBAAAA\\\\u0026ccb=7-5\\\\u0026oh=00_AfB3ap9nHxk9jhqpybGGNaf876tNtGLxnJOx-w0VjMwyyA\\\\u0026oe=64BE7A92\\\\u0026_nc_sid=c9086e\",\"has_opt_eligible_shop\":false,\"account_badges\":[],\"birthday_today_visibility_for_viewer\":\"NOT_VISIBLE\",\"third_party_downloads_enabled\":0,\"friendship_status\":{\"following\":false,\"is_private\":false,\"incoming_request\":false,\"outgoing_request\":false,\"is_bestie\":false,\"is_restricted\":false,\"is_feed_favorite\":false},\"latest_reel_media\":0,\"should_show_category\":false,\"seen\":0}},{\"position\":13,\"user\":{\"has_anonymous_profile_picture\":false,\"fbid_v2\":17841457084684089,\"pk\":\"57072718822\",\"pk_id\":\"57072718822\",\"username\":\"daniellenew.jeans\",\"full_name\":\"NewJeans DANIELLE 뉴진스 다니엘\",\"is_private\":false,\"is_verified\":false,\"profile_pic_id\":\"3116401828275034461_57072718822\",\"profile_pic_url\":\"https://scontent-gmp1-1.cdninstagram.com/v/t51.2885-19/350686767_568794392066253_7002101490890824941_n.jpg?stp=dst-jpg_s150x150\\\\u0026_nc_ht=scontent-gmp1-1.cdninstagram.com\\\\u0026_nc_cat=109\\\\u0026_nc_ohc=PVc7T6B3jKgAX-itUXe\\\\u0026edm=AHG7ALcBAAAA\\\\u0026ccb=7-5\\\\u0026oh=00_AfAd7TmjY0ZsiDol3dkHSp9kiLU7EDgkP5ftIgmsW5OE0w\\\\u0026oe=64BD0F30\\\\u0026_nc_sid=c9086e\",\"has_opt_eligible_shop\":false,\"account_badges\":[],\"birthday_today_visibility_for_viewer\":\"NOT_VISIBLE\",\"third_party_downloads_enabled\":0,\"friendship_status\":{\"following\":false,\"is_private\":false,\"incoming_request\":false,\"outgoing_request\":false,\"is_bestie\":false,\"is_restricted\":false,\"is_feed_favorite\":false},\"latest_reel_media\":0,\"should_show_category\":false,\"seen\":0}},{\"position\":14,\"user\":{\"has_anonymous_profile_picture\":false,\"fbid_v2\":17841409852934068,\"pk\":\"9872544431\",\"pk_id\":\"9872544431\",\"username\":\"newjeanmo_official\",\"full_name\":\"뉴진스\",\"is_private\":true,\"is_verified\":false,\"profile_pic_id\":\"3047326362805008946_9872544431\",\"profile_pic_url\":\"https://scontent-gmp1-1.cdninstagram.com/v/t51.2885-19/333209877_627305575823154_6640556076122051878_n.jpg?stp=dst-jpg_s150x150\\\\u0026_nc_ht=scontent-gmp1-1.cdninstagram.com\\\\u0026_nc_cat=106\\\\u0026_nc_ohc=6jEJ1jIRGNEAX9-Hxvn\\\\u0026edm=AHG7ALcBAAAA\\\\u0026ccb=7-5\\\\u0026oh=00_AfCuJH8eaPV0EMSatBGspQOTkMyjRz7-61-2dUNPbcAWbA\\\\u0026oe=64BD2A9C\\\\u0026_nc_sid=c9086e\",\"has_opt_eligible_shop\":false,\"account_badges\":[],\"birthday_today_visibility_for_viewer\":\"NOT_VISIBLE\",\"third_party_downloads_enabled\":0,\"friendship_status\":{\"following\":false,\"is_private\":true,\"incoming_request\":false,\"outgoing_request\":false,\"is_bestie\":false,\"is_restricted\":false,\"is_feed_favorite\":false},\"latest_reel_media\":0,\"should_show_category\":false,\"seen\":0}},{\"position\":15,\"user\":{\"has_anonymous_profile_picture\":false,\"fbid_v2\":17841442421161489,\"pk\":\"42411918038\",\"pk_id\":\"42411918038\",\"username\":\"newjeans.haerins\",\"full_name\":\"NEWJEANS 뉴진스 HAERIN 해린\",\"is_private\":false,\"is_verified\":false,\"profile_pic_id\":\"3141888230144103141_42411918038\",\"profile_pic_url\":\"https://scontent-gmp1-1.cdninstagram.com/v/t51.2885-19/358539027_1263407914540821_845935296591277977_n.jpg?stp=dst-jpg_s150x150\\\\u0026_nc_ht=scontent-gmp1-1.cdninstagram.com\\\\u0026_nc_cat=109\\\\u0026_nc_ohc=PsXWgztOj58AX_9gAnY\\\\u0026edm=AHG7ALcBAAAA\\\\u0026ccb=7-5\\\\u0026oh=00_AfDWp9Fz1S8f2OL7FqH--pcBkS6HIkSykCIMJlolSRPG8w\\\\u0026oe=64BE0563\\\\u0026_nc_sid=c9086e\",\"has_opt_eligible_shop\":false,\"account_badges\":[],\"birthday_today_visibility_for_viewer\":\"NOT_VISIBLE\",\"third_party_downloads_enabled\":0,\"friendship_status\":{\"following\":false,\"is_private\":false,\"incoming_request\":false,\"outgoing_request\":false,\"is_bestie\":false,\"is_restricted\":false,\"is_feed_favorite\":false},\"latest_reel_media\":1689795653,\"should_show_category\":false,\"seen\":0}},{\"position\":16,\"user\":{\"has_anonymous_profile_picture\":false,\"fbid_v2\":17841456737785658,\"pk\":\"56765267259\",\"pk_id\":\"56765267259\",\"username\":\"riniecat\",\"full_name\":\"`(강해린) — кан хэрин | 뉴진스\",\"is_private\":false,\"is_verified\":false,\"profile_pic_id\":\"3020832740589684571_56765267259\",\"profile_pic_url\":\"https://scontent-gmp1-1.cdninstagram.com/v/t51.2885-19/326387952_857957705467735_1883560289303252582_n.jpg?stp=dst-jpg_s150x150\\\\u0026_nc_ht=scontent-gmp1-1.cdninstagram.com\\\\u0026_nc_cat=107\\\\u0026_nc_ohc=ELcJL0K5crEAX9hMiH1\\\\u0026edm=AHG7ALcBAAAA\\\\u0026ccb=7-5\\\\u0026oh=00_AfAm4BiER0m4Ubyh7wC1BHtsZHbXMTKpS9lRC313K8Wn6w\\\\u0026oe=64BE03E1\\\\u0026_nc_sid=c9086e\",\"has_opt_eligible_shop\":false,\"account_badges\":[],\"birthday_today_visibility_for_viewer\":\"NOT_VISIBLE\",\"third_party_downloads_enabled\":0,\"friendship_status\":{\"following\":false,\"is_private\":false,\"incoming_request\":false,\"outgoing_request\":false,\"is_bestie\":false,\"is_restricted\":false,\"is_feed_favorite\":false},\"latest_reel_media\":0,\"should_show_category\":false,\"seen\":0}},{\"position\":17,\"user\":{\"has_anonymous_profile_picture\":false,\"fbid_v2\":17841403072454042,\"show_text_post_app_badge\":true,\"text_post_app_joiner_number\":32959267,\"show_ig_app_switcher_badge\":true,\"pk\":\"2912342415\",\"pk_id\":\"2912342415\",\"username\":\"yoo__jam\",\"full_name\":\"뉴진스\",\"is_private\":false,\"is_verified\":false,\"profile_pic_id\":\"2900934468870923501_2912342415\",\"profile_pic_url\":\"https://scontent-gmp1-1.cdninstagram.com/v/t51.2885-19/298491369_5521972391178982_4497646395702896409_n.jpg?stp=dst-jpg_s150x150\\\\u0026_nc_ht=scontent-gmp1-1.cdninstagram.com\\\\u0026_nc_cat=110\\\\u0026_nc_ohc=kySS6OXquKcAX_JQzl2\\\\u0026edm=AHG7ALcBAAAA\\\\u0026ccb=7-5\\\\u0026oh=00_AfDJBrqzW_m5I_w8YrSxvWCSnaAwmozeUzG7avzzSwMp7g\\\\u0026oe=64BCF3FF\\\\u0026_nc_sid=c9086e\",\"has_opt_eligible_shop\":false,\"account_badges\":[],\"birthday_today_visibility_for_viewer\":\"NOT_VISIBLE\",\"third_party_downloads_enabled\":0,\"friendship_status\":{\"following\":false,\"is_private\":false,\"incoming_request\":false,\"outgoing_request\":false,\"is_bestie\":false,\"is_restricted\":false,\"is_feed_favorite\":false},\"latest_reel_media\":1689741608,\"should_show_category\":false,\"seen\":0}},{\"position\":18,\"user\":{\"has_anonymous_profile_picture\":false,\"fbid_v2\":17841460856689699,\"pk\":\"60797596556\",\"pk_id\":\"60797596556\",\"username\":\"haerin.newjaens\",\"full_name\":\"HAERIN (해린) NEWJEANS (뉴진스)\",\"is_private\":false,\"is_verified\":false,\"profile_pic_id\":\"3146880457665916430_60797596556\",\"profile_pic_url\":\"https://scontent-gmp1-1.cdninstagram.com/v/t51.2885-19/361112603_1056675005310655_5949979967484056240_n.jpg?stp=dst-jpg_s150x150\\\\u0026_nc_ht=scontent-gmp1-1.cdninstagram.com\\\\u0026_nc_cat=107\\\\u0026_nc_ohc=qRECxjl1NvMAX_YRMne\\\\u0026edm=AHG7ALcBAAAA\\\\u0026ccb=7-5\\\\u0026oh=00_AfBUIRr2E7Zm0MXUdjRHVqqdVIzPDTDse7pSpLVzmR_14w\\\\u0026oe=64BE2B55\\\\u0026_nc_sid=c9086e\",\"has_opt_eligible_shop\":false,\"account_badges\":[],\"birthday_today_visibility_for_viewer\":\"NOT_VISIBLE\",\"third_party_downloads_enabled\":0,\"friendship_status\":{\"following\":false,\"is_private\":false,\"incoming_request\":false,\"outgoing_request\":false,\"is_bestie\":false,\"is_restricted\":false,\"is_feed_favorite\":false},\"latest_reel_media\":1689803845,\"should_show_category\":false,\"seen\":0}},{\"position\":19,\"user\":{\"has_anonymous_profile_picture\":false,\"fbid_v2\":17841454899475809,\"show_text_post_app_badge\":true,\"text_post_app_joiner_number\":44439481,\"show_ig_app_switcher_badge\":true,\"pk\":\"54846477982\",\"pk_id\":\"54846477982\",\"username\":\"haerin.kang\",\"full_name\":\"NEWJEANS 뉴진스 HAERIN 해린\",\"is_private\":false,\"is_verified\":false,\"profile_pic_id\":\"3073854855743865283_54846477982\",\"profile_pic_url\":\"https://scontent-gmp1-1.cdninstagram.com/v/t51.2885-19/339980209_239804495110349_4152925875964296287_n.jpg?stp=dst-jpg_s150x150\\\\u0026_nc_ht=scontent-gmp1-1.cdninstagram.com\\\\u0026_nc_cat=105\\\\u0026_nc_ohc=WwrfOTN_NWwAX-hyIPq\\\\u0026edm=AHG7ALcBAAAA\\\\u0026ccb=7-5\\\\u0026oh=00_AfBL3p0groh2i7Oqkyc4L3r0uiymdraGcOzdKAs2LNV54A\\\\u0026oe=64BE3883\\\\u0026_nc_sid=c9086e\",\"has_opt_eligible_shop\":false,\"account_badges\":[],\"birthday_today_visibility_for_viewer\":\"NOT_VISIBLE\",\"third_party_downloads_enabled\":0,\"friendship_status\":{\"following\":false,\"is_private\":false,\"incoming_request\":false,\"outgoing_request\":false,\"is_bestie\":false,\"is_restricted\":false,\"is_feed_favorite\":false},\"latest_reel_media\":0,\"should_show_category\":false,\"seen\":0}},{\"position\":20,\"user\":{\"has_anonymous_profile_picture\":false,\"fbid_v2\":17841454917042495,\"pk\":\"54739966568\",\"pk_id\":\"54739966568\",\"username\":\"newjeans_hyeins\",\"full_name\":\"NEWJEANS 뉴진스 HYEIN 해인\",\"is_private\":false,\"is_verified\":false,\"profile_pic_id\":\"2985749588447673044_54739966568\",\"profile_pic_url\":\"https://scontent-gmp1-1.cdninstagram.com/v/t51.2885-19/317928287_474972288111269_1338409215528429338_n.jpg?stp=dst-jpg_s150x150\\\\u0026_nc_ht=scontent-gmp1-1.cdninstagram.com\\\\u0026_nc_cat=105\\\\u0026_nc_ohc=wvbpQyweyS8AX-nuePu\\\\u0026edm=AHG7ALcBAAAA\\\\u0026ccb=7-5\\\\u0026oh=00_AfCLm37m76tSnOBma9ET3ecKUxbx7LmlRG2yTqc6KUBUSQ\\\\u0026oe=64BD59FC\\\\u0026_nc_sid=c9086e\",\"has_opt_eligible_shop\":false,\"account_badges\":[],\"birthday_today_visibility_for_viewer\":\"NOT_VISIBLE\",\"third_party_downloads_enabled\":0,\"friendship_status\":{\"following\":false,\"is_private\":false,\"incoming_request\":false,\"outgoing_request\":false,\"is_bestie\":false,\"is_restricted\":false,\"is_feed_favorite\":false},\"latest_reel_media\":0,\"should_show_category\":false,\"seen\":0}},{\"position\":21,\"user\":{\"has_anonymous_profile_picture\":false,\"fbid_v2\":17841458675050800,\"pk\":\"58566403835\",\"pk_id\":\"58566403835\",\"username\":\"newjeans_minji_0507\",\"full_name\":\"뉴진스 민지 NewJeans MINJI\",\"is_private\":false,\"is_verified\":false,\"profile_pic_id\":\"3135703022129979309_58566403835\",\"profile_pic_url\":\"https://scontent-gmp1-1.cdninstagram.com/v/t51.2885-19/356621601_600282428914133_5406904671851886539_n.jpg?stp=dst-jpg_s150x150\\\\u0026_nc_ht=scontent-gmp1-1.cdninstagram.com\\\\u0026_nc_cat=105\\\\u0026_nc_ohc=7PbLy9Xk1Q4AX-LGcUS\\\\u0026edm=AHG7ALcBAAAA\\\\u0026ccb=7-5\\\\u0026oh=00_AfBPmkIMpwp5YiCfwAIwernKC8ItknYLfZxmlYF302B3rA\\\\u0026oe=64BD3253\\\\u0026_nc_sid=c9086e\",\"has_opt_eligible_shop\":false,\"account_badges\":[],\"birthday_today_visibility_for_viewer\":\"NOT_VISIBLE\",\"third_party_downloads_enabled\":0,\"friendship_status\":{\"following\":false,\"is_private\":false,\"incoming_request\":false,\"outgoing_request\":false,\"is_bestie\":false,\"is_restricted\":false,\"is_feed_favorite\":false},\"latest_reel_media\":0,\"should_show_category\":false,\"seen\":0}},{\"position\":22,\"user\":{\"has_anonymous_profile_picture\":false,\"fbid_v2\":17841452390975532,\"pk\":\"52524258365\",\"pk_id\":\"52524258365\",\"username\":\"nzwjeans\",\"full_name\":\"NewJeans/ 뉴진스  updates\",\"is_private\":false,\"is_verified\":false,\"profile_pic_id\":\"3141644669796958312_52524258365\",\"profile_pic_url\":\"https://scontent-gmp1-1.cdninstagram.com/v/t51.2885-19/358796642_770952441377925_2250514317325019327_n.jpg?stp=dst-jpg_s150x150\\\\u0026_nc_ht=scontent-gmp1-1.cdninstagram.com\\\\u0026_nc_cat=109\\\\u0026_nc_ohc=IaaoxYHsaYEAX_VzQFU\\\\u0026edm=AHG7ALcBAAAA\\\\u0026ccb=7-5\\\\u0026oh=00_AfAC_4jpk0oE_4p4h0s0oWNVXjBVjyXMT7E5n_5ZvNw0Ww\\\\u0026oe=64BDD4A9\\\\u0026_nc_sid=c9086e\",\"has_opt_eligible_shop\":false,\"account_badges\":[],\"birthday_today_visibility_for_viewer\":\"NOT_VISIBLE\",\"third_party_downloads_enabled\":0,\"friendship_status\":{\"following\":false,\"is_private\":false,\"incoming_request\":false,\"outgoing_request\":false,\"is_bestie\":false,\"is_restricted\":false,\"is_feed_favorite\":false},\"latest_reel_media\":0,\"should_show_category\":false,\"seen\":0}},{\"position\":23,\"user\":{\"has_anonymous_profile_picture\":false,\"fbid_v2\":17841458557034651,\"pk\":\"58357215901\",\"pk_id\":\"58357215901\",\"username\":\"newjaens.hanni\",\"full_name\":\"뉴진스 HANNI\",\"is_private\":false,\"is_verified\":false,\"profile_pic_id\":\"3148224054825023487_58357215901\",\"profile_pic_url\":\"https://scontent-gmp1-1.cdninstagram.com/v/t51.2885-19/361145565_993083612108808_1665507096842619291_n.jpg?stp=dst-jpg_s150x150\\\\u0026_nc_ht=scontent-gmp1-1.cdninstagram.com\\\\u0026_nc_cat=100\\\\u0026_nc_ohc=65REY_yk-Q0AX-pjDvV\\\\u0026edm=AHG7ALcBAAAA\\\\u0026ccb=7-5\\\\u0026oh=00_AfC2MXZecvi73KDKjehLt9YGwm9EHxF5pMiSrEaWO3XeAQ\\\\u0026oe=64BE868F\\\\u0026_nc_sid=c9086e\",\"has_opt_eligible_shop\":false,\"account_badges\":[],\"birthday_today_visibility_for_viewer\":\"NOT_VISIBLE\",\"third_party_downloads_enabled\":0,\"friendship_status\":{\"following\":false,\"is_private\":false,\"incoming_request\":false,\"outgoing_request\":false,\"is_bestie\":false,\"is_restricted\":false,\"is_feed_favorite\":false},\"latest_reel_media\":0,\"should_show_category\":false,\"seen\":0}},{\"position\":24,\"user\":{\"has_anonymous_profile_picture\":false,\"fbid_v2\":17841458388882349,\"pk\":\"58338794296\",\"pk_id\":\"58338794296\",\"username\":\"newjeans.minji_0507\",\"full_name\":\"뉴진스민지\",\"is_private\":false,\"is_verified\":false,\"profile_pic_id\":\"3035544257650670334_58338794296\",\"profile_pic_url\":\"https://scontent-gmp1-1.cdninstagram.com/v/t51.2885-19/330387105_5899632303464202_272724321343245626_n.jpg?stp=dst-jpg_s150x150\\\\u0026_nc_ht=scontent-gmp1-1.cdninstagram.com\\\\u0026_nc_cat=106\\\\u0026_nc_ohc=gm34wZmg4KEAX9Qs-BP\\\\u0026edm=AHG7ALcBAAAA\\\\u0026ccb=7-5\\\\u0026oh=00_AfAimiiLLo0XxNlbl-YqJwwQ-BgbNbzNgIM0O175sPiuqg\\\\u0026oe=64BCA8B2\\\\u0026_nc_sid=c9086e\",\"has_opt_eligible_shop\":false,\"account_badges\":[],\"birthday_today_visibility_for_viewer\":\"NOT_VISIBLE\",\"third_party_downloads_enabled\":0,\"friendship_status\":{\"following\":false,\"is_private\":false,\"incoming_request\":false,\"outgoing_request\":false,\"is_bestie\":false,\"is_restricted\":false,\"is_feed_favorite\":false},\"latest_reel_media\":0,\"should_show_category\":false,\"seen\":0}},{\"position\":25,\"user\":{\"has_anonymous_profile_picture\":false,\"fbid_v2\":17841444065339846,\"pk\":\"44078772844\",\"pk_id\":\"44078772844\",\"username\":\"newjeanss.minjis\",\"full_name\":\"NEWJEANS 뉴진스 MINJI 민지\",\"is_private\":false,\"is_verified\":false,\"profile_pic_id\":\"3149483642753341453_44078772844\",\"profile_pic_url\":\"https://scontent-gmp1-1.cdninstagram.com/v/t51.2885-19/361683839_1467941504017147_7186348763420012490_n.jpg?stp=dst-jpg_s150x150\\\\u0026_nc_ht=scontent-gmp1-1.cdninstagram.com\\\\u0026_nc_cat=107\\\\u0026_nc_ohc=QQY55_x9CaoAX9IUctb\\\\u0026edm=AHG7ALcBAAAA\\\\u0026ccb=7-5\\\\u0026oh=00_AfB_69eM4CGMz5FPcUJvHDIl3FVa3DNMnwXPvZIYaDmdwQ\\\\u0026oe=64BCC940\\\\u0026_nc_sid=c9086e\",\"has_opt_eligible_shop\":false,\"account_badges\":[],\"birthday_today_visibility_for_viewer\":\"NOT_VISIBLE\",\"third_party_downloads_enabled\":0,\"friendship_status\":{\"following\":false,\"is_private\":false,\"incoming_request\":false,\"outgoing_request\":false,\"is_bestie\":false,\"is_restricted\":false,\"is_feed_favorite\":false},\"latest_reel_media\":0,\"should_show_category\":false,\"seen\":0}},{\"position\":26,\"user\":{\"has_anonymous_profile_picture\":false,\"fbid_v2\":17841454517808347,\"pk\":\"54546777260\",\"pk_id\":\"54546777260\",\"username\":\"newjeansstyles\",\"full_name\":\"NEW JEANS 뉴진스 STYLES\",\"is_private\":true,\"is_verified\":false,\"profile_pic_id\":\"2890726031854337517_54546777260\",\"profile_pic_url\":\"https://scontent-gmp1-1.cdninstagram.com/v/t51.2885-19/295707628_1071626320141238_403203955342872490_n.jpg?stp=dst-jpg_s150x150\\\\u0026_nc_ht=scontent-gmp1-1.cdninstagram.com\\\\u0026_nc_cat=102\\\\u0026_nc_ohc=bHgwUgnHY5gAX8IzcE-\\\\u0026edm=AHG7ALcBAAAA\\\\u0026ccb=7-5\\\\u0026oh=00_AfC3P7hhB4GtFoUGxAezZOmYOwnYUL34umAh1x-chgt0bg\\\\u0026oe=64BCFF53\\\\u0026_nc_sid=c9086e\",\"has_opt_eligible_shop\":false,\"account_badges\":[],\"birthday_today_visibility_for_viewer\":\"NOT_VISIBLE\",\"third_party_downloads_enabled\":0,\"friendship_status\":{\"following\":false,\"is_private\":true,\"incoming_request\":false,\"outgoing_request\":false,\"is_bestie\":false,\"is_restricted\":false,\"is_feed_favorite\":false},\"latest_reel_media\":0,\"should_show_category\":false,\"seen\":0}},{\"position\":27,\"user\":{\"has_anonymous_profile_picture\":false,\"fbid_v2\":17841455523200254,\"pk\":\"55522034773\",\"pk_id\":\"55522034773\",\"username\":\"nail_newjins\",\"full_name\":\"네일 뉴진스\\U0001fae7 통영네일\",\"is_private\":false,\"is_verified\":false,\"profile_pic_id\":\"3043036449167182967_55522034773\",\"profile_pic_url\":\"https://scontent-gmp1-1.cdninstagram.com/v/t51.2885-19/332353349_165219482959614_5997160903585591824_n.jpg?stp=dst-jpg_s150x150\\\\u0026_nc_ht=scontent-gmp1-1.cdninstagram.com\\\\u0026_nc_cat=106\\\\u0026_nc_ohc=qT9F5c3xzUgAX878XMy\\\\u0026edm=AHG7ALcBAAAA\\\\u0026ccb=7-5\\\\u0026oh=00_AfCpEUzz67LUEDdFEk17sPsf92s6hxwmmeMVzHUhpObTIQ\\\\u0026oe=64BE6989\\\\u0026_nc_sid=c9086e\",\"has_opt_eligible_shop\":false,\"account_badges\":[],\"birthday_today_visibility_for_viewer\":\"NOT_VISIBLE\",\"third_party_downloads_enabled\":0,\"friendship_status\":{\"following\":false,\"is_private\":false,\"incoming_request\":false,\"outgoing_request\":false,\"is_bestie\":false,\"is_restricted\":false,\"is_feed_favorite\":false},\"latest_reel_media\":1689754418,\"should_show_category\":false,\"seen\":0}},{\"position\":28,\"user\":{\"has_anonymous_profile_picture\":false,\"fbid_v2\":17841454193504611,\"show_text_post_app_badge\":true,\"show_ig_app_switcher_badge\":true,\"pk\":\"54036894450\",\"pk_id\":\"54036894450\",\"username\":\"hyeinador\",\"full_name\":\"NEWJEANS 뉴진스 HYEIN 혜인\",\"is_private\":false,\"is_verified\":false,\"profile_pic_id\":\"3141525651109825318_54036894450\",\"profile_pic_url\":\"https://scontent-gmp1-1.cdninstagram.com/v/t51.2885-19/358344689_1798355017229287_5419473809735145720_n.jpg?stp=dst-jpg_s150x150\\\\u0026_nc_ht=scontent-gmp1-1.cdninstagram.com\\\\u0026_nc_cat=107\\\\u0026_nc_ohc=KZbwVjGGaHEAX-RNXym\\\\u0026edm=AHG7ALcBAAAA\\\\u0026ccb=7-5\\\\u0026oh=00_AfCwK72ZPdgQyQEgSYyP8EiW8wkMgErrMSh3VmmoKLf0Xw\\\\u0026oe=64BCC755\\\\u0026_nc_sid=c9086e\",\"has_opt_eligible_shop\":false,\"account_badges\":[],\"birthday_today_visibility_for_viewer\":\"NOT_VISIBLE\",\"third_party_downloads_enabled\":0,\"friendship_status\":{\"following\":false,\"is_private\":false,\"incoming_request\":false,\"outgoing_request\":false,\"is_bestie\":false,\"is_restricted\":false,\"is_feed_favorite\":false},\"latest_reel_media\":1689780808,\"should_show_category\":false,\"seen\":0}},{\"position\":29,\"user\":{\"has_anonymous_profile_picture\":false,\"fbid_v2\":17841449635589529,\"pk\":\"49596238519\",\"pk_id\":\"49596238519\",\"username\":\"officialnwjns\",\"full_name\":\"NEWJEANS 뉴진스\",\"is_private\":false,\"is_verified\":false,\"profile_pic_id\":\"3141902027658826899_49596238519\",\"profile_pic_url\":\"https://scontent-gmp1-1.cdninstagram.com/v/t51.2885-19/358400676_949914679459216_4404975458435905356_n.jpg?stp=dst-jpg_s150x150\\\\u0026_nc_ht=scontent-gmp1-1.cdninstagram.com\\\\u0026_nc_cat=104\\\\u0026_nc_ohc=T9jzC3tYc0cAX-Bao9x\\\\u0026edm=AHG7ALcBAAAA\\\\u0026ccb=7-5\\\\u0026oh=00_AfD3QCMHjp5ZD9bwMf1AZ_mXJRXZ2AkdqDQfieuhO8JXOw\\\\u0026oe=64BE4D84\\\\u0026_nc_sid=c9086e\",\"has_opt_eligible_shop\":false,\"account_badges\":[],\"birthday_today_visibility_for_viewer\":\"NOT_VISIBLE\",\"third_party_downloads_enabled\":0,\"friendship_status\":{\"following\":false,\"is_private\":false,\"incoming_request\":false,\"outgoing_request\":false,\"is_bestie\":false,\"is_restricted\":false,\"is_feed_favorite\":false},\"latest_reel_media\":0,\"should_show_category\":false,\"seen\":0}},{\"position\":30,\"user\":{\"has_anonymous_profile_picture\":false,\"fbid_v2\":17841457285948405,\"pk\":\"57267245531\",\"pk_id\":\"57267245531\",\"username\":\"newjeeans_official\",\"full_name\":\"NEW JEANS (뉴진스) — FAN ACCOUNT\",\"is_private\":false,\"is_verified\":false,\"profile_pic_id\":\"3061131480748740486_57267245531\",\"profile_pic_url\":\"https://scontent-gmp1-1.cdninstagram.com/v/t51.2885-19/336338372_894053685262823_5483380323514601255_n.jpg?stp=dst-jpg_s150x150\\\\u0026_nc_ht=scontent-gmp1-1.cdninstagram.com\\\\u0026_nc_cat=111\\\\u0026_nc_ohc=eTGvc9l8U1oAX9RVaLl\\\\u0026edm=AHG7ALcBAAAA\\\\u0026ccb=7-5\\\\u0026oh=00_AfB1OUTtqahC1L6h20Rw3OykoekEj7ktYppFg078NcefEw\\\\u0026oe=64BCEB05\\\\u0026_nc_sid=c9086e\",\"has_opt_eligible_shop\":false,\"account_badges\":[],\"birthday_today_visibility_for_viewer\":\"NOT_VISIBLE\",\"third_party_downloads_enabled\":0,\"friendship_status\":{\"following\":false,\"is_private\":false,\"incoming_request\":false,\"outgoing_request\":false,\"is_bestie\":false,\"is_restricted\":false,\"is_feed_favorite\":false},\"latest_reel_media\":0,\"should_show_category\":false,\"seen\":0}},{\"position\":31,\"user\":{\"has_anonymous_profile_picture\":false,\"fbid_v2\":17841456357446211,\"pk\":\"56289694581\",\"pk_id\":\"56289694581\",\"username\":\"newjeans_kanghaerin\",\"full_name\":\"Newjeans_hearin 뉴진스 해린\",\"is_private\":false,\"is_verified\":false,\"profile_pic_id\":\"3017559947273408729_56289694581\",\"profile_pic_url\":\"https://scontent-gmp1-1.cdninstagram.com/v/t51.2885-19/325779360_6518234588221790_4712912831755711801_n.jpg?stp=dst-jpg_s150x150\\\\u0026_nc_ht=scontent-gmp1-1.cdninstagram.com\\\\u0026_nc_cat=102\\\\u0026_nc_ohc=SeX_lpC8VFsAX9TLpur\\\\u0026edm=AHG7ALcBAAAA\\\\u0026ccb=7-5\\\\u0026oh=00_AfDKkdjWR_bgW2oG-PB_NRNEhbnEfbyuWZ-QTsOhUv0-1g\\\\u0026oe=64BE5384\\\\u0026_nc_sid=c9086e\",\"has_opt_eligible_shop\":false,\"account_badges\":[],\"birthday_today_visibility_for_viewer\":\"NOT_VISIBLE\",\"third_party_downloads_enabled\":0,\"friendship_status\":{\"following\":false,\"is_private\":false,\"incoming_request\":false,\"outgoing_request\":false,\"is_bestie\":false,\"is_restricted\":false,\"is_feed_favorite\":false},\"latest_reel_media\":0,\"should_show_category\":false,\"seen\":0}},{\"position\":32,\"user\":{\"has_anonymous_profile_picture\":false,\"fbid_v2\":17841400341145208,\"pk\":\"973323371\",\"pk_id\":\"973323371\",\"username\":\"kangnew_j\",\"full_name\":\"강 뉴진스\",\"is_private\":false,\"is_verified\":false,\"profile_pic_id\":\"2975336995536384655_973323371\",\"profile_pic_url\":\"https://scontent-gmp1-1.cdninstagram.com/v/t51.2885-19/316030058_1351282065410106_2267540489477503903_n.jpg?stp=dst-jpg_s150x150\\\\u0026_nc_ht=scontent-gmp1-1.cdninstagram.com\\\\u0026_nc_cat=106\\\\u0026_nc_ohc=O1YN_jJVYb8AX97eczl\\\\u0026edm=AHG7ALcBAAAA\\\\u0026ccb=7-5\\\\u0026oh=00_AfAzWdFz9QbR4Zn58lTrPiWJMYzhAXwbVIpPSA-R3WOTJg\\\\u0026oe=64BD3140\\\\u0026_nc_sid=c9086e\",\"has_opt_eligible_shop\":false,\"account_badges\":[],\"birthday_today_visibility_for_viewer\":\"NOT_VISIBLE\",\"third_party_downloads_enabled\":0,\"friendship_status\":{\"following\":false,\"is_private\":false,\"incoming_request\":false,\"outgoing_request\":false,\"is_bestie\":false,\"is_restricted\":false,\"is_feed_favorite\":false},\"latest_reel_media\":1689802884,\"should_show_category\":false,\"seen\":0}},{\"position\":33,\"user\":{\"has_anonymous_profile_picture\":false,\"fbid_v2\":17841444190940494,\"show_text_post_app_badge\":true,\"text_post_app_joiner_number\":28656442,\"show_ig_app_switcher_badge\":true,\"pk\":\"44243953031\",\"pk_id\":\"44243953031\",\"username\":\"newjeans.minji_\",\"full_name\":\"NEWJEANS 뉴진스 MINJI 민지\",\"is_private\":false,\"is_verified\":false,\"profile_pic_id\":\"3141528075023410784_44243953031\",\"profile_pic_url\":\"https://scontent-gmp1-1.cdninstagram.com/v/t51.2885-19/358359270_661157995573065_7219228081272285415_n.jpg?stp=dst-jpg_s150x150\\\\u0026_nc_ht=scontent-gmp1-1.cdninstagram.com\\\\u0026_nc_cat=109\\\\u0026_nc_ohc=jbYAA0u96Z4AX_hiFFS\\\\u0026edm=AHG7ALcBAAAA\\\\u0026ccb=7-5\\\\u0026oh=00_AfDpf8AztMPdYC-Qs-w8is5IxM2Si1LV8Mgsef_V_FY5_A\\\\u0026oe=64BE772F\\\\u0026_nc_sid=c9086e\",\"has_opt_eligible_shop\":false,\"account_badges\":[],\"birthday_today_visibility_for_viewer\":\"NOT_VISIBLE\",\"third_party_downloads_enabled\":0,\"friendship_status\":{\"following\":false,\"is_private\":false,\"incoming_request\":false,\"outgoing_request\":false,\"is_bestie\":false,\"is_restricted\":false,\"is_feed_favorite\":false},\"latest_reel_media\":0,\"should_show_category\":false,\"seen\":0}},{\"position\":34,\"user\":{\"has_anonymous_profile_picture\":false,\"fbid_v2\":17841458121228139,\"pk\":\"58145113374\",\"pk_id\":\"58145113374\",\"username\":\"etc_room\",\"full_name\":\"뉴진스 공식 팬 페이지\",\"is_private\":true,\"is_verified\":false,\"profile_pic_id\":\"3082218553228197154_58145113374\",\"profile_pic_url\":\"https://scontent-gmp1-1.cdninstagram.com/v/t51.2885-19/341180228_1283940985523967_481456577726449238_n.jpg?stp=dst-jpg_s150x150\\\\u0026_nc_ht=scontent-gmp1-1.cdninstagram.com\\\\u0026_nc_cat=103\\\\u0026_nc_ohc=DLBkWGqSPcoAX_37_HA\\\\u0026edm=AHG7ALcBAAAA\\\\u0026ccb=7-5\\\\u0026oh=00_AfBGX7YeXr1mDTa1DmtVMarywc0TUu1ZvMK_Z4dj3oI-Ug\\\\u0026oe=64BE815C\\\\u0026_nc_sid=c9086e\",\"has_opt_eligible_shop\":false,\"account_badges\":[],\"birthday_today_visibility_for_viewer\":\"NOT_VISIBLE\",\"third_party_downloads_enabled\":0,\"friendship_status\":{\"following\":false,\"is_private\":true,\"incoming_request\":false,\"outgoing_request\":false,\"is_bestie\":false,\"is_restricted\":false,\"is_feed_favorite\":false},\"latest_reel_media\":0,\"should_show_category\":false,\"seen\":0}},{\"position\":35,\"user\":{\"has_anonymous_profile_picture\":false,\"fbid_v2\":17841454505119429,\"pk\":\"54555432837\",\"pk_id\":\"54555432837\",\"username\":\"haerin.kangs\",\"full_name\":\"NewJeans 뉴진스\",\"is_private\":false,\"is_verified\":false,\"profile_pic_id\":\"3134498550243123022_54555432837\",\"profile_pic_url\":\"https://scontent-gmp1-1.cdninstagram.com/v/t51.2885-19/356612172_179568034872218_5832518952974468027_n.jpg?stp=dst-jpg_s150x150\\\\u0026_nc_ht=scontent-gmp1-1.cdninstagram.com\\\\u0026_nc_cat=102\\\\u0026_nc_ohc=2wKVK7MUVwUAX-uBh-E\\\\u0026edm=AHG7ALcBAAAA\\\\u0026ccb=7-5\\\\u0026oh=00_AfDNXGWG9zTrD-6HkLfbJUX8OTem7q04Jw5RUAR9OCt-yA\\\\u0026oe=64BCCCAB\\\\u0026_nc_sid=c9086e\",\"has_opt_eligible_shop\":false,\"account_badges\":[],\"birthday_today_visibility_for_viewer\":\"NOT_VISIBLE\",\"third_party_downloads_enabled\":0,\"friendship_status\":{\"following\":false,\"is_private\":false,\"incoming_request\":false,\"outgoing_request\":false,\"is_bestie\":false,\"is_restricted\":false,\"is_feed_favorite\":false},\"latest_reel_media\":1689744297,\"should_show_category\":false,\"seen\":0}},{\"position\":37,\"user\":{\"has_anonymous_profile_picture\":false,\"fbid_v2\":17841459879551058,\"pk\":\"59768467985\",\"pk_id\":\"59768467985\",\"username\":\"newjeanshae.rin\",\"full_name\":\"NEWJEANS 뉴진스 HAERIN 해린\",\"is_private\":false,\"is_verified\":false,\"profile_pic_id\":\"3141391762976018712_59768467985\",\"profile_pic_url\":\"https://scontent-gmp1-1.cdninstagram.com/v/t51.2885-19/358412014_797956611992851_3168963924010240331_n.jpg?stp=dst-jpg_s150x150\\\\u0026_nc_ht=scontent-gmp1-1.cdninstagram.com\\\\u0026_nc_cat=107\\\\u0026_nc_ohc=OUOstB5M2FUAX9aioGS\\\\u0026edm=AHG7ALcBAAAA\\\\u0026ccb=7-5\\\\u0026oh=00_AfDAjwSHoh2bE4t1Wb-a64AY4SX06f1bHRw7jhRb5YdBig\\\\u0026oe=64BD96EA\\\\u0026_nc_sid=c9086e\",\"has_opt_eligible_shop\":false,\"account_badges\":[],\"birthday_today_visibility_for_viewer\":\"NOT_VISIBLE\",\"third_party_downloads_enabled\":0,\"friendship_status\":{\"following\":false,\"is_private\":false,\"incoming_request\":false,\"outgoing_request\":false,\"is_bestie\":false,\"is_restricted\":false,\"is_feed_favorite\":false},\"latest_reel_media\":1689771238,\"should_show_category\":false,\"seen\":0}},{\"position\":38,\"user\":{\"has_anonymous_profile_picture\":false,\"fbid_v2\":17841431528520498,\"pk\":\"31603986950\",\"pk_id\":\"31603986950\",\"username\":\"newjeans_minzy\",\"full_name\":\"뉴진스#민지\",\"is_private\":false,\"is_verified\":false,\"profile_pic_id\":\"2892167401292880552_31603986950\",\"profile_pic_url\":\"https://scontent-gmp1-1.cdninstagram.com/v/t51.2885-19/295893816_180354094399886_2567341478882063978_n.jpg?stp=dst-jpg_s150x150\\\\u0026_nc_ht=scontent-gmp1-1.cdninstagram.com\\\\u0026_nc_cat=102\\\\u0026_nc_ohc=RoMRi9PvpvYAX96_Bhf\\\\u0026edm=AHG7ALcBAAAA\\\\u0026ccb=7-5\\\\u0026oh=00_AfDCSmGu7L7rUsAPUwZLpsk_EDJJVHqdhdfLr_J6BtKBRg\\\\u0026oe=64BD7CA1\\\\u0026_nc_sid=c9086e\",\"has_opt_eligible_shop\":false,\"account_badges\":[],\"birthday_today_visibility_for_viewer\":\"NOT_VISIBLE\",\"third_party_downloads_enabled\":0,\"friendship_status\":{\"following\":false,\"is_private\":false,\"incoming_request\":false,\"outgoing_request\":false,\"is_bestie\":false,\"is_restricted\":false,\"is_feed_favorite\":false},\"latest_reel_media\":0,\"should_show_category\":false,\"seen\":0}},{\"position\":39,\"user\":{\"has_anonymous_profile_picture\":false,\"fbid_v2\":17841456618325581,\"pk\":\"56524655277\",\"pk_id\":\"56524655277\",\"username\":\"hsc20_newjeans\",\"full_name\":\"뉴진스🤹\",\"is_private\":false,\"is_verified\":false,\"profile_pic_id\":\"2976171365281356371_56524655277\",\"profile_pic_url\":\"https://scontent-gmp1-1.cdninstagram.com/v/t51.2885-19/316587866_126677026894512_5003820224075242946_n.jpg?stp=dst-jpg_s150x150\\\\u0026_nc_ht=scontent-gmp1-1.cdninstagram.com\\\\u0026_nc_cat=100\\\\u0026_nc_ohc=daKAQg0bircAX89Blsb\\\\u0026edm=AHG7ALcBAAAA\\\\u0026ccb=7-5\\\\u0026oh=00_AfDxm2Mkn2nbmXWHCzKzzNsjKl5OIrlEPjvxyXY1sQr-sA\\\\u0026oe=64BCEF82\\\\u0026_nc_sid=c9086e\",\"has_opt_eligible_shop\":false,\"account_badges\":[],\"birthday_today_visibility_for_viewer\":\"NOT_VISIBLE\",\"third_party_downloads_enabled\":0,\"friendship_status\":{\"following\":false,\"is_private\":false,\"incoming_request\":false,\"outgoing_request\":false,\"is_bestie\":false,\"is_restricted\":false,\"is_feed_favorite\":false},\"latest_reel_media\":0,\"should_show_category\":false,\"seen\":0}},{\"position\":40,\"user\":{\"has_anonymous_profile_picture\":false,\"fbid_v2\":17841450270568490,\"pk\":\"50307923685\",\"pk_id\":\"50307923685\",\"username\":\"bunnies_sugdhw\",\"full_name\":\"뉴진스\",\"is_private\":true,\"is_verified\":false,\"profile_pic_id\":\"3141251935001029406_50307923685\",\"profile_pic_url\":\"https://scontent-gmp1-1.cdninstagram.com/v/t51.2885-19/358513988_602947485026645_6865476739313072166_n.jpg?stp=dst-jpg_s150x150\\\\u0026_nc_ht=scontent-gmp1-1.cdninstagram.com\\\\u0026_nc_cat=105\\\\u0026_nc_ohc=7SLI9ICLwQ8AX_uyxvc\\\\u0026edm=AHG7ALcBAAAA\\\\u0026ccb=7-5\\\\u0026oh=00_AfB0mQpk3dJvjbADhmJzMDRSU45m2q5DyJKLHFWi5r_fYQ\\\\u0026oe=64BDFE64\\\\u0026_nc_sid=c9086e\",\"has_opt_eligible_shop\":false,\"account_badges\":[],\"birthday_today_visibility_for_viewer\":\"NOT_VISIBLE\",\"third_party_downloads_enabled\":0,\"friendship_status\":{\"following\":false,\"is_private\":true,\"incoming_request\":false,\"outgoing_request\":false,\"is_bestie\":false,\"is_restricted\":false,\"is_feed_favorite\":false},\"latest_reel_media\":0,\"should_show_category\":false,\"seen\":0}},{\"position\":42,\"user\":{\"has_anonymous_profile_picture\":false,\"fbid_v2\":17841460169377369,\"pk\":\"60218957645\",\"pk_id\":\"60218957645\",\"username\":\"anidol2002\",\"full_name\":\"뉴진스\",\"is_private\":false,\"is_verified\":false,\"profile_pic_id\":\"3140912465499222060_60218957645\",\"profile_pic_url\":\"https://scontent-gmp1-1.cdninstagram.com/v/t51.2885-19/358213019_766371875221278_7146137974646621762_n.jpg?stp=dst-jpg_s150x150\\\\u0026_nc_ht=scontent-gmp1-1.cdninstagram.com\\\\u0026_nc_cat=106\\\\u0026_nc_ohc=YSG7D-XPGJgAX9-Kzkw\\\\u0026edm=AHG7ALcBAAAA\\\\u0026ccb=7-5\\\\u0026oh=00_AfA3Z3sEgaYm2tdM1U6EkKg7Xyac0Yx5qwBJiOK2aSK4yA\\\\u0026oe=64BD5087\\\\u0026_nc_sid=c9086e\",\"has_opt_eligible_shop\":false,\"account_badges\":[],\"birthday_today_visibility_for_viewer\":\"NOT_VISIBLE\",\"third_party_downloads_enabled\":0,\"friendship_status\":{\"following\":false,\"is_private\":false,\"incoming_request\":false,\"outgoing_request\":false,\"is_bestie\":false,\"is_restricted\":false,\"is_feed_favorite\":false},\"latest_reel_media\":0,\"should_show_category\":false,\"seen\":0}},{\"position\":43,\"user\":{\"has_anonymous_profile_picture\":false,\"fbid_v2\":17841460107220710,\"pk\":\"60005683574\",\"pk_id\":\"60005683574\",\"username\":\"newjeansuki\",\"full_name\":\"뉴진스 팬계정 (newjeans fan)\",\"is_private\":false,\"is_verified\":false,\"profile_pic_id\":\"3146124365464887309_60005683574\",\"profile_pic_url\":\"https://scontent-gmp1-1.cdninstagram.com/v/t51.2885-19/359667112_1275939736436756_386218054533863367_n.jpg?stp=dst-jpg_s150x150\\\\u0026_nc_ht=scontent-gmp1-1.cdninstagram.com\\\\u0026_nc_cat=108\\\\u0026_nc_ohc=uyC-zGDIsgcAX-MerX5\\\\u0026edm=AHG7ALcBAAAA\\\\u0026ccb=7-5\\\\u0026oh=00_AfCyufXyH3rStCoRxSpEHYLJ0MFSJGVnzbTvf-qPYp6HGQ\\\\u0026oe=64BD757C\\\\u0026_nc_sid=c9086e\",\"has_opt_eligible_shop\":false,\"account_badges\":[],\"birthday_today_visibility_for_viewer\":\"NOT_VISIBLE\",\"third_party_downloads_enabled\":0,\"friendship_status\":{\"following\":false,\"is_private\":false,\"incoming_request\":false,\"outgoing_request\":false,\"is_bestie\":false,\"is_restricted\":false,\"is_feed_favorite\":false},\"latest_reel_media\":0,\"should_show_category\":false,\"seen\":0}},{\"position\":44,\"user\":{\"has_anonymous_profile_picture\":false,\"fbid_v2\":17841453531271037,\"show_text_post_app_badge\":true,\"text_post_app_joiner_number\":61883918,\"show_ig_app_switcher_badge\":true,\"pk\":\"53688296375\",\"pk_id\":\"53688296375\",\"username\":\"seputar.newjeans\",\"full_name\":\"New Jeans Update 뉴진스 Fanbase\",\"is_private\":false,\"is_verified\":false,\"profile_pic_id\":\"3085382847230949266_53688296375\",\"profile_pic_url\":\"https://scontent-gmp1-1.cdninstagram.com/v/t51.2885-19/341933545_1659092821177453_8066310991366129488_n.jpg?stp=dst-jpg_s150x150\\\\u0026_nc_ht=scontent-gmp1-1.cdninstagram.com\\\\u0026_nc_cat=101\\\\u0026_nc_ohc=d6L4y9i4knwAX99L4Ln\\\\u0026edm=AHG7ALcBAAAA\\\\u0026ccb=7-5\\\\u0026oh=00_AfA04J3n1kXwgXCti0FgXZySRBt_bypmjmx9sq4AZxkxqw\\\\u0026oe=64BD5FC1\\\\u0026_nc_sid=c9086e\",\"has_opt_eligible_shop\":false,\"account_badges\":[],\"birthday_today_visibility_for_viewer\":\"NOT_VISIBLE\",\"third_party_downloads_enabled\":0,\"friendship_status\":{\"following\":false,\"is_private\":false,\"incoming_request\":false,\"outgoing_request\":false,\"is_bestie\":false,\"is_restricted\":false,\"is_feed_favorite\":false},\"latest_reel_media\":1689813749,\"should_show_category\":false,\"seen\":0}},{\"position\":45,\"user\":{\"has_anonymous_profile_picture\":false,\"fbid_v2\":17841457187091200,\"pk\":\"57209602236\",\"pk_id\":\"57209602236\",\"username\":\"njh___05\",\"full_name\":\"뉴진스\",\"is_private\":false,\"is_verified\":false,\"profile_pic_id\":\"2996427375187184798_57209602236\",\"profile_pic_url\":\"https://scontent-gmp1-1.cdninstagram.com/v/t51.2885-19/320780002_674160024355091_3938842974419804763_n.jpg?stp=dst-jpg_s150x150\\\\u0026_nc_ht=scontent-gmp1-1.cdninstagram.com\\\\u0026_nc_cat=111\\\\u0026_nc_ohc=gTXJ91YRz_kAX_s_kY_\\\\u0026edm=AHG7ALcBAAAA\\\\u0026ccb=7-5\\\\u0026oh=00_AfAwl_SF4k21E2SmfSqtZ0iv0lgM2mZhx_BynAsEjbFegA\\\\u0026oe=64BD6E19\\\\u0026_nc_sid=c9086e\",\"has_opt_eligible_shop\":false,\"account_badges\":[],\"birthday_today_visibility_for_viewer\":\"NOT_VISIBLE\",\"third_party_downloads_enabled\":0,\"friendship_status\":{\"following\":false,\"is_private\":false,\"incoming_request\":false,\"outgoing_request\":false,\"is_bestie\":false,\"is_restricted\":false,\"is_feed_favorite\":false},\"latest_reel_media\":0,\"should_show_category\":false,\"seen\":0}},{\"position\":46,\"user\":{\"has_anonymous_profile_picture\":false,\"fbid_v2\":17841457995034672,\"pk\":\"58037381167\",\"pk_id\":\"58037381167\",\"username\":\"haerin05.15\",\"full_name\":\"NEWJEANS HAERIN 뉴진스 해린\",\"is_private\":false,\"is_verified\":false,\"profile_pic_id\":\"3076222095880698621_58037381167\",\"profile_pic_url\":\"https://scontent-gmp1-1.cdninstagram.com/v/t51.2885-19/339970848_152480160809473_9026223627227849588_n.jpg?stp=dst-jpg_s150x150\\\\u0026_nc_ht=scontent-gmp1-1.cdninstagram.com\\\\u0026_nc_cat=101\\\\u0026_nc_ohc=iJ1Y--XiJF0AX9u9h3h\\\\u0026edm=AHG7ALcBAAAA\\\\u0026ccb=7-5\\\\u0026oh=00_AfBfFY3Uyih63xra6tgag3Y8e2WU-qjyCAhndy3xRNx7MA\\\\u0026oe=64BD21F1\\\\u0026_nc_sid=c9086e\",\"has_opt_eligible_shop\":false,\"account_badges\":[],\"birthday_today_visibility_for_viewer\":\"NOT_VISIBLE\",\"third_party_downloads_enabled\":0,\"friendship_status\":{\"following\":false,\"is_private\":false,\"incoming_request\":false,\"outgoing_request\":false,\"is_bestie\":false,\"is_restricted\":false,\"is_feed_favorite\":false},\"latest_reel_media\":0,\"should_show_category\":false,\"seen\":0}},{\"position\":48,\"user\":{\"has_anonymous_profile_picture\":false,\"fbid_v2\":17841460075039732,\"pk\":\"60077858501\",\"pk_id\":\"60077858501\",\"username\":\"newjeansnamchinwaaaaaan\",\"full_name\":\"뉴진스\",\"is_private\":true,\"is_verified\":false,\"profile_pic_id\":\"3150491837459098794_60077858501\",\"profile_pic_url\":\"https://scontent-gmp1-1.cdninstagram.com/v/t51.2885-19/361556419_1756366468130541_7648689240365221745_n.jpg?stp=dst-jpg_s150x150\\\\u0026_nc_ht=scontent-gmp1-1.cdninstagram.com\\\\u0026_nc_cat=109\\\\u0026_nc_ohc=dDnkYlS4V3QAX-EuM44\\\\u0026edm=AHG7ALcBAAAA\\\\u0026ccb=7-5\\\\u0026oh=00_AfCIvQIqUhoQ78Ko2lH64-hKkm3W9hBHHidS47lR3u8aEA\\\\u0026oe=64BCCB8C\\\\u0026_nc_sid=c9086e\",\"has_opt_eligible_shop\":false,\"account_badges\":[],\"birthday_today_visibility_for_viewer\":\"NOT_VISIBLE\",\"third_party_downloads_enabled\":0,\"friendship_status\":{\"following\":false,\"is_private\":true,\"incoming_request\":false,\"outgoing_request\":false,\"is_bestie\":false,\"is_restricted\":false,\"is_feed_favorite\":false},\"latest_reel_media\":0,\"should_show_category\":false,\"seen\":0}},{\"position\":49,\"user\":{\"has_anonymous_profile_picture\":false,\"fbid_v2\":17841457342956021,\"pk\":\"57328175431\",\"pk_id\":\"57328175431\",\"username\":\"bunnies_new_jeans\",\"full_name\":\"뉴진스 진심녀\",\"is_private\":false,\"is_verified\":false,\"profile_pic_id\":\"3141301446537464912_57328175431\",\"profile_pic_url\":\"https://scontent-gmp1-1.cdninstagram.com/v/t51.2885-19/358178454_233359709522871_1746660595034841814_n.jpg?stp=dst-jpg_s150x150\\\\u0026_nc_ht=scontent-gmp1-1.cdninstagram.com\\\\u0026_nc_cat=103\\\\u0026_nc_ohc=W30dOkptHyEAX84mzqh\\\\u0026edm=AHG7ALcBAAAA\\\\u0026ccb=7-5\\\\u0026oh=00_AfDebQFL_hQTrqNCpZn7S3ZbrO0iUFcuoSv400rdloysqw\\\\u0026oe=64BD9323\\\\u0026_nc_sid=c9086e\",\"has_opt_eligible_shop\":false,\"account_badges\":[],\"birthday_today_visibility_for_viewer\":\"NOT_VISIBLE\",\"third_party_downloads_enabled\":0,\"friendship_status\":{\"following\":false,\"is_private\":false,\"incoming_request\":false,\"outgoing_request\":false,\"is_bestie\":false,\"is_restricted\":false,\"is_feed_favorite\":false},\"latest_reel_media\":1689779586,\"should_show_category\":false,\"seen\":0}},{\"position\":51,\"user\":{\"has_anonymous_profile_picture\":false,\"fbid_v2\":17841452505710332,\"pk\":\"52402662190\",\"pk_id\":\"52402662190\",\"username\":\"minji.newjeanss\",\"full_name\":\"NEWJEANS 뉴진스 MINJI 민지\",\"is_private\":false,\"is_verified\":false,\"profile_pic_id\":\"3141401268252973471_52402662190\",\"profile_pic_url\":\"https://scontent-gmp1-1.cdninstagram.com/v/t51.2885-19/358190746_745867763982538_2272200201417117294_n.jpg?stp=dst-jpg_s150x150\\\\u0026_nc_ht=scontent-gmp1-1.cdninstagram.com\\\\u0026_nc_cat=110\\\\u0026_nc_ohc=cx9SiHw67XIAX-bU8Ya\\\\u0026edm=AHG7ALcBAAAA\\\\u0026ccb=7-5\\\\u0026oh=00_AfB5KYO0yf_kdBi_g09BdvXX0gsSQQx8-bg-JFGmqYLUvQ\\\\u0026oe=64BD0C47\\\\u0026_nc_sid=c9086e\",\"has_opt_eligible_shop\":false,\"account_badges\":[],\"birthday_today_visibility_for_viewer\":\"NOT_VISIBLE\",\"third_party_downloads_enabled\":0,\"friendship_status\":{\"following\":false,\"is_private\":false,\"incoming_request\":false,\"outgoing_request\":false,\"is_bestie\":false,\"is_restricted\":false,\"is_feed_favorite\":false},\"latest_reel_media\":0,\"should_show_category\":false,\"seen\":0}},{\"position\":52,\"user\":{\"has_anonymous_profile_picture\":false,\"fbid_v2\":17841402244520980,\"pk\":\"2247842817\",\"pk_id\":\"2247842817\",\"username\":\"venus.showroommm\",\"full_name\":\"🏅고객만족도 1위🏅|뉴진스st|  대구붙임머리 동성로붙임머리 • 비너스샵\",\"is_private\":false,\"is_verified\":false,\"profile_pic_id\":\"3050380836599000442_2247842817\",\"profile_pic_url\":\"https://scontent-gmp1-1.cdninstagram.com/v/t51.2885-19/334011767_163795116458354_617767155290230439_n.jpg?stp=dst-jpg_s150x150\\\\u0026_nc_ht=scontent-gmp1-1.cdninstagram.com\\\\u0026_nc_cat=102\\\\u0026_nc_ohc=kNVak2QhQGUAX_CXDPe\\\\u0026edm=AHG7ALcBAAAA\\\\u0026ccb=7-5\\\\u0026oh=00_AfBPy1Zge98tuEGKxoJsVvpJE92g7dZm425-Ao_TDlXMMw\\\\u0026oe=64BDBCC3\\\\u0026_nc_sid=c9086e\",\"has_opt_eligible_shop\":false,\"account_badges\":[],\"birthday_today_visibility_for_viewer\":\"NOT_VISIBLE\",\"third_party_downloads_enabled\":0,\"friendship_status\":{\"following\":false,\"is_private\":false,\"incoming_request\":false,\"outgoing_request\":false,\"is_bestie\":false,\"is_restricted\":false,\"is_feed_favorite\":false},\"latest_reel_media\":0,\"should_show_category\":false,\"seen\":0}},{\"position\":53,\"user\":{\"has_anonymous_profile_picture\":false,\"fbid_v2\":17841447769403245,\"pk\":\"47865960313\",\"pk_id\":\"47865960313\",\"username\":\"hye_outtttt\",\"full_name\":\"뉴진스혜인이가아니에요\",\"is_private\":true,\"is_verified\":false,\"profile_pic_id\":\"3114752781928641905_47865960313\",\"profile_pic_url\":\"https://scontent-gmp1-1.cdninstagram.com/v/t51.2885-19/350642777_175414845457929_590318687791031857_n.jpg?stp=dst-jpg_s150x150\\\\u0026_nc_ht=scontent-gmp1-1.cdninstagram.com\\\\u0026_nc_cat=109\\\\u0026_nc_ohc=jUoP4ai-5WIAX-eSAbm\\\\u0026edm=AHG7ALcBAAAA\\\\u0026ccb=7-5\\\\u0026oh=00_AfD6xG_XrVyBNdROTdxutC8ght9yl8UC6qo_OT_GxDcZOw\\\\u0026oe=64BD5032\\\\u0026_nc_sid=c9086e\",\"has_opt_eligible_shop\":false,\"account_badges\":[],\"birthday_today_visibility_for_viewer\":\"NOT_VISIBLE\",\"third_party_downloads_enabled\":0,\"friendship_status\":{\"following\":false,\"is_private\":true,\"incoming_request\":false,\"outgoing_request\":false,\"is_bestie\":false,\"is_restricted\":false,\"is_feed_favorite\":false},\"latest_reel_media\":0,\"should_show_category\":false,\"seen\":0}},{\"position\":54,\"user\":{\"has_anonymous_profile_picture\":false,\"fbid_v2\":17841449768981969,\"pk\":\"49695754966\",\"pk_id\":\"49695754966\",\"username\":\"newjeans.hearinn\",\"full_name\":\"NewJeans 뉴진스 Haerin 해린\",\"is_private\":false,\"is_verified\":false,\"profile_pic_id\":\"2916169161380840563_49695754966\",\"profile_pic_url\":\"https://scontent-gmp1-1.cdninstagram.com/v/t51.2885-19/301814555_913780176679756_804417113839997537_n.jpg?stp=dst-jpg_s150x150\\\\u0026_nc_ht=scontent-gmp1-1.cdninstagram.com\\\\u0026_nc_cat=104\\\\u0026_nc_ohc=sGbGJiNfzLYAX9yB1se\\\\u0026edm=AHG7ALcBAAAA\\\\u0026ccb=7-5\\\\u0026oh=00_AfAHD_SMvdA1JZv5X0REf-ybaTdNdu_cmHQlA9d8X1fIWA\\\\u0026oe=64BD80CC\\\\u0026_nc_sid=c9086e\",\"has_opt_eligible_shop\":false,\"account_badges\":[],\"birthday_today_visibility_for_viewer\":\"NOT_VISIBLE\",\"third_party_downloads_enabled\":0,\"friendship_status\":{\"following\":false,\"is_private\":false,\"incoming_request\":false,\"outgoing_request\":false,\"is_bestie\":false,\"is_restricted\":false,\"is_feed_favorite\":false},\"latest_reel_media\":0,\"should_show_category\":false,\"seen\":0}}],\"places\":[],\"hashtags\":[{\"position\":0,\"hashtag\":{\"name\":\"뉴진스\",\"id\":17843684476047345,\"media_count\":366925,\"use_default_avatar\":true,\"search_result_subtitle\":\"366K posts\"}},{\"position\":36,\"hashtag\":{\"name\":\"뉴진스민지\",\"id\":18243525868119077,\"media_count\":8972,\"use_default_avatar\":true,\"search_result_subtitle\":\"5000+ posts\"}},{\"position\":41,\"hashtag\":{\"name\":\"뉴진스하니\",\"id\":18205380214162125,\"media_count\":8182,\"use_default_avatar\":true,\"search_result_subtitle\":\"5000+ posts\"}},{\"position\":47,\"hashtag\":{\"name\":\"뉴진스해린\",\"id\":17941578032304876,\"media_count\":7606,\"use_default_avatar\":true,\"search_result_subtitle\":\"5000+ posts\"}},{\"position\":50,\"hashtag\":{\"name\":\"뉴진스패션\",\"id\":17979438796543231,\"media_count\":3105,\"use_default_avatar\":true,\"search_result_subtitle\":\"1000+ posts\"}}],\"has_more\":true,\"rank_token\":\"0.5946241399410475\",\"clear_client_cache\":null,\"status\":\"ok\"}'"
      ]
     },
     "execution_count": 25,
     "metadata": {},
     "output_type": "execute_result"
    }
   ],
   "source": [
    "params['query'] = '뉴진스' \n",
    "headers['x-csrftoken'] = session.cookies.get('csrftoken') \n",
    "resp = session.get(search, params=params, \n",
    "                    headers=headers) \n",
    "resp.text"
   ]
  },
  {
   "cell_type": "code",
   "execution_count": null,
   "metadata": {},
   "outputs": [
    {
     "data": {
      "text/plain": [
       "'42343115206'"
      ]
     },
     "execution_count": 26,
     "metadata": {},
     "output_type": "execute_result"
    }
   ],
   "source": [
    "resp.json()['users'][0]['user']['pk']"
   ]
  },
  {
   "cell_type": "code",
   "execution_count": null,
   "metadata": {},
   "outputs": [
    {
     "data": {
      "text/plain": [
       "'{\"message\":\"useragent mismatch\",\"status\":\"fail\"}'"
      ]
     },
     "execution_count": 27,
     "metadata": {},
     "output_type": "execute_result"
    }
   ],
   "source": [
    "user = 42343115206#resp.json()['users'][0]['user']['pk'] \n",
    "feed = f'https://www.instagram.com/api/v1/feed/user/{user}/?' \n",
    "params = { \n",
    "    'count':'12' \n",
    "} \n",
    "headers['user-agent'] = 'Mozilla/5.0 (Macintosh; Intel Mac OS X 10_15_7) AppleWebKit/537.36 (KHTML, like Gecko) Chrome/114.0.0.0 Safari/537.36'\n",
    "headers['x-csrftoken'] = session.cookies.get('csrftoken') \n",
    "resp = session.get(feed, params=params, \n",
    "                    headers=headers) \n",
    "resp.text "
   ]
  },
  {
   "cell_type": "code",
   "execution_count": null,
   "metadata": {},
   "outputs": [],
   "source": [
    "# 1. UA \n",
    "# 2. 검색: 키워드(PK) \n",
    "# 3. User, Tag \n",
    "# 4. If User, 게시물 첫 페이지 \n",
    "# 5. 다음 페이지"
   ]
  },
  {
   "cell_type": "code",
   "execution_count": null,
   "metadata": {},
   "outputs": [],
   "source": [
    "# selenium 사용하기"
   ]
  },
  {
   "cell_type": "code",
   "execution_count": null,
   "metadata": {},
   "outputs": [],
   "source": [
    "from selenium import webdriver\n",
    "# driver = webdriver.Chrome('driver의경로')\n"
   ]
  },
  {
   "cell_type": "code",
   "execution_count": null,
   "metadata": {},
   "outputs": [
    {
     "name": "stderr",
     "output_type": "stream",
     "text": [
      "The version of chrome cannot be detected. Trying with latest driver version\n"
     ]
    },
    {
     "ename": "WebDriverException",
     "evalue": "Message: Service /home/roina/.cache/selenium/chromedriver/linux64/114.0.5735.90/chromedriver unexpectedly exited. Status code was: 127\n",
     "output_type": "error",
     "traceback": [
      "\u001b[0;31m---------------------------------------------------------------------------\u001b[0m",
      "\u001b[0;31mWebDriverException\u001b[0m                        Traceback (most recent call last)",
      "Cell \u001b[0;32mIn[31], line 1\u001b[0m\n\u001b[0;32m----> 1\u001b[0m driver \u001b[39m=\u001b[39m webdriver\u001b[39m.\u001b[39;49mChrome()\n",
      "File \u001b[0;32m~/.local/lib/python3.10/site-packages/selenium/webdriver/chrome/webdriver.py:49\u001b[0m, in \u001b[0;36mWebDriver.__init__\u001b[0;34m(self, options, service, keep_alive)\u001b[0m\n\u001b[1;32m     45\u001b[0m \u001b[39mself\u001b[39m\u001b[39m.\u001b[39mkeep_alive \u001b[39m=\u001b[39m keep_alive\n\u001b[1;32m     47\u001b[0m \u001b[39mself\u001b[39m\u001b[39m.\u001b[39mservice\u001b[39m.\u001b[39mpath \u001b[39m=\u001b[39m DriverFinder\u001b[39m.\u001b[39mget_path(\u001b[39mself\u001b[39m\u001b[39m.\u001b[39mservice, \u001b[39mself\u001b[39m\u001b[39m.\u001b[39moptions)\n\u001b[0;32m---> 49\u001b[0m \u001b[39msuper\u001b[39;49m()\u001b[39m.\u001b[39;49m\u001b[39m__init__\u001b[39;49m(\n\u001b[1;32m     50\u001b[0m     DesiredCapabilities\u001b[39m.\u001b[39;49mCHROME[\u001b[39m\"\u001b[39;49m\u001b[39mbrowserName\u001b[39;49m\u001b[39m\"\u001b[39;49m],\n\u001b[1;32m     51\u001b[0m     \u001b[39m\"\u001b[39;49m\u001b[39mgoog\u001b[39;49m\u001b[39m\"\u001b[39;49m,\n\u001b[1;32m     52\u001b[0m     \u001b[39mself\u001b[39;49m\u001b[39m.\u001b[39;49moptions,\n\u001b[1;32m     53\u001b[0m     \u001b[39mself\u001b[39;49m\u001b[39m.\u001b[39;49mservice,\n\u001b[1;32m     54\u001b[0m     \u001b[39mself\u001b[39;49m\u001b[39m.\u001b[39;49mkeep_alive,\n\u001b[1;32m     55\u001b[0m )\n",
      "File \u001b[0;32m~/.local/lib/python3.10/site-packages/selenium/webdriver/chromium/webdriver.py:51\u001b[0m, in \u001b[0;36mChromiumDriver.__init__\u001b[0;34m(self, browser_name, vendor_prefix, options, service, keep_alive)\u001b[0m\n\u001b[1;32m     48\u001b[0m \u001b[39mself\u001b[39m\u001b[39m.\u001b[39mservice \u001b[39m=\u001b[39m service\n\u001b[1;32m     49\u001b[0m \u001b[39mself\u001b[39m\u001b[39m.\u001b[39moptions \u001b[39m=\u001b[39m options\n\u001b[0;32m---> 51\u001b[0m \u001b[39mself\u001b[39;49m\u001b[39m.\u001b[39;49mservice\u001b[39m.\u001b[39;49mstart()\n\u001b[1;32m     53\u001b[0m \u001b[39mtry\u001b[39;00m:\n\u001b[1;32m     54\u001b[0m     \u001b[39msuper\u001b[39m()\u001b[39m.\u001b[39m\u001b[39m__init__\u001b[39m(\n\u001b[1;32m     55\u001b[0m         command_executor\u001b[39m=\u001b[39mChromiumRemoteConnection(\n\u001b[1;32m     56\u001b[0m             remote_server_addr\u001b[39m=\u001b[39m\u001b[39mself\u001b[39m\u001b[39m.\u001b[39mservice\u001b[39m.\u001b[39mservice_url,\n\u001b[0;32m   (...)\u001b[0m\n\u001b[1;32m     62\u001b[0m         options\u001b[39m=\u001b[39m\u001b[39mself\u001b[39m\u001b[39m.\u001b[39moptions,\n\u001b[1;32m     63\u001b[0m     )\n",
      "File \u001b[0;32m~/.local/lib/python3.10/site-packages/selenium/webdriver/common/service.py:97\u001b[0m, in \u001b[0;36mService.start\u001b[0;34m(self)\u001b[0m\n\u001b[1;32m     95\u001b[0m count \u001b[39m=\u001b[39m \u001b[39m0\u001b[39m\n\u001b[1;32m     96\u001b[0m \u001b[39mwhile\u001b[39;00m \u001b[39mTrue\u001b[39;00m:\n\u001b[0;32m---> 97\u001b[0m     \u001b[39mself\u001b[39;49m\u001b[39m.\u001b[39;49massert_process_still_running()\n\u001b[1;32m     98\u001b[0m     \u001b[39mif\u001b[39;00m \u001b[39mself\u001b[39m\u001b[39m.\u001b[39mis_connectable():\n\u001b[1;32m     99\u001b[0m         \u001b[39mbreak\u001b[39;00m\n",
      "File \u001b[0;32m~/.local/lib/python3.10/site-packages/selenium/webdriver/common/service.py:110\u001b[0m, in \u001b[0;36mService.assert_process_still_running\u001b[0;34m(self)\u001b[0m\n\u001b[1;32m    108\u001b[0m return_code \u001b[39m=\u001b[39m \u001b[39mself\u001b[39m\u001b[39m.\u001b[39mprocess\u001b[39m.\u001b[39mpoll()\n\u001b[1;32m    109\u001b[0m \u001b[39mif\u001b[39;00m return_code:\n\u001b[0;32m--> 110\u001b[0m     \u001b[39mraise\u001b[39;00m WebDriverException(\u001b[39mf\u001b[39m\u001b[39m\"\u001b[39m\u001b[39mService \u001b[39m\u001b[39m{\u001b[39;00m\u001b[39mself\u001b[39m\u001b[39m.\u001b[39m_path\u001b[39m}\u001b[39;00m\u001b[39m unexpectedly exited. Status code was: \u001b[39m\u001b[39m{\u001b[39;00mreturn_code\u001b[39m}\u001b[39;00m\u001b[39m\"\u001b[39m)\n",
      "\u001b[0;31mWebDriverException\u001b[0m: Message: Service /home/roina/.cache/selenium/chromedriver/linux64/114.0.5735.90/chromedriver unexpectedly exited. Status code was: 127\n"
     ]
    }
   ],
   "source": [
    "driver = webdriver.Chrome()"
   ]
  },
  {
   "cell_type": "code",
   "execution_count": null,
   "metadata": {},
   "outputs": [],
   "source": [
    "driver.current_window_handle"
   ]
  },
  {
   "cell_type": "code",
   "execution_count": null,
   "metadata": {},
   "outputs": [],
   "source": [
    "# !pip install webdriver‐manage"
   ]
  },
  {
   "cell_type": "code",
   "execution_count": null,
   "metadata": {},
   "outputs": [],
   "source": [
    "from webdriver_manager.chrome import ChromeDriverManager \n",
    "driver = webdriver.Chrome(ChromeDriverManager().install()) "
   ]
  },
  {
   "cell_type": "code",
   "execution_count": null,
   "metadata": {},
   "outputs": [],
   "source": [
    "driver.get('https://lms.sunde41.net') "
   ]
  },
  {
   "cell_type": "code",
   "execution_count": null,
   "metadata": {},
   "outputs": [],
   "source": [
    "from selenium.webdriver.common.by import By"
   ]
  },
  {
   "cell_type": "code",
   "execution_count": null,
   "metadata": {},
   "outputs": [],
   "source": [
    "# By.CSS_SELECTOR, By.XPATH"
   ]
  },
  {
   "cell_type": "code",
   "execution_count": null,
   "metadata": {},
   "outputs": [
    {
     "ename": "NameError",
     "evalue": "name 'driver' is not defined",
     "output_type": "error",
     "traceback": [
      "\u001b[0;31m---------------------------------------------------------------------------\u001b[0m",
      "\u001b[0;31mNameError\u001b[0m                                 Traceback (most recent call last)",
      "Cell \u001b[0;32mIn[1], line 1\u001b[0m\n\u001b[0;32m----> 1\u001b[0m \u001b[39mfor\u001b[39;00m _ \u001b[39min\u001b[39;00m driver\u001b[39m.\u001b[39mfind_elements(By\u001b[39m.\u001b[39mCSS_SELECTOR, \u001b[39m'\u001b[39m\u001b[39mform input[name]\u001b[39m\u001b[39m'\u001b[39m): \n\u001b[1;32m      2\u001b[0m     \u001b[39mprint\u001b[39m(_\u001b[39m.\u001b[39mtag_name, _\u001b[39m.\u001b[39mtext, _\u001b[39m.\u001b[39mget_attribute(\u001b[39m'\u001b[39m\u001b[39mclass\u001b[39m\u001b[39m'\u001b[39m))\n",
      "\u001b[0;31mNameError\u001b[0m: name 'driver' is not defined"
     ]
    }
   ],
   "source": [
    "for _ in driver.find_elements(By.CSS_SELECTOR, 'form input[name]'): \n",
    "    print(_.tag_name, _.text, _.get_attribute('class'))"
   ]
  },
  {
   "cell_type": "code",
   "execution_count": null,
   "metadata": {},
   "outputs": [],
   "source": [
    "# dom1 = resp.text \n",
    "dom2 = BeautifulSoup(driver.page_source, 'html.parser')\n",
    "# dom1(resp.raw => dom) != dom2(renderin"
   ]
  },
  {
   "cell_type": "code",
   "execution_count": null,
   "metadata": {},
   "outputs": [],
   "source": [
    "dom2.select('form input[name]')[0], \n",
    "driver.find_elements(By.CSS_SELECTOR, 'form input[name]')[0] "
   ]
  },
  {
   "cell_type": "code",
   "execution_count": null,
   "metadata": {},
   "outputs": [],
   "source": [
    "type(dom2.select('form input[name]')[0]), \\ \n",
    "type(driver.find_elements(By.CSS_SELECTOR, 'form input[name]')[0]) "
   ]
  },
  {
   "cell_type": "code",
   "execution_count": null,
   "metadata": {},
   "outputs": [],
   "source": [
    "tags = driver.find_elements(By.CSS_SELECTOR, \n",
    "                            'form #email, form #password')"
   ]
  },
  {
   "cell_type": "code",
   "execution_count": null,
   "metadata": {},
   "outputs": [],
   "source": [
    "tags[0].clear() \n",
    "tags[0].send_keys('gon0121@gmail.com')"
   ]
  },
  {
   "cell_type": "code",
   "execution_count": null,
   "metadata": {},
   "outputs": [],
   "source": [
    "tags[0].get_attribute('value')"
   ]
  },
  {
   "cell_type": "code",
   "execution_count": null,
   "metadata": {},
   "outputs": [],
   "source": [
    "import json \n",
    "with open('lms.txt', 'r') as f: \n",
    "    lms = json.load(f)"
   ]
  },
  {
   "cell_type": "code",
   "execution_count": null,
   "metadata": {},
   "outputs": [],
   "source": [
    "tags[1].send_keys(lms['pw']) "
   ]
  },
  {
   "cell_type": "code",
   "execution_count": null,
   "metadata": {},
   "outputs": [
    {
     "ename": "NameError",
     "evalue": "name 'driver' is not defined",
     "output_type": "error",
     "traceback": [
      "\u001b[0;31m---------------------------------------------------------------------------\u001b[0m",
      "\u001b[0;31mNameError\u001b[0m                                 Traceback (most recent call last)",
      "Cell \u001b[0;32mIn[2], line 1\u001b[0m\n\u001b[0;32m----> 1\u001b[0m driver\u001b[39m.\u001b[39mfind_element(By\u001b[39m.\u001b[39mCSS_SELECTOR, \u001b[39m'\u001b[39m\u001b[39m#button\u001b[39m\u001b[39m'\u001b[39m)\u001b[39m.\u001b[39mclick()\n",
      "\u001b[0;31mNameError\u001b[0m: name 'driver' is not defined"
     ]
    }
   ],
   "source": [
    "driver.find_element(By.CSS_SELECTOR, '#button').click()"
   ]
  },
  {
   "cell_type": "code",
   "execution_count": null,
   "metadata": {},
   "outputs": [],
   "source": [
    "session.cookies.clear()"
   ]
  },
  {
   "cell_type": "code",
   "execution_count": null,
   "metadata": {},
   "outputs": [],
   "source": [
    "for c in driver.get_cookies(): \n",
    "    session.cookies.set(c['name'], c['value'])"
   ]
  },
  {
   "cell_type": "code",
   "execution_count": null,
   "metadata": {},
   "outputs": [],
   "source": [
    "session.get('https://lms.sunde41.net').text"
   ]
  },
  {
   "cell_type": "code",
   "execution_count": null,
   "metadata": {},
   "outputs": [],
   "source": [
    "driver.delete_all_cookies()"
   ]
  },
  {
   "cell_type": "code",
   "execution_count": null,
   "metadata": {},
   "outputs": [],
   "source": [
    "driver.refresh()"
   ]
  },
  {
   "cell_type": "code",
   "execution_count": null,
   "metadata": {},
   "outputs": [],
   "source": [
    "email = driver.find_element(By.XPATH, '//form//input[@id=\"email\"]') \n",
    "# /form, //form "
   ]
  },
  {
   "cell_type": "code",
   "execution_count": null,
   "metadata": {},
   "outputs": [],
   "source": [
    "pw = driver.find_element(By.XPATH, '//form//input[@id=\"password\"]'"
   ]
  },
  {
   "cell_type": "code",
   "execution_count": null,
   "metadata": {},
   "outputs": [],
   "source": [
    "from selenium.webdriver.common.keys import Keys"
   ]
  },
  {
   "cell_type": "code",
   "execution_count": null,
   "metadata": {},
   "outputs": [
    {
     "ename": "NameError",
     "evalue": "name 'email' is not defined",
     "output_type": "error",
     "traceback": [
      "\u001b[0;31m---------------------------------------------------------------------------\u001b[0m",
      "\u001b[0;31mNameError\u001b[0m                                 Traceback (most recent call last)",
      "Cell \u001b[0;32mIn[3], line 1\u001b[0m\n\u001b[0;32m----> 1\u001b[0m email\u001b[39m.\u001b[39mclear() \n\u001b[1;32m      2\u001b[0m email\u001b[39m.\u001b[39msend_keys(lms[\u001b[39m'\u001b[39m\u001b[39mid\u001b[39m\u001b[39m'\u001b[39m]) \n\u001b[1;32m      3\u001b[0m pw\u001b[39m.\u001b[39msend_keys(lms[\u001b[39m'\u001b[39m\u001b[39mpw\u001b[39m\u001b[39m'\u001b[39m])\n",
      "\u001b[0;31mNameError\u001b[0m: name 'email' is not defined"
     ]
    }
   ],
   "source": [
    "email.clear() \n",
    "email.send_keys(lms['id']) \n",
    "pw.send_keys(lms['pw'])"
   ]
  },
  {
   "cell_type": "code",
   "execution_count": null,
   "metadata": {},
   "outputs": [],
   "source": [
    "driver.find_element(By.XPATH, '//input[@id=\"button\"]').click()\n",
    "# email.is_displayed() => DOM 변경(ID값 참조하지 못함)"
   ]
  },
  {
   "cell_type": "code",
   "execution_count": null,
   "metadata": {},
   "outputs": [],
   "source": [
    "driver.find_element(By.XPATH, '//ul//ul/li').click()"
   ]
  },
  {
   "cell_type": "code",
   "execution_count": null,
   "metadata": {},
   "outputs": [],
   "source": [
    "for a in driver.find_elements(By.CSS_SELECTOR, 'a[href$=\".pdf\"]'): \n",
    "    print(a.tag_name, a.text, a.is_displayed())"
   ]
  },
  {
   "cell_type": "code",
   "execution_count": null,
   "metadata": {},
   "outputs": [],
   "source": [
    "driver.find_elements(By.CSS_SELECTOR, 'a[href$=\".pdf\"]')[0].click()"
   ]
  },
  {
   "cell_type": "code",
   "execution_count": null,
   "metadata": {},
   "outputs": [],
   "source": [
    "driver.find_elements(By.CSS_SELECTOR, \n",
    "                     'a:has( + div a[href$=\".pdf\"])')[0].click()"
   ]
  },
  {
   "cell_type": "code",
   "execution_count": null,
   "metadata": {},
   "outputs": [],
   "source": [
    "driver.find_elements(By.CSS_SELECTOR, 'a[href$=\".pdf\"]')[0].click()"
   ]
  },
  {
   "cell_type": "code",
   "execution_count": null,
   "metadata": {},
   "outputs": [],
   "source": [
    "# s_enabled,      is_selected,     is_displayed \n",
    "# :button 활성화여부  : 선택박스 선택여부  :코드상에 화면에있는지 여부"
   ]
  },
  {
   "cell_type": "code",
   "execution_count": null,
   "metadata": {},
   "outputs": [],
   "source": [
    "driver.execute_script('alert(\"test\");')"
   ]
  },
  {
   "cell_type": "code",
   "execution_count": null,
   "metadata": {},
   "outputs": [],
   "source": [
    "driver.execute_script('toggleFullScreen();')\t# => 무조건 사용"
   ]
  },
  {
   "cell_type": "code",
   "execution_count": null,
   "metadata": {},
   "outputs": [],
   "source": [
    "driver.execute_async_script() "
   ]
  },
  {
   "cell_type": "code",
   "execution_count": null,
   "metadata": {},
   "outputs": [],
   "source": [
    "driver.get('https://www.naver.com') "
   ]
  },
  {
   "cell_type": "code",
   "execution_count": null,
   "metadata": {},
   "outputs": [],
   "source": [
    "driver.find_element(By.XPATH, '//div[@id=\"account\"]//a').click()"
   ]
  },
  {
   "cell_type": "code",
   "execution_count": null,
   "metadata": {},
   "outputs": [],
   "source": [
    "driver.find_element(By.XPATH, '//input[@id=\"id\"]')"
   ]
  },
  {
   "cell_type": "code",
   "execution_count": null,
   "metadata": {},
   "outputs": [],
   "source": [
    "driver.find_element(By.XPATH, '//input[@id=\"pw\"]')"
   ]
  },
  {
   "cell_type": "code",
   "execution_count": null,
   "metadata": {},
   "outputs": [],
   "source": [
    "driver.find_element(By.XPATH, '//form//button[@type=\"submit\"]')"
   ]
  },
  {
   "cell_type": "code",
   "execution_count": null,
   "metadata": {},
   "outputs": [],
   "source": [
    "# CAPTCHA => reCAPTCHA; Collective Intelligence \n",
    "# => bot 방지"
   ]
  },
  {
   "cell_type": "code",
   "execution_count": null,
   "metadata": {},
   "outputs": [],
   "source": [
    "cookie = {c['name']:c['value'] for c in driver.get_cookies()}"
   ]
  },
  {
   "cell_type": "code",
   "execution_count": null,
   "metadata": {},
   "outputs": [],
   "source": [
    "request('GET', 'https://mail.naver.com', cookies=cookie).text "
   ]
  },
  {
   "cell_type": "code",
   "execution_count": null,
   "metadata": {},
   "outputs": [],
   "source": [
    "driver.add_cookie() "
   ]
  },
  {
   "cell_type": "code",
   "execution_count": null,
   "metadata": {},
   "outputs": [],
   "source": [
    "driver.get('https://mail.naver.com')"
   ]
  },
  {
   "cell_type": "code",
   "execution_count": null,
   "metadata": {},
   "outputs": [],
   "source": [
    "logout = driver.find_element(By.XPATH, '//a[@id=\"gnb_logout_button\"]')"
   ]
  },
  {
   "cell_type": "code",
   "execution_count": null,
   "metadata": {},
   "outputs": [],
   "source": [
    "logout.is_displayed()"
   ]
  },
  {
   "cell_type": "code",
   "execution_count": null,
   "metadata": {},
   "outputs": [
    {
     "ename": "NameError",
     "evalue": "name 'logout' is not defined",
     "output_type": "error",
     "traceback": [
      "\u001b[0;31m---------------------------------------------------------------------------\u001b[0m",
      "\u001b[0;31mNameError\u001b[0m                                 Traceback (most recent call last)",
      "Cell \u001b[0;32mIn[5], line 1\u001b[0m\n\u001b[0;32m----> 1\u001b[0m logout\u001b[39m.\u001b[39mclick()\t\u001b[39m#ERROR\u001b[39;00m\n",
      "\u001b[0;31mNameError\u001b[0m: name 'logout' is not defined"
     ]
    }
   ],
   "source": [
    "logout.click()\t#ERROR"
   ]
  },
  {
   "cell_type": "code",
   "execution_count": null,
   "metadata": {},
   "outputs": [],
   "source": [
    "from time import sleep # => Sleep => process 멈춰 \n",
    "driver.implicitly_wait # => IW =>  \n",
    "from selenium.webdriver.support.wait import WebDriverWait# => EW \n",
    "from selenium.webdriver.support import expected_conditions as EC"
   ]
  },
  {
   "cell_type": "code",
   "execution_count": null,
   "metadata": {},
   "outputs": [
    {
     "ename": "NameError",
     "evalue": "name 'sleep' is not defined",
     "output_type": "error",
     "traceback": [
      "\u001b[0;31m---------------------------------------------------------------------------\u001b[0m",
      "\u001b[0;31mNameError\u001b[0m                                 Traceback (most recent call last)",
      "Cell \u001b[0;32mIn[32], line 1\u001b[0m\n\u001b[0;32m----> 1\u001b[0m sleep(\u001b[39m10\u001b[39m)\n",
      "\u001b[0;31mNameError\u001b[0m: name 'sleep' is not defined"
     ]
    }
   ],
   "source": [
    "sleep(10)"
   ]
  },
  {
   "cell_type": "code",
   "execution_count": null,
   "metadata": {},
   "outputs": [
    {
     "ename": "NameError",
     "evalue": "name 'driver' is not defined",
     "output_type": "error",
     "traceback": [
      "\u001b[0;31m---------------------------------------------------------------------------\u001b[0m",
      "\u001b[0;31mNameError\u001b[0m                                 Traceback (most recent call last)",
      "Cell \u001b[0;32mIn[33], line 1\u001b[0m\n\u001b[0;32m----> 1\u001b[0m driver\u001b[39m.\u001b[39mimplicitly_wait(\u001b[39m10\u001b[39m) \n",
      "\u001b[0;31mNameError\u001b[0m: name 'driver' is not defined"
     ]
    }
   ],
   "source": [
    "driver.implicitly_wait(10) "
   ]
  },
  {
   "cell_type": "code",
   "execution_count": null,
   "metadata": {},
   "outputs": [
    {
     "ename": "NameError",
     "evalue": "name 'logout' is not defined",
     "output_type": "error",
     "traceback": [
      "\u001b[0;31m---------------------------------------------------------------------------\u001b[0m",
      "\u001b[0;31mNameError\u001b[0m                                 Traceback (most recent call last)",
      "Cell \u001b[0;32mIn[34], line 1\u001b[0m\n\u001b[0;32m----> 1\u001b[0m logout\u001b[39m.\u001b[39mclick()\n",
      "\u001b[0;31mNameError\u001b[0m: name 'logout' is not defined"
     ]
    }
   ],
   "source": [
    "logout.click()"
   ]
  },
  {
   "cell_type": "code",
   "execution_count": null,
   "metadata": {},
   "outputs": [
    {
     "ename": "NameError",
     "evalue": "name 'WebDriverWait' is not defined",
     "output_type": "error",
     "traceback": [
      "\u001b[0;31m---------------------------------------------------------------------------\u001b[0m",
      "\u001b[0;31mNameError\u001b[0m                                 Traceback (most recent call last)",
      "Cell \u001b[0;32mIn[35], line 1\u001b[0m\n\u001b[0;32m----> 1\u001b[0m wait \u001b[39m=\u001b[39m WebDriverWait(driver, \u001b[39m10\u001b[39m, \u001b[39m.5\u001b[39m)\n",
      "\u001b[0;31mNameError\u001b[0m: name 'WebDriverWait' is not defined"
     ]
    }
   ],
   "source": [
    "wait = WebDriverWait(driver, 10, .5)"
   ]
  },
  {
   "cell_type": "code",
   "execution_count": null,
   "metadata": {},
   "outputs": [
    {
     "ename": "NameError",
     "evalue": "name 'wait' is not defined",
     "output_type": "error",
     "traceback": [
      "\u001b[0;31m---------------------------------------------------------------------------\u001b[0m",
      "\u001b[0;31mNameError\u001b[0m                                 Traceback (most recent call last)",
      "Cell \u001b[0;32mIn[36], line 1\u001b[0m\n\u001b[0;32m----> 1\u001b[0m wait\u001b[39m.\u001b[39muntil(EC\u001b[39m.\u001b[39melement_to_be_clickable(logout)) \n",
      "\u001b[0;31mNameError\u001b[0m: name 'wait' is not defined"
     ]
    }
   ],
   "source": [
    "wait.until(EC.element_to_be_clickable(logout)) "
   ]
  },
  {
   "cell_type": "code",
   "execution_count": null,
   "metadata": {},
   "outputs": [],
   "source": [
    "# DOM 1개 여러개(DOM‐DOM, TABs DOMs) "
   ]
  },
  {
   "cell_type": "code",
   "execution_count": null,
   "metadata": {},
   "outputs": [
    {
     "ename": "NameError",
     "evalue": "name 'driver' is not defined",
     "output_type": "error",
     "traceback": [
      "\u001b[0;31m---------------------------------------------------------------------------\u001b[0m",
      "\u001b[0;31mNameError\u001b[0m                                 Traceback (most recent call last)",
      "Cell \u001b[0;32mIn[38], line 2\u001b[0m\n\u001b[1;32m      1\u001b[0m \u001b[39m# driver.switch_to.frame() \u001b[39;00m\n\u001b[0;32m----> 2\u001b[0m driver\u001b[39m.\u001b[39mswitch_to\u001b[39m.\u001b[39mwindow(driver\u001b[39m.\u001b[39mwindow_handles[\u001b[39m2\u001b[39m])\n",
      "\u001b[0;31mNameError\u001b[0m: name 'driver' is not defined"
     ]
    }
   ],
   "source": [
    "# driver.switch_to.frame() \n",
    "driver.switch_to.window(driver.window_handles[2])"
   ]
  },
  {
   "cell_type": "code",
   "execution_count": null,
   "metadata": {},
   "outputs": [
    {
     "ename": "NameError",
     "evalue": "name 'driver' is not defined",
     "output_type": "error",
     "traceback": [
      "\u001b[0;31m---------------------------------------------------------------------------\u001b[0m",
      "\u001b[0;31mNameError\u001b[0m                                 Traceback (most recent call last)",
      "Cell \u001b[0;32mIn[39], line 1\u001b[0m\n\u001b[0;32m----> 1\u001b[0m driver\u001b[39m.\u001b[39mwindow_handles\n",
      "\u001b[0;31mNameError\u001b[0m: name 'driver' is not defined"
     ]
    }
   ],
   "source": [
    "driver.window_handles"
   ]
  },
  {
   "cell_type": "code",
   "execution_count": null,
   "metadata": {},
   "outputs": [
    {
     "ename": "NameError",
     "evalue": "name 'driver' is not defined",
     "output_type": "error",
     "traceback": [
      "\u001b[0;31m---------------------------------------------------------------------------\u001b[0m",
      "\u001b[0;31mNameError\u001b[0m                                 Traceback (most recent call last)",
      "Cell \u001b[0;32mIn[40], line 1\u001b[0m\n\u001b[0;32m----> 1\u001b[0m driver\u001b[39m.\u001b[39mcurrent_window_handle \n",
      "\u001b[0;31mNameError\u001b[0m: name 'driver' is not defined"
     ]
    }
   ],
   "source": [
    "driver.current_window_handle "
   ]
  },
  {
   "cell_type": "code",
   "execution_count": null,
   "metadata": {},
   "outputs": [
    {
     "ename": "NameError",
     "evalue": "name 'driver' is not defined",
     "output_type": "error",
     "traceback": [
      "\u001b[0;31m---------------------------------------------------------------------------\u001b[0m",
      "\u001b[0;31mNameError\u001b[0m                                 Traceback (most recent call last)",
      "Cell \u001b[0;32mIn[41], line 1\u001b[0m\n\u001b[0;32m----> 1\u001b[0m driver\u001b[39m.\u001b[39mcurrent_url \n",
      "\u001b[0;31mNameError\u001b[0m: name 'driver' is not defined"
     ]
    }
   ],
   "source": [
    "driver.current_url "
   ]
  },
  {
   "cell_type": "code",
   "execution_count": null,
   "metadata": {},
   "outputs": [
    {
     "ename": "NameError",
     "evalue": "name 'driver' is not defined",
     "output_type": "error",
     "traceback": [
      "\u001b[0;31m---------------------------------------------------------------------------\u001b[0m",
      "\u001b[0;31mNameError\u001b[0m                                 Traceback (most recent call last)",
      "Cell \u001b[0;32mIn[42], line 1\u001b[0m\n\u001b[0;32m----> 1\u001b[0m iframe \u001b[39m=\u001b[39m driver\u001b[39m.\u001b[39mfind_element(By\u001b[39m.\u001b[39mXPATH, \u001b[39m'\u001b[39m\u001b[39m//iframe\u001b[39m\u001b[39m'\u001b[39m) \n",
      "\u001b[0;31mNameError\u001b[0m: name 'driver' is not defined"
     ]
    }
   ],
   "source": [
    "iframe = driver.find_element(By.XPATH, '//iframe') "
   ]
  },
  {
   "cell_type": "code",
   "execution_count": null,
   "metadata": {},
   "outputs": [
    {
     "ename": "NameError",
     "evalue": "name 'driver' is not defined",
     "output_type": "error",
     "traceback": [
      "\u001b[0;31m---------------------------------------------------------------------------\u001b[0m",
      "\u001b[0;31mNameError\u001b[0m                                 Traceback (most recent call last)",
      "Cell \u001b[0;32mIn[43], line 1\u001b[0m\n\u001b[0;32m----> 1\u001b[0m driver\u001b[39m.\u001b[39mswitch_to\u001b[39m.\u001b[39mframe(iframe)\n",
      "\u001b[0;31mNameError\u001b[0m: name 'driver' is not defined"
     ]
    }
   ],
   "source": [
    "driver.switch_to.frame(iframe)"
   ]
  },
  {
   "cell_type": "code",
   "execution_count": null,
   "metadata": {},
   "outputs": [
    {
     "ename": "NameError",
     "evalue": "name 'driver' is not defined",
     "output_type": "error",
     "traceback": [
      "\u001b[0;31m---------------------------------------------------------------------------\u001b[0m",
      "\u001b[0;31mNameError\u001b[0m                                 Traceback (most recent call last)",
      "Cell \u001b[0;32mIn[44], line 1\u001b[0m\n\u001b[0;32m----> 1\u001b[0m driver\u001b[39m.\u001b[39mswitch_to\u001b[39m.\u001b[39mdefault_content()\n",
      "\u001b[0;31mNameError\u001b[0m: name 'driver' is not defined"
     ]
    }
   ],
   "source": [
    "driver.switch_to.default_content()"
   ]
  },
  {
   "cell_type": "code",
   "execution_count": null,
   "metadata": {},
   "outputs": [
    {
     "ename": "NameError",
     "evalue": "name 'driver' is not defined",
     "output_type": "error",
     "traceback": [
      "\u001b[0;31m---------------------------------------------------------------------------\u001b[0m",
      "\u001b[0;31mNameError\u001b[0m                                 Traceback (most recent call last)",
      "Cell \u001b[0;32mIn[45], line 1\u001b[0m\n\u001b[0;32m----> 1\u001b[0m driver\u001b[39m.\u001b[39mpage_source\n",
      "\u001b[0;31mNameError\u001b[0m: name 'driver' is not defined"
     ]
    }
   ],
   "source": [
    "driver.page_source"
   ]
  },
  {
   "cell_type": "code",
   "execution_count": null,
   "metadata": {},
   "outputs": [],
   "source": []
  },
  {
   "cell_type": "code",
   "execution_count": null,
   "metadata": {},
   "outputs": [],
   "source": []
  }
 ],
 "metadata": {
  "kernelspec": {
   "display_name": "Python 3",
   "language": "python",
   "name": "python3"
  },
  "language_info": {
   "codemirror_mode": {
    "name": "ipython",
    "version": 3
   },
   "file_extension": ".py",
   "mimetype": "text/x-python",
   "name": "python",
   "nbconvert_exporter": "python",
   "pygments_lexer": "ipython3",
   "version": "3.10.6"
  },
  "orig_nbformat": 4
 },
 "nbformat": 4,
 "nbformat_minor": 2
}
