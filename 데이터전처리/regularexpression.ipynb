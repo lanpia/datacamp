{
 "cells": [
  {
   "cell_type": "code",
   "execution_count": null,
   "metadata": {},
   "outputs": [
    {
     "ename": "",
     "evalue": "",
     "output_type": "error",
     "traceback": [
      "\u001b[1;31m'c:\\msys64\\mingw64\\bin\\python.exe'(으)로 셀을 실행하려면 ipykernel 패키지가 필요합니다.\n",
      "\u001b[1;31mRun the following command to install 'ipykernel' into the Python environment. \n",
      "\u001b[1;31mCommand: 'c:/msys64/mingw64/bin/python.exe -m pip install ipykernel -U --user --force-reinstall'"
     ]
    }
   ],
   "source": [
    "# 23.06.30"
   ]
  },
  {
   "cell_type": "code",
   "execution_count": null,
   "metadata": {},
   "outputs": [],
   "source": [
    "RE => 비정형데이터(텍스트) 특정한 패턴 찾고/추출/교체/검사...\n",
    "# Symbol => 패턴\n",
    "# ., *, +, ?, {m}, {n,m}, {n,}\n",
    "#    *:{0,}, +:{1,}\n",
    "# [범위 or 이중에 하나] => TEXT\n",
    "# \\w (영문자+숫자+_),\n",
    "# \\d (숫자)        => 대문자, not\n",
    "# \\s (공백)\n",
    "# \\b (단어경계)\n",
    "# ^(시작), $(끝), [^](not)\n",
    "# escape(\\), => raw text, re.escape\n",
    "# match(pattern), search, findall, ... + re.flag(ig)\n",
    "# ^... ,  중간  , 모든\n",
    "# compile => 패턴(pattern)\n",
    "# patterns = [p1, p2, p3, p4, ...]\n",
    "# in case: patterns[0,4,5] => "
   ]
  },
  {
   "cell_type": "code",
   "execution_count": null,
   "metadata": {},
   "outputs": [
    {
     "ename": "",
     "evalue": "",
     "output_type": "error",
     "traceback": [
      "\u001b[1;31m'c:\\msys64\\mingw64\\bin\\python.exe'(으)로 셀을 실행하려면 ipykernel 패키지가 필요합니다.\n",
      "\u001b[1;31mRun the following command to install 'ipykernel' into the Python environment. \n",
      "\u001b[1;31mCommand: 'c:/msys64/mingw64/bin/python.exe -m pip install ipykernel -U --user --force-reinstall'"
     ]
    }
   ],
   "source": [
    "from string import punctuation"
   ]
  },
  {
   "cell_type": "code",
   "execution_count": null,
   "metadata": {},
   "outputs": [
    {
     "ename": "",
     "evalue": "",
     "output_type": "error",
     "traceback": [
      "\u001b[1;31m'c:\\msys64\\mingw64\\bin\\python.exe'(으)로 셀을 실행하려면 ipykernel 패키지가 필요합니다.\n",
      "\u001b[1;31mRun the following command to install 'ipykernel' into the Python environment. \n",
      "\u001b[1;31mCommand: 'c:/msys64/mingw64/bin/python.exe -m pip install ipykernel -U --user --force-reinstall'"
     ]
    }
   ],
   "source": [
    "import re\n",
    "re.escape(punctuation), punctuation, r'{}'.format(punctuation)"
   ]
  },
  {
   "cell_type": "code",
   "execution_count": null,
   "metadata": {},
   "outputs": [
    {
     "ename": "",
     "evalue": "",
     "output_type": "error",
     "traceback": [
      "\u001b[1;31m'c:\\msys64\\mingw64\\bin\\python.exe'(으)로 셀을 실행하려면 ipykernel 패키지가 필요합니다.\n",
      "\u001b[1;31mRun the following command to install 'ipykernel' into the Python environment. \n",
      "\u001b[1;31mCommand: 'c:/msys64/mingw64/bin/python.exe -m pip install ipykernel -U --user --force-reinstall'"
     ]
    }
   ],
   "source": [
    "# TCP/IP 4계층\n",
    "#                프로그램(Browser*)\n",
    "#                    requests*\n",
    "#                     urllib =>\n",
    "# Application => FTP, TELNET, [HTTP* -> Header], ...\n",
    "# TCP / UDP   => [TCP:신뢰성* SYN/ACK -> Header/Body], UDP:비신뢰성\n",
    "# IP          => 패킷화  => Mask(255.255.255.0)IPv4 => 1111111111\n",
    "# Network     => MAC   => \n",
    "\n",
    "# Router(Gateway), Switch, Hub => 공유기\n",
    "# (WAN-LAN)        (LAN)   (Broadcating)"
   ]
  },
  {
   "cell_type": "code",
   "execution_count": null,
   "metadata": {},
   "outputs": [
    {
     "ename": "",
     "evalue": "",
     "output_type": "error",
     "traceback": [
      "\u001b[1;31m'c:\\msys64\\mingw64\\bin\\python.exe'(으)로 셀을 실행하려면 ipykernel 패키지가 필요합니다.\n",
      "\u001b[1;31mRun the following command to install 'ipykernel' into the Python environment. \n",
      "\u001b[1;31mCommand: 'c:/msys64/mingw64/bin/python.exe -m pip install ipykernel -U --user --force-reinstall'"
     ]
    }
   ],
   "source": [
    "# 나                                    네이버\n",
    "#  naver.com--->     DNS    ----- IP\n",
    "#          DNS  DNS    DNS   DNS\n",
    "#         DNS\n",
    "#     DNS<-- KT      ---> Ping ms\n",
    "# www.naver.com/index.html-----------> 신원확인,메시지확인,...\n",
    "#                   <-------------- HTML\n",
    "# 나 잘받았어 -------------> (Header)\n",
    "#        <--------------  (Header)\n",
    "#         on TCP/IP"
   ]
  },
  {
   "cell_type": "code",
   "execution_count": null,
   "metadata": {},
   "outputs": [
    {
     "ename": "",
     "evalue": "",
     "output_type": "error",
     "traceback": [
      "\u001b[1;31m'c:\\msys64\\mingw64\\bin\\python.exe'(으)로 셀을 실행하려면 ipykernel 패키지가 필요합니다.\n",
      "\u001b[1;31mRun the following command to install 'ipykernel' into the Python environment. \n",
      "\u001b[1;31mCommand: 'c:/msys64/mingw64/bin/python.exe -m pip install ipykernel -U --user --force-reinstall'"
     ]
    }
   ],
   "source": [
    "# /robots.txt\n",
    "# disallow: /\n",
    "#     => 모든\n",
    "# allow: /$\n",
    "# https://www.naver.com/robots\n",
    "# https://news.naver.com/robots.txt"
   ]
  },
  {
   "cell_type": "code",
   "execution_count": null,
   "metadata": {},
   "outputs": [
    {
     "ename": "",
     "evalue": "",
     "output_type": "error",
     "traceback": [
      "\u001b[1;31m'c:\\msys64\\mingw64\\bin\\python.exe'(으)로 셀을 실행하려면 ipykernel 패키지가 필요합니다.\n",
      "\u001b[1;31mRun the following command to install 'ipykernel' into the Python environment. \n",
      "\u001b[1;31mCommand: 'c:/msys64/mingw64/bin/python.exe -m pip install ipykernel -U --user --force-reinstall'"
     ]
    }
   ],
   "source": [
    "from urllib.robotparser import RobotFileParser"
   ]
  },
  {
   "cell_type": "code",
   "execution_count": null,
   "metadata": {},
   "outputs": [
    {
     "ename": "",
     "evalue": "",
     "output_type": "error",
     "traceback": [
      "\u001b[1;31m'c:\\msys64\\mingw64\\bin\\python.exe'(으)로 셀을 실행하려면 ipykernel 패키지가 필요합니다.\n",
      "\u001b[1;31mRun the following command to install 'ipykernel' into the Python environment. \n",
      "\u001b[1;31mCommand: 'c:/msys64/mingw64/bin/python.exe -m pip install ipykernel -U --user --force-reinstall'"
     ]
    }
   ],
   "source": [
    "robot = RobotFileParser('https://www.google.com/robots.txt')"
   ]
  },
  {
   "cell_type": "code",
   "execution_count": null,
   "metadata": {},
   "outputs": [
    {
     "ename": "",
     "evalue": "",
     "output_type": "error",
     "traceback": [
      "\u001b[1;31m'c:\\msys64\\mingw64\\bin\\python.exe'(으)로 셀을 실행하려면 ipykernel 패키지가 필요합니다.\n",
      "\u001b[1;31mRun the following command to install 'ipykernel' into the Python environment. \n",
      "\u001b[1;31mCommand: 'c:/msys64/mingw64/bin/python.exe -m pip install ipykernel -U --user --force-reinstall'"
     ]
    }
   ],
   "source": [
    "robot.read()"
   ]
  },
  {
   "cell_type": "code",
   "execution_count": null,
   "metadata": {},
   "outputs": [
    {
     "ename": "",
     "evalue": "",
     "output_type": "error",
     "traceback": [
      "\u001b[1;31m'c:\\msys64\\mingw64\\bin\\python.exe'(으)로 셀을 실행하려면 ipykernel 패키지가 필요합니다.\n",
      "\u001b[1;31mRun the following command to install 'ipykernel' into the Python environment. \n",
      "\u001b[1;31mCommand: 'c:/msys64/mingw64/bin/python.exe -m pip install ipykernel -U --user --force-reinstall'"
     ]
    }
   ],
   "source": [
    "robot.can_fetch('agent', '/')"
   ]
  },
  {
   "cell_type": "code",
   "execution_count": null,
   "metadata": {},
   "outputs": [
    {
     "ename": "",
     "evalue": "",
     "output_type": "error",
     "traceback": [
      "\u001b[1;31m'c:\\msys64\\mingw64\\bin\\python.exe'(으)로 셀을 실행하려면 ipykernel 패키지가 필요합니다.\n",
      "\u001b[1;31mRun the following command to install 'ipykernel' into the Python environment. \n",
      "\u001b[1;31mCommand: 'c:/msys64/mingw64/bin/python.exe -m pip install ipykernel -U --user --force-reinstall'"
     ]
    }
   ],
   "source": [
    "robot.set_url('https://news.naver.com/robots.txt')\n",
    "robot.read()"
   ]
  },
  {
   "cell_type": "code",
   "execution_count": null,
   "metadata": {},
   "outputs": [
    {
     "ename": "",
     "evalue": "",
     "output_type": "error",
     "traceback": [
      "\u001b[1;31m'c:\\msys64\\mingw64\\bin\\python.exe'(으)로 셀을 실행하려면 ipykernel 패키지가 필요합니다.\n",
      "\u001b[1;31mRun the following command to install 'ipykernel' into the Python environment. \n",
      "\u001b[1;31mCommand: 'c:/msys64/mingw64/bin/python.exe -m pip install ipykernel -U --user --force-reinstall'"
     ]
    }
   ],
   "source": [
    "robot.can_fetch('Yeti', '/main/imagemontage')"
   ]
  },
  {
   "cell_type": "code",
   "execution_count": null,
   "metadata": {},
   "outputs": [
    {
     "ename": "",
     "evalue": "",
     "output_type": "error",
     "traceback": [
      "\u001b[1;31m'c:\\msys64\\mingw64\\bin\\python.exe'(으)로 셀을 실행하려면 ipykernel 패키지가 필요합니다.\n",
      "\u001b[1;31mRun the following command to install 'ipykernel' into the Python environment. \n",
      "\u001b[1;31mCommand: 'c:/msys64/mingw64/bin/python.exe -m pip install ipykernel -U --user --force-reinstall'"
     ]
    }
   ],
   "source": [
    "url = 'https://www.google.com'\n",
    "rb = RobotFileParser(f'{url}/robots.txt')\n",
    "rb.read()"
   ]
  },
  {
   "cell_type": "code",
   "execution_count": null,
   "metadata": {},
   "outputs": [
    {
     "ename": "",
     "evalue": "",
     "output_type": "error",
     "traceback": [
      "\u001b[1;31m'c:\\msys64\\mingw64\\bin\\python.exe'(으)로 셀을 실행하려면 ipykernel 패키지가 필요합니다.\n",
      "\u001b[1;31mRun the following command to install 'ipykernel' into the Python environment. \n",
      "\u001b[1;31mCommand: 'c:/msys64/mingw64/bin/python.exe -m pip install ipykernel -U --user --force-reinstall'"
     ]
    }
   ],
   "source": [
    "# 원래는, 잘 안돌아감 => 직접만듬, 이거 지키면 수집할수 없음, 개인이 연구목적 혼자씀\n",
    "if rb.can_fetch('*', '/'):\n",
    "    print('수집')\n",
    "else:\n",
    "    print('X')"
   ]
  },
  {
   "cell_type": "code",
   "execution_count": null,
   "metadata": {},
   "outputs": [
    {
     "ename": "",
     "evalue": "",
     "output_type": "error",
     "traceback": [
      "\u001b[1;31m'c:\\msys64\\mingw64\\bin\\python.exe'(으)로 셀을 실행하려면 ipykernel 패키지가 필요합니다.\n",
      "\u001b[1;31mRun the following command to install 'ipykernel' into the Python environment. \n",
      "\u001b[1;31mCommand: 'c:/msys64/mingw64/bin/python.exe -m pip install ipykernel -U --user --force-reinstall'"
     ]
    }
   ],
   "source": [
    "from urllib.request import urlopen"
   ]
  },
  {
   "cell_type": "code",
   "execution_count": null,
   "metadata": {},
   "outputs": [
    {
     "ename": "",
     "evalue": "",
     "output_type": "error",
     "traceback": [
      "\u001b[1;31m'c:\\msys64\\mingw64\\bin\\python.exe'(으)로 셀을 실행하려면 ipykernel 패키지가 필요합니다.\n",
      "\u001b[1;31mRun the following command to install 'ipykernel' into the Python environment. \n",
      "\u001b[1;31mCommand: 'c:/msys64/mingw64/bin/python.exe -m pip install ipykernel -U --user --force-reinstall'"
     ]
    }
   ],
   "source": [
    "resp = urlopen(url)"
   ]
  },
  {
   "cell_type": "code",
   "execution_count": null,
   "metadata": {},
   "outputs": [
    {
     "ename": "",
     "evalue": "",
     "output_type": "error",
     "traceback": [
      "\u001b[1;31m'c:\\msys64\\mingw64\\bin\\python.exe'(으)로 셀을 실행하려면 ipykernel 패키지가 필요합니다.\n",
      "\u001b[1;31mRun the following command to install 'ipykernel' into the Python environment. \n",
      "\u001b[1;31mCommand: 'c:/msys64/mingw64/bin/python.exe -m pip install ipykernel -U --user --force-reinstall'"
     ]
    }
   ],
   "source": [
    "type(resp)"
   ]
  },
  {
   "cell_type": "code",
   "execution_count": null,
   "metadata": {},
   "outputs": [
    {
     "ename": "",
     "evalue": "",
     "output_type": "error",
     "traceback": [
      "\u001b[1;31m'c:\\msys64\\mingw64\\bin\\python.exe'(으)로 셀을 실행하려면 ipykernel 패키지가 필요합니다.\n",
      "\u001b[1;31mRun the following command to install 'ipykernel' into the Python environment. \n",
      "\u001b[1;31mCommand: 'c:/msys64/mingw64/bin/python.exe -m pip install ipykernel -U --user --force-reinstall'"
     ]
    }
   ],
   "source": [
    "resp.code, resp.reason, resp.getheaders()"
   ]
  },
  {
   "cell_type": "code",
   "execution_count": null,
   "metadata": {},
   "outputs": [
    {
     "ename": "",
     "evalue": "",
     "output_type": "error",
     "traceback": [
      "\u001b[1;31m'c:\\msys64\\mingw64\\bin\\python.exe'(으)로 셀을 실행하려면 ipykernel 패키지가 필요합니다.\n",
      "\u001b[1;31mRun the following command to install 'ipykernel' into the Python environment. \n",
      "\u001b[1;31mCommand: 'c:/msys64/mingw64/bin/python.exe -m pip install ipykernel -U --user --force-reinstall'"
     ]
    }
   ],
   "source": [
    "rawcontent = resp.read()"
   ]
  },
  {
   "cell_type": "code",
   "execution_count": null,
   "metadata": {},
   "outputs": [
    {
     "ename": "",
     "evalue": "",
     "output_type": "error",
     "traceback": [
      "\u001b[1;31m'c:\\msys64\\mingw64\\bin\\python.exe'(으)로 셀을 실행하려면 ipykernel 패키지가 필요합니다.\n",
      "\u001b[1;31mRun the following command to install 'ipykernel' into the Python environment. \n",
      "\u001b[1;31mCommand: 'c:/msys64/mingw64/bin/python.exe -m pip install ipykernel -U --user --force-reinstall'"
     ]
    }
   ],
   "source": [
    "type(rawcontent), type(rawcontent.decode('ISO-8859-1'))"
   ]
  },
  {
   "cell_type": "code",
   "execution_count": null,
   "metadata": {},
   "outputs": [
    {
     "ename": "",
     "evalue": "",
     "output_type": "error",
     "traceback": [
      "\u001b[1;31m'c:\\msys64\\mingw64\\bin\\python.exe'(으)로 셀을 실행하려면 ipykernel 패키지가 필요합니다.\n",
      "\u001b[1;31mRun the following command to install 'ipykernel' into the Python environment. \n",
      "\u001b[1;31mCommand: 'c:/msys64/mingw64/bin/python.exe -m pip install ipykernel -U --user --force-reinstall'"
     ]
    }
   ],
   "source": [
    "rawcontent.decode('ISO-8859-1')"
   ]
  },
  {
   "cell_type": "code",
   "execution_count": null,
   "metadata": {},
   "outputs": [
    {
     "ename": "",
     "evalue": "",
     "output_type": "error",
     "traceback": [
      "\u001b[1;31m'c:\\msys64\\mingw64\\bin\\python.exe'(으)로 셀을 실행하려면 ipykernel 패키지가 필요합니다.\n",
      "\u001b[1;31mRun the following command to install 'ipykernel' into the Python environment. \n",
      "\u001b[1;31mCommand: 'c:/msys64/mingw64/bin/python.exe -m pip install ipykernel -U --user --force-reinstall'"
     ]
    }
   ],
   "source": [
    "from html import unescape"
   ]
  },
  {
   "cell_type": "code",
   "execution_count": null,
   "metadata": {},
   "outputs": [
    {
     "ename": "",
     "evalue": "",
     "output_type": "error",
     "traceback": [
      "\u001b[1;31m'c:\\msys64\\mingw64\\bin\\python.exe'(으)로 셀을 실행하려면 ipykernel 패키지가 필요합니다.\n",
      "\u001b[1;31mRun the following command to install 'ipykernel' into the Python environment. \n",
      "\u001b[1;31mCommand: 'c:/msys64/mingw64/bin/python.exe -m pip install ipykernel -U --user --force-reinstall'"
     ]
    }
   ],
   "source": [
    "unescape('&#46300;&#46972;&#51060;&#48652;')"
   ]
  },
  {
   "cell_type": "code",
   "execution_count": null,
   "metadata": {},
   "outputs": [
    {
     "ename": "",
     "evalue": "",
     "output_type": "error",
     "traceback": [
      "\u001b[1;31m'c:\\msys64\\mingw64\\bin\\python.exe'(으)로 셀을 실행하려면 ipykernel 패키지가 필요합니다.\n",
      "\u001b[1;31mRun the following command to install 'ipykernel' into the Python environment. \n",
      "\u001b[1;31mCommand: 'c:/msys64/mingw64/bin/python.exe -m pip install ipykernel -U --user --force-reinstall'"
     ]
    }
   ],
   "source": [
    "rawcontent.decode('utf8')"
   ]
  },
  {
   "cell_type": "code",
   "execution_count": null,
   "metadata": {},
   "outputs": [
    {
     "ename": "",
     "evalue": "",
     "output_type": "error",
     "traceback": [
      "\u001b[1;31m'c:\\msys64\\mingw64\\bin\\python.exe'(으)로 셀을 실행하려면 ipykernel 패키지가 필요합니다.\n",
      "\u001b[1;31mRun the following command to install 'ipykernel' into the Python environment. \n",
      "\u001b[1;31mCommand: 'c:/msys64/mingw64/bin/python.exe -m pip install ipykernel -U --user --force-reinstall'"
     ]
    }
   ],
   "source": [
    "# Content-type: text/html => TEXT\n",
    "# Encoding:               => decoding\n",
    "# HexaDecimal, &Ampersand => HTML Entities\n",
    "# Markup => 태그(<>) 1 < 4, < => &lt;"
   ]
  },
  {
   "cell_type": "code",
   "execution_count": null,
   "metadata": {},
   "outputs": [
    {
     "ename": "",
     "evalue": "",
     "output_type": "error",
     "traceback": [
      "\u001b[1;31m'c:\\msys64\\mingw64\\bin\\python.exe'(으)로 셀을 실행하려면 ipykernel 패키지가 필요합니다.\n",
      "\u001b[1;31mRun the following command to install 'ipykernel' into the Python environment. \n",
      "\u001b[1;31mCommand: 'c:/msys64/mingw64/bin/python.exe -m pip install ipykernel -U --user --force-reinstall'"
     ]
    }
   ],
   "source": [
    "from html import escape\n",
    "unescape('&lt;'), escape('<')"
   ]
  },
  {
   "cell_type": "code",
   "execution_count": null,
   "metadata": {},
   "outputs": [
    {
     "ename": "",
     "evalue": "",
     "output_type": "error",
     "traceback": [
      "\u001b[1;31m'c:\\msys64\\mingw64\\bin\\python.exe'(으)로 셀을 실행하려면 ipykernel 패키지가 필요합니다.\n",
      "\u001b[1;31mRun the following command to install 'ipykernel' into the Python environment. \n",
      "\u001b[1;31mCommand: 'c:/msys64/mingw64/bin/python.exe -m pip install ipykernel -U --user --force-reinstall'"
     ]
    }
   ],
   "source": [
    "# 나(Client) ---------> Google(Server)\n",
    "#      RobotParser 확인\n",
    "#      Request(urllib.request.url_open(URL)) -> BytesStream\n",
    "#      Response <- BytesStream\n",
    "#      Response.header 확인\n",
    "#      Response.body -> Read, Decoding(Bytes->str, 문자열)"
   ]
  },
  {
   "cell_type": "code",
   "execution_count": null,
   "metadata": {},
   "outputs": [
    {
     "ename": "",
     "evalue": "",
     "output_type": "error",
     "traceback": [
      "\u001b[1;31m'c:\\msys64\\mingw64\\bin\\python.exe'(으)로 셀을 실행하려면 ipykernel 패키지가 필요합니다.\n",
      "\u001b[1;31mRun the following command to install 'ipykernel' into the Python environment. \n",
      "\u001b[1;31mCommand: 'c:/msys64/mingw64/bin/python.exe -m pip install ipykernel -U --user --force-reinstall'"
     ]
    }
   ],
   "source": [
    "# print(rb.can_fetch('*', '/search'))\n",
    "url = 'https://www.google.com/search?q=%EB%89%B4%EC%A7%84%EC%8A%A4&oq=%EB%89%B4%EC%A7%84%EC%8A%A4&aqs=chrome.0.0i131i355i433i512j46i131i433i512j0i131i433i512j46i131i433i512j0i433i512j69i61l3.1174j0j4&sourceid=chrome&ie=UTF-8'\n",
    "resp = urlopen(url)\n",
    "# 403 Forbidden 권한없음"
   ]
  },
  {
   "cell_type": "code",
   "execution_count": null,
   "metadata": {},
   "outputs": [
    {
     "ename": "",
     "evalue": "",
     "output_type": "error",
     "traceback": [
      "\u001b[1;31m'c:\\msys64\\mingw64\\bin\\python.exe'(으)로 셀을 실행하려면 ipykernel 패키지가 필요합니다.\n",
      "\u001b[1;31mRun the following command to install 'ipykernel' into the Python environment. \n",
      "\u001b[1;31mCommand: 'c:/msys64/mingw64/bin/python.exe -m pip install ipykernel -U --user --force-reinstall'"
     ]
    }
   ],
   "source": [
    "# robots.txt 확인\n",
    "rb.set_url('https://search.naver.com/robots.txt')\n",
    "rb.read()\n",
    "print(rb.can_fetch('*', '/search'))\n",
    "# request 보내는 절차\n",
    "url = 'https://search.naver.com/search.naver?where=nexearch&sm=top_hty&fbm=0&ie=utf8&query=%EB%89%B4%EC%A7%84%EC%8A%A4'\n",
    "resp = urlopen(url)\n",
    "# response 받음"
   ]
  },
  {
   "cell_type": "code",
   "execution_count": null,
   "metadata": {},
   "outputs": [],
   "source": [
    "resp.geturl(), resp.code, resp.reason, resp.getheaders()"
   ]
  },
  {
   "cell_type": "code",
   "execution_count": null,
   "metadata": {},
   "outputs": [],
   "source": [
    "resp.read().decode('utf8')"
   ]
  },
  {
   "cell_type": "code",
   "execution_count": null,
   "metadata": {},
   "outputs": [],
   "source": [
    "from urllib.error import HTTPError\n",
    "\n",
    "url = 'https://www.google.com/search?q=%EB%89%B4%EC%A7%84%EC%8A%A4&oq=%EB%89%B4%EC%A7%84%EC%8A%A4&aqs=chrome.0.0i131i355i433i512j46i131i433i512j0i131i433i512j46i131i433i512j0i433i512j69i61l3.1174j0j4&sourceid=chrome&ie=UTF-8'\n",
    "try:\n",
    "    resp = urlopen(url)\n",
    "except HTTPError as e:\n",
    "    # e, resp\n",
    "    print(e.code, e.reason, e.headers)"
   ]
  },
  {
   "cell_type": "code",
   "execution_count": null,
   "metadata": {},
   "outputs": [],
   "source": [
    "Google, Naver => Robots.txt 아무도 가져가지 마\n",
    "-> O(403) -> X"
   ]
  },
  {
   "cell_type": "code",
   "execution_count": null,
   "metadata": {},
   "outputs": [],
   "source": [
    "rb.set_url('https://search.daum.net/robots.txt')\n",
    "rb.read()\n",
    "print(rb.can_fetch('*', '/search'))\n",
    "url = 'https://search.daum.net/search?w=tot&DA=UME&t__nil_searchbox=suggest&sug=&sugo=15&sq=%EB%89%B4%EC%A7%84%EC%8A%A4&o=1&q=%EB%89%B4%EC%A7%84%EC%8A%A4'\n",
    "resp = urlopen(url)"
   ]
  },
  {
   "cell_type": "code",
   "execution_count": null,
   "metadata": {},
   "outputs": [],
   "source": [
    "resp.code, resp.reason, resp.getheaders()"
   ]
  },
  {
   "cell_type": "code",
   "execution_count": null,
   "metadata": {},
   "outputs": [],
   "source": [
    "resp.read().decode('utf8')"
   ]
  },
  {
   "cell_type": "code",
   "execution_count": null,
   "metadata": {},
   "outputs": [],
   "source": [
    "# 23.07.03"
   ]
  },
  {
   "cell_type": "code",
   "execution_count": null,
   "metadata": {},
   "outputs": [],
   "source": [
    "# Python          robots.txt 최소 얘는 확인\n",
    "# ======    [수집] 1.트래픽(delay),2.이용약관,3.개인정보X,4.DB(저작물)\n",
    "#                 => 개인,연구용,나혼자,배포,폐기, OpenAPI(data.go.kr), 기관요청(정보공개청구-민원)\n",
    "# urllib => Req/Resp\n",
    "# ======    urlopen(url:str => request obj)\n",
    "#           headers => code, reason, headers...\n",
    "#                      200,400(내 잘못),500(쟤 잘못)\n",
    "#           Google, Naver, Daum => robots.txt * 거부\n",
    "#           정책,서비스  정책, 정책,서비스\n",
    "#  HTTP\n",
    "# TCP/IP =>    쌍"
   ]
  },
  {
   "cell_type": "code",
   "execution_count": null,
   "metadata": {},
   "outputs": [],
   "source": [
    "# 뉴진스\n",
    "from urllib.request import urlopen, Request\n",
    "from urllib.error import HTTPError\n",
    "\n",
    "url = 'https://www.google.com/search?q=%EB%89%B4%EC%A7%84%EC%8A%A4&oq=%EB%89%B4%EC%A7%84%EC%8A%A4&aqs=chrome.0.0i131i355i433i512j46i131i433i512l2j0i433i512j46i131i433i512j69i60l2j69i61.782j0j9&sourceid=chrome&ie=UTF-8'\n",
    "try:\n",
    "    resp = urlopen(url)\n",
    "#    HTTP.response.code, reason, headers...\n",
    "except HTTPError as e:\n",
    "    print(e)"
   ]
  },
  {
   "cell_type": "code",
   "execution_count": null,
   "metadata": {},
   "outputs": [],
   "source": [
    "from urllib.request import Request\n",
    "\n",
    "ua = 'Mozilla/5.0 (Macintosh; Intel Mac OS X 10_15_7) AppleWebKit/537.36 (KHTML, like Gecko) Chrome/114.0.0.0 Safari/537.36'\n",
    "req = Request(url,\n",
    "            headers={'user-agent':ua},\n",
    "            method='GET')"
   ]
  },
  {
   "cell_type": "code",
   "execution_count": null,
   "metadata": {},
   "outputs": [],
   "source": [
    "req.full_url, req.method, req.headers"
   ]
  },
  {
   "cell_type": "code",
   "execution_count": null,
   "metadata": {},
   "outputs": [],
   "source": [
    "resp = urlopen(req)"
   ]
  },
  {
   "cell_type": "code",
   "execution_count": null,
   "metadata": {},
   "outputs": [],
   "source": [
    "resp.code, resp.reason, resp.getheaders()"
   ]
  },
  {
   "cell_type": "code",
   "execution_count": null,
   "metadata": {},
   "outputs": [],
   "source": [
    "body = resp.read()"
   ]
  },
  {
   "cell_type": "code",
   "execution_count": null,
   "metadata": {},
   "outputs": [],
   "source": [
    "type(body), body.decode('utf8')"
   ]
  },
  {
   "cell_type": "code",
   "execution_count": null,
   "metadata": {},
   "outputs": [],
   "source": [
    "# urlopen(str or Request obj)\n",
    "#         => URL => user-agent(기본적으로 잘작성-Browser)\n",
    "#            403    200(*)\n",
    "# desktop - user-agent, mobile - user-agent"
   ]
  },
  {
   "cell_type": "code",
   "execution_count": null,
   "metadata": {},
   "outputs": [],
   "source": [
    "url = 'https://search.daum.net/search?w=tot&DA=YZR&t__nil_searchbox=btn&sug=&sugo=&sq=&o=&q=%EB%89%B4%EC%A7%84%EC%8A%A4'\n",
    "req = Request(url, headers={'user-agent':ua},\n",
    "            method='GET')"
   ]
  },
  {
   "cell_type": "code",
   "execution_count": null,
   "metadata": {},
   "outputs": [],
   "source": [
    "resp = urlopen(req)\n",
    "content = resp.read()"
   ]
  },
  {
   "cell_type": "code",
   "execution_count": null,
   "metadata": {},
   "outputs": [],
   "source": [
    "resp.code, resp.getheaders()"
   ]
  },
  {
   "cell_type": "code",
   "execution_count": null,
   "metadata": {},
   "outputs": [],
   "source": [
    "content.decode('utf8')"
   ]
  },
  {
   "cell_type": "code",
   "execution_count": null,
   "metadata": {},
   "outputs": [],
   "source": [
    "from html import unescape\n",
    "# url = 'h/ttps://www.google.com/'\n",
    "url = 'https://www.google.com/search?q=%EB%89%B4%EC%A7%84%EC%8A%A4&oq=%EB%89%B4%EC%A7%84%EC%8A%A4&aqs=chrome.0.0i131i355i433i512j46i131i433i512l2j0i433i512j46i131i433i512j69i60l2j69i61.782j0j9&sourceid=chrome&ie=UTF-8'\n",
    "resp = urlopen(url)\n",
    "# resp.read().decode('iso-8859-1')\n",
    "'&#44404;&#47548;', unescape('&#44404;&#47548;')"
   ]
  },
  {
   "cell_type": "code",
   "execution_count": null,
   "metadata": {},
   "outputs": [],
   "source": [
    "# '&#__문자lt,gt,..., + CODE__;' => HTML Entity"
   ]
  },
  {
   "cell_type": "code",
   "execution_count": null,
   "metadata": {},
   "outputs": [],
   "source": [
    "'굴', ord('굴'), hex(ord('굴'))"
   ]
  },
  {
   "cell_type": "code",
   "execution_count": null,
   "metadata": {},
   "outputs": [],
   "source": [
    "ord('뉴'), hex(ord('뉴')), '&#45684;', unescape('&#45684;')\n",
    "# 1. => Unicode(UTF-8)"
   ]
  },
  {
   "cell_type": "code",
   "execution_count": null,
   "metadata": {},
   "outputs": [],
   "source": [
    "'%EB%89%B4%EC%A7%84%EC%8A%A4'\n",
    "=> % encoding\n",
    "=> Bytes(ASCII O, Non-ASCII ? Hexa => %)"
   ]
  },
  {
   "cell_type": "code",
   "execution_count": null,
   "metadata": {},
   "outputs": [],
   "source": [
    "from urllib.parse import urlunparse, unquote, quote"
   ]
  },
  {
   "cell_type": "code",
   "execution_count": null,
   "metadata": {},
   "outputs": [],
   "source": [
    "unquote('%EB%89%B4 %EC%A7%84 %EC%8A%A4')\n",
    "# Percent Encoding"
   ]
  },
  {
   "cell_type": "code",
   "execution_count": null,
   "metadata": {},
   "outputs": [],
   "source": [
    "quote('뉴진스')"
   ]
  },
  {
   "cell_type": "code",
   "execution_count": null,
   "metadata": {},
   "outputs": [],
   "source": [
    "ord('뉴'), hex(ord('뉴')), '뉴'.encode('utf8')\n",
    "# ASCII(10), 16진수,        utf-8형태로 인코딩\n",
    "#                   TCP/IP:_________ + percent\n",
    "# HTML entity"
   ]
  },
  {
   "cell_type": "code",
   "execution_count": null,
   "metadata": {},
   "outputs": [],
   "source": [
    "# 파라미터의 시작은 ?\n",
    "# 파라미터의 구분은 &\n",
    "# 파라미터의 키밸류 =\n",
    "# GET(파라미터가 주소에 포함) => Request/Body X\n",
    "# POST/PUT(파라미터가 Body) => Request/Body O\n",
    "# ===> 모든 종류의 파라미터는 반드시 Bytes(encode/decode)\n",
    "# Trigem, 완성형, 확장완성형, 유니코드(utf-8) => Header\n",
    "#                         ***********\n",
    "# HTML entities(Hexadecimal => 10진수) => unescape"
   ]
  },
  {
   "cell_type": "code",
   "execution_count": null,
   "metadata": {},
   "outputs": [],
   "source": [
    "from urllib.parse import urlparse, urlunparse"
   ]
  },
  {
   "cell_type": "code",
   "execution_count": null,
   "metadata": {},
   "outputs": [],
   "source": [
    "# urlparse(url)\n",
    "# scheme,    netloc,   path,  params, query, fragment\n",
    "# => HTTP(s) => Domain => 주소         => qs  => "
   ]
  },
  {
   "cell_type": "code",
   "execution_count": null,
   "metadata": {},
   "outputs": [],
   "source": [
    "from urllib.parse import parse_qs, parse_qsl\n",
    "\n",
    "parse_qs(urlparse(url).query), \\\n",
    "parse_qsl(urlparse(url).query)\n",
    "=> QueryString을 Python 데이터의 형태로 파싱(변환)\n",
    "=> parse_qs(dict로 리턴), qsl(list)"
   ]
  },
  {
   "cell_type": "code",
   "execution_count": null,
   "metadata": {},
   "outputs": [],
   "source": [
    "params = parse_qs(urlparse(url).query)\n",
    "params['q'] = '검색어'\n",
    "params"
   ]
  },
  {
   "cell_type": "code",
   "execution_count": null,
   "metadata": {},
   "outputs": [],
   "source": [
    "from urllib.parse import urlencode"
   ]
  },
  {
   "cell_type": "code",
   "execution_count": null,
   "metadata": {},
   "outputs": [],
   "source": [
    "urlencode(params)"
   ]
  },
  {
   "cell_type": "code",
   "execution_count": null,
   "metadata": {},
   "outputs": [],
   "source": [
    "urlparse(url)"
   ]
  },
  {
   "cell_type": "code",
   "execution_count": null,
   "metadata": {},
   "outputs": [],
   "source": [
    "nurl = urlunparse(urlparse(url)[:4]+(urlencode(params),''))\n",
    "req = Request(nurl, headers={'user-agent':ua},\n",
    "            method='GET')\n",
    "resp = urlopen(req)"
   ]
  },
  {
   "cell_type": "code",
   "execution_count": null,
   "metadata": {},
   "outputs": [],
   "source": [
    "resp.read().decode('utf8')"
   ]
  },
  {
   "cell_type": "code",
   "execution_count": null,
   "metadata": {},
   "outputs": [],
   "source": [
    "# Request / Response\n",
    "# 1. URL 어떻게 전달?\n",
    "# 2. 정책(robots.txt) 때문에, header(user-agent)\n",
    "# 3. Parameters 어떻게 전달? GET(주소에 전달) 항상 Bytes\n",
    "#    A. ASCII\n",
    "#    B. Non-ASCII -> hexadecimal(16) -> Percent Encoding(%16진수;2자리)\n",
    "#                                       %__%__%__%__,...\n",
    "# 4. Params 규칙. ?(뒤가 파라미터), &(파라미터 구분), =(키,밸류)\n",
    "# 5. urlparse(URL:str) -> 6컴포넌트(scheme,netloc,path,param,qs,frag)\n",
    "# 6. urlunparse(6components) -> URL:str\n",
    "# 7. QS:str -> parse_qs(dict),qsl(list)\n",
    "#    Non-ASCII => ?(한글 인 경우)\n",
    "# A. HTML(Document) 상에서, Non-ASCII(HTML Entity) -> &#_____;(10진수)"
   ]
  },
  {
   "cell_type": "code",
   "execution_count": null,
   "metadata": {},
   "outputs": [],
   "source": [
    "# 'A' => 65, 'a' => 97, '가' => 0xAE\n",
    "# 0000 (4bits)\n",
    "# 0000 - 1111\n",
    "#        2^4(2^3, 2^2, 2^1, 2^0) = 16"
   ]
  },
  {
   "cell_type": "code",
   "execution_count": null,
   "metadata": {},
   "outputs": [],
   "source": [
    "params = {\n",
    "    'q':'뉴진스'\n",
    "}\n",
    "\n",
    "params['q'] = '아무거나'\n",
    "url = urlunparse(('https', 'www.google.com', '/search', '',\n",
    "                urlencode(params), ''))\n",
    "req = Request(url, headers={'user-agent':ua}, method='GET')\n",
    "\n",
    "try:\n",
    "    resp = urlopen(req)\n",
    "except HTTPError as e:\n",
    "    print(e)"
   ]
  },
  {
   "cell_type": "code",
   "execution_count": null,
   "metadata": {},
   "outputs": [],
   "source": [
    "import re\n",
    "re.search(r'<title>(.+)</title>', resp.read().decode('utf8')).group(1)"
   ]
  },
  {
   "cell_type": "code",
   "execution_count": null,
   "metadata": {},
   "outputs": [],
   "source": [
    "'아무거나 - Google 검색'\n",
    "# 네이버 (파라미터) 실습\n",
    "params = {\n",
    "    'where':'nexearch',\n",
    "    'query':'뉴진스'\n",
    "}\n",
    "\n",
    "c = urlparse('https://search.naver.com/search.naver?where=nexearch&sm=top_hty&fbm=0&ie=utf8&query=%EB%89%B4%EC%A7%84%EC%8A%A4')\n",
    "url = urlunparse(('https', 'search.naver.com', '/search.naver', '',\n",
    "                urlencode(params), ''))\n",
    "\n",
    "# params = parse_qs(c.query)\n",
    "#          => {key:[value]}\n",
    "# params['query'] = '뉴진스'\n",
    "#                  (c.scheme, c.netloc, c.path, c.params,\n",
    "#                   urlencode(params), c.fragment)\n",
    "\n",
    "req = Request(url, headers={'user-agent':ua}, method='GET')\n",
    "\n",
    "try:\n",
    "    resp = urlopen(req)\n",
    "except HTTPError as e:\n",
    "    print(e)\n",
    "    \n",
    "re.search(r'<title>(.+)</title>', resp.read().decode('utf8')).group(1)"
   ]
  },
  {
   "cell_type": "code",
   "execution_count": null,
   "metadata": {},
   "outputs": [],
   "source": [
    "# 다음 (파라미터) 실습\n",
    "# => 정책(robots.txt, parameters검사)\n",
    "url = 'https://search.daum.net/search?w=tot&DA=YZR&t__nil_searchbox=btn&sug=&sugo=&sq=&o=&q=%EB%89%B4%EC%A7%84%EC%8A%A4'\n",
    "c = urlparse(url)\n",
    "\n",
    "params = parse_qs(c.query)\n",
    "for k,v in params.items():\n",
    "    params[k] = ''.join(v)\n",
    "params['q'] = '뉴진스'\n",
    "\n",
    "url = urlunparse((c.scheme, c.netloc, c.path, c.params,\n",
    "                urlencode(params), c.fragment))\n",
    "\n",
    "req = Request(url, headers={'user-agent':ua}, method='GET')\n",
    "\n",
    "try:\n",
    "    resp = urlopen(req)\n",
    "except HTTPError as e:\n",
    "    print(e)\n",
    "\n",
    "re.search(r'<title>(.+)</title>', resp.read().decode('utf8')).group(1)"
   ]
  },
  {
   "cell_type": "code",
   "execution_count": null,
   "metadata": {},
   "outputs": [],
   "source": [
    "import requests\n",
    "# requests.request('GET') == requests.get()"
   ]
  },
  {
   "cell_type": "code",
   "execution_count": null,
   "metadata": {},
   "outputs": [],
   "source": [
    "'A'.encode(), 'A' => Bytes(ASCII)"
   ]
  },
  {
   "cell_type": "code",
   "execution_count": null,
   "metadata": {},
   "outputs": [],
   "source": [
    "urlencode(params), urlencode(params).encode()"
   ]
  },
  {
   "cell_type": "code",
   "execution_count": null,
   "metadata": {},
   "outputs": [],
   "source": [
    "resp = requests.request('GET', url='https://www.google.com/search',\n",
    "                        params={'q':'뉴진스'},\n",
    "                        headers={'user-agent':ua})\n",
    "# req 객체 생성 -> urlopen -> read() -> decode"
   ]
  },
  {
   "cell_type": "code",
   "execution_count": null,
   "metadata": {},
   "outputs": [],
   "source": [
    "resp.status_code, resp.reason, resp.headers"
   ]
  },
  {
   "cell_type": "code",
   "execution_count": null,
   "metadata": {},
   "outputs": [],
   "source": [
    "resp.request.headers"
   ]
  },
  {
   "cell_type": "code",
   "execution_count": null,
   "metadata": {},
   "outputs": [],
   "source": [
    "type(resp.content) == resp.read()"
   ]
  },
  {
   "cell_type": "code",
   "execution_count": null,
   "metadata": {},
   "outputs": [],
   "source": [
    "type(resp.text), resp.encoding == resp.read().decode()"
   ]
  },
  {
   "cell_type": "code",
   "execution_count": null,
   "metadata": {},
   "outputs": [],
   "source": [
    "re.search(r'CHARSET=(.+);?', resp.headers['content-type'],\n",
    "        re.IGNORECASE).group(1)"
   ]
  },
  {
   "cell_type": "code",
   "execution_count": null,
   "metadata": {},
   "outputs": [],
   "source": [
    "# resp = requests.request('GET', url='https://www.google.com/search',\n",
    "#                         params=urlencode({'q':'뉴진스'}).encode(),\n",
    "#                         headers={'user-agent':ua})\n",
    "# resp = requests.request('GET', url='https://www.google.com/search',\n",
    "#                         params=[('q', '뉴진스')],\n",
    "#                         headers={'user-agent':ua})"
   ]
  },
  {
   "cell_type": "code",
   "execution_count": null,
   "metadata": {},
   "outputs": [],
   "source": [
    "type(urlencode({'q':'뉴진스'}).encode())"
   ]
  },
  {
   "cell_type": "code",
   "execution_count": null,
   "metadata": {},
   "outputs": [],
   "source": [
    "from requests.exceptions import HTTPError\n",
    "\n",
    "resp = requests.request('GET', url='http://httpbin.org/status/500')\n",
    "\n",
    "try:\n",
    "    resp.raise_for_status()\n",
    "except HTTPError as e:\n",
    "    print(e)\n",
    "# http://httpbin.org/status/000"
   ]
  },
  {
   "cell_type": "code",
   "execution_count": null,
   "metadata": {},
   "outputs": [],
   "source": [
    "resp = requests.request('GET', url='http://httpbin.org/get',\n",
    "                        params={'key':'value'})\n",
    "print(resp.text)"
   ]
  },
  {
   "cell_type": "code",
   "execution_count": null,
   "metadata": {},
   "outputs": [],
   "source": [
    "resp.request.url, resp.request.headers"
   ]
  },
  {
   "cell_type": "code",
   "execution_count": null,
   "metadata": {},
   "outputs": [],
   "source": [
    "resp = requests.request('POST', url='http://httpbin.org/post',\n",
    "                        data={'key':'value'})"
   ]
  },
  {
   "cell_type": "code",
   "execution_count": null,
   "metadata": {},
   "outputs": [],
   "source": [
    "resp.request.url, resp.request.headers, resp.request.body"
   ]
  },
  {
   "cell_type": "code",
   "execution_count": null,
   "metadata": {},
   "outputs": [],
   "source": [
    "print(resp.text)"
   ]
  },
  {
   "cell_type": "code",
   "execution_count": null,
   "metadata": {},
   "outputs": [],
   "source": [
    "resp = requests.request('POST', url='http://httpbin.org/post',\n",
    "                        params={'key1':'value1'},\n",
    "                        data={'key2':'value2'})"
   ]
  },
  {
   "cell_type": "code",
   "execution_count": null,
   "metadata": {},
   "outputs": [],
   "source": [
    "resp.request.url, resp.request.body"
   ]
  },
  {
   "cell_type": "code",
   "execution_count": null,
   "metadata": {},
   "outputs": [],
   "source": [
    "print(resp.text)"
   ]
  },
  {
   "cell_type": "code",
   "execution_count": null,
   "metadata": {},
   "outputs": [],
   "source": [
    "resp = requests.get('https://www.google.com/search',\n",
    "                    params={'q':'뉴진스'})"
   ]
  },
  {
   "cell_type": "code",
   "execution_count": null,
   "metadata": {},
   "outputs": [],
   "source": [
    "re.search(r'<title>(.+)</title>', resp.text).group(1)"
   ]
  },
  {
   "cell_type": "code",
   "execution_count": null,
   "metadata": {},
   "outputs": [],
   "source": [
    "from html import unescape\n",
    "unescape(re.search(r'<title>(.+)</title>', resp.text).group(1))"
   ]
  },
  {
   "cell_type": "code",
   "execution_count": null,
   "metadata": {},
   "outputs": [],
   "source": [
    "# # JSON => JavaScript Object Notation\n",
    "# obj = {'a':1,'b':3}\n",
    "#       DATA => HTML/XML\n",
    "#     Document\n",
    "# JSON {'a':1} <= \n",
    "# XML <xml~><root><a>1</a></root>\n",
    "# HTML <div data-value=1>"
   ]
  },
  {
   "cell_type": "code",
   "execution_count": null,
   "metadata": {},
   "outputs": [],
   "source": [
    "resp.headers['content-type']"
   ]
  },
  {
   "cell_type": "code",
   "execution_count": null,
   "metadata": {},
   "outputs": [],
   "source": [
    "# text/html, text/html+xml, ..., application/json"
   ]
  },
  {
   "cell_type": "code",
   "execution_count": null,
   "metadata": {},
   "outputs": [],
   "source": [
    "import json\n",
    "json.loads(resp.text)['args']"
   ]
  },
  {
   "cell_type": "code",
   "execution_count": null,
   "metadata": {},
   "outputs": [],
   "source": [
    "resp.json()['form']['key2']"
   ]
  },
  {
   "cell_type": "code",
   "execution_count": null,
   "metadata": {},
   "outputs": [],
   "source": [
    "# 23.07.04"
   ]
  },
  {
   "cell_type": "code",
   "execution_count": null,
   "metadata": {},
   "outputs": [],
   "source": [
    "# urllib             =>            requests\n",
    "# (GET)    Encoding => Charset(MIME - content-type); 본문내용(str?)\n",
    "#                      (HTML) HTML entitiy (&#10진수;)\n",
    "#          URL Encoding(Bytes) => Hexadecimal => %(percent)\n",
    "# urlparse                         params = {}, [(k,v)], bytes\n",
    "# parse_qs(l)\n",
    "# urlunparse\n",
    "# req = user-agent\n",
    "# urlopen(str or req obj)          request(url,params,data,headers...)\n",
    "# read()\n",
    "# decode() => str\n",
    "# try - except status_code         resp.statsu_code, rais_for_status\n",
    "# body -> HTML -> re(필요한 부분 추출; title)\n",
    "# 3사(Google, Naver, Daum) 검색결과 X => re"
   ]
  },
  {
   "cell_type": "code",
   "execution_count": null,
   "metadata": {},
   "outputs": [],
   "source": [
    "from requests import request\n",
    "\n",
    "headers = {\n",
    "    'user-agent':'Mozilla/5.0 (Macintosh; Intel Mac OS X 10_15_7) AppleWebKit/537.36 (KHTML, like Gecko) Chrome/114.0.0.0 Safari/537.36'\n",
    "}"
   ]
  },
  {
   "cell_type": "code",
   "execution_count": null,
   "metadata": {},
   "outputs": [],
   "source": [
    "url = 'https://www.google.com/search'\n",
    "params = {\n",
    "    'q':'뉴진스'\n",
    "}\n",
    "\n",
    "resp = request('GET', url, params=params)"
   ]
  },
  {
   "cell_type": "code",
   "execution_count": null,
   "metadata": {},
   "outputs": [],
   "source": [
    "resp.status_code, resp.encoding, resp.request.headers"
   ]
  },
  {
   "cell_type": "code",
   "execution_count": null,
   "metadata": {},
   "outputs": [],
   "source": [
    "from html import unescape\n",
    "# 1번결과 - user-agent를 bot 둘때,\n",
    "'LC20lb MBeuO DKV0Md'"
   ]
  },
  {
   "cell_type": "code",
   "execution_count": null,
   "metadata": {},
   "outputs": [],
   "source": [
    "# 2번 결과 - user-agent를 내 브라우저로 바꿨을때,\n",
    "resp = request('GET', url, params=params, headers=headers)\n",
    "resp.encoding, resp.request.headers"
   ]
  },
  {
   "cell_type": "code",
   "execution_count": null,
   "metadata": {},
   "outputs": [],
   "source": [
    "import re"
   ]
  },
  {
   "cell_type": "code",
   "execution_count": null,
   "metadata": {},
   "outputs": [],
   "source": [
    "p = re.compile(r'<h3 class=\"LC20lb MBeuO DKV0Md\">(.+?)</h3>')\n",
    "p.findall(resp.text) # re.findall(p, resp.text)"
   ]
  },
  {
   "cell_type": "code",
   "execution_count": null,
   "metadata": {},
   "outputs": [],
   "source": [
    "p = re.compile(r'yuRUbf\"><a href=\"(.+?)\"')\n",
    "p.findall(resp.text)"
   ]
  },
  {
   "cell_type": "code",
   "execution_count": null,
   "metadata": {},
   "outputs": [],
   "source": [
    "url = 'https://search.daum.net/search'\n",
    "params = {\n",
    "    'w':'tot',\n",
    "    'q':'뉴진스'\n",
    "}\n",
    "\n",
    "resp = request('GET', url, params=params, headers=headers)"
   ]
  },
  {
   "cell_type": "code",
   "execution_count": null,
   "metadata": {},
   "outputs": [],
   "source": [
    "resp.status_code, resp.request.headers, resp.headers"
   ]
  },
  {
   "cell_type": "code",
   "execution_count": null,
   "metadata": {},
   "outputs": [],
   "source": [
    "p = re.compile(r'tit_main fn_tit_u[^>]+?>(.+?)</a')\n",
    "list(map(lambda row:re.sub(r'^\\s|\\s$|<.+?>|\\[.+?\\]|[’‘“”…]', '', row),\n",
    "        p.findall(resp.text)))"
   ]
  },
  {
   "cell_type": "code",
   "execution_count": null,
   "metadata": {},
   "outputs": [],
   "source": [
    "p = re.compile(r'tit_main fn_tit_u.+?href=\"(.+?)\"')\n",
    "p.findall(resp.text)"
   ]
  },
  {
   "cell_type": "code",
   "execution_count": null,
   "metadata": {},
   "outputs": [],
   "source": [
    "# 검색결과 중 이미지 밑에 결과들, 제목과 링크 추출\n",
    "# Browser - 개발자도구(<a ..... >)\n",
    "# 다를 수 있음!!!\n",
    "# 오른쪽버튼 - 소스보기 (우리가 req-resp) (<c- ..... >)\n",
    "p = re.compile(r'tit-g clamp-g\"> <a.+?>(.+?)</a>') # 노래\n",
    "p = re.compile(r'<c-menu-share.+?data-title=\"(.+?)\"')\n",
    "p.findall(resp.text)"
   ]
  },
  {
   "cell_type": "code",
   "execution_count": null,
   "metadata": {},
   "outputs": [],
   "source": [
    "url = 'https://search.naver.com/search.naver'\n",
    "params = {\n",
    "    'where':'nexearch',\n",
    "    'query':'뉴진스'\n",
    "}\n",
    "resp = request('GET', url, params=params, headers=headers)\n",
    "resp.status_code, resp.request.headers, resp.headers"
   ]
  },
  {
   "cell_type": "code",
   "execution_count": null,
   "metadata": {},
   "outputs": [],
   "source": [
    "resp.url"
   ]
  },
  {
   "cell_type": "code",
   "execution_count": null,
   "metadata": {},
   "outputs": [],
   "source": [
    "p = re.compile(r'news_tit[^>]+?>(.+?)</a')\n",
    "list(map(lambda row:re.sub(f'[{re.escape(punctuation)}]', '', row),\n",
    "                        p.findall(resp.text)))"
   ]
  },
  {
   "cell_type": "code",
   "execution_count": null,
   "metadata": {},
   "outputs": [],
   "source": [
    "from string import punctuation\n",
    "f'[{re.escape(punctuation)}]'"
   ]
  },
  {
   "cell_type": "code",
   "execution_count": null,
   "metadata": {},
   "outputs": [],
   "source": [
    "p = re.compile(r'<a href=\"([^\"]+)?\" class=\"news_tit\"[^>]+?>')\n",
    "p.findall(resp.text)"
   ]
  },
  {
   "cell_type": "code",
   "execution_count": null,
   "metadata": {},
   "outputs": [],
   "source": [
    "from bs4 import BeautifulSoup"
   ]
  },
  {
   "cell_type": "code",
   "execution_count": null,
   "metadata": {},
   "outputs": [],
   "source": [
    "# XML - Well-formed / Validation(검증)\n",
    "# 여는태그 닫는태그 쌍 - 예외 X, <></>\n",
    "# 대소문자 구별해요 <DIV></div> X\n",
    "# 겹치지 않음\n",
    "\n",
    "# HTML - Not Well-formed / Validation X(검증 X)\n",
    "# 여는태그 닫는태그 쌍 X, (단일태그) <img, br, meta, ..>\n",
    "# 대소문자 구별안함 <Div></dIv>\n",
    "# 겹치지 않음 => 문제, parser DOM(Tree) 바뀜"
   ]
  },
  {
   "cell_type": "code",
   "execution_count": null,
   "metadata": {},
   "outputs": [],
   "source": [
    "# html = '''\n",
    "# <html>\n",
    "#  <head></head>\n",
    "#  <body>\n",
    "#   <div>\n",
    "#    <p>\n",
    "#     <a>go to page</a>\n",
    "#    </p>\n",
    "#   </div>\n",
    "#  </body>\n",
    "# </html>\n",
    "# '''\n",
    "# #                   root(Document, DOM, OM)\n",
    "# #                   HTML\n",
    "# #           HEAD             BODY\n",
    "# #                             DIV\n",
    "# #                              P\n",
    "# #                              A\n",
    "# dom = BeautifulSoup(html, 'html.parser')"
   ]
  },
  {
   "cell_type": "code",
   "execution_count": null,
   "metadata": {},
   "outputs": [],
   "source": [
    "dom.html.body.div.p.a"
   ]
  },
  {
   "cell_type": "code",
   "execution_count": null,
   "metadata": {},
   "outputs": [],
   "source": [
    "dom.a"
   ]
  },
  {
   "cell_type": "code",
   "execution_count": null,
   "metadata": {},
   "outputs": [],
   "source": [
    "dom.html.body.div.p.a == dom.a"
   ]
  },
  {
   "cell_type": "code",
   "execution_count": null,
   "metadata": {},
   "outputs": [],
   "source": [
    "type(dom), type(dom.html), type(dom.a)"
   ]
  },
  {
   "cell_type": "code",
   "execution_count": null,
   "metadata": {},
   "outputs": [],
   "source": [
    "dom.a.attrs => HTML Attributes {Key:Value}\n",
    "<tag attributes... key=value></tag>\n",
    "=> Node, tag:node name, attrs={k:v...}"
   ]
  },
  {
   "cell_type": "code",
   "execution_count": null,
   "metadata": {},
   "outputs": [],
   "source": [
    "dom.a.has_attr('href')"
   ]
  },
  {
   "cell_type": "code",
   "execution_count": null,
   "metadata": {},
   "outputs": [],
   "source": [
    "type(dom.a.asdflkjasdflkjasdflkj)"
   ]
  },
  {
   "cell_type": "code",
   "execution_count": null,
   "metadata": {},
   "outputs": [],
   "source": [
    "dom.a.span.b"
   ]
  },
  {
   "cell_type": "code",
   "execution_count": null,
   "metadata": {},
   "outputs": [],
   "source": [
    "# html = '''\n",
    "# <html>  <!-- 대소문자 불일치 -->\n",
    "#  <head><head>\n",
    "#   <body>\n",
    "#    <div>\n",
    "#     <ul>\n",
    "#      <li> <!-- 닫는 태그 없음 -->\n",
    "#      <li><p><div></li> <!-- 부모-자식 순서 중첩 -->\n",
    "#     </ul>\n",
    "#   </body>\n",
    "# </HTML>\n",
    "# '''\n",
    "# #                   DOM-document\n",
    "# #                      html\n",
    "# #              head            body\n",
    "# #                               div\n",
    "# #                               ul\n",
    "# #                            li     li"
   ]
  },
  {
   "cell_type": "code",
   "execution_count": null,
   "metadata": {},
   "outputs": [],
   "source": [
    "BeautifulSoup(html, 'html.parser')\n",
    "#                                head\n",
    "#                                 ul\n",
    "#                                 li\n",
    "#                                 li"
   ]
  },
  {
   "cell_type": "code",
   "execution_count": null,
   "metadata": {},
   "outputs": [],
   "source": [
    "BeautifulSoup(html, 'lxml')"
   ]
  },
  {
   "cell_type": "code",
   "execution_count": null,
   "metadata": {},
   "outputs": [],
   "source": [
    "BeautifulSoup(html, 'html5lib')"
   ]
  },
  {
   "cell_type": "code",
   "execution_count": null,
   "metadata": {},
   "outputs": [],
   "source": [
    "# html = '''\n",
    "# <html>\n",
    "#  <head></head>\n",
    "#  <body>\n",
    "#   <div>\n",
    "#    <p>\n",
    "#     <a id=\"1\" href=\"a\">go to page</a>\n",
    "#     <a id=\"2\" href=\"b\">go to page</a>\n",
    "#    </p>\n",
    "#   </div>\n",
    "#   <a id=\"3\" href=\"c\">go to page</a>\n",
    "#  </body>\n",
    "# </html>\n",
    "# '''\n",
    "# dom = BeautifulSoup(html, 'html.parser')"
   ]
  },
  {
   "cell_type": "code",
   "execution_count": null,
   "metadata": {},
   "outputs": [],
   "source": [
    "dom.body.div.p.a == dom.a\n",
    "# Tree를 Node를 따라 가면, 가장 첫번째 있는 a"
   ]
  },
  {
   "cell_type": "code",
   "execution_count": null,
   "metadata": {},
   "outputs": [],
   "source": [
    "dom.a.attrs"
   ]
  },
  {
   "cell_type": "code",
   "execution_count": null,
   "metadata": {},
   "outputs": [],
   "source": [
    "list(dom.p.children)[3].attrs"
   ]
  },
  {
   "cell_type": "code",
   "execution_count": null,
   "metadata": {},
   "outputs": [],
   "source": [
    "list(dom.p.children)[1] == dom.a"
   ]
  },
  {
   "cell_type": "code",
   "execution_count": null,
   "metadata": {},
   "outputs": [],
   "source": [
    "list(map(lambda x:type(x), list(dom.p.children)))"
   ]
  },
  {
   "cell_type": "code",
   "execution_count": null,
   "metadata": {},
   "outputs": [],
   "source": [
    "# dom.find(자식/손), find_all(자식/손들)\n",
    "#     find_parent(부모), find_parents(조상)\n",
    "    \n",
    "#     공통된 부모를 공유하는 = 부모가 같음\n",
    "#     find_previous_sibling(s)(내 앞에 나온 형제/들)\n",
    "#     find_next_sibling(s)(내 다음에 나온 형제/들)"
   ]
  },
  {
   "cell_type": "code",
   "execution_count": null,
   "metadata": {},
   "outputs": [],
   "source": [
    "dom.find('a') == dom.a == dom.html.body.div....a"
   ]
  },
  {
   "cell_type": "code",
   "execution_count": null,
   "metadata": {},
   "outputs": [],
   "source": [
    "dom.find(attrs={'id':1}) == dom.find('a') == dom.a"
   ]
  },
  {
   "cell_type": "code",
   "execution_count": null,
   "metadata": {},
   "outputs": [],
   "source": [
    "dom.find(attrs={'id':2}) == list(dom.p.children)[3]"
   ]
  },
  {
   "cell_type": "code",
   "execution_count": null,
   "metadata": {},
   "outputs": [],
   "source": [
    "dom.find(string='go to page').find_parent() == dom.a"
   ]
  },
  {
   "cell_type": "code",
   "execution_count": null,
   "metadata": {},
   "outputs": [],
   "source": [
    "dom.find(string=re.compile('page$')).find_parent() == dom.a"
   ]
  },
  {
   "cell_type": "code",
   "execution_count": null,
   "metadata": {},
   "outputs": [],
   "source": [
    "dom.find(attrs={'href':re.compile('a')}) == dom.a"
   ]
  },
  {
   "cell_type": "code",
   "execution_count": null,
   "metadata": {},
   "outputs": [],
   "source": [
    "dom.find(re.compile('^a$')) == dom.a"
   ]
  },
  {
   "cell_type": "code",
   "execution_count": null,
   "metadata": {},
   "outputs": [],
   "source": [
    "dom.body.find('a', recursive=False)\n",
    "                  HTML\n",
    "          head             body(*)\n",
    "                      div        a:3\n",
    "                       p\n",
    "                    a:1    a:2"
   ]
  },
  {
   "cell_type": "code",
   "execution_count": null,
   "metadata": {},
   "outputs": [],
   "source": [
    "dom.body.find('a', recursive=True)"
   ]
  },
  {
   "cell_type": "code",
   "execution_count": null,
   "metadata": {},
   "outputs": [],
   "source": [
    "len(dom.find_all('a')), len(dom.find_all('a', limit=1))"
   ]
  },
  {
   "cell_type": "code",
   "execution_count": null,
   "metadata": {},
   "outputs": [],
   "source": [
    "dom.find_all('a', limit=1)[0] == dom.find('a') == dom.a"
   ]
  },
  {
   "cell_type": "code",
   "execution_count": null,
   "metadata": {},
   "outputs": [],
   "source": [
    "dom.find_all('a', limit=3)[-1] == dom.body.find('a', recursive=False)"
   ]
  },
  {
   "cell_type": "code",
   "execution_count": null,
   "metadata": {},
   "outputs": [],
   "source": [
    "dom.a.find_parent('div')"
   ]
  },
  {
   "cell_type": "code",
   "execution_count": null,
   "metadata": {},
   "outputs": [],
   "source": [
    "for node in dom.a.find_parents(limit=3):\n",
    "    print(node.name)"
   ]
  },
  {
   "cell_type": "code",
   "execution_count": null,
   "metadata": {},
   "outputs": [],
   "source": [
    "dom.a.find_next_sibling()"
   ]
  },
  {
   "cell_type": "code",
   "execution_count": null,
   "metadata": {},
   "outputs": [],
   "source": [
    "dom.div.find_next_sibling().find_previous_sibling() == dom.div"
   ]
  },
  {
   "cell_type": "code",
   "execution_count": null,
   "metadata": {},
   "outputs": [],
   "source": [
    "url = 'https://pythonscraping.com/pages/page3.html'\n",
    "resp = request('GET', url)"
   ]
  },
  {
   "cell_type": "code",
   "execution_count": null,
   "metadata": {},
   "outputs": [],
   "source": [
    "resp.headers, type(resp.content)"
   ]
  },
  {
   "cell_type": "code",
   "execution_count": null,
   "metadata": {},
   "outputs": [],
   "source": [
    "dom1 = BeautifulSoup(resp.content, 'html.parser')\n",
    "dom2 = BeautifulSoup(resp.content, 'lxml')\n",
    "dom3 = BeautifulSoup(resp.content, 'html5lib')"
   ]
  },
  {
   "cell_type": "code",
   "execution_count": null,
   "metadata": {},
   "outputs": [],
   "source": [
    "[tag.name for tag in dom1.div.find_all(recursive=False)]"
   ]
  },
  {
   "cell_type": "code",
   "execution_count": null,
   "metadata": {},
   "outputs": [],
   "source": [
    "[tag.name for tag in dom2.div.find_all(recursive=False)]"
   ]
  },
  {
   "cell_type": "code",
   "execution_count": null,
   "metadata": {},
   "outputs": [],
   "source": [
    "[tag.name for tag in dom3.div.find_all(recursive=False)]"
   ]
  },
  {
   "cell_type": "code",
   "execution_count": null,
   "metadata": {},
   "outputs": [],
   "source": [
    "base = dom3.div.find_all(recursive=False)[-2]"
   ]
  },
  {
   "cell_type": "code",
   "execution_count": null,
   "metadata": {},
   "outputs": [],
   "source": [
    "[tag.name for tag in base.find_parents()]"
   ]
  },
  {
   "cell_type": "code",
   "execution_count": null,
   "metadata": {},
   "outputs": [],
   "source": [
    "base.find_next_sibling()"
   ]
  },
  {
   "cell_type": "code",
   "execution_count": null,
   "metadata": {},
   "outputs": [],
   "source": [
    "base.find_parent().find_all('div', recursiv=False)[-1]"
   ]
  },
  {
   "cell_type": "code",
   "execution_count": null,
   "metadata": {},
   "outputs": [],
   "source": [
    "#        document\n",
    "#          html\n",
    "# head           body\n",
    "#                div\n",
    "#         tag   tag   tag  p(*)  div"
   ]
  },
  {
   "cell_type": "code",
   "execution_count": null,
   "metadata": {},
   "outputs": [],
   "source": [
    "base.find_parent().find('table', recursive=False).find_all('td')[-1]"
   ]
  },
  {
   "cell_type": "code",
   "execution_count": null,
   "metadata": {},
   "outputs": [],
   "source": [
    "base.find_previous_sibling().find_all('td')[-1]"
   ]
  },
  {
   "cell_type": "code",
   "execution_count": null,
   "metadata": {},
   "outputs": [],
   "source": [
    "for row in base.find_previous_sibling().find('tbody')\\\n",
    "            .find_all(recursive=False)[1:]:\n",
    "    print(row.find_all('td', recursive=False)[2].text.strip())"
   ]
  },
  {
   "cell_type": "code",
   "execution_count": null,
   "metadata": {},
   "outputs": [],
   "source": [
    "# 23.07.06"
   ]
  },
  {
   "cell_type": "code",
   "execution_count": null,
   "metadata": {},
   "outputs": [],
   "source": [
    "# response.header => MIME(text/html, application/json, ...)\n",
    "# response.body => TEXT/HTML(encoding)\n",
    "#                  Regular Expression(할수는있음, 추출X)\n",
    "#                  Markup => DOM(Tree) <= bs4\n",
    "# DOM; find_* => tag?, attrs?, text, recursive, limit\n",
    "#             => node(root;document, 특정 node)로 탐색\n",
    "#                dom.a == True/False\n",
    "#                node.find_*(부모/자식/형제) + RE"
   ]
  },
  {
   "cell_type": "code",
   "execution_count": null,
   "metadata": {},
   "outputs": [],
   "source": [
    "from requests import request\n",
    "\n",
    "headers = {\n",
    "    'user-agent':'Mozilla/5.0 (Macintosh; Intel Mac OS X 10_15_7) AppleWebKit/537.36 (KHTML, like Gecko) Chrome/114.0.0.0 Safari/537.36'\n",
    "}"
   ]
  },
  {
   "cell_type": "code",
   "execution_count": null,
   "metadata": {},
   "outputs": [],
   "source": [
    "url = 'https://pythonscraping.com/pages/page3.html'\n",
    "resp = request('GET', url)"
   ]
  },
  {
   "cell_type": "code",
   "execution_count": null,
   "metadata": {},
   "outputs": [],
   "source": [
    "from bs4 import BeautifulSoup\n",
    "dom = BeautifulSoup(resp.text, 'html5lib')"
   ]
  },
  {
   "cell_type": "code",
   "execution_count": null,
   "metadata": {},
   "outputs": [],
   "source": [
    "# [node.name for node in dom.div.find_all(recursive=False)]\n",
    "#                 document\n",
    "#                  HTML\n",
    "#          HEAD             BODY\n",
    "#                            DIV\n",
    "#                 IMG  H1  DIV  TABLE  P(*)  DIV"
   ]
  },
  {
   "cell_type": "code",
   "execution_count": null,
   "metadata": {},
   "outputs": [],
   "source": [
    "import re\n",
    "for node in dom.table.find_all(text=re.compile('[$][0-9.,]{4,}')):\n",
    "    print(node.find_parent().find_next_sibling())"
   ]
  },
  {
   "cell_type": "code",
   "execution_count": null,
   "metadata": {},
   "outputs": [],
   "source": [
    "dom.table.find_all(attrs={'src':re.compile('jpg$')})"
   ]
  },
  {
   "cell_type": "code",
   "execution_count": null,
   "metadata": {},
   "outputs": [],
   "source": [
    "dom.find_all(text=re.compile(r'\\b\\b'))"
   ]
  },
  {
   "cell_type": "code",
   "execution_count": null,
   "metadata": {},
   "outputs": [],
   "source": [
    "url = 'https://www.google.com/search'\n",
    "params = {\n",
    "    'q':'뉴진스'\n",
    "}\n",
    "\n",
    "resp = request('GET', url, params=params, headers=headers)"
   ]
  },
  {
   "cell_type": "code",
   "execution_count": null,
   "metadata": {},
   "outputs": [],
   "source": [
    "resp.status_code, re.search(r'text', resp.headers['content-type'])"
   ]
  },
  {
   "cell_type": "code",
   "execution_count": null,
   "metadata": {},
   "outputs": [],
   "source": [
    "dom = BeautifulSoup(resp.content, 'html5lib')"
   ]
  },
  {
   "cell_type": "code",
   "execution_count": null,
   "metadata": {},
   "outputs": [],
   "source": [
    "for node in dom.find_all(text=re.compile('나무위키')):\n",
    "    print(node.find_parent())"
   ]
  },
  {
   "cell_type": "code",
   "execution_count": null,
   "metadata": {},
   "outputs": [],
   "source": [
    "for node in dom.find_all(attrs={'class':'LC20lb MBeuO DKV0Md'}):\n",
    "    print(node.text)\n",
    "    print(node.find_parent().attrs['href'])"
   ]
  },
  {
   "cell_type": "code",
   "execution_count": null,
   "metadata": {},
   "outputs": [],
   "source": [
    "for node in dom.find_all('div', attrs={'class':'yuRUbf'}):\n",
    "    print(node.find().find('h3').text)\n",
    "    print(node.a.attrs['href'])"
   ]
  },
  {
   "cell_type": "code",
   "execution_count": null,
   "metadata": {},
   "outputs": [],
   "source": [
    "url = 'https://search.daum.net/search'\n",
    "params = {\n",
    "    'w':'tot',\n",
    "    'q':'뉴진스'\n",
    "}\n",
    "\n",
    "resp = request('GET', url, params=params, headers=headers)"
   ]
  },
  {
   "cell_type": "code",
   "execution_count": null,
   "metadata": {},
   "outputs": [],
   "source": [
    "dom = BeautifulSoup(resp.text, 'html5lib')"
   ]
  },
  {
   "cell_type": "code",
   "execution_count": null,
   "metadata": {},
   "outputs": [],
   "source": [
    "# '\", => 사람이 손으로\n",
    "stopwords = list(set(re.findall(r'[^A-Za-z0-9ㄱ-ㅎㅏ-ㅣ가-힣 .,\\-]',\n",
    "                                dom.text)))\n",
    "\n",
    "# for node in dom.find_all(attrs={'class':'tit_main'}):\n",
    "#     print(node.attrs['href'])\n",
    "#     print(node.text.strip())\n",
    "#     stopwords += re.findall(r'[^A-Za-z0-9ㄱ-ㅎㅏ-ㅣ가-힣 .,\\-]', node.text.strip())"
   ]
  },
  {
   "cell_type": "code",
   "execution_count": null,
   "metadata": {},
   "outputs": [],
   "source": [
    "p = re.compile(r'\\s{2,}')\n",
    "for node in dom.find_all(attrs={'class':'tit_main'}):\n",
    "    print(node.attrs['href'])\n",
    "    print(p.sub(' ', re.sub('[{}]'.format(''.join(stopwords)), ' ', \n",
    "                node.text.strip())))"
   ]
  },
  {
   "cell_type": "code",
   "execution_count": null,
   "metadata": {},
   "outputs": [],
   "source": [
    "from requests.compat import urlparse, urlunparse, urljoin\n",
    "\n",
    "url = urlparse(resp.url)\n",
    "url"
   ]
  },
  {
   "cell_type": "code",
   "execution_count": null,
   "metadata": {},
   "outputs": [],
   "source": [
    "qs = '?w=profile2&q=%EB%89%B4%EC%A7%84%EC%8A%A4&DA=PRF&sct=person&sck=datahub_homo%2Fperforming_group%2F2283446&detail=1&page=1&size=10&spacing=0'\n",
    "urlunparse((url.scheme, url.netloc, url.path, None, qs, None))"
   ]
  },
  {
   "cell_type": "code",
   "execution_count": null,
   "metadata": {},
   "outputs": [],
   "source": [
    "# / => 절대주소\n",
    "# ./, ../, ?, ... => 상대주소\n",
    "urljoin(resp.url, qs)"
   ]
  },
  {
   "cell_type": "code",
   "execution_count": null,
   "metadata": {},
   "outputs": [],
   "source": [
    "p = re.compile(r'\\s{2,}')\n",
    "for node in dom.find_all(attrs={'class':'tit_main'}):\n",
    "    print(urljoin(resp.url, node.attrs['href']))\n",
    "    print(p.sub(' ', re.sub('[{}]'.format(''.join(stopwords)), ' ', \n",
    "                node.text.strip())))"
   ]
  },
  {
   "cell_type": "code",
   "execution_count": null,
   "metadata": {},
   "outputs": [],
   "source": [
    "url = 'https://search.naver.com/search.naver'\n",
    "params = {\n",
    "    'where':'nexearch',\n",
    "    'query':'뉴진스'\n",
    "}\n",
    "resp = request('GET', url, params=params, headers=headers)\n",
    "dom = BeautifulSoup(resp.text, 'html5lib')"
   ]
  },
  {
   "cell_type": "code",
   "execution_count": null,
   "metadata": {},
   "outputs": [],
   "source": [
    "[node.find_parent() for node in\n",
    "\tdom.find_all('mark', text=re.compile('뉴진스'))]"
   ]
  },
  {
   "cell_type": "code",
   "execution_count": null,
   "metadata": {},
   "outputs": [],
   "source": [
    "for node in dom.find_all('a', attrs={'class':'news_tit'}):\n",
    "    if node.has_attr('href'):\n",
    "        print(node.attrs['href'])\n",
    "        print(urljoin(resp.url, node.attrs['href']))\n",
    "    print(node.text.strip())"
   ]
  },
  {
   "cell_type": "code",
   "execution_count": null,
   "metadata": {},
   "outputs": [],
   "source": [
    "for node in dom.find_all('section', attrs={'class':'sc_new'})[1:]:\n",
    "    print([tag.text\n",
    "        for tag in node.find_all('a')\n",
    "        if tag.has_attr('href')])"
   ]
  },
  {
   "cell_type": "code",
   "execution_count": null,
   "metadata": {},
   "outputs": [],
   "source": [
    "# Tree, 관계(구조)로 탐색하는 방법\n",
    "#       XPath(나중에)\n",
    "# CSSOM => Tree(OM)\n",
    "#          Selector(구조+속성)"
   ]
  },
  {
   "cell_type": "code",
   "execution_count": null,
   "metadata": {},
   "outputs": [],
   "source": [
    "dom.select = find_all/parents/sibliings, select_one = find"
   ]
  },
  {
   "cell_type": "code",
   "execution_count": null,
   "metadata": {},
   "outputs": [],
   "source": [
    "url = 'https://pythonscraping.com/pages/page3.html'\n",
    "resp = request('GET', url)\n",
    "dom = BeautifulSoup(resp.text, 'html5lib')"
   ]
  },
  {
   "cell_type": "code",
   "execution_count": null,
   "metadata": {},
   "outputs": [],
   "source": [
    "# # selector => 선택자, psuedo-selctor => 가상선택자\n",
    "# 태그이름, #id, .class, .class1.class2\n",
    "# attribute[k=v], >, 띄어쓰기, +"
   ]
  },
  {
   "cell_type": "code",
   "execution_count": null,
   "metadata": {},
   "outputs": [],
   "source": [
    "dom.select_one('p') == dom.p"
   ]
  },
  {
   "cell_type": "code",
   "execution_count": null,
   "metadata": {},
   "outputs": [],
   "source": [
    "# ID = 언제나 1개\n",
    "dom.select('#gift1')[0] == dom.select_one('#gift1'), \\\n",
    "dom.select('#gift1')[0] == dom.find(attrs={'id':'gift1'})"
   ]
  },
  {
   "cell_type": "code",
   "execution_count": null,
   "metadata": {},
   "outputs": [],
   "source": [
    "# CLASS = 복수개\n",
    "len(dom.select('.gift'))\n",
    "dom.select('.gift')[0] == dom.select('#gift1')[0]"
   ]
  },
  {
   "cell_type": "code",
   "execution_count": null,
   "metadata": {},
   "outputs": [],
   "source": [
    "dom.select_one('.gift td'), dom.select_one('.gift > td')\n",
    "#           자손               <.gift><td>... 자식"
   ]
  },
  {
   "cell_type": "code",
   "execution_count": null,
   "metadata": {},
   "outputs": [],
   "source": [
    "dom.select('.gift > td + td')\n",
    "dom.select('.gift > td:first-child')\n",
    "dom.select('.gift > td:last-child')\n",
    "dom.select('tr.gift > td:nth-child(3)')\n",
    "dom.select('.gift > td:nth-of-type(1)')\n",
    "# td 옆에 td"
   ]
  },
  {
   "cell_type": "code",
   "execution_count": null,
   "metadata": {},
   "outputs": [],
   "source": [
    "dom.select('img[src^=\"..\"]')\n",
    "dom.select('img[src$=jpg]')"
   ]
  },
  {
   "cell_type": "code",
   "execution_count": null,
   "metadata": {},
   "outputs": [],
   "source": [
    "dom.select('tbody > tr > td:nth-child(4)')\n",
    "dom.select('div table tbody > tr > td:nth-child(4)')\n",
    "#      어딘가에 있는 div 의 자손 중 table 자손 중 tbody의\n",
    "#      자식 tr의 자식 4번째 td"
   ]
  },
  {
   "cell_type": "code",
   "execution_count": null,
   "metadata": {},
   "outputs": [],
   "source": [
    "# css\n",
    "# 부모:has(자식?)\n",
    "# 이전형제:has(+ 나)\n",
    "# dom.find().find_parent(), find_previous_sibling"
   ]
  },
  {
   "cell_type": "code",
   "execution_count": null,
   "metadata": {},
   "outputs": [],
   "source": [
    "url = 'https://www.google.com/search'\n",
    "params = {\n",
    "    'q':'뉴진스'\n",
    "}\n",
    "\n",
    "resp = request('GET', url, params=params, headers=headers)\n",
    "dom = BeautifulSoup(resp.text, 'html5lib')"
   ]
  },
  {
   "cell_type": "code",
   "execution_count": null,
   "metadata": {},
   "outputs": [],
   "source": [
    "dom.select('h3.LC20lb.MBeuO.DKV0Md')"
   ]
  },
  {
   "cell_type": "code",
   "execution_count": null,
   "metadata": {},
   "outputs": [],
   "source": [
    "dom.select('a:has(> h3.LC20lb)')[0] ==\n",
    "dom.select('h3.LC20lb.MBeuO.DKV0Md')[0].find_parent()"
   ]
  },
  {
   "cell_type": "code",
   "execution_count": null,
   "metadata": {},
   "outputs": [],
   "source": [
    "dom.select('br + h3')\n",
    "dom.select('br:has(+ h3)')[0].find_next_sibling()\n",
    "dom.select('br:has(+ .LC20lb)')[0].find_next_sibling()"
   ]
  },
  {
   "cell_type": "code",
   "execution_count": null,
   "metadata": {},
   "outputs": [],
   "source": [
    "len(dom.select('a')), len(dom.select('a[href]'))"
   ]
  },
  {
   "cell_type": "code",
   "execution_count": null,
   "metadata": {},
   "outputs": [],
   "source": [
    "dom.select('a:not([href])')"
   ]
  },
  {
   "cell_type": "code",
   "execution_count": null,
   "metadata": {},
   "outputs": [],
   "source": [
    "[node.text\n",
    " for node in dom.select('.WZIVy > div > div > span[class]')]"
   ]
  },
  {
   "cell_type": "code",
   "execution_count": null,
   "metadata": {},
   "outputs": [],
   "source": [
    "for node in dom.select('a:has(> .WZIVy)'):\n",
    "    print(node.attrs['href'])\n",
    "    print(node.select_one('.WZIVy > div > div > span[class]').text)"
   ]
  },
  {
   "cell_type": "code",
   "execution_count": null,
   "metadata": {},
   "outputs": [],
   "source": [
    "for node in dom.select('.WZIVy)'): # a X, a > div(*)\n",
    "    print(node.find_parent().attrs['href'])\n",
    "    print(node.select_one('div > div > span[class]').text)"
   ]
  },
  {
   "cell_type": "code",
   "execution_count": null,
   "metadata": {},
   "outputs": [],
   "source": [
    "url = 'https://search.daum.net/search'\n",
    "params = {\n",
    "    'w':'tot',\n",
    "    'q':'뉴진스'\n",
    "}\n",
    "\n",
    "resp = request('GET', url, params=params, headers=headers)\n",
    "dom = BeautifulSoup(resp.text, 'html5lib')"
   ]
  },
  {
   "cell_type": "code",
   "execution_count": null,
   "metadata": {},
   "outputs": [],
   "source": [
    "# for node in dom.select('strong.tit-g.clamp-g > a[href]'):\n",
    "#     print(node.attrs['href'])\n",
    "#     print(node.text.strip())\n",
    "for node in dom.select('c-title[slot=\"title\"]'):\n",
    "    print(node.attrs['data-href'])\n",
    "    print(node.text.strip())"
   ]
  },
  {
   "cell_type": "code",
   "execution_count": null,
   "metadata": {},
   "outputs": [],
   "source": [
    "from requests.exceptions import HTTPError\n",
    "# url = urljoin(resp.url,\n",
    "#     dom.select('c-title[slot=\"title\"]')[0].attrs['data-href'])\n",
    "resp = request('GET', url, headers=headers)\n",
    "try:\n",
    "    resp.raise_for_status()\n",
    "except HTTPError as e:\n",
    "    print(resp.status_code, resp.reason, resp.headers['content-type'])\n",
    "    print(e)"
   ]
  },
  {
   "cell_type": "code",
   "execution_count": null,
   "metadata": {},
   "outputs": [],
   "source": [
    "dom = BeautifulSoup(resp.text, 'html5lib')\n",
    "dom.select_one('#d_video_summary').text.strip()"
   ]
  },
  {
   "cell_type": "code",
   "execution_count": null,
   "metadata": {},
   "outputs": [],
   "source": [
    "url = 'https://search.naver.com/search.naver'\n",
    "params = {\n",
    "    'where':'nexearch',\n",
    "    'query':'뉴진스'\n",
    "}\n",
    "resp = request('GET', url, params=params, headers=headers)\n",
    "dom = BeautifulSoup(resp.text, 'html5lib')"
   ]
  },
  {
   "cell_type": "code",
   "execution_count": null,
   "metadata": {},
   "outputs": [],
   "source": [
    "# 네이버 쇼핑 내 이미지 경로, 상품 경로, 상품 제목, 가격\n",
    "for li in dom.select('li > .shop_product'):\n",
    "    print(li.select_one('a[href] > img[src]').attrs['src'])\n",
    "    print(li.select_one('.product_info > a[href]').attrs['href'])\n",
    "    print(li.select_one('.product_info > a[href]').text)\n",
    "    print(li.select_one('.product_info > a[href] + div').text)"
   ]
  },
  {
   "cell_type": "code",
   "execution_count": null,
   "metadata": {},
   "outputs": [],
   "source": [
    "# li.select_one('a[href] > img[src]').attrs['src']\n",
    "# url = dom.select_one('ul > li:first-child > .shop_product > a[href] > img[src]').attrs['src']\n",
    "url = dom.select_one('.shop_product > a[href] > img[src]').attrs['src']\n",
    "resp = request('GET', url)\n",
    "resp.status_code, resp.reason, resp.headers\n",
    "# 요청 당, url => request => response => dom"
   ]
  },
  {
   "cell_type": "code",
   "execution_count": null,
   "metadata": {},
   "outputs": [],
   "source": [
    "filename = '아무거나'\n",
    "ext = re.search(r'image/(.+)[;]?',\n",
    "                resp.headers['content-type']).group(1)\n",
    "# print(f'{filename}.{ext}')\n",
    "with open(f'{filename}.{ext}', 'wb') as fp:\n",
    "    fp.write(resp.content)"
   ]
  },
  {
   "cell_type": "code",
   "execution_count": null,
   "metadata": {},
   "outputs": [],
   "source": [
    "# !ls -al *.jpeg\n",
    "# !dir *.jpeg"
   ]
  },
  {
   "cell_type": "code",
   "execution_count": null,
   "metadata": {},
   "outputs": [],
   "source": [
    "# response.headers[content-type]\n",
    "ct = {'image':{'jpeg':'jpg', 'png':'png'},\n",
    "    'application':{'json'}}\n",
    "key = resp.headers['content-type']\n",
    "if key in ct:\n",
    "    ct[key][ext]"
   ]
  }
 ],
 "metadata": {
  "kernelspec": {
   "display_name": "Python 3",
   "language": "python",
   "name": "python3"
  },
  "language_info": {
   "name": "python",
   "version": "3.10.10"
  },
  "orig_nbformat": 4
 },
 "nbformat": 4,
 "nbformat_minor": 2
}
